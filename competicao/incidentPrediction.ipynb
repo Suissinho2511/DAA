{
 "cells": [
  {
   "cell_type": "markdown",
   "metadata": {},
   "source": [
    "# **Trabalho Prático: Previsão de Incidentes Rodoviários**"
   ]
  },
  {
   "cell_type": "markdown",
   "metadata": {
    "tags": []
   },
   "source": [
    "## Descrição do Problema"
   ]
  },
  {
   "cell_type": "markdown",
   "metadata": {
    "tags": []
   },
   "source": [
    "## Preparação do programa"
   ]
  },
  {
   "cell_type": "markdown",
   "metadata": {
    "tags": []
   },
   "source": [
    "### Bibliotecas e Funções"
   ]
  },
  {
   "cell_type": "code",
   "execution_count": 43,
   "metadata": {},
   "outputs": [],
   "source": [
    "import sklearn as skl\n",
    "import pandas as pd\n",
    "import numpy as np\n",
    "import matplotlib.pyplot as plt\n",
    "import seaborn as sns\n",
    "from sklearn import preprocessing\n",
    "\n",
    "\n",
    "from sklearn.model_selection import train_test_split\n",
    "from sklearn.model_selection import cross_val_score\n",
    "from sklearn.model_selection import GridSearchCV\n",
    "from sklearn.model_selection import ParameterGrid\n",
    "\n",
    "#Modelos a usar\n",
    "from sklearn.linear_model import LogisticRegression\n",
    "from sklearn.tree         import DecisionTreeClassifier\n",
    "from sklearn.tree         import DecisionTreeRegressor\n",
    "from sklearn.svm          import SVC\n",
    "\n",
    "#Métricas de qualidade\n",
    "from sklearn.metrics import confusion_matrix\n",
    "from sklearn.metrics import recall_score\n",
    "from sklearn.metrics import accuracy_score\n",
    "from sklearn.metrics import precision_score\n",
    "from sklearn.metrics import roc_auc_score\n",
    "from sklearn.metrics import roc_curve\n",
    "from sklearn.metrics import f1_score\n",
    "from sklearn.metrics import fbeta_score\n",
    "from sklearn.metrics import mean_absolute_error\n",
    "from sklearn.metrics import mean_squared_error\n",
    "from sklearn.metrics import classification_report\n",
    "from sklearn.metrics import plot_confusion_matrix\n",
    "from sklearn.metrics import make_scorer\n",
    "\n",
    "from sklearn import decomposition, datasets\n",
    "from sklearn import tree\n",
    "from sklearn.pipeline import Pipeline\n",
    "from sklearn.model_selection import GridSearchCV\n",
    "from sklearn.preprocessing import StandardScaler"
   ]
  },
  {
   "cell_type": "markdown",
   "metadata": {
    "tags": []
   },
   "source": [
    "### Leitura dos datasets"
   ]
  },
  {
   "cell_type": "code",
   "execution_count": 44,
   "metadata": {},
   "outputs": [],
   "source": [
    "dftrain = pd.read_csv('training_data.csv')\n",
    "dftest = pd.read_csv('test_data.csv')"
   ]
  },
  {
   "cell_type": "markdown",
   "metadata": {
    "jp-MarkdownHeadingCollapsed": true,
    "tags": []
   },
   "source": [
    "## Exploração dos dados"
   ]
  },
  {
   "cell_type": "markdown",
   "metadata": {},
   "source": [
    "Para esta etapa do trabalho, também se utilizou as informações obtidas no website \"kaggle\", tais como:\n",
    "* Tipos dos atributos\n",
    "* Conteúdo dos atributos\n",
    "* Missing values"
   ]
  },
  {
   "cell_type": "markdown",
   "metadata": {
    "tags": []
   },
   "source": [
    "### Visualização dos dados"
   ]
  },
  {
   "cell_type": "code",
   "execution_count": 45,
   "metadata": {},
   "outputs": [
    {
     "data": {
      "text/plain": [
       "(5000, 13)"
      ]
     },
     "execution_count": 45,
     "metadata": {},
     "output_type": "execute_result"
    }
   ],
   "source": [
    "dftrain.shape"
   ]
  },
  {
   "cell_type": "code",
   "execution_count": 46,
   "metadata": {},
   "outputs": [
    {
     "data": {
      "text/html": [
       "<div>\n",
       "<style scoped>\n",
       "    .dataframe tbody tr th:only-of-type {\n",
       "        vertical-align: middle;\n",
       "    }\n",
       "\n",
       "    .dataframe tbody tr th {\n",
       "        vertical-align: top;\n",
       "    }\n",
       "\n",
       "    .dataframe thead th {\n",
       "        text-align: right;\n",
       "    }\n",
       "</style>\n",
       "<table border=\"1\" class=\"dataframe\">\n",
       "  <thead>\n",
       "    <tr style=\"text-align: right;\">\n",
       "      <th></th>\n",
       "      <th>city_name</th>\n",
       "      <th>magnitude_of_delay</th>\n",
       "      <th>delay_in_seconds</th>\n",
       "      <th>affected_roads</th>\n",
       "      <th>record_date</th>\n",
       "      <th>luminosity</th>\n",
       "      <th>avg_temperature</th>\n",
       "      <th>avg_atm_pressure</th>\n",
       "      <th>avg_humidity</th>\n",
       "      <th>avg_wind_speed</th>\n",
       "      <th>avg_precipitation</th>\n",
       "      <th>avg_rain</th>\n",
       "      <th>incidents</th>\n",
       "    </tr>\n",
       "  </thead>\n",
       "  <tbody>\n",
       "    <tr>\n",
       "      <th>0</th>\n",
       "      <td>Guimaraes</td>\n",
       "      <td>UNDEFINED</td>\n",
       "      <td>0</td>\n",
       "      <td>,</td>\n",
       "      <td>2021-03-15 23:00</td>\n",
       "      <td>DARK</td>\n",
       "      <td>12.0</td>\n",
       "      <td>1013.0</td>\n",
       "      <td>70.0</td>\n",
       "      <td>1.0</td>\n",
       "      <td>0.0</td>\n",
       "      <td>Sem Chuva</td>\n",
       "      <td>None</td>\n",
       "    </tr>\n",
       "    <tr>\n",
       "      <th>1</th>\n",
       "      <td>Guimaraes</td>\n",
       "      <td>UNDEFINED</td>\n",
       "      <td>385</td>\n",
       "      <td>N101,</td>\n",
       "      <td>2021-12-25 18:00</td>\n",
       "      <td>DARK</td>\n",
       "      <td>12.0</td>\n",
       "      <td>1007.0</td>\n",
       "      <td>91.0</td>\n",
       "      <td>1.0</td>\n",
       "      <td>0.0</td>\n",
       "      <td>Sem Chuva</td>\n",
       "      <td>None</td>\n",
       "    </tr>\n",
       "    <tr>\n",
       "      <th>2</th>\n",
       "      <td>Guimaraes</td>\n",
       "      <td>UNDEFINED</td>\n",
       "      <td>69</td>\n",
       "      <td>,</td>\n",
       "      <td>2021-03-12 15:00</td>\n",
       "      <td>LIGHT</td>\n",
       "      <td>14.0</td>\n",
       "      <td>1025.0</td>\n",
       "      <td>64.0</td>\n",
       "      <td>0.0</td>\n",
       "      <td>0.0</td>\n",
       "      <td>Sem Chuva</td>\n",
       "      <td>Low</td>\n",
       "    </tr>\n",
       "    <tr>\n",
       "      <th>3</th>\n",
       "      <td>Guimaraes</td>\n",
       "      <td>MAJOR</td>\n",
       "      <td>2297</td>\n",
       "      <td>N101,R206,N105,N101,N101,N101,N101,N101,N101,N...</td>\n",
       "      <td>2021-09-29 09:00</td>\n",
       "      <td>LIGHT</td>\n",
       "      <td>15.0</td>\n",
       "      <td>1028.0</td>\n",
       "      <td>75.0</td>\n",
       "      <td>1.0</td>\n",
       "      <td>0.0</td>\n",
       "      <td>Sem Chuva</td>\n",
       "      <td>Very_High</td>\n",
       "    </tr>\n",
       "    <tr>\n",
       "      <th>4</th>\n",
       "      <td>Guimaraes</td>\n",
       "      <td>UNDEFINED</td>\n",
       "      <td>0</td>\n",
       "      <td>N101,N101,N101,N101,N101,</td>\n",
       "      <td>2021-06-13 11:00</td>\n",
       "      <td>LIGHT</td>\n",
       "      <td>27.0</td>\n",
       "      <td>1020.0</td>\n",
       "      <td>52.0</td>\n",
       "      <td>1.0</td>\n",
       "      <td>0.0</td>\n",
       "      <td>Sem Chuva</td>\n",
       "      <td>High</td>\n",
       "    </tr>\n",
       "  </tbody>\n",
       "</table>\n",
       "</div>"
      ],
      "text/plain": [
       "   city_name magnitude_of_delay  delay_in_seconds  \\\n",
       "0  Guimaraes          UNDEFINED                 0   \n",
       "1  Guimaraes          UNDEFINED               385   \n",
       "2  Guimaraes          UNDEFINED                69   \n",
       "3  Guimaraes              MAJOR              2297   \n",
       "4  Guimaraes          UNDEFINED                 0   \n",
       "\n",
       "                                      affected_roads       record_date  \\\n",
       "0                                                  ,  2021-03-15 23:00   \n",
       "1                                              N101,  2021-12-25 18:00   \n",
       "2                                                  ,  2021-03-12 15:00   \n",
       "3  N101,R206,N105,N101,N101,N101,N101,N101,N101,N...  2021-09-29 09:00   \n",
       "4                          N101,N101,N101,N101,N101,  2021-06-13 11:00   \n",
       "\n",
       "  luminosity  avg_temperature  avg_atm_pressure  avg_humidity  avg_wind_speed  \\\n",
       "0       DARK             12.0            1013.0          70.0             1.0   \n",
       "1       DARK             12.0            1007.0          91.0             1.0   \n",
       "2      LIGHT             14.0            1025.0          64.0             0.0   \n",
       "3      LIGHT             15.0            1028.0          75.0             1.0   \n",
       "4      LIGHT             27.0            1020.0          52.0             1.0   \n",
       "\n",
       "   avg_precipitation   avg_rain  incidents  \n",
       "0                0.0  Sem Chuva       None  \n",
       "1                0.0  Sem Chuva       None  \n",
       "2                0.0  Sem Chuva        Low  \n",
       "3                0.0  Sem Chuva  Very_High  \n",
       "4                0.0  Sem Chuva       High  "
      ]
     },
     "execution_count": 46,
     "metadata": {},
     "output_type": "execute_result"
    }
   ],
   "source": [
    "dftrain.head()"
   ]
  },
  {
   "cell_type": "code",
   "execution_count": 47,
   "metadata": {},
   "outputs": [
    {
     "data": {
      "text/html": [
       "<div>\n",
       "<style scoped>\n",
       "    .dataframe tbody tr th:only-of-type {\n",
       "        vertical-align: middle;\n",
       "    }\n",
       "\n",
       "    .dataframe tbody tr th {\n",
       "        vertical-align: top;\n",
       "    }\n",
       "\n",
       "    .dataframe thead th {\n",
       "        text-align: right;\n",
       "    }\n",
       "</style>\n",
       "<table border=\"1\" class=\"dataframe\">\n",
       "  <thead>\n",
       "    <tr style=\"text-align: right;\">\n",
       "      <th></th>\n",
       "      <th>city_name</th>\n",
       "      <th>magnitude_of_delay</th>\n",
       "      <th>delay_in_seconds</th>\n",
       "      <th>affected_roads</th>\n",
       "      <th>record_date</th>\n",
       "      <th>luminosity</th>\n",
       "      <th>avg_temperature</th>\n",
       "      <th>avg_atm_pressure</th>\n",
       "      <th>avg_humidity</th>\n",
       "      <th>avg_wind_speed</th>\n",
       "      <th>avg_precipitation</th>\n",
       "      <th>avg_rain</th>\n",
       "      <th>incidents</th>\n",
       "    </tr>\n",
       "  </thead>\n",
       "  <tbody>\n",
       "    <tr>\n",
       "      <th>4995</th>\n",
       "      <td>Guimaraes</td>\n",
       "      <td>UNDEFINED</td>\n",
       "      <td>0</td>\n",
       "      <td>N101,N101,N101,N101,N101,</td>\n",
       "      <td>2021-04-13 00:00</td>\n",
       "      <td>DARK</td>\n",
       "      <td>13.0</td>\n",
       "      <td>1021.0</td>\n",
       "      <td>56.0</td>\n",
       "      <td>0.0</td>\n",
       "      <td>0.0</td>\n",
       "      <td>Sem Chuva</td>\n",
       "      <td>High</td>\n",
       "    </tr>\n",
       "    <tr>\n",
       "      <th>4996</th>\n",
       "      <td>Guimaraes</td>\n",
       "      <td>UNDEFINED</td>\n",
       "      <td>0</td>\n",
       "      <td>N101,N101,N101,N101,N101</td>\n",
       "      <td>2021-07-06 14:00</td>\n",
       "      <td>LIGHT</td>\n",
       "      <td>19.0</td>\n",
       "      <td>1017.0</td>\n",
       "      <td>68.0</td>\n",
       "      <td>0.0</td>\n",
       "      <td>0.0</td>\n",
       "      <td>Sem Chuva</td>\n",
       "      <td>None</td>\n",
       "    </tr>\n",
       "    <tr>\n",
       "      <th>4997</th>\n",
       "      <td>Guimaraes</td>\n",
       "      <td>UNDEFINED</td>\n",
       "      <td>0</td>\n",
       "      <td>,</td>\n",
       "      <td>2021-03-18 03:00</td>\n",
       "      <td>DARK</td>\n",
       "      <td>13.0</td>\n",
       "      <td>1023.0</td>\n",
       "      <td>47.0</td>\n",
       "      <td>2.0</td>\n",
       "      <td>0.0</td>\n",
       "      <td>Sem Chuva</td>\n",
       "      <td>None</td>\n",
       "    </tr>\n",
       "    <tr>\n",
       "      <th>4998</th>\n",
       "      <td>Guimaraes</td>\n",
       "      <td>UNDEFINED</td>\n",
       "      <td>0</td>\n",
       "      <td>N101,N101,N101,N101,N101</td>\n",
       "      <td>2021-11-02 06:00</td>\n",
       "      <td>DARK</td>\n",
       "      <td>12.0</td>\n",
       "      <td>1014.0</td>\n",
       "      <td>93.0</td>\n",
       "      <td>2.0</td>\n",
       "      <td>0.0</td>\n",
       "      <td>Sem Chuva</td>\n",
       "      <td>None</td>\n",
       "    </tr>\n",
       "    <tr>\n",
       "      <th>4999</th>\n",
       "      <td>Guimaraes</td>\n",
       "      <td>UNDEFINED</td>\n",
       "      <td>0</td>\n",
       "      <td>N101,N101,N101,N101,N101</td>\n",
       "      <td>2021-12-20 02:00</td>\n",
       "      <td>DARK</td>\n",
       "      <td>12.0</td>\n",
       "      <td>1018.0</td>\n",
       "      <td>77.0</td>\n",
       "      <td>3.0</td>\n",
       "      <td>0.0</td>\n",
       "      <td>Sem Chuva</td>\n",
       "      <td>None</td>\n",
       "    </tr>\n",
       "  </tbody>\n",
       "</table>\n",
       "</div>"
      ],
      "text/plain": [
       "      city_name magnitude_of_delay  delay_in_seconds  \\\n",
       "4995  Guimaraes          UNDEFINED                 0   \n",
       "4996  Guimaraes          UNDEFINED                 0   \n",
       "4997  Guimaraes          UNDEFINED                 0   \n",
       "4998  Guimaraes          UNDEFINED                 0   \n",
       "4999  Guimaraes          UNDEFINED                 0   \n",
       "\n",
       "                 affected_roads       record_date luminosity  avg_temperature  \\\n",
       "4995  N101,N101,N101,N101,N101,  2021-04-13 00:00       DARK             13.0   \n",
       "4996   N101,N101,N101,N101,N101  2021-07-06 14:00      LIGHT             19.0   \n",
       "4997                          ,  2021-03-18 03:00       DARK             13.0   \n",
       "4998   N101,N101,N101,N101,N101  2021-11-02 06:00       DARK             12.0   \n",
       "4999   N101,N101,N101,N101,N101  2021-12-20 02:00       DARK             12.0   \n",
       "\n",
       "      avg_atm_pressure  avg_humidity  avg_wind_speed  avg_precipitation  \\\n",
       "4995            1021.0          56.0             0.0                0.0   \n",
       "4996            1017.0          68.0             0.0                0.0   \n",
       "4997            1023.0          47.0             2.0                0.0   \n",
       "4998            1014.0          93.0             2.0                0.0   \n",
       "4999            1018.0          77.0             3.0                0.0   \n",
       "\n",
       "       avg_rain incidents  \n",
       "4995  Sem Chuva      High  \n",
       "4996  Sem Chuva      None  \n",
       "4997  Sem Chuva      None  \n",
       "4998  Sem Chuva      None  \n",
       "4999  Sem Chuva      None  "
      ]
     },
     "execution_count": 47,
     "metadata": {},
     "output_type": "execute_result"
    }
   ],
   "source": [
    "dftrain.tail()"
   ]
  },
  {
   "cell_type": "markdown",
   "metadata": {
    "tags": []
   },
   "source": [
    "### Informações sobre os diferentes atributos"
   ]
  },
  {
   "cell_type": "code",
   "execution_count": 48,
   "metadata": {},
   "outputs": [
    {
     "name": "stdout",
     "output_type": "stream",
     "text": [
      "<class 'pandas.core.frame.DataFrame'>\n",
      "RangeIndex: 5000 entries, 0 to 4999\n",
      "Data columns (total 13 columns):\n",
      " #   Column              Non-Null Count  Dtype  \n",
      "---  ------              --------------  -----  \n",
      " 0   city_name           5000 non-null   object \n",
      " 1   magnitude_of_delay  5000 non-null   object \n",
      " 2   delay_in_seconds    5000 non-null   int64  \n",
      " 3   affected_roads      4915 non-null   object \n",
      " 4   record_date         5000 non-null   object \n",
      " 5   luminosity          5000 non-null   object \n",
      " 6   avg_temperature     5000 non-null   float64\n",
      " 7   avg_atm_pressure    5000 non-null   float64\n",
      " 8   avg_humidity        5000 non-null   float64\n",
      " 9   avg_wind_speed      5000 non-null   float64\n",
      " 10  avg_precipitation   5000 non-null   float64\n",
      " 11  avg_rain            5000 non-null   object \n",
      " 12  incidents           5000 non-null   object \n",
      "dtypes: float64(5), int64(1), object(7)\n",
      "memory usage: 507.9+ KB\n"
     ]
    }
   ],
   "source": [
    "dftrain.info()"
   ]
  },
  {
   "cell_type": "code",
   "execution_count": 49,
   "metadata": {},
   "outputs": [
    {
     "data": {
      "text/html": [
       "<div>\n",
       "<style scoped>\n",
       "    .dataframe tbody tr th:only-of-type {\n",
       "        vertical-align: middle;\n",
       "    }\n",
       "\n",
       "    .dataframe tbody tr th {\n",
       "        vertical-align: top;\n",
       "    }\n",
       "\n",
       "    .dataframe thead th {\n",
       "        text-align: right;\n",
       "    }\n",
       "</style>\n",
       "<table border=\"1\" class=\"dataframe\">\n",
       "  <thead>\n",
       "    <tr style=\"text-align: right;\">\n",
       "      <th></th>\n",
       "      <th>delay_in_seconds</th>\n",
       "      <th>avg_temperature</th>\n",
       "      <th>avg_atm_pressure</th>\n",
       "      <th>avg_humidity</th>\n",
       "      <th>avg_wind_speed</th>\n",
       "      <th>avg_precipitation</th>\n",
       "    </tr>\n",
       "  </thead>\n",
       "  <tbody>\n",
       "    <tr>\n",
       "      <th>count</th>\n",
       "      <td>5000.000000</td>\n",
       "      <td>5000.000000</td>\n",
       "      <td>5000.000000</td>\n",
       "      <td>5000.000000</td>\n",
       "      <td>5000.000000</td>\n",
       "      <td>5000.0</td>\n",
       "    </tr>\n",
       "    <tr>\n",
       "      <th>mean</th>\n",
       "      <td>560.567000</td>\n",
       "      <td>14.583000</td>\n",
       "      <td>1018.145000</td>\n",
       "      <td>74.455000</td>\n",
       "      <td>1.253500</td>\n",
       "      <td>0.0</td>\n",
       "    </tr>\n",
       "    <tr>\n",
       "      <th>std</th>\n",
       "      <td>1686.859581</td>\n",
       "      <td>4.820514</td>\n",
       "      <td>5.174372</td>\n",
       "      <td>17.204638</td>\n",
       "      <td>1.269847</td>\n",
       "      <td>0.0</td>\n",
       "    </tr>\n",
       "    <tr>\n",
       "      <th>min</th>\n",
       "      <td>0.000000</td>\n",
       "      <td>1.000000</td>\n",
       "      <td>997.000000</td>\n",
       "      <td>6.000000</td>\n",
       "      <td>0.000000</td>\n",
       "      <td>0.0</td>\n",
       "    </tr>\n",
       "    <tr>\n",
       "      <th>25%</th>\n",
       "      <td>0.000000</td>\n",
       "      <td>11.000000</td>\n",
       "      <td>1015.000000</td>\n",
       "      <td>63.000000</td>\n",
       "      <td>0.000000</td>\n",
       "      <td>0.0</td>\n",
       "    </tr>\n",
       "    <tr>\n",
       "      <th>50%</th>\n",
       "      <td>0.000000</td>\n",
       "      <td>14.000000</td>\n",
       "      <td>1019.000000</td>\n",
       "      <td>78.000000</td>\n",
       "      <td>1.000000</td>\n",
       "      <td>0.0</td>\n",
       "    </tr>\n",
       "    <tr>\n",
       "      <th>75%</th>\n",
       "      <td>234.000000</td>\n",
       "      <td>18.000000</td>\n",
       "      <td>1022.000000</td>\n",
       "      <td>90.000000</td>\n",
       "      <td>2.000000</td>\n",
       "      <td>0.0</td>\n",
       "    </tr>\n",
       "    <tr>\n",
       "      <th>max</th>\n",
       "      <td>31083.000000</td>\n",
       "      <td>35.000000</td>\n",
       "      <td>1032.000000</td>\n",
       "      <td>100.000000</td>\n",
       "      <td>10.000000</td>\n",
       "      <td>0.0</td>\n",
       "    </tr>\n",
       "  </tbody>\n",
       "</table>\n",
       "</div>"
      ],
      "text/plain": [
       "       delay_in_seconds  avg_temperature  avg_atm_pressure  avg_humidity  \\\n",
       "count       5000.000000      5000.000000       5000.000000   5000.000000   \n",
       "mean         560.567000        14.583000       1018.145000     74.455000   \n",
       "std         1686.859581         4.820514          5.174372     17.204638   \n",
       "min            0.000000         1.000000        997.000000      6.000000   \n",
       "25%            0.000000        11.000000       1015.000000     63.000000   \n",
       "50%            0.000000        14.000000       1019.000000     78.000000   \n",
       "75%          234.000000        18.000000       1022.000000     90.000000   \n",
       "max        31083.000000        35.000000       1032.000000    100.000000   \n",
       "\n",
       "       avg_wind_speed  avg_precipitation  \n",
       "count     5000.000000             5000.0  \n",
       "mean         1.253500                0.0  \n",
       "std          1.269847                0.0  \n",
       "min          0.000000                0.0  \n",
       "25%          0.000000                0.0  \n",
       "50%          1.000000                0.0  \n",
       "75%          2.000000                0.0  \n",
       "max         10.000000                0.0  "
      ]
     },
     "execution_count": 49,
     "metadata": {},
     "output_type": "execute_result"
    }
   ],
   "source": [
    "dftrain.describe()"
   ]
  },
  {
   "cell_type": "markdown",
   "metadata": {
    "jp-MarkdownHeadingCollapsed": true,
    "tags": []
   },
   "source": [
    "### Missing Values"
   ]
  },
  {
   "cell_type": "code",
   "execution_count": 50,
   "metadata": {},
   "outputs": [
    {
     "data": {
      "text/plain": [
       "city_name             False\n",
       "magnitude_of_delay    False\n",
       "delay_in_seconds      False\n",
       "affected_roads         True\n",
       "record_date           False\n",
       "luminosity            False\n",
       "avg_temperature       False\n",
       "avg_atm_pressure      False\n",
       "avg_humidity          False\n",
       "avg_wind_speed        False\n",
       "avg_precipitation     False\n",
       "avg_rain              False\n",
       "incidents             False\n",
       "dtype: bool"
      ]
     },
     "execution_count": 50,
     "metadata": {},
     "output_type": "execute_result"
    }
   ],
   "source": [
    "dftrain.isna().any()"
   ]
  },
  {
   "cell_type": "code",
   "execution_count": 51,
   "metadata": {},
   "outputs": [
    {
     "data": {
      "text/plain": [
       "city_name              0\n",
       "magnitude_of_delay     0\n",
       "delay_in_seconds       0\n",
       "affected_roads        85\n",
       "record_date            0\n",
       "luminosity             0\n",
       "avg_temperature        0\n",
       "avg_atm_pressure       0\n",
       "avg_humidity           0\n",
       "avg_wind_speed         0\n",
       "avg_precipitation      0\n",
       "avg_rain               0\n",
       "incidents              0\n",
       "dtype: int64"
      ]
     },
     "execution_count": 51,
     "metadata": {},
     "output_type": "execute_result"
    }
   ],
   "source": [
    "dftrain.isna().sum()"
   ]
  },
  {
   "cell_type": "markdown",
   "metadata": {
    "tags": []
   },
   "source": [
    "### Matriz de Correlação"
   ]
  },
  {
   "cell_type": "code",
   "execution_count": 52,
   "metadata": {},
   "outputs": [
    {
     "data": {
      "text/plain": [
       "<AxesSubplot:>"
      ]
     },
     "execution_count": 52,
     "metadata": {},
     "output_type": "execute_result"
    },
    {
     "data": {
      "image/png": "[encoded data removed]",
      "text/plain": [
       "<Figure size 2000x2000 with 2 Axes>"
      ]
     },
     "metadata": {},
     "output_type": "display_data"
    }
   ],
   "source": [
    "corr_matrix = dftrain.corr()\n",
    "f, ax = plt.subplots(figsize=(20,20))\n",
    "sns.heatmap(corr_matrix, vmin=-1, vmax=1, square=True, annot=True)"
   ]
  },
  {
   "cell_type": "markdown",
   "metadata": {
    "tags": []
   },
   "source": [
    "### Pairplot"
   ]
  },
  {
   "cell_type": "raw",
   "metadata": {},
   "source": [
    "sns.pairplot(dftrain)"
   ]
  },
  {
   "cell_type": "markdown",
   "metadata": {
    "jp-MarkdownHeadingCollapsed": true,
    "tags": []
   },
   "source": [
    "### Histogramas"
   ]
  },
  {
   "cell_type": "raw",
   "metadata": {},
   "source": [
    "fig,axs = plt.subplots(11,1,figsize=(10,100))\n",
    "fig.suptitle('Histograms')\n",
    "\n",
    "for i in range(13):\n",
    "    axs[i].hist(dftrain.iloc[:,i])\n",
    "    axs[i].set_title(dftrain.columns[i])"
   ]
  },
  {
   "cell_type": "markdown",
   "metadata": {
    "tags": []
   },
   "source": [
    "## Preparação dos dados"
   ]
  },
  {
   "cell_type": "markdown",
   "metadata": {
    "tags": []
   },
   "source": [
    "### Apagar atributos"
   ]
  },
  {
   "cell_type": "code",
   "execution_count": 53,
   "metadata": {},
   "outputs": [],
   "source": [
    "# Era sempre Guimarães em todos os registos, logo não tem impacto nenhum\n",
    "dftrain = dftrain.drop([\"city_name\"], axis=1)\n",
    "dftest = dftest.drop([\"city_name\"], axis=1)\n",
    "\n",
    "# Era sempre 0 em todos os registos, logo não tem impacto nenhum\n",
    "dftrain = dftrain.drop([\"avg_precipitation\"], axis=1)\n",
    "dftest = dftest.drop([\"avg_precipitation\"], axis=1)\n",
    "\n",
    "# Era sempre 0 em todos os registos, logo não tem impacto nenhum\n",
    "#dftrain = dftrain.drop([\"delay_in_seconds\"], axis=1)\n",
    "#dftest = dftest.drop([\"delay_in_seconds\"], axis=1)"
   ]
  },
  {
   "cell_type": "markdown",
   "metadata": {
    "tags": []
   },
   "source": [
    "### Alteração do tipo dos atributos"
   ]
  },
  {
   "cell_type": "markdown",
   "metadata": {
    "tags": []
   },
   "source": [
    "#### Label Encoding"
   ]
  },
  {
   "cell_type": "code",
   "execution_count": 54,
   "metadata": {},
   "outputs": [],
   "source": [
    "label_encoder = preprocessing.LabelEncoder()\n",
    "\n",
    "#Train\n",
    "dftrain['magnitude_of_delay']= label_encoder.fit_transform(dftrain['magnitude_of_delay'])\n",
    "dftrain['luminosity']= label_encoder.fit_transform(dftrain['luminosity'])\n",
    "dftrain['avg_rain']= label_encoder.fit_transform(dftrain['avg_rain'])\n",
    "dftrain['incidents']= label_encoder.fit_transform(dftrain['incidents'])\n",
    "\n",
    "#Test\n",
    "dftest['magnitude_of_delay']= label_encoder.fit_transform(dftest['magnitude_of_delay'])\n",
    "dftest['luminosity']        = label_encoder.fit_transform(dftest['luminosity'])\n",
    "dftest['avg_rain']          = label_encoder.fit_transform(dftest['avg_rain'])"
   ]
  },
  {
   "cell_type": "markdown",
   "metadata": {
    "tags": []
   },
   "source": [
    "#### Atributo affected_roads"
   ]
  },
  {
   "cell_type": "markdown",
   "metadata": {
    "tags": []
   },
   "source": [
    "##### Quantidade de vezes que estradas aparecem"
   ]
  },
  {
   "cell_type": "code",
   "execution_count": 55,
   "metadata": {},
   "outputs": [],
   "source": [
    "dftrain['affected_roads']  = dftrain['affected_roads'].apply(lambda x: 0 if pd.isnull(x) else len(list(filter(None, x.split(',')))))\n",
    "dftest['affected_roads']   = dftest['affected_roads'].apply(lambda x: 0 if pd.isnull(x) else len(list(filter(None, x.split(',')))))"
   ]
  },
  {
   "cell_type": "markdown",
   "metadata": {
    "jp-MarkdownHeadingCollapsed": true,
    "tags": []
   },
   "source": [
    "##### Quantidade de vezes que cada tipo de estrada aparece"
   ]
  },
  {
   "cell_type": "raw",
   "metadata": {},
   "source": [
    "# Passar de string para lista\n",
    "dftrain['affected_roads']  = dftrain['affected_roads'].apply(lambda x: [] if pd.isnull(x) else list(filter(None, x.split(','))))\n",
    "dftest['affected_roads']   = dftest['affected_roads'].apply(lambda x: [] if pd.isnull(x) else list(filter(None, x.split(','))))\n",
    "\n",
    "# Saber que estradas existem\n",
    "new_atr = []\n",
    "for i in dftrain['affected_roads']:\n",
    "    for j in i:\n",
    "        if j not in new_atr:\n",
    "            new_atr.append(j)\n",
    "\n",
    "# Criação de um atributo por estrada e colocar nele a quantidade de repetições que existe\n",
    "# TRAIN\n",
    "for atr in new_atr:\n",
    "    dftrain[atr]=0\n",
    "\n",
    "i=0\n",
    "for roads in dftrain['affected_roads']:\n",
    "    dict_aux = {atri:roads.count(atri) for atri in roads}\n",
    "    for key in dict_aux.keys():\n",
    "        dftrain.at[i,key] = dict_aux[key]\n",
    "    i=i+1\n",
    "\n",
    "# TEST\n",
    "for atr in new_atr:\n",
    "    dftest[atr]=0\n",
    "\n",
    "i=0\n",
    "for roads in dftest['affected_roads']:\n",
    "    dict_aux = {atri:roads.count(atri) for atri in roads}\n",
    "    for key in dict_aux.keys():\n",
    "        dftest.at[i,key] = dict_aux[key]\n",
    "    i=i+1\n",
    "\n",
    "# Drop do atributo das estradas, já que não é mais necessário\n",
    "dftrain = dftrain.drop([\"affected_roads\"], axis=1)\n",
    "dftest = dftest.drop([\"affected_roads\"], axis=1)"
   ]
  },
  {
   "cell_type": "markdown",
   "metadata": {
    "tags": []
   },
   "source": [
    "#### String to Date"
   ]
  },
  {
   "cell_type": "code",
   "execution_count": 56,
   "metadata": {},
   "outputs": [],
   "source": [
    "# TRAIN\n",
    "dftrain['record_date'] = pd.to_datetime(dftrain['record_date'], format='%Y-%m-%d %H:%M')\n",
    "\n",
    "# Este dataset é apenas num ano, logo será igual para todos os registos\n",
    "dftrain['record_month'] = dftrain['record_date'].dt.month\n",
    "dftrain['record_day'] = dftrain['record_date'].dt.day\n",
    "dftrain['record_hour'] = dftrain['record_date'].dt.hour\n",
    "\n",
    "# Já não precisamos do record_date para nada\n",
    "dftrain = dftrain.drop([\"record_date\"], axis=1)\n",
    "\n",
    "# TEST\n",
    "dftest['record_date'] = pd.to_datetime(dftest['record_date'], format='%Y-%m-%d %H:%M')\n",
    "\n",
    "# Este dataset é apenas num ano, logo será igual para todos os registos\n",
    "dftest['record_month'] = dftest['record_date'].dt.month\n",
    "dftest['record_day'] = dftest['record_date'].dt.day\n",
    "dftest['record_hour'] = dftest['record_date'].dt.hour\n",
    "\n",
    "# Já não precisamos do record_date para nada\n",
    "dftest = dftest.drop([\"record_date\"], axis=1)"
   ]
  },
  {
   "cell_type": "markdown",
   "metadata": {
    "tags": []
   },
   "source": [
    "#### Tipo do atributo dependente"
   ]
  },
  {
   "cell_type": "raw",
   "metadata": {},
   "source": [
    "dftrain['incidents'] = pd.Categorical(dftrain['incidents'])"
   ]
  },
  {
   "cell_type": "markdown",
   "metadata": {
    "tags": []
   },
   "source": [
    "## Modelos"
   ]
  },
  {
   "cell_type": "markdown",
   "metadata": {
    "tags": []
   },
   "source": [
    "### Preparação prévia"
   ]
  },
  {
   "cell_type": "markdown",
   "metadata": {},
   "source": [
    "#### Separação da variável dependente"
   ]
  },
  {
   "cell_type": "code",
   "execution_count": 57,
   "metadata": {},
   "outputs": [],
   "source": [
    "X_train = dftrain.drop(['incidents'], axis=1)\n",
    "Y_train = dftrain['incidents'].to_frame()"
   ]
  },
  {
   "cell_type": "markdown",
   "metadata": {
    "tags": []
   },
   "source": [
    "#### Separação entre dataframe de teste e de treino"
   ]
  },
  {
   "cell_type": "code",
   "execution_count": 58,
   "metadata": {},
   "outputs": [],
   "source": [
    "X_train, X_test, Y_train, Y_test = train_test_split(X_train, Y_train, test_size=0.25, random_state=42)"
   ]
  },
  {
   "cell_type": "markdown",
   "metadata": {
    "tags": []
   },
   "source": [
    "### Treino dos modelos"
   ]
  },
  {
   "cell_type": "markdown",
   "metadata": {
    "jp-MarkdownHeadingCollapsed": true,
    "tags": []
   },
   "source": [
    "#### Regressão Logística\n"
   ]
  },
  {
   "cell_type": "code",
   "execution_count": 59,
   "metadata": {},
   "outputs": [
    {
     "name": "stderr",
     "output_type": "stream",
     "text": [
      "c:\\ProgramData\\Anaconda3\\envs\\DAA\\lib\\site-packages\\sklearn\\utils\\validation.py:993: DataConversionWarning: A column-vector y was passed when a 1d array was expected. Please change the shape of y to (n_samples, ), for example using ravel().\n",
      "  y = column_or_1d(y, warn=True)\n"
     ]
    },
    {
     "data": {
      "text/plain": [
       "LogisticRegression(max_iter=10000)"
      ]
     },
     "execution_count": 59,
     "metadata": {},
     "output_type": "execute_result"
    }
   ],
   "source": [
    "model = LogisticRegression(max_iter=10000)\n",
    "model.fit(X_train, Y_train)"
   ]
  },
  {
   "cell_type": "markdown",
   "metadata": {
    "jp-MarkdownHeadingCollapsed": true,
    "tags": []
   },
   "source": [
    "#### Decision Tree"
   ]
  },
  {
   "cell_type": "markdown",
   "metadata": {
    "jp-MarkdownHeadingCollapsed": true,
    "tags": []
   },
   "source": [
    "##### Descoberta dos melhores parâmetros"
   ]
  },
  {
   "cell_type": "raw",
   "metadata": {},
   "source": [
    "# Modelo default - Full tree\n",
    "model = DecisionTreeClassifier(random_state=2022)\n",
    "model.fit(X_train, Y_train)\n",
    "\n",
    "print(\"depth: \", full_tree.get_depth())\n",
    "print(\"leafs: \", full_tree.get_n_leaves())"
   ]
  },
  {
   "cell_type": "markdown",
   "metadata": {
    "tags": []
   },
   "source": [
    "###### Minimo de samples para fazer um novo ramo"
   ]
  },
  {
   "cell_type": "raw",
   "metadata": {},
   "source": [
    "EPS = np.finfo(np.float64).eps # =2.220446049250313e-16\n",
    "min_samples_grid_search = GridSearchCV(\n",
    "    estimator  = DecisionTreeClassifier(random_state=2022),\n",
    "    scoring    = make_scorer(accuracy_score),\n",
    "    param_grid = ParameterGrid({'min_samples_split':[[min_samples_split] for min_samples_split in np.arange(EPS, 1, 0.025)]})\n",
    "    )\n",
    "min_samples_grid_search.fit(X_train, Y_train)\n",
    "print(min_samples_grid_search.best_estimator_)"
   ]
  },
  {
   "cell_type": "markdown",
   "metadata": {
    "tags": []
   },
   "source": [
    "###### Mínimo de samples para justificar fazer uma nova folha"
   ]
  },
  {
   "cell_type": "raw",
   "metadata": {},
   "source": [
    "min_samples_leaf_grid_search = GridSearchCV(\n",
    "    estimator  = DecisionTreeClassifier(random_state=2022),\n",
    "    scoring    = make_scorer(accuracy_score),\n",
    "    param_grid = ParameterGrid({'min_samples_leaf':[[min_samples_leaf] for min_samples_leaf in np.arange(EPS, 0.5, 0.025)]})\n",
    "    )\n",
    "min_samples_leaf_grid_search.fit(X_train, Y_train)\n",
    "print(min_samples_leaf_grid_search.best_estimator_)"
   ]
  },
  {
   "cell_type": "markdown",
   "metadata": {
    "tags": []
   },
   "source": [
    "###### Maxima profundidade na árvore"
   ]
  },
  {
   "cell_type": "raw",
   "metadata": {},
   "source": [
    "max_depth = 14 #Valor mais alto que a profundidade de uma árvore completa\n",
    "\n",
    "# Maxima profundidade na árvore\n",
    "max_depth_grid_search = GridSearchCV(\n",
    "    estimator  = DecisionTreeClassifier(random_state=2022),\n",
    "    scoring    = make_scorer(accuracy_score),\n",
    "    param_grid = ParameterGrid({'max_depth':[[max_depth] for max_depth in range(1, max_depth + 1)]})\n",
    "    )\n",
    "\n",
    "max_depth_grid_search.fit(X_train, Y_train)\n",
    "print(max_depth_grid_search.best_estimator_)"
   ]
  },
  {
   "cell_type": "markdown",
   "metadata": {
    "tags": []
   },
   "source": [
    "###### Ver dps"
   ]
  },
  {
   "cell_type": "raw",
   "metadata": {},
   "source": [
    "ccp_alphas = model.cost_complexity_pruning_path(X_train, Y_train)[\"ccp_alphas\"]\n",
    "\n",
    "ccp_alphas_grid_search = GridSearchCV(\n",
    "    estimator  = DecisionTreeClassifier(random_state=2022),\n",
    "    scoring    = make_scorer(accuracy_score),\n",
    "    param_grid = ParameterGrid({'ccp_alpha':[[alpha] for alpha in ccp_alphas]}),\n",
    ")\n",
    "#0.0007292929292929296\n",
    "\n",
    "ccp_alphas_grid_search.fit(X_train, Y_train)\n",
    "print(ccp_alphas_grid_search.best_estimator_)"
   ]
  },
  {
   "cell_type": "raw",
   "metadata": {},
   "source": [
    "maxd = 24\n",
    "std_slc = StandardScaler()\n",
    "pca = decomposition.PCA()\n",
    "dec_tree = tree.DecisionTreeClassifier(random_state=2022)\n",
    "pipe = Pipeline(steps=[('std_slc', std_slc), ('pca', pca), ('dec_tree', dec_tree)])\n",
    "n_components = list(range(1,X_train.shape[1]+1,1))\n",
    "max_depth = list(range(1, maxd + 1))\n",
    "\n",
    "parameters = dict(pca__n_components   = n_components,\n",
    "                  dec_tree__max_depth = max_depth,\n",
    "                  #dec_tree__min_samples_leaf = min_samples_leaf\n",
    "                  )\n",
    "clf_GS = GridSearchCV(pipe, parameters)\n",
    "clf_GS.fit(X_train, Y_train)\n",
    "\n",
    "print('Best max_depth:', clf_GS.best_estimator_.get_params()['dec_tree__max_depth'])\n",
    "#print('Best min_samples_leaf:', clf_GS.best_estimator_.get_params()['dec_tree__min_samples_leaf'])\n",
    "print('Best Number Of Components:', clf_GS.best_estimator_.get_params()['pca__n_components'])\n",
    "print(); print(clf_GS.best_estimator_.get_params()['dec_tree'])"
   ]
  },
  {
   "cell_type": "markdown",
   "metadata": {
    "tags": []
   },
   "source": [
    "##### Modelo final"
   ]
  },
  {
   "cell_type": "raw",
   "metadata": {},
   "source": [
    "model = DecisionTreeClassifier(random_state=2022, \n",
    "                               criterion = 'entropy',\n",
    "                               max_depth = 16, \n",
    "                               ccp_alpha = 0.0007292929292929296)\n",
    "model.fit(X_train, Y_train)\n",
    "print(\"depth: \", model.get_depth())\n",
    "print(\"leafs: \", model.get_n_leaves())"
   ]
  },
  {
   "cell_type": "markdown",
   "metadata": {
    "jp-MarkdownHeadingCollapsed": true,
    "tags": []
   },
   "source": [
    "#### SVM"
   ]
  },
  {
   "cell_type": "markdown",
   "metadata": {
    "tags": []
   },
   "source": [
    "##### Descoberta dos melhores parâmetros"
   ]
  },
  {
   "cell_type": "raw",
   "metadata": {},
   "source": [
    "param_grid = {'C': [0.1, 1, 10, 100, 1000], 'gamma' : [1, 0.1, 0.01, 0.001, 0.0001], 'kernel': ['rbf']}\n",
    "grid = GridSearchCV(SVC(), param_grid, refit=True, verbose=3)\n",
    "grid.fit(X_train, Y_train)\n",
    "grid.best_params_\n",
    "grid.best_estimator_"
   ]
  },
  {
   "cell_type": "markdown",
   "metadata": {},
   "source": [
    "##### Modelo final"
   ]
  },
  {
   "cell_type": "raw",
   "metadata": {},
   "source": [
    "model = SVC(random_state=2022)\n",
    "model.fit(X_train, Y_train)"
   ]
  },
  {
   "attachments": {},
   "cell_type": "markdown",
   "metadata": {
    "jp-MarkdownHeadingCollapsed": true,
    "tags": []
   },
   "source": [
    "#### MLP"
   ]
  },
  {
   "cell_type": "raw",
   "metadata": {},
   "source": [
    "#TODO: Adaptar ao nossos dados\n",
    "\n",
    "scaler_X = MinMaxScaler(feature_range=(0 , 1)).fit(X)\n",
    "scaler_Y = MinMaxScaler(feature_range=(0 , 1)).fit(y)\n",
    "\n",
    "X_scaled = pd.DataFrame(scaler_X.transform(X[X.columns]), columns=X.columns)\n",
    "Y_scaled = pd.DataFrame(scaler_Y.transform(Y[y.columns]), columns=y.columns)\n",
    "\n",
    "X_train, X_test, Y_train, Y_test = train_test_split(X_scaled, Y_scaled, test_size=0.2, random_state=2022)\n",
    "\n",
    "def build_model(activation='relu', learning_rate=0.01):\n",
    "\tmodel = Sequential();\n",
    "\tmodel.add(Dense(16, input_dim=5, activation=activation))\n",
    "\tmodel.add(Dense(8, activation=activation))\n",
    "\tmodel.add(Dense(1, activation='relu'))\n",
    "\n",
    "\tmodel.compile(loss='mae', optimizer=tf.optimizers.Adam(learning_rate), metrics=['mae','mse'])\n",
    "\n",
    "\treturn model\n",
    "\n",
    "model = build_model()\n",
    "model.summary()"
   ]
  },
  {
   "cell_type": "raw",
   "metadata": {},
   "source": [
    "TUNING_DICT = {\n",
    "\t'activation':\t\t['relu', 'sigmoid'],\n",
    "\t'learning_rate':\t[0.01, 0.001]\n",
    "}\n",
    "\n",
    "kf = FFold(n_splits=5, shuffle=True, random_state=2022)\n",
    "\n",
    "model = KerasRegressor(build_fn=build_model, epochs=20, batch_size=32)\n",
    "grid_search = GridSearchCV(estimator=model, param_grid=TUNING_DICT, cv=kf, scoring='neg_mean_absolute_error', refit='True', verbose=1)\n",
    "grid_search.fit(X_train, Y_train, validation_split=0.2)\n",
    "\n",
    "print(\"Best: %f using %s\" % (grid_search.best_score_, grid_search.best_params_))\n",
    "\n",
    "means = grid_search.cv_results_['mean_test_score']\n",
    "stds = grid_search.cv_results_['std_test_score']\n",
    "params = grid_search.cv_results_['params']\n",
    "\n",
    "for mean, stdev, param in zip(means, stds, params):\n",
    "\tprint(\"%f (%f) with: %r\" % (mean, stdev, param))"
   ]
  },
  {
   "cell_type": "raw",
   "metadata": {},
   "source": [
    "!pip install livelossplot"
   ]
  },
  {
   "cell_type": "raw",
   "metadata": {},
   "source": [
    "from livelossplot import PlotLossesKerasTF"
   ]
  },
  {
   "cell_type": "raw",
   "metadata": {},
   "source": [
    "best_mlp_model = grid_search.best_estimator_\n",
    "\n",
    "best_mlp_model.fit(X_train, Y_train, epochs=20, validation_data=(X_test, Y_test), callbacks=[PlotLossesKerasTF()], verbose=1)"
   ]
  },
  {
   "cell_type": "raw",
   "metadata": {},
   "source": [
    "predictions = best_mlp_model.predict(X_test)\n",
    "predictions = predictions.reshape(predictions.shape[0], 1)\n",
    "predictions_unscaled = scaler_Y.inverse_transform(predictions)"
   ]
  },
  {
   "cell_type": "markdown",
   "metadata": {
    "tags": []
   },
   "source": [
    "### Previsões"
   ]
  },
  {
   "cell_type": "code",
   "execution_count": 60,
   "metadata": {},
   "outputs": [],
   "source": [
    "predictions = model.predict(X_test)"
   ]
  },
  {
   "cell_type": "markdown",
   "metadata": {
    "tags": []
   },
   "source": [
    "## Métricas de Qualidade"
   ]
  },
  {
   "cell_type": "markdown",
   "metadata": {
    "tags": []
   },
   "source": [
    "#### Accuracy"
   ]
  },
  {
   "cell_type": "code",
   "execution_count": 61,
   "metadata": {},
   "outputs": [
    {
     "name": "stdout",
     "output_type": "stream",
     "text": [
      " Accuracy: 0.724\n"
     ]
    }
   ],
   "source": [
    "print(\" Accuracy: \" + str( accuracy_score(Y_test, predictions)))"
   ]
  },
  {
   "cell_type": "markdown",
   "metadata": {
    "tags": []
   },
   "source": [
    "#### Médias de métricas por peso"
   ]
  },
  {
   "cell_type": "markdown",
   "metadata": {},
   "source": [
    "* __micro__: Calculate metrics globally by counting the total true positives, false negatives and false positives. \n",
    "* __macro__: Calculate metrics for each label, and find their unweighted mean. This does not take label imbalance into account.\n",
    "* __weighted__: Calculate metrics for each label, and find their average weighted by support (the number of true instances for each label). This alters ‘macro’ to account for label imbalance; it can result in an F-score that is not between precision and recall."
   ]
  },
  {
   "cell_type": "code",
   "execution_count": 62,
   "metadata": {},
   "outputs": [
    {
     "name": "stdout",
     "output_type": "stream",
     "text": [
      "Precision: 0.6998796257421678\n",
      "   Recall: 0.724\n",
      " F1-Score: 0.6976768966381068\n"
     ]
    }
   ],
   "source": [
    "print(\"Precision: \" + str(precision_score(Y_test, predictions, average= 'weighted')))\n",
    "print(\"   Recall: \" + str(recall_score(Y_test, predictions, average= 'weighted')))\n",
    "print(\" F1-Score: \" + str(f1_score(Y_test, predictions, average= 'weighted')))"
   ]
  },
  {
   "cell_type": "markdown",
   "metadata": {
    "tags": []
   },
   "source": [
    "#### Métricas por Label"
   ]
  },
  {
   "cell_type": "raw",
   "metadata": {},
   "source": [
    "from tabulate import tabulate\n",
    "\n",
    "# assign data\n",
    "mydata = [\n",
    "    [\"Precision\"] + list(precision_score(Y_test, predictions, average= None)),\n",
    "    [\"Recall\"] + list(recall_score(Y_test, predictions, average= None)),\n",
    "    [\"F1-Score\"] + list(f1_score(Y_test, predictions, average= None))\n",
    "]\n",
    " \n",
    "# create header\n",
    "head = [\"Metric\"] + list(dftrain['incidents'].cat.categories.values)\n",
    " \n",
    "# display table\n",
    "print(tabulate(mydata, headers=head, tablefmt=\"grid\"))"
   ]
  },
  {
   "cell_type": "markdown",
   "metadata": {
    "tags": []
   },
   "source": [
    "#### Cross Validation"
   ]
  },
  {
   "cell_type": "markdown",
   "metadata": {},
   "source": [
    "Cross validation irá fazer vários segmentos e testá-los. Se houver um desvio padrão mt grande entre eles, isso quer dizer que existe over-fitting"
   ]
  },
  {
   "cell_type": "code",
   "execution_count": 63,
   "metadata": {},
   "outputs": [
    {
     "name": "stderr",
     "output_type": "stream",
     "text": [
      "c:\\ProgramData\\Anaconda3\\envs\\DAA\\lib\\site-packages\\sklearn\\utils\\validation.py:993: DataConversionWarning: A column-vector y was passed when a 1d array was expected. Please change the shape of y to (n_samples, ), for example using ravel().\n",
      "  y = column_or_1d(y, warn=True)\n",
      "c:\\ProgramData\\Anaconda3\\envs\\DAA\\lib\\site-packages\\sklearn\\utils\\validation.py:993: DataConversionWarning: A column-vector y was passed when a 1d array was expected. Please change the shape of y to (n_samples, ), for example using ravel().\n",
      "  y = column_or_1d(y, warn=True)\n",
      "c:\\ProgramData\\Anaconda3\\envs\\DAA\\lib\\site-packages\\sklearn\\utils\\validation.py:993: DataConversionWarning: A column-vector y was passed when a 1d array was expected. Please change the shape of y to (n_samples, ), for example using ravel().\n",
      "  y = column_or_1d(y, warn=True)\n",
      "c:\\ProgramData\\Anaconda3\\envs\\DAA\\lib\\site-packages\\sklearn\\utils\\validation.py:993: DataConversionWarning: A column-vector y was passed when a 1d array was expected. Please change the shape of y to (n_samples, ), for example using ravel().\n",
      "  y = column_or_1d(y, warn=True)\n",
      "c:\\ProgramData\\Anaconda3\\envs\\DAA\\lib\\site-packages\\sklearn\\utils\\validation.py:993: DataConversionWarning: A column-vector y was passed when a 1d array was expected. Please change the shape of y to (n_samples, ), for example using ravel().\n",
      "  y = column_or_1d(y, warn=True)\n",
      "c:\\ProgramData\\Anaconda3\\envs\\DAA\\lib\\site-packages\\sklearn\\utils\\validation.py:993: DataConversionWarning: A column-vector y was passed when a 1d array was expected. Please change the shape of y to (n_samples, ), for example using ravel().\n",
      "  y = column_or_1d(y, warn=True)\n",
      "c:\\ProgramData\\Anaconda3\\envs\\DAA\\lib\\site-packages\\sklearn\\utils\\validation.py:993: DataConversionWarning: A column-vector y was passed when a 1d array was expected. Please change the shape of y to (n_samples, ), for example using ravel().\n",
      "  y = column_or_1d(y, warn=True)\n",
      "c:\\ProgramData\\Anaconda3\\envs\\DAA\\lib\\site-packages\\sklearn\\utils\\validation.py:993: DataConversionWarning: A column-vector y was passed when a 1d array was expected. Please change the shape of y to (n_samples, ), for example using ravel().\n",
      "  y = column_or_1d(y, warn=True)\n",
      "c:\\ProgramData\\Anaconda3\\envs\\DAA\\lib\\site-packages\\sklearn\\utils\\validation.py:993: DataConversionWarning: A column-vector y was passed when a 1d array was expected. Please change the shape of y to (n_samples, ), for example using ravel().\n",
      "  y = column_or_1d(y, warn=True)\n",
      "c:\\ProgramData\\Anaconda3\\envs\\DAA\\lib\\site-packages\\sklearn\\utils\\validation.py:993: DataConversionWarning: A column-vector y was passed when a 1d array was expected. Please change the shape of y to (n_samples, ), for example using ravel().\n",
      "  y = column_or_1d(y, warn=True)\n"
     ]
    },
    {
     "name": "stdout",
     "output_type": "stream",
     "text": [
      "[0.72       0.71733333 0.70933333 0.75466667 0.696      0.728\n",
      " 0.72       0.744      0.73333333 0.71466667]\n",
      "Média: 0.7237333333333333\n",
      "desvio padrão: 0.016141595680449667\n"
     ]
    }
   ],
   "source": [
    "scores = cross_val_score(model, X_train, Y_train, cv=10)\n",
    "print(scores)\n",
    "print(\"Média: \" + str(scores.mean()))\n",
    "print(\"desvio padrão: \" + str(scores.std()))"
   ]
  },
  {
   "cell_type": "markdown",
   "metadata": {
    "jp-MarkdownHeadingCollapsed": true,
    "tags": []
   },
   "source": [
    "#### Confusion Matrix"
   ]
  },
  {
   "cell_type": "code",
   "execution_count": 64,
   "metadata": {},
   "outputs": [
    {
     "name": "stderr",
     "output_type": "stream",
     "text": [
      "c:\\ProgramData\\Anaconda3\\envs\\DAA\\lib\\site-packages\\sklearn\\utils\\deprecation.py:87: FutureWarning: Function plot_confusion_matrix is deprecated; Function `plot_confusion_matrix` is deprecated in 1.0 and will be removed in 1.2. Use one of the class methods: ConfusionMatrixDisplay.from_predictions or ConfusionMatrixDisplay.from_estimator.\n",
      "  warnings.warn(msg, category=FutureWarning)\n"
     ]
    },
    {
     "data": {
      "text/plain": [
       "<sklearn.metrics._plot.confusion_matrix.ConfusionMatrixDisplay at 0x203708fcf48>"
      ]
     },
     "execution_count": 64,
     "metadata": {},
     "output_type": "execute_result"
    },
    {
     "data": {
      "image/png": "[encoded data removed]",
      "text/plain": [
       "<Figure size 640x480 with 2 Axes>"
      ]
     },
     "metadata": {},
     "output_type": "display_data"
    }
   ],
   "source": [
    "plot_confusion_matrix(model, X_test, Y_test)"
   ]
  },
  {
   "cell_type": "markdown",
   "metadata": {
    "jp-MarkdownHeadingCollapsed": true,
    "tags": []
   },
   "source": [
    "#### Classification Report"
   ]
  },
  {
   "cell_type": "code",
   "execution_count": 65,
   "metadata": {},
   "outputs": [
    {
     "data": {
      "text/plain": [
       "'              precision    recall  f1-score   support\\n\\n           0       0.64      0.75      0.69       265\\n           1       0.66      0.41      0.50       189\\n           2       0.42      0.19      0.27       144\\n           3       0.79      0.97      0.87       517\\n           4       0.84      0.76      0.79       135\\n\\n    accuracy                           0.72      1250\\n   macro avg       0.67      0.61      0.62      1250\\nweighted avg       0.70      0.72      0.70      1250\\n'"
      ]
     },
     "execution_count": 65,
     "metadata": {},
     "output_type": "execute_result"
    }
   ],
   "source": [
    "classification_report(Y_test, predictions)"
   ]
  },
  {
   "cell_type": "markdown",
   "metadata": {
    "tags": []
   },
   "source": [
    "## Escrita no Ficheiro"
   ]
  },
  {
   "cell_type": "markdown",
   "metadata": {},
   "source": [
    "Para fazer uma submissão é preciso meter o seguinte código em modo codigo e nao raw. Tambem é preciso ir a secção Separação entre dataframe de teste e de treino e fazer toggle do que é código e o que é raw"
   ]
  },
  {
   "cell_type": "raw",
   "metadata": {},
   "source": [
    "actual_predictions = model.predict(dftest) # Predictions on the test set\n",
    "actual_predictions = pd.DataFrame(actual_predictions, columns=['incidents']) # Convert to dataframe \n",
    "actual_predictions.head(10)"
   ]
  },
  {
   "cell_type": "raw",
   "metadata": {},
   "source": [
    "actual_predictions.reset_index(inplace=True)\n",
    "actual_predictions['index'] = actual_predictions['index'].transform(lambda x: int(x)+1)\n",
    "print(actual_predictions.head(10))\n",
    "actual_predictions.to_csv('submission.csv', sep=',', header=['RowId','Incidents'], index=False, mode='w')"
   ]
  },
  {
   "cell_type": "raw",
   "metadata": {},
   "source": [
    "import csv\n",
    "import os\n",
    "\n",
    "# folder path\n",
    "dir_path = r'./submissions'\n",
    "file_count = 0\n",
    "# Iterate directory\n",
    "for path in os.listdir(dir_path):\n",
    "    # check if current path is a file\n",
    "    if os.path.isfile(os.path.join(dir_path, path)):\n",
    "        file_count += 1\n",
    "\n",
    "with open('submissions/submission' + str(file_count) + '.csv', 'w') as csvfile:\n",
    "    filewriter = csv.writer(csvfile, delimiter=',',\n",
    "                            quotechar='|', quoting=csv.QUOTE_MINIMAL)\n",
    "    filewriter.writerow(['RowId', 'Incidents'])\n",
    "    \n",
    "    i=0\n",
    "    \n",
    "    for incident in actual_predictions:\n",
    "        filewriter.writerow([str(i), incident])\n",
    "        i=i+1"
   ]
  }
 ],
 "metadata": {
  "kernelspec": {
   "display_name": "Python 3 (ipykernel)",
   "language": "python",
   "name": "python3"
  },
  "language_info": {
   "codemirror_mode": {
    "name": "ipython",
    "version": 3
   },
   "file_extension": ".py",
   "mimetype": "text/x-python",
   "name": "python",
   "nbconvert_exporter": "python",
   "pygments_lexer": "ipython3",
   "version": "3.7.13"
  },
  "vscode": {
   "interpreter": {
    "hash": "ad2bdc8ecc057115af97d19610ffacc2b4e99fae6737bb82f5d7fb13d2f2c186"
   }
  }
 },
 "nbformat": 4,
 "nbformat_minor": 4
}
