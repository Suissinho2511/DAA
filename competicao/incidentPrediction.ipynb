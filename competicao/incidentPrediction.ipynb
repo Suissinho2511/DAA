{
 "cells": [
  {
   "cell_type": "markdown",
   "metadata": {},
   "source": [
    "# **Trabalho Prático: Previsão de Incidentes Rodoviários**"
   ]
  },
  {
   "cell_type": "markdown",
   "metadata": {
    "tags": []
   },
   "source": [
    "## Descrição do Problema"
   ]
  },
  {
   "cell_type": "markdown",
   "metadata": {
    "tags": []
   },
   "source": [
    "## Preparação do programa"
   ]
  },
  {
   "cell_type": "markdown",
   "metadata": {
    "tags": []
   },
   "source": [
    "### Bibliotecas e Funções"
   ]
  },
  {
   "cell_type": "code",
   "execution_count": 3,
   "metadata": {},
   "outputs": [],
   "source": [
    "import sklearn as skl\n",
    "import pandas as pd\n",
    "import matplotlib.pyplot as plt\n",
    "import seaborn as sns\n",
    "from sklearn import preprocessing\n",
    "from sklearn.model_selection import train_test_split, cross_val_score\n",
    "\n",
    "#Modelo a usar\n",
    "from sklearn.tree import DecisionTreeClassifier\n",
    "from sklearn.tree import DecisionTreeRegressor\n",
    "\n",
    "#Métricas de qualidade\n",
    "from sklearn.metrics import confusion_matrix\n",
    "from sklearn.metrics import recall_score\n",
    "from sklearn.metrics import accuracy_score\n",
    "from sklearn.metrics import precision_score\n",
    "from sklearn.metrics import roc_auc_score\n",
    "from sklearn.metrics import roc_curve\n",
    "from sklearn.metrics import f1_score\n",
    "from sklearn.metrics import fbeta_score\n",
    "from sklearn.metrics import mean_absolute_error\n",
    "from sklearn.metrics import mean_squared_error"
   ]
  },
  {
   "cell_type": "markdown",
   "metadata": {
    "tags": []
   },
   "source": [
    "### Leitura dos datasets"
   ]
  },
  {
   "cell_type": "code",
   "execution_count": 4,
   "metadata": {},
   "outputs": [],
   "source": [
    "dftrain = pd.read_csv('training_data.csv')\n",
    "dftest = pd.read_csv('test_data.csv')"
   ]
  },
  {
   "cell_type": "markdown",
   "metadata": {
    "jp-MarkdownHeadingCollapsed": true,
    "tags": []
   },
   "source": [
    "## Exploração dos dados"
   ]
  },
  {
   "cell_type": "markdown",
   "metadata": {},
   "source": [
    "Para esta etapa do trabalho, também se utilizou as informações obtidas no website \"kaggle\", tais como:\n",
    "* Tipos dos atributos\n",
    "* Conteúdo dos atributos\n",
    "* Missing values"
   ]
  },
  {
   "cell_type": "markdown",
   "metadata": {
    "tags": []
   },
   "source": [
    "### Visualização dos dados"
   ]
  },
  {
   "cell_type": "code",
   "execution_count": 5,
   "metadata": {},
   "outputs": [
    {
     "data": {
      "text/plain": [
       "(5000, 13)"
      ]
     },
     "execution_count": 5,
     "metadata": {},
     "output_type": "execute_result"
    }
   ],
   "source": [
    "dftrain.shape"
   ]
  },
  {
   "cell_type": "code",
   "execution_count": 6,
   "metadata": {},
   "outputs": [
    {
     "data": {
      "text/html": [
       "<div>\n",
       "<style scoped>\n",
       "    .dataframe tbody tr th:only-of-type {\n",
       "        vertical-align: middle;\n",
       "    }\n",
       "\n",
       "    .dataframe tbody tr th {\n",
       "        vertical-align: top;\n",
       "    }\n",
       "\n",
       "    .dataframe thead th {\n",
       "        text-align: right;\n",
       "    }\n",
       "</style>\n",
       "<table border=\"1\" class=\"dataframe\">\n",
       "  <thead>\n",
       "    <tr style=\"text-align: right;\">\n",
       "      <th></th>\n",
       "      <th>city_name</th>\n",
       "      <th>magnitude_of_delay</th>\n",
       "      <th>delay_in_seconds</th>\n",
       "      <th>affected_roads</th>\n",
       "      <th>record_date</th>\n",
       "      <th>luminosity</th>\n",
       "      <th>avg_temperature</th>\n",
       "      <th>avg_atm_pressure</th>\n",
       "      <th>avg_humidity</th>\n",
       "      <th>avg_wind_speed</th>\n",
       "      <th>avg_precipitation</th>\n",
       "      <th>avg_rain</th>\n",
       "      <th>incidents</th>\n",
       "    </tr>\n",
       "  </thead>\n",
       "  <tbody>\n",
       "    <tr>\n",
       "      <th>0</th>\n",
       "      <td>Guimaraes</td>\n",
       "      <td>UNDEFINED</td>\n",
       "      <td>0</td>\n",
       "      <td>,</td>\n",
       "      <td>2021-03-15 23:00</td>\n",
       "      <td>DARK</td>\n",
       "      <td>12.0</td>\n",
       "      <td>1013.0</td>\n",
       "      <td>70.0</td>\n",
       "      <td>1.0</td>\n",
       "      <td>0.0</td>\n",
       "      <td>Sem Chuva</td>\n",
       "      <td>None</td>\n",
       "    </tr>\n",
       "    <tr>\n",
       "      <th>1</th>\n",
       "      <td>Guimaraes</td>\n",
       "      <td>UNDEFINED</td>\n",
       "      <td>385</td>\n",
       "      <td>N101,</td>\n",
       "      <td>2021-12-25 18:00</td>\n",
       "      <td>DARK</td>\n",
       "      <td>12.0</td>\n",
       "      <td>1007.0</td>\n",
       "      <td>91.0</td>\n",
       "      <td>1.0</td>\n",
       "      <td>0.0</td>\n",
       "      <td>Sem Chuva</td>\n",
       "      <td>None</td>\n",
       "    </tr>\n",
       "    <tr>\n",
       "      <th>2</th>\n",
       "      <td>Guimaraes</td>\n",
       "      <td>UNDEFINED</td>\n",
       "      <td>69</td>\n",
       "      <td>,</td>\n",
       "      <td>2021-03-12 15:00</td>\n",
       "      <td>LIGHT</td>\n",
       "      <td>14.0</td>\n",
       "      <td>1025.0</td>\n",
       "      <td>64.0</td>\n",
       "      <td>0.0</td>\n",
       "      <td>0.0</td>\n",
       "      <td>Sem Chuva</td>\n",
       "      <td>Low</td>\n",
       "    </tr>\n",
       "    <tr>\n",
       "      <th>3</th>\n",
       "      <td>Guimaraes</td>\n",
       "      <td>MAJOR</td>\n",
       "      <td>2297</td>\n",
       "      <td>N101,R206,N105,N101,N101,N101,N101,N101,N101,N...</td>\n",
       "      <td>2021-09-29 09:00</td>\n",
       "      <td>LIGHT</td>\n",
       "      <td>15.0</td>\n",
       "      <td>1028.0</td>\n",
       "      <td>75.0</td>\n",
       "      <td>1.0</td>\n",
       "      <td>0.0</td>\n",
       "      <td>Sem Chuva</td>\n",
       "      <td>Very_High</td>\n",
       "    </tr>\n",
       "    <tr>\n",
       "      <th>4</th>\n",
       "      <td>Guimaraes</td>\n",
       "      <td>UNDEFINED</td>\n",
       "      <td>0</td>\n",
       "      <td>N101,N101,N101,N101,N101,</td>\n",
       "      <td>2021-06-13 11:00</td>\n",
       "      <td>LIGHT</td>\n",
       "      <td>27.0</td>\n",
       "      <td>1020.0</td>\n",
       "      <td>52.0</td>\n",
       "      <td>1.0</td>\n",
       "      <td>0.0</td>\n",
       "      <td>Sem Chuva</td>\n",
       "      <td>High</td>\n",
       "    </tr>\n",
       "  </tbody>\n",
       "</table>\n",
       "</div>"
      ],
      "text/plain": [
       "   city_name magnitude_of_delay  delay_in_seconds  \\\n",
       "0  Guimaraes          UNDEFINED                 0   \n",
       "1  Guimaraes          UNDEFINED               385   \n",
       "2  Guimaraes          UNDEFINED                69   \n",
       "3  Guimaraes              MAJOR              2297   \n",
       "4  Guimaraes          UNDEFINED                 0   \n",
       "\n",
       "                                      affected_roads       record_date  \\\n",
       "0                                                  ,  2021-03-15 23:00   \n",
       "1                                              N101,  2021-12-25 18:00   \n",
       "2                                                  ,  2021-03-12 15:00   \n",
       "3  N101,R206,N105,N101,N101,N101,N101,N101,N101,N...  2021-09-29 09:00   \n",
       "4                          N101,N101,N101,N101,N101,  2021-06-13 11:00   \n",
       "\n",
       "  luminosity  avg_temperature  avg_atm_pressure  avg_humidity  avg_wind_speed  \\\n",
       "0       DARK             12.0            1013.0          70.0             1.0   \n",
       "1       DARK             12.0            1007.0          91.0             1.0   \n",
       "2      LIGHT             14.0            1025.0          64.0             0.0   \n",
       "3      LIGHT             15.0            1028.0          75.0             1.0   \n",
       "4      LIGHT             27.0            1020.0          52.0             1.0   \n",
       "\n",
       "   avg_precipitation   avg_rain  incidents  \n",
       "0                0.0  Sem Chuva       None  \n",
       "1                0.0  Sem Chuva       None  \n",
       "2                0.0  Sem Chuva        Low  \n",
       "3                0.0  Sem Chuva  Very_High  \n",
       "4                0.0  Sem Chuva       High  "
      ]
     },
     "execution_count": 6,
     "metadata": {},
     "output_type": "execute_result"
    }
   ],
   "source": [
    "dftrain.head()"
   ]
  },
  {
   "cell_type": "code",
   "execution_count": 7,
   "metadata": {},
   "outputs": [
    {
     "data": {
      "text/html": [
       "<div>\n",
       "<style scoped>\n",
       "    .dataframe tbody tr th:only-of-type {\n",
       "        vertical-align: middle;\n",
       "    }\n",
       "\n",
       "    .dataframe tbody tr th {\n",
       "        vertical-align: top;\n",
       "    }\n",
       "\n",
       "    .dataframe thead th {\n",
       "        text-align: right;\n",
       "    }\n",
       "</style>\n",
       "<table border=\"1\" class=\"dataframe\">\n",
       "  <thead>\n",
       "    <tr style=\"text-align: right;\">\n",
       "      <th></th>\n",
       "      <th>city_name</th>\n",
       "      <th>magnitude_of_delay</th>\n",
       "      <th>delay_in_seconds</th>\n",
       "      <th>affected_roads</th>\n",
       "      <th>record_date</th>\n",
       "      <th>luminosity</th>\n",
       "      <th>avg_temperature</th>\n",
       "      <th>avg_atm_pressure</th>\n",
       "      <th>avg_humidity</th>\n",
       "      <th>avg_wind_speed</th>\n",
       "      <th>avg_precipitation</th>\n",
       "      <th>avg_rain</th>\n",
       "      <th>incidents</th>\n",
       "    </tr>\n",
       "  </thead>\n",
       "  <tbody>\n",
       "    <tr>\n",
       "      <th>4995</th>\n",
       "      <td>Guimaraes</td>\n",
       "      <td>UNDEFINED</td>\n",
       "      <td>0</td>\n",
       "      <td>N101,N101,N101,N101,N101,</td>\n",
       "      <td>2021-04-13 00:00</td>\n",
       "      <td>DARK</td>\n",
       "      <td>13.0</td>\n",
       "      <td>1021.0</td>\n",
       "      <td>56.0</td>\n",
       "      <td>0.0</td>\n",
       "      <td>0.0</td>\n",
       "      <td>Sem Chuva</td>\n",
       "      <td>High</td>\n",
       "    </tr>\n",
       "    <tr>\n",
       "      <th>4996</th>\n",
       "      <td>Guimaraes</td>\n",
       "      <td>UNDEFINED</td>\n",
       "      <td>0</td>\n",
       "      <td>N101,N101,N101,N101,N101</td>\n",
       "      <td>2021-07-06 14:00</td>\n",
       "      <td>LIGHT</td>\n",
       "      <td>19.0</td>\n",
       "      <td>1017.0</td>\n",
       "      <td>68.0</td>\n",
       "      <td>0.0</td>\n",
       "      <td>0.0</td>\n",
       "      <td>Sem Chuva</td>\n",
       "      <td>None</td>\n",
       "    </tr>\n",
       "    <tr>\n",
       "      <th>4997</th>\n",
       "      <td>Guimaraes</td>\n",
       "      <td>UNDEFINED</td>\n",
       "      <td>0</td>\n",
       "      <td>,</td>\n",
       "      <td>2021-03-18 03:00</td>\n",
       "      <td>DARK</td>\n",
       "      <td>13.0</td>\n",
       "      <td>1023.0</td>\n",
       "      <td>47.0</td>\n",
       "      <td>2.0</td>\n",
       "      <td>0.0</td>\n",
       "      <td>Sem Chuva</td>\n",
       "      <td>None</td>\n",
       "    </tr>\n",
       "    <tr>\n",
       "      <th>4998</th>\n",
       "      <td>Guimaraes</td>\n",
       "      <td>UNDEFINED</td>\n",
       "      <td>0</td>\n",
       "      <td>N101,N101,N101,N101,N101</td>\n",
       "      <td>2021-11-02 06:00</td>\n",
       "      <td>DARK</td>\n",
       "      <td>12.0</td>\n",
       "      <td>1014.0</td>\n",
       "      <td>93.0</td>\n",
       "      <td>2.0</td>\n",
       "      <td>0.0</td>\n",
       "      <td>Sem Chuva</td>\n",
       "      <td>None</td>\n",
       "    </tr>\n",
       "    <tr>\n",
       "      <th>4999</th>\n",
       "      <td>Guimaraes</td>\n",
       "      <td>UNDEFINED</td>\n",
       "      <td>0</td>\n",
       "      <td>N101,N101,N101,N101,N101</td>\n",
       "      <td>2021-12-20 02:00</td>\n",
       "      <td>DARK</td>\n",
       "      <td>12.0</td>\n",
       "      <td>1018.0</td>\n",
       "      <td>77.0</td>\n",
       "      <td>3.0</td>\n",
       "      <td>0.0</td>\n",
       "      <td>Sem Chuva</td>\n",
       "      <td>None</td>\n",
       "    </tr>\n",
       "  </tbody>\n",
       "</table>\n",
       "</div>"
      ],
      "text/plain": [
       "      city_name magnitude_of_delay  delay_in_seconds  \\\n",
       "4995  Guimaraes          UNDEFINED                 0   \n",
       "4996  Guimaraes          UNDEFINED                 0   \n",
       "4997  Guimaraes          UNDEFINED                 0   \n",
       "4998  Guimaraes          UNDEFINED                 0   \n",
       "4999  Guimaraes          UNDEFINED                 0   \n",
       "\n",
       "                 affected_roads       record_date luminosity  avg_temperature  \\\n",
       "4995  N101,N101,N101,N101,N101,  2021-04-13 00:00       DARK             13.0   \n",
       "4996   N101,N101,N101,N101,N101  2021-07-06 14:00      LIGHT             19.0   \n",
       "4997                          ,  2021-03-18 03:00       DARK             13.0   \n",
       "4998   N101,N101,N101,N101,N101  2021-11-02 06:00       DARK             12.0   \n",
       "4999   N101,N101,N101,N101,N101  2021-12-20 02:00       DARK             12.0   \n",
       "\n",
       "      avg_atm_pressure  avg_humidity  avg_wind_speed  avg_precipitation  \\\n",
       "4995            1021.0          56.0             0.0                0.0   \n",
       "4996            1017.0          68.0             0.0                0.0   \n",
       "4997            1023.0          47.0             2.0                0.0   \n",
       "4998            1014.0          93.0             2.0                0.0   \n",
       "4999            1018.0          77.0             3.0                0.0   \n",
       "\n",
       "       avg_rain incidents  \n",
       "4995  Sem Chuva      High  \n",
       "4996  Sem Chuva      None  \n",
       "4997  Sem Chuva      None  \n",
       "4998  Sem Chuva      None  \n",
       "4999  Sem Chuva      None  "
      ]
     },
     "execution_count": 7,
     "metadata": {},
     "output_type": "execute_result"
    }
   ],
   "source": [
    "dftrain.tail()"
   ]
  },
  {
   "cell_type": "markdown",
   "metadata": {
    "tags": []
   },
   "source": [
    "### Informações sobre os diferentes atributos"
   ]
  },
  {
   "cell_type": "code",
   "execution_count": 8,
   "metadata": {},
   "outputs": [
    {
     "name": "stdout",
     "output_type": "stream",
     "text": [
      "<class 'pandas.core.frame.DataFrame'>\n",
      "RangeIndex: 5000 entries, 0 to 4999\n",
      "Data columns (total 13 columns):\n",
      " #   Column              Non-Null Count  Dtype  \n",
      "---  ------              --------------  -----  \n",
      " 0   city_name           5000 non-null   object \n",
      " 1   magnitude_of_delay  5000 non-null   object \n",
      " 2   delay_in_seconds    5000 non-null   int64  \n",
      " 3   affected_roads      4915 non-null   object \n",
      " 4   record_date         5000 non-null   object \n",
      " 5   luminosity          5000 non-null   object \n",
      " 6   avg_temperature     5000 non-null   float64\n",
      " 7   avg_atm_pressure    5000 non-null   float64\n",
      " 8   avg_humidity        5000 non-null   float64\n",
      " 9   avg_wind_speed      5000 non-null   float64\n",
      " 10  avg_precipitation   5000 non-null   float64\n",
      " 11  avg_rain            5000 non-null   object \n",
      " 12  incidents           5000 non-null   object \n",
      "dtypes: float64(5), int64(1), object(7)\n",
      "memory usage: 507.9+ KB\n"
     ]
    }
   ],
   "source": [
    "dftrain.info()"
   ]
  },
  {
   "cell_type": "code",
   "execution_count": 9,
   "metadata": {},
   "outputs": [
    {
     "data": {
      "text/html": [
       "<div>\n",
       "<style scoped>\n",
       "    .dataframe tbody tr th:only-of-type {\n",
       "        vertical-align: middle;\n",
       "    }\n",
       "\n",
       "    .dataframe tbody tr th {\n",
       "        vertical-align: top;\n",
       "    }\n",
       "\n",
       "    .dataframe thead th {\n",
       "        text-align: right;\n",
       "    }\n",
       "</style>\n",
       "<table border=\"1\" class=\"dataframe\">\n",
       "  <thead>\n",
       "    <tr style=\"text-align: right;\">\n",
       "      <th></th>\n",
       "      <th>delay_in_seconds</th>\n",
       "      <th>avg_temperature</th>\n",
       "      <th>avg_atm_pressure</th>\n",
       "      <th>avg_humidity</th>\n",
       "      <th>avg_wind_speed</th>\n",
       "      <th>avg_precipitation</th>\n",
       "    </tr>\n",
       "  </thead>\n",
       "  <tbody>\n",
       "    <tr>\n",
       "      <th>count</th>\n",
       "      <td>5000.000000</td>\n",
       "      <td>5000.000000</td>\n",
       "      <td>5000.000000</td>\n",
       "      <td>5000.000000</td>\n",
       "      <td>5000.000000</td>\n",
       "      <td>5000.0</td>\n",
       "    </tr>\n",
       "    <tr>\n",
       "      <th>mean</th>\n",
       "      <td>560.567000</td>\n",
       "      <td>14.583000</td>\n",
       "      <td>1018.145000</td>\n",
       "      <td>74.455000</td>\n",
       "      <td>1.253500</td>\n",
       "      <td>0.0</td>\n",
       "    </tr>\n",
       "    <tr>\n",
       "      <th>std</th>\n",
       "      <td>1686.859581</td>\n",
       "      <td>4.820514</td>\n",
       "      <td>5.174372</td>\n",
       "      <td>17.204638</td>\n",
       "      <td>1.269847</td>\n",
       "      <td>0.0</td>\n",
       "    </tr>\n",
       "    <tr>\n",
       "      <th>min</th>\n",
       "      <td>0.000000</td>\n",
       "      <td>1.000000</td>\n",
       "      <td>997.000000</td>\n",
       "      <td>6.000000</td>\n",
       "      <td>0.000000</td>\n",
       "      <td>0.0</td>\n",
       "    </tr>\n",
       "    <tr>\n",
       "      <th>25%</th>\n",
       "      <td>0.000000</td>\n",
       "      <td>11.000000</td>\n",
       "      <td>1015.000000</td>\n",
       "      <td>63.000000</td>\n",
       "      <td>0.000000</td>\n",
       "      <td>0.0</td>\n",
       "    </tr>\n",
       "    <tr>\n",
       "      <th>50%</th>\n",
       "      <td>0.000000</td>\n",
       "      <td>14.000000</td>\n",
       "      <td>1019.000000</td>\n",
       "      <td>78.000000</td>\n",
       "      <td>1.000000</td>\n",
       "      <td>0.0</td>\n",
       "    </tr>\n",
       "    <tr>\n",
       "      <th>75%</th>\n",
       "      <td>234.000000</td>\n",
       "      <td>18.000000</td>\n",
       "      <td>1022.000000</td>\n",
       "      <td>90.000000</td>\n",
       "      <td>2.000000</td>\n",
       "      <td>0.0</td>\n",
       "    </tr>\n",
       "    <tr>\n",
       "      <th>max</th>\n",
       "      <td>31083.000000</td>\n",
       "      <td>35.000000</td>\n",
       "      <td>1032.000000</td>\n",
       "      <td>100.000000</td>\n",
       "      <td>10.000000</td>\n",
       "      <td>0.0</td>\n",
       "    </tr>\n",
       "  </tbody>\n",
       "</table>\n",
       "</div>"
      ],
      "text/plain": [
       "       delay_in_seconds  avg_temperature  avg_atm_pressure  avg_humidity  \\\n",
       "count       5000.000000      5000.000000       5000.000000   5000.000000   \n",
       "mean         560.567000        14.583000       1018.145000     74.455000   \n",
       "std         1686.859581         4.820514          5.174372     17.204638   \n",
       "min            0.000000         1.000000        997.000000      6.000000   \n",
       "25%            0.000000        11.000000       1015.000000     63.000000   \n",
       "50%            0.000000        14.000000       1019.000000     78.000000   \n",
       "75%          234.000000        18.000000       1022.000000     90.000000   \n",
       "max        31083.000000        35.000000       1032.000000    100.000000   \n",
       "\n",
       "       avg_wind_speed  avg_precipitation  \n",
       "count     5000.000000             5000.0  \n",
       "mean         1.253500                0.0  \n",
       "std          1.269847                0.0  \n",
       "min          0.000000                0.0  \n",
       "25%          0.000000                0.0  \n",
       "50%          1.000000                0.0  \n",
       "75%          2.000000                0.0  \n",
       "max         10.000000                0.0  "
      ]
     },
     "execution_count": 9,
     "metadata": {},
     "output_type": "execute_result"
    }
   ],
   "source": [
    "dftrain.describe()"
   ]
  },
  {
   "cell_type": "markdown",
   "metadata": {
    "jp-MarkdownHeadingCollapsed": true,
    "tags": []
   },
   "source": [
    "### Missing Values"
   ]
  },
  {
   "cell_type": "code",
   "execution_count": 10,
   "metadata": {},
   "outputs": [
    {
     "data": {
      "text/plain": [
       "city_name             False\n",
       "magnitude_of_delay    False\n",
       "delay_in_seconds      False\n",
       "affected_roads         True\n",
       "record_date           False\n",
       "luminosity            False\n",
       "avg_temperature       False\n",
       "avg_atm_pressure      False\n",
       "avg_humidity          False\n",
       "avg_wind_speed        False\n",
       "avg_precipitation     False\n",
       "avg_rain              False\n",
       "incidents             False\n",
       "dtype: bool"
      ]
     },
     "execution_count": 10,
     "metadata": {},
     "output_type": "execute_result"
    }
   ],
   "source": [
    "dftrain.isna().any()"
   ]
  },
  {
   "cell_type": "code",
   "execution_count": 11,
   "metadata": {},
   "outputs": [
    {
     "data": {
      "text/plain": [
       "city_name              0\n",
       "magnitude_of_delay     0\n",
       "delay_in_seconds       0\n",
       "affected_roads        85\n",
       "record_date            0\n",
       "luminosity             0\n",
       "avg_temperature        0\n",
       "avg_atm_pressure       0\n",
       "avg_humidity           0\n",
       "avg_wind_speed         0\n",
       "avg_precipitation      0\n",
       "avg_rain               0\n",
       "incidents              0\n",
       "dtype: int64"
      ]
     },
     "execution_count": 11,
     "metadata": {},
     "output_type": "execute_result"
    }
   ],
   "source": [
    "dftrain.isna().sum()"
   ]
  },
  {
   "cell_type": "markdown",
   "metadata": {
    "tags": []
   },
   "source": [
    "### Matriz de Correlação"
   ]
  },
  {
   "cell_type": "code",
   "execution_count": 12,
   "metadata": {},
   "outputs": [
    {
     "data": {
      "text/plain": [
       "<AxesSubplot:>"
      ]
     },
     "execution_count": 12,
     "metadata": {},
     "output_type": "execute_result"
    },
    {
     "data": {
      "image/png": "[encoded data removed]",
      "text/plain": [
       "<Figure size 2000x2000 with 2 Axes>"
      ]
     },
     "metadata": {},
     "output_type": "display_data"
    }
   ],
   "source": [
    "corr_matrix = dftrain.corr()\n",
    "f, ax = plt.subplots(figsize=(20,20))\n",
    "sns.heatmap(corr_matrix, vmin=-1, vmax=1, square=True, annot=True)"
   ]
  },
  {
   "cell_type": "markdown",
   "metadata": {
    "tags": []
   },
   "source": [
    "### Pairplot"
   ]
  },
  {
   "cell_type": "raw",
   "metadata": {},
   "source": [
    "sns.pairplot(dftrain)"
   ]
  },
  {
   "cell_type": "markdown",
   "metadata": {
    "jp-MarkdownHeadingCollapsed": true,
    "tags": []
   },
   "source": [
    "### Histogramas"
   ]
  },
  {
   "cell_type": "raw",
   "metadata": {},
   "source": [
    "fig,axs = plt.subplots(11,1,figsize=(10,100))\n",
    "fig.suptitle('Histograms')\n",
    "\n",
    "for i in range(13):\n",
    "    axs[i].hist(dftrain.iloc[:,i])\n",
    "    axs[i].set_title(dftrain.columns[i])"
   ]
  },
  {
   "cell_type": "markdown",
   "metadata": {
    "tags": []
   },
   "source": [
    "## Preparação dos dados"
   ]
  },
  {
   "cell_type": "markdown",
   "metadata": {
    "tags": []
   },
   "source": [
    "### Apagar atributos"
   ]
  },
  {
   "cell_type": "code",
   "execution_count": 13,
   "metadata": {},
   "outputs": [],
   "source": [
    "# Era sempre Guimarães em todos os registos, logo não tem impacto nenhum\n",
    "dftrain = dftrain.drop([\"city_name\"], axis=1)\n",
    "dftest = dftest.drop([\"city_name\"], axis=1)\n",
    "\n",
    "# Era sempre 0 em todos os registos, logo não tem impacto nenhum\n",
    "dftrain = dftrain.drop([\"avg_precipitation\"], axis=1)\n",
    "dftest = dftest.drop([\"avg_precipitation\"], axis=1)\n",
    "\n",
    "# Era sempre 0 em todos os registos, logo não tem impacto nenhum\n",
    "#dftrain = dftrain.drop([\"delay_in_seconds\"], axis=1)\n",
    "#dftest = dftest.drop([\"delay_in_seconds\"], axis=1)"
   ]
  },
  {
   "cell_type": "markdown",
   "metadata": {
    "tags": []
   },
   "source": [
    "### Alteração do tipo dos atributos"
   ]
  },
  {
   "cell_type": "markdown",
   "metadata": {
    "jp-MarkdownHeadingCollapsed": true,
    "tags": []
   },
   "source": [
    "#### Label Encoding"
   ]
  },
  {
   "cell_type": "code",
   "execution_count": 14,
   "metadata": {},
   "outputs": [],
   "source": [
    "label_encoder = preprocessing.LabelEncoder()\n",
    "\n",
    "#Train\n",
    "dftrain['magnitude_of_delay']= label_encoder.fit_transform(dftrain['magnitude_of_delay'])\n",
    "dftrain['luminosity']= label_encoder.fit_transform(dftrain['luminosity'])\n",
    "dftrain['avg_rain']= label_encoder.fit_transform(dftrain['avg_rain'])\n",
    "\n",
    "#Test\n",
    "dftest['magnitude_of_delay']= label_encoder.fit_transform(dftest['magnitude_of_delay'])\n",
    "dftest['luminosity']= label_encoder.fit_transform(dftest['luminosity'])\n",
    "dftest['avg_rain']= label_encoder.fit_transform(dftest['avg_rain'])"
   ]
  },
  {
   "cell_type": "markdown",
   "metadata": {
    "tags": []
   },
   "source": [
    "#### Atributo affected_roads"
   ]
  },
  {
   "cell_type": "markdown",
   "metadata": {
    "tags": []
   },
   "source": [
    "##### Quantidade de vezes que estradas aparecem"
   ]
  },
  {
   "cell_type": "code",
   "execution_count": 15,
   "metadata": {},
   "outputs": [],
   "source": [
    "dftrain['affected_roads']  = dftrain['affected_roads'].apply(lambda x: 0 if pd.isnull(x) else len(list(filter(None, x.split(',')))))\n",
    "dftest['affected_roads']   = dftest['affected_roads'].apply(lambda x: 0 if pd.isnull(x) else len(list(filter(None, x.split(',')))))"
   ]
  },
  {
   "cell_type": "markdown",
   "metadata": {
    "tags": []
   },
   "source": [
    "##### Quantidade de vezes que cada tipo de estrada aparece"
   ]
  },
  {
   "cell_type": "raw",
   "metadata": {},
   "source": [
    "# Passar de string para lista\n",
    "dftrain['affected_roads']  = dftrain['affected_roads'].apply(lambda x: [] if pd.isnull(x) else list(filter(None, x.split(','))))\n",
    "dftest['affected_roads']   = dftest['affected_roads'].apply(lambda x: [] if pd.isnull(x) else list(filter(None, x.split(','))))\n",
    "\n",
    "# Saber que estradas existem\n",
    "new_atr = []\n",
    "for i in dftrain['affected_roads']:\n",
    "    for j in i:\n",
    "        if j not in new_atr:\n",
    "            new_atr.append(j)\n",
    "\n",
    "# Criação de um atributo por estrada e colocar nele a quantidade de repetições que existe\n",
    "# TRAIN\n",
    "for atr in new_atr:\n",
    "    dftrain[atr]=0\n",
    "\n",
    "i=0\n",
    "for roads in dftrain['affected_roads']:\n",
    "    dict_aux = {atri:roads.count(atri) for atri in roads}\n",
    "    for key in dict_aux.keys():\n",
    "        dftrain.at[i,key] = dict_aux[key]\n",
    "    i=i+1\n",
    "\n",
    "# TEST\n",
    "for atr in new_atr:\n",
    "    dftest[atr]=0\n",
    "\n",
    "i=0\n",
    "for roads in dftest['affected_roads']:\n",
    "    dict_aux = {atri:roads.count(atri) for atri in roads}\n",
    "    for key in dict_aux.keys():\n",
    "        dftest.at[i,key] = dict_aux[key]\n",
    "    i=i+1\n",
    "\n",
    "# Drop do atributo das estradas, já que não é mais necessário\n",
    "dftrain = dftrain.drop([\"affected_roads\"], axis=1)\n",
    "dftest = dftest.drop([\"affected_roads\"], axis=1)"
   ]
  },
  {
   "cell_type": "markdown",
   "metadata": {
    "tags": []
   },
   "source": [
    "#### String to Date"
   ]
  },
  {
   "cell_type": "code",
   "execution_count": 16,
   "metadata": {},
   "outputs": [],
   "source": [
    "# TRAIN\n",
    "dftrain['record_date'] = pd.to_datetime(dftrain['record_date'], format='%Y-%m-%d %H:%M')\n",
    "\n",
    "# Este dataset é apenas num ano, logo será igual para todos os registos\n",
    "dftrain['record_month'] = dftrain['record_date'].dt.month\n",
    "dftrain['record_day'] = dftrain['record_date'].dt.day\n",
    "dftrain['record_hour'] = dftrain['record_date'].dt.hour\n",
    "\n",
    "# Já não precisamos do record_date para nada\n",
    "dftrain = dftrain.drop([\"record_date\"], axis=1)\n",
    "\n",
    "# TEST\n",
    "dftest['record_date'] = pd.to_datetime(dftest['record_date'], format='%Y-%m-%d %H:%M')\n",
    "\n",
    "# Este dataset é apenas num ano, logo será igual para todos os registos\n",
    "dftest['record_month'] = dftest['record_date'].dt.month\n",
    "dftest['record_day'] = dftest['record_date'].dt.day\n",
    "dftest['record_hour'] = dftest['record_date'].dt.hour\n",
    "\n",
    "# Já não precisamos do record_date para nada\n",
    "dftest = dftest.drop([\"record_date\"], axis=1)"
   ]
  },
  {
   "cell_type": "markdown",
   "metadata": {
    "tags": []
   },
   "source": [
    "#### Tipo do atributo dependente"
   ]
  },
  {
   "cell_type": "code",
   "execution_count": 17,
   "metadata": {},
   "outputs": [],
   "source": [
    "dftrain['incidents'] = pd.Categorical(dftrain['incidents'])"
   ]
  },
  {
   "cell_type": "markdown",
   "metadata": {
    "tags": []
   },
   "source": [
    "## Modelos"
   ]
  },
  {
   "cell_type": "markdown",
   "metadata": {
    "tags": []
   },
   "source": [
    "### Preparação prévia"
   ]
  },
  {
   "cell_type": "markdown",
   "metadata": {},
   "source": [
    "#### Separação da variável dependente"
   ]
  },
  {
   "cell_type": "code",
   "execution_count": 18,
   "metadata": {},
   "outputs": [],
   "source": [
    "X_train = dftrain.drop(['incidents'], axis=1)\n",
    "Y_train = dftrain['incidents'].to_frame()"
   ]
  },
  {
   "cell_type": "markdown",
   "metadata": {
    "tags": []
   },
   "source": [
    "#### Separação entre dataframe de teste e de treino"
   ]
  },
  {
   "cell_type": "code",
   "execution_count": 19,
   "metadata": {},
   "outputs": [],
   "source": [
    "X_train, X_test, Y_train, Y_test = train_test_split(X_train, Y_train, test_size=0.25, random_state=42)"
   ]
  },
  {
   "cell_type": "markdown",
   "metadata": {},
   "source": [
    "### Treino dos modelos"
   ]
  },
  {
   "cell_type": "markdown",
   "metadata": {},
   "source": [
    "#### Decision Tree"
   ]
  },
  {
   "cell_type": "code",
   "execution_count": 20,
   "metadata": {},
   "outputs": [
    {
     "data": {
      "text/plain": [
       "DecisionTreeClassifier(random_state=123)"
      ]
     },
     "execution_count": 20,
     "metadata": {},
     "output_type": "execute_result"
    }
   ],
   "source": [
    "clf = DecisionTreeClassifier(random_state=123)\n",
    "clf.fit(X_train, Y_train)"
   ]
  },
  {
   "cell_type": "markdown",
   "metadata": {
    "tags": []
   },
   "source": [
    "### Previsões"
   ]
  },
  {
   "cell_type": "code",
   "execution_count": 21,
   "metadata": {},
   "outputs": [],
   "source": [
    "predictions = clf.predict(X_test)"
   ]
  },
  {
   "cell_type": "markdown",
   "metadata": {
    "jp-MarkdownHeadingCollapsed": true,
    "tags": []
   },
   "source": [
    "## Métricas de Qualidade"
   ]
  },
  {
   "cell_type": "markdown",
   "metadata": {
    "tags": []
   },
   "source": [
    "#### Accuracy"
   ]
  },
  {
   "cell_type": "code",
   "execution_count": 22,
   "metadata": {},
   "outputs": [
    {
     "name": "stdout",
     "output_type": "stream",
     "text": [
      " Accuracy: 0.9136\n"
     ]
    }
   ],
   "source": [
    "print(\" Accuracy: \" + str( accuracy_score(Y_test, predictions)))"
   ]
  },
  {
   "cell_type": "markdown",
   "metadata": {
    "jp-MarkdownHeadingCollapsed": true,
    "tags": []
   },
   "source": [
    "#### Médias de métricas por peso"
   ]
  },
  {
   "cell_type": "markdown",
   "metadata": {},
   "source": [
    "* __micro__: Calculate metrics globally by counting the total true positives, false negatives and false positives. \n",
    "* __macro__: Calculate metrics for each label, and find their unweighted mean. This does not take label imbalance into account.\n",
    "* __weighted__: Calculate metrics for each label, and find their average weighted by support (the number of true instances for each label). This alters ‘macro’ to account for label imbalance; it can result in an F-score that is not between precision and recall."
   ]
  },
  {
   "cell_type": "code",
   "execution_count": 23,
   "metadata": {},
   "outputs": [
    {
     "name": "stdout",
     "output_type": "stream",
     "text": [
      "Precision: 0.9143398239264848\n",
      "   Recall: 0.9136\n",
      " F1-Score: 0.9137721036793686\n"
     ]
    }
   ],
   "source": [
    "print(\"Precision: \" + str(precision_score(Y_test, predictions, average= 'weighted')))\n",
    "print(\"   Recall: \" + str(recall_score(Y_test, predictions, average= 'weighted')))\n",
    "print(\" F1-Score: \" + str(f1_score(Y_test, predictions, average= 'weighted')))"
   ]
  },
  {
   "cell_type": "markdown",
   "metadata": {
    "jp-MarkdownHeadingCollapsed": true,
    "tags": []
   },
   "source": [
    "#### Métricas por Label"
   ]
  },
  {
   "cell_type": "code",
   "execution_count": 24,
   "metadata": {},
   "outputs": [
    {
     "ename": "ModuleNotFoundError",
     "evalue": "No module named 'tabulate'",
     "output_type": "error",
     "traceback": [
      "\u001b[1;31m---------------------------------------------------------------------------\u001b[0m",
      "\u001b[1;31mModuleNotFoundError\u001b[0m                       Traceback (most recent call last)",
      "\u001b[1;32m~\\AppData\\Local\\Temp\\ipykernel_11452\\1675713236.py\u001b[0m in \u001b[0;36m<module>\u001b[1;34m\u001b[0m\n\u001b[1;32m----> 1\u001b[1;33m \u001b[1;32mfrom\u001b[0m \u001b[0mtabulate\u001b[0m \u001b[1;32mimport\u001b[0m \u001b[0mtabulate\u001b[0m\u001b[1;33m\u001b[0m\u001b[1;33m\u001b[0m\u001b[0m\n\u001b[0m\u001b[0;32m      2\u001b[0m \u001b[1;33m\u001b[0m\u001b[0m\n\u001b[0;32m      3\u001b[0m \u001b[1;31m# assign data\u001b[0m\u001b[1;33m\u001b[0m\u001b[1;33m\u001b[0m\u001b[1;33m\u001b[0m\u001b[0m\n\u001b[0;32m      4\u001b[0m mydata = [\n\u001b[0;32m      5\u001b[0m     \u001b[1;33m[\u001b[0m\u001b[1;34m\"Precision\"\u001b[0m\u001b[1;33m]\u001b[0m \u001b[1;33m+\u001b[0m \u001b[0mlist\u001b[0m\u001b[1;33m(\u001b[0m\u001b[0mprecision_score\u001b[0m\u001b[1;33m(\u001b[0m\u001b[0mY_test\u001b[0m\u001b[1;33m,\u001b[0m \u001b[0mpredictions\u001b[0m\u001b[1;33m,\u001b[0m \u001b[0maverage\u001b[0m\u001b[1;33m=\u001b[0m \u001b[1;32mNone\u001b[0m\u001b[1;33m)\u001b[0m\u001b[1;33m)\u001b[0m\u001b[1;33m,\u001b[0m\u001b[1;33m\u001b[0m\u001b[1;33m\u001b[0m\u001b[0m\n",
      "\u001b[1;31mModuleNotFoundError\u001b[0m: No module named 'tabulate'"
     ]
    }
   ],
   "source": [
    "from tabulate import tabulate\n",
    "\n",
    "# assign data\n",
    "mydata = [\n",
    "    [\"Precision\"] + list(precision_score(Y_test, predictions, average= None)),\n",
    "    [\"Recall\"] + list(recall_score(Y_test, predictions, average= None)),\n",
    "    [\"F1-Score\"] + list(f1_score(Y_test, predictions, average= None))\n",
    "]\n",
    " \n",
    "# create header\n",
    "head = [\"Metric\"] + list(dftrain['incidents'].cat.categories.values)\n",
    " \n",
    "# display table\n",
    "print(tabulate(mydata, headers=head, tablefmt=\"grid\"))"
   ]
  },
  {
   "cell_type": "markdown",
   "metadata": {},
   "source": [
    "### Cross Validation"
   ]
  },
  {
   "cell_type": "markdown",
   "metadata": {},
   "source": [
    "Cross validation irá fazer vários segmentos e testá-los. Se houver um desvio padrão mt grande entre eles, isso quer dizer que existe over-fitting"
   ]
  },
  {
   "cell_type": "code",
   "execution_count": 25,
   "metadata": {},
   "outputs": [
    {
     "name": "stdout",
     "output_type": "stream",
     "text": [
      "[0.87733333 0.88533333 0.92533333 0.92533333 0.94133333 0.88\n",
      " 0.936      0.912      0.896      0.91466667]\n",
      "Média: 0.9093333333333333\n",
      "desvio padrão: 0.022183076632624466\n"
     ]
    }
   ],
   "source": [
    "scores = cross_val_score(clf, X_train, Y_train, cv=10)\n",
    "print(scores)\n",
    "print(\"Média: \" + str(scores.mean()))\n",
    "print(\"desvio padrão: \" + str(scores.std()))"
   ]
  },
  {
   "cell_type": "markdown",
   "metadata": {
    "jp-MarkdownHeadingCollapsed": true,
    "tags": []
   },
   "source": [
    "## Escrita no Ficheiro"
   ]
  },
  {
   "cell_type": "markdown",
   "metadata": {},
   "source": [
    "Para fazer uma submissão é preciso meter o seguinte código em modo codigo e nao raw. Tambem é preciso ir a secção Separação entre dataframe de teste e de treino e fazer toggle do que é código e o que é raw"
   ]
  },
  {
   "cell_type": "code",
   "execution_count": 68,
   "metadata": {},
   "outputs": [
    {
     "data": {
      "text/html": [
       "<div>\n",
       "<style scoped>\n",
       "    .dataframe tbody tr th:only-of-type {\n",
       "        vertical-align: middle;\n",
       "    }\n",
       "\n",
       "    .dataframe tbody tr th {\n",
       "        vertical-align: top;\n",
       "    }\n",
       "\n",
       "    .dataframe thead th {\n",
       "        text-align: right;\n",
       "    }\n",
       "</style>\n",
       "<table border=\"1\" class=\"dataframe\">\n",
       "  <thead>\n",
       "    <tr style=\"text-align: right;\">\n",
       "      <th></th>\n",
       "      <th>incidents</th>\n",
       "    </tr>\n",
       "  </thead>\n",
       "  <tbody>\n",
       "    <tr>\n",
       "      <th>0</th>\n",
       "      <td>Very_High</td>\n",
       "    </tr>\n",
       "    <tr>\n",
       "      <th>1</th>\n",
       "      <td>None</td>\n",
       "    </tr>\n",
       "    <tr>\n",
       "      <th>2</th>\n",
       "      <td>None</td>\n",
       "    </tr>\n",
       "    <tr>\n",
       "      <th>3</th>\n",
       "      <td>Low</td>\n",
       "    </tr>\n",
       "    <tr>\n",
       "      <th>4</th>\n",
       "      <td>None</td>\n",
       "    </tr>\n",
       "    <tr>\n",
       "      <th>5</th>\n",
       "      <td>Very_High</td>\n",
       "    </tr>\n",
       "    <tr>\n",
       "      <th>6</th>\n",
       "      <td>Very_High</td>\n",
       "    </tr>\n",
       "    <tr>\n",
       "      <th>7</th>\n",
       "      <td>None</td>\n",
       "    </tr>\n",
       "    <tr>\n",
       "      <th>8</th>\n",
       "      <td>High</td>\n",
       "    </tr>\n",
       "    <tr>\n",
       "      <th>9</th>\n",
       "      <td>Medium</td>\n",
       "    </tr>\n",
       "  </tbody>\n",
       "</table>\n",
       "</div>"
      ],
      "text/plain": [
       "   incidents\n",
       "0  Very_High\n",
       "1       None\n",
       "2       None\n",
       "3        Low\n",
       "4       None\n",
       "5  Very_High\n",
       "6  Very_High\n",
       "7       None\n",
       "8       High\n",
       "9     Medium"
      ]
     },
     "execution_count": 68,
     "metadata": {},
     "output_type": "execute_result"
    }
   ],
   "source": [
    "actual_predictions = clf.predict(dftest) # Predictions on the test set\n",
    "actual_predictions = pd.DataFrame(actual_predictions, columns=['incidents']) # Convert to dataframe \n",
    "actual_predictions.head(10)"
   ]
  },
  {
   "cell_type": "code",
   "execution_count": 69,
   "metadata": {},
   "outputs": [
    {
     "name": "stdout",
     "output_type": "stream",
     "text": [
      "   index  incidents\n",
      "0      1  Very_High\n",
      "1      2       None\n",
      "2      3       None\n",
      "3      4        Low\n",
      "4      5       None\n",
      "5      6  Very_High\n",
      "6      7  Very_High\n",
      "7      8       None\n",
      "8      9       High\n",
      "9     10     Medium\n"
     ]
    }
   ],
   "source": [
    "actual_predictions.reset_index(inplace=True)\n",
    "actual_predictions['index'] = actual_predictions['index'].transform(lambda x: int(x)+1)\n",
    "print(actual_predictions.head(10))\n",
    "actual_predictions.to_csv('submission.csv', sep=',', header=['RowId','Incidents'], index=False, mode='w')"
   ]
  },
  {
   "cell_type": "raw",
   "metadata": {},
   "source": [
    "import csv\n",
    "\n",
    "import os\n",
    "\n",
    "# folder path\n",
    "dir_path = r'./submissions'\n",
    "file_count = 0\n",
    "# Iterate directory\n",
    "for path in os.listdir(dir_path):\n",
    "    # check if current path is a file\n",
    "    if os.path.isfile(os.path.join(dir_path, path)):\n",
    "        file_count += 1\n",
    "\n",
    "with open('submissions/submission' + str(file_count) + '.csv', 'w') as csvfile:\n",
    "    filewriter = csv.writer(csvfile, delimiter=',',\n",
    "                            quotechar='|', quoting=csv.QUOTE_MINIMAL)\n",
    "    filewriter.writerow(['RowId', 'Incidents'])\n",
    "    \n",
    "    i=0\n",
    "    \n",
    "    for incident in predictions:\n",
    "        filewriter.writerow([str(i), incident])\n",
    "        i=i+1"
   ]
  }
 ],
 "metadata": {
  "kernelspec": {
   "display_name": "Python 3 (ipykernel)",
   "language": "python",
   "name": "python3"
  },
  "language_info": {
   "codemirror_mode": {
    "name": "ipython",
    "version": 3
   },
   "file_extension": ".py",
   "mimetype": "text/x-python",
   "name": "python",
   "nbconvert_exporter": "python",
   "pygments_lexer": "ipython3",
   "version": "3.7.13"
  },
  "vscode": {
   "interpreter": {
    "hash": "8448d417247ab383e1807369db4b5250e04239909514143e56745718ac29a718"
   }
  }
 },
 "nbformat": 4,
 "nbformat_minor": 4
}
