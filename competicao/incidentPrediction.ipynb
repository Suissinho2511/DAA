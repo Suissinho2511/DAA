{
 "cells": [
  {
   "cell_type": "markdown",
   "metadata": {},
   "source": [
    "# **Trabalho Prático: Previsão de Incidentes Rodoviários**"
   ]
  },
  {
   "cell_type": "markdown",
   "metadata": {
    "tags": []
   },
   "source": [
    "## Descrição do Problema"
   ]
  },
  {
   "cell_type": "markdown",
   "metadata": {
    "tags": []
   },
   "source": [
    "## Preparação do programa"
   ]
  },
  {
   "cell_type": "markdown",
   "metadata": {
    "tags": []
   },
   "source": [
    "### Bibliotecas e Funções"
   ]
  },
  {
   "cell_type": "code",
   "execution_count": 19,
   "metadata": {},
   "outputs": [],
   "source": [
    "import sklearn as skl\n",
    "import pandas as pd\n",
    "import numpy as np\n",
    "import matplotlib.pyplot as plt\n",
    "import seaborn as sns\n",
    "from sklearn import preprocessing\n",
    "\n",
    "\n",
    "from sklearn.model_selection import train_test_split\n",
    "from sklearn.model_selection import cross_val_score\n",
    "from sklearn.model_selection import GridSearchCV\n",
    "from sklearn.model_selection import ParameterGrid\n",
    "\n",
    "#Modelos a usar\n",
    "from sklearn.linear_model import LogisticRegression\n",
    "from sklearn.tree         import DecisionTreeClassifier\n",
    "from sklearn.tree         import DecisionTreeRegressor\n",
    "from sklearn.svm          import SVC\n",
    "\n",
    "#Métricas de qualidade\n",
    "from sklearn.metrics import confusion_matrix\n",
    "from sklearn.metrics import recall_score\n",
    "from sklearn.metrics import accuracy_score\n",
    "from sklearn.metrics import precision_score\n",
    "from sklearn.metrics import roc_auc_score\n",
    "from sklearn.metrics import roc_curve\n",
    "from sklearn.metrics import f1_score\n",
    "from sklearn.metrics import fbeta_score\n",
    "from sklearn.metrics import mean_absolute_error\n",
    "from sklearn.metrics import mean_squared_error\n",
    "from sklearn.metrics import classification_report\n",
    "from sklearn.metrics import plot_confusion_matrix\n",
    "from sklearn.metrics import make_scorer\n",
    "\n",
    "from sklearn import decomposition, datasets\n",
    "from sklearn import tree\n",
    "from sklearn.pipeline import Pipeline\n",
    "from sklearn.model_selection import GridSearchCV, KFold\n",
    "from sklearn.preprocessing import StandardScaler\n",
    "\n",
    "import tensorflow as tf\n",
    "from tensorflow.keras.models import Sequential\n",
    "from tensorflow.keras.layers import Dense, Dropout,BatchNormalization\n",
    "from tensorflow.keras.wrappers.scikit_learn import KerasRegressor\n",
    "from sklearn.preprocessing import MinMaxScaler"
   ]
  },
  {
   "cell_type": "markdown",
   "metadata": {
    "tags": []
   },
   "source": [
    "### Leitura dos datasets"
   ]
  },
  {
   "cell_type": "code",
   "execution_count": 2,
   "metadata": {},
   "outputs": [],
   "source": [
    "dftrain = pd.read_csv('training_data.csv')\n",
    "dftest = pd.read_csv('test_data.csv')"
   ]
  },
  {
   "cell_type": "markdown",
   "metadata": {
    "jp-MarkdownHeadingCollapsed": true,
    "tags": []
   },
   "source": [
    "## Exploração dos dados"
   ]
  },
  {
   "cell_type": "markdown",
   "metadata": {},
   "source": [
    "Para esta etapa do trabalho, também se utilizou as informações obtidas no website \"kaggle\", tais como:\n",
    "* Tipos dos atributos\n",
    "* Conteúdo dos atributos\n",
    "* Missing values"
   ]
  },
  {
   "cell_type": "markdown",
   "metadata": {
    "tags": []
   },
   "source": [
    "### Visualização dos dados"
   ]
  },
  {
   "cell_type": "code",
   "execution_count": 3,
   "metadata": {},
   "outputs": [
    {
     "data": {
      "text/plain": [
       "(5000, 13)"
      ]
     },
     "execution_count": 3,
     "metadata": {},
     "output_type": "execute_result"
    }
   ],
   "source": [
    "dftrain.shape"
   ]
  },
  {
   "cell_type": "code",
   "execution_count": 4,
   "metadata": {},
   "outputs": [
    {
     "data": {
      "text/html": [
       "<div>\n",
       "<style scoped>\n",
       "    .dataframe tbody tr th:only-of-type {\n",
       "        vertical-align: middle;\n",
       "    }\n",
       "\n",
       "    .dataframe tbody tr th {\n",
       "        vertical-align: top;\n",
       "    }\n",
       "\n",
       "    .dataframe thead th {\n",
       "        text-align: right;\n",
       "    }\n",
       "</style>\n",
       "<table border=\"1\" class=\"dataframe\">\n",
       "  <thead>\n",
       "    <tr style=\"text-align: right;\">\n",
       "      <th></th>\n",
       "      <th>city_name</th>\n",
       "      <th>magnitude_of_delay</th>\n",
       "      <th>delay_in_seconds</th>\n",
       "      <th>affected_roads</th>\n",
       "      <th>record_date</th>\n",
       "      <th>luminosity</th>\n",
       "      <th>avg_temperature</th>\n",
       "      <th>avg_atm_pressure</th>\n",
       "      <th>avg_humidity</th>\n",
       "      <th>avg_wind_speed</th>\n",
       "      <th>avg_precipitation</th>\n",
       "      <th>avg_rain</th>\n",
       "      <th>incidents</th>\n",
       "    </tr>\n",
       "  </thead>\n",
       "  <tbody>\n",
       "    <tr>\n",
       "      <th>0</th>\n",
       "      <td>Guimaraes</td>\n",
       "      <td>UNDEFINED</td>\n",
       "      <td>0</td>\n",
       "      <td>,</td>\n",
       "      <td>2021-03-15 23:00</td>\n",
       "      <td>DARK</td>\n",
       "      <td>12.0</td>\n",
       "      <td>1013.0</td>\n",
       "      <td>70.0</td>\n",
       "      <td>1.0</td>\n",
       "      <td>0.0</td>\n",
       "      <td>Sem Chuva</td>\n",
       "      <td>None</td>\n",
       "    </tr>\n",
       "    <tr>\n",
       "      <th>1</th>\n",
       "      <td>Guimaraes</td>\n",
       "      <td>UNDEFINED</td>\n",
       "      <td>385</td>\n",
       "      <td>N101,</td>\n",
       "      <td>2021-12-25 18:00</td>\n",
       "      <td>DARK</td>\n",
       "      <td>12.0</td>\n",
       "      <td>1007.0</td>\n",
       "      <td>91.0</td>\n",
       "      <td>1.0</td>\n",
       "      <td>0.0</td>\n",
       "      <td>Sem Chuva</td>\n",
       "      <td>None</td>\n",
       "    </tr>\n",
       "    <tr>\n",
       "      <th>2</th>\n",
       "      <td>Guimaraes</td>\n",
       "      <td>UNDEFINED</td>\n",
       "      <td>69</td>\n",
       "      <td>,</td>\n",
       "      <td>2021-03-12 15:00</td>\n",
       "      <td>LIGHT</td>\n",
       "      <td>14.0</td>\n",
       "      <td>1025.0</td>\n",
       "      <td>64.0</td>\n",
       "      <td>0.0</td>\n",
       "      <td>0.0</td>\n",
       "      <td>Sem Chuva</td>\n",
       "      <td>Low</td>\n",
       "    </tr>\n",
       "    <tr>\n",
       "      <th>3</th>\n",
       "      <td>Guimaraes</td>\n",
       "      <td>MAJOR</td>\n",
       "      <td>2297</td>\n",
       "      <td>N101,R206,N105,N101,N101,N101,N101,N101,N101,N...</td>\n",
       "      <td>2021-09-29 09:00</td>\n",
       "      <td>LIGHT</td>\n",
       "      <td>15.0</td>\n",
       "      <td>1028.0</td>\n",
       "      <td>75.0</td>\n",
       "      <td>1.0</td>\n",
       "      <td>0.0</td>\n",
       "      <td>Sem Chuva</td>\n",
       "      <td>Very_High</td>\n",
       "    </tr>\n",
       "    <tr>\n",
       "      <th>4</th>\n",
       "      <td>Guimaraes</td>\n",
       "      <td>UNDEFINED</td>\n",
       "      <td>0</td>\n",
       "      <td>N101,N101,N101,N101,N101,</td>\n",
       "      <td>2021-06-13 11:00</td>\n",
       "      <td>LIGHT</td>\n",
       "      <td>27.0</td>\n",
       "      <td>1020.0</td>\n",
       "      <td>52.0</td>\n",
       "      <td>1.0</td>\n",
       "      <td>0.0</td>\n",
       "      <td>Sem Chuva</td>\n",
       "      <td>High</td>\n",
       "    </tr>\n",
       "  </tbody>\n",
       "</table>\n",
       "</div>"
      ],
      "text/plain": [
       "   city_name magnitude_of_delay  delay_in_seconds  \\\n",
       "0  Guimaraes          UNDEFINED                 0   \n",
       "1  Guimaraes          UNDEFINED               385   \n",
       "2  Guimaraes          UNDEFINED                69   \n",
       "3  Guimaraes              MAJOR              2297   \n",
       "4  Guimaraes          UNDEFINED                 0   \n",
       "\n",
       "                                      affected_roads       record_date  \\\n",
       "0                                                  ,  2021-03-15 23:00   \n",
       "1                                              N101,  2021-12-25 18:00   \n",
       "2                                                  ,  2021-03-12 15:00   \n",
       "3  N101,R206,N105,N101,N101,N101,N101,N101,N101,N...  2021-09-29 09:00   \n",
       "4                          N101,N101,N101,N101,N101,  2021-06-13 11:00   \n",
       "\n",
       "  luminosity  avg_temperature  avg_atm_pressure  avg_humidity  avg_wind_speed  \\\n",
       "0       DARK             12.0            1013.0          70.0             1.0   \n",
       "1       DARK             12.0            1007.0          91.0             1.0   \n",
       "2      LIGHT             14.0            1025.0          64.0             0.0   \n",
       "3      LIGHT             15.0            1028.0          75.0             1.0   \n",
       "4      LIGHT             27.0            1020.0          52.0             1.0   \n",
       "\n",
       "   avg_precipitation   avg_rain  incidents  \n",
       "0                0.0  Sem Chuva       None  \n",
       "1                0.0  Sem Chuva       None  \n",
       "2                0.0  Sem Chuva        Low  \n",
       "3                0.0  Sem Chuva  Very_High  \n",
       "4                0.0  Sem Chuva       High  "
      ]
     },
     "execution_count": 4,
     "metadata": {},
     "output_type": "execute_result"
    }
   ],
   "source": [
    "dftrain.head()"
   ]
  },
  {
   "cell_type": "code",
   "execution_count": 5,
   "metadata": {},
   "outputs": [
    {
     "data": {
      "text/html": [
       "<div>\n",
       "<style scoped>\n",
       "    .dataframe tbody tr th:only-of-type {\n",
       "        vertical-align: middle;\n",
       "    }\n",
       "\n",
       "    .dataframe tbody tr th {\n",
       "        vertical-align: top;\n",
       "    }\n",
       "\n",
       "    .dataframe thead th {\n",
       "        text-align: right;\n",
       "    }\n",
       "</style>\n",
       "<table border=\"1\" class=\"dataframe\">\n",
       "  <thead>\n",
       "    <tr style=\"text-align: right;\">\n",
       "      <th></th>\n",
       "      <th>city_name</th>\n",
       "      <th>magnitude_of_delay</th>\n",
       "      <th>delay_in_seconds</th>\n",
       "      <th>affected_roads</th>\n",
       "      <th>record_date</th>\n",
       "      <th>luminosity</th>\n",
       "      <th>avg_temperature</th>\n",
       "      <th>avg_atm_pressure</th>\n",
       "      <th>avg_humidity</th>\n",
       "      <th>avg_wind_speed</th>\n",
       "      <th>avg_precipitation</th>\n",
       "      <th>avg_rain</th>\n",
       "      <th>incidents</th>\n",
       "    </tr>\n",
       "  </thead>\n",
       "  <tbody>\n",
       "    <tr>\n",
       "      <th>4995</th>\n",
       "      <td>Guimaraes</td>\n",
       "      <td>UNDEFINED</td>\n",
       "      <td>0</td>\n",
       "      <td>N101,N101,N101,N101,N101,</td>\n",
       "      <td>2021-04-13 00:00</td>\n",
       "      <td>DARK</td>\n",
       "      <td>13.0</td>\n",
       "      <td>1021.0</td>\n",
       "      <td>56.0</td>\n",
       "      <td>0.0</td>\n",
       "      <td>0.0</td>\n",
       "      <td>Sem Chuva</td>\n",
       "      <td>High</td>\n",
       "    </tr>\n",
       "    <tr>\n",
       "      <th>4996</th>\n",
       "      <td>Guimaraes</td>\n",
       "      <td>UNDEFINED</td>\n",
       "      <td>0</td>\n",
       "      <td>N101,N101,N101,N101,N101</td>\n",
       "      <td>2021-07-06 14:00</td>\n",
       "      <td>LIGHT</td>\n",
       "      <td>19.0</td>\n",
       "      <td>1017.0</td>\n",
       "      <td>68.0</td>\n",
       "      <td>0.0</td>\n",
       "      <td>0.0</td>\n",
       "      <td>Sem Chuva</td>\n",
       "      <td>None</td>\n",
       "    </tr>\n",
       "    <tr>\n",
       "      <th>4997</th>\n",
       "      <td>Guimaraes</td>\n",
       "      <td>UNDEFINED</td>\n",
       "      <td>0</td>\n",
       "      <td>,</td>\n",
       "      <td>2021-03-18 03:00</td>\n",
       "      <td>DARK</td>\n",
       "      <td>13.0</td>\n",
       "      <td>1023.0</td>\n",
       "      <td>47.0</td>\n",
       "      <td>2.0</td>\n",
       "      <td>0.0</td>\n",
       "      <td>Sem Chuva</td>\n",
       "      <td>None</td>\n",
       "    </tr>\n",
       "    <tr>\n",
       "      <th>4998</th>\n",
       "      <td>Guimaraes</td>\n",
       "      <td>UNDEFINED</td>\n",
       "      <td>0</td>\n",
       "      <td>N101,N101,N101,N101,N101</td>\n",
       "      <td>2021-11-02 06:00</td>\n",
       "      <td>DARK</td>\n",
       "      <td>12.0</td>\n",
       "      <td>1014.0</td>\n",
       "      <td>93.0</td>\n",
       "      <td>2.0</td>\n",
       "      <td>0.0</td>\n",
       "      <td>Sem Chuva</td>\n",
       "      <td>None</td>\n",
       "    </tr>\n",
       "    <tr>\n",
       "      <th>4999</th>\n",
       "      <td>Guimaraes</td>\n",
       "      <td>UNDEFINED</td>\n",
       "      <td>0</td>\n",
       "      <td>N101,N101,N101,N101,N101</td>\n",
       "      <td>2021-12-20 02:00</td>\n",
       "      <td>DARK</td>\n",
       "      <td>12.0</td>\n",
       "      <td>1018.0</td>\n",
       "      <td>77.0</td>\n",
       "      <td>3.0</td>\n",
       "      <td>0.0</td>\n",
       "      <td>Sem Chuva</td>\n",
       "      <td>None</td>\n",
       "    </tr>\n",
       "  </tbody>\n",
       "</table>\n",
       "</div>"
      ],
      "text/plain": [
       "      city_name magnitude_of_delay  delay_in_seconds  \\\n",
       "4995  Guimaraes          UNDEFINED                 0   \n",
       "4996  Guimaraes          UNDEFINED                 0   \n",
       "4997  Guimaraes          UNDEFINED                 0   \n",
       "4998  Guimaraes          UNDEFINED                 0   \n",
       "4999  Guimaraes          UNDEFINED                 0   \n",
       "\n",
       "                 affected_roads       record_date luminosity  avg_temperature  \\\n",
       "4995  N101,N101,N101,N101,N101,  2021-04-13 00:00       DARK             13.0   \n",
       "4996   N101,N101,N101,N101,N101  2021-07-06 14:00      LIGHT             19.0   \n",
       "4997                          ,  2021-03-18 03:00       DARK             13.0   \n",
       "4998   N101,N101,N101,N101,N101  2021-11-02 06:00       DARK             12.0   \n",
       "4999   N101,N101,N101,N101,N101  2021-12-20 02:00       DARK             12.0   \n",
       "\n",
       "      avg_atm_pressure  avg_humidity  avg_wind_speed  avg_precipitation  \\\n",
       "4995            1021.0          56.0             0.0                0.0   \n",
       "4996            1017.0          68.0             0.0                0.0   \n",
       "4997            1023.0          47.0             2.0                0.0   \n",
       "4998            1014.0          93.0             2.0                0.0   \n",
       "4999            1018.0          77.0             3.0                0.0   \n",
       "\n",
       "       avg_rain incidents  \n",
       "4995  Sem Chuva      High  \n",
       "4996  Sem Chuva      None  \n",
       "4997  Sem Chuva      None  \n",
       "4998  Sem Chuva      None  \n",
       "4999  Sem Chuva      None  "
      ]
     },
     "execution_count": 5,
     "metadata": {},
     "output_type": "execute_result"
    }
   ],
   "source": [
    "dftrain.tail()"
   ]
  },
  {
   "cell_type": "markdown",
   "metadata": {
    "tags": []
   },
   "source": [
    "### Informações sobre os diferentes atributos"
   ]
  },
  {
   "cell_type": "code",
   "execution_count": 6,
   "metadata": {},
   "outputs": [
    {
     "name": "stdout",
     "output_type": "stream",
     "text": [
      "<class 'pandas.core.frame.DataFrame'>\n",
      "RangeIndex: 5000 entries, 0 to 4999\n",
      "Data columns (total 13 columns):\n",
      " #   Column              Non-Null Count  Dtype  \n",
      "---  ------              --------------  -----  \n",
      " 0   city_name           5000 non-null   object \n",
      " 1   magnitude_of_delay  5000 non-null   object \n",
      " 2   delay_in_seconds    5000 non-null   int64  \n",
      " 3   affected_roads      4915 non-null   object \n",
      " 4   record_date         5000 non-null   object \n",
      " 5   luminosity          5000 non-null   object \n",
      " 6   avg_temperature     5000 non-null   float64\n",
      " 7   avg_atm_pressure    5000 non-null   float64\n",
      " 8   avg_humidity        5000 non-null   float64\n",
      " 9   avg_wind_speed      5000 non-null   float64\n",
      " 10  avg_precipitation   5000 non-null   float64\n",
      " 11  avg_rain            5000 non-null   object \n",
      " 12  incidents           5000 non-null   object \n",
      "dtypes: float64(5), int64(1), object(7)\n",
      "memory usage: 507.9+ KB\n"
     ]
    }
   ],
   "source": [
    "dftrain.info()"
   ]
  },
  {
   "cell_type": "code",
   "execution_count": 7,
   "metadata": {},
   "outputs": [
    {
     "data": {
      "text/html": [
       "<div>\n",
       "<style scoped>\n",
       "    .dataframe tbody tr th:only-of-type {\n",
       "        vertical-align: middle;\n",
       "    }\n",
       "\n",
       "    .dataframe tbody tr th {\n",
       "        vertical-align: top;\n",
       "    }\n",
       "\n",
       "    .dataframe thead th {\n",
       "        text-align: right;\n",
       "    }\n",
       "</style>\n",
       "<table border=\"1\" class=\"dataframe\">\n",
       "  <thead>\n",
       "    <tr style=\"text-align: right;\">\n",
       "      <th></th>\n",
       "      <th>delay_in_seconds</th>\n",
       "      <th>avg_temperature</th>\n",
       "      <th>avg_atm_pressure</th>\n",
       "      <th>avg_humidity</th>\n",
       "      <th>avg_wind_speed</th>\n",
       "      <th>avg_precipitation</th>\n",
       "    </tr>\n",
       "  </thead>\n",
       "  <tbody>\n",
       "    <tr>\n",
       "      <th>count</th>\n",
       "      <td>5000.000000</td>\n",
       "      <td>5000.000000</td>\n",
       "      <td>5000.000000</td>\n",
       "      <td>5000.000000</td>\n",
       "      <td>5000.000000</td>\n",
       "      <td>5000.0</td>\n",
       "    </tr>\n",
       "    <tr>\n",
       "      <th>mean</th>\n",
       "      <td>560.567000</td>\n",
       "      <td>14.583000</td>\n",
       "      <td>1018.145000</td>\n",
       "      <td>74.455000</td>\n",
       "      <td>1.253500</td>\n",
       "      <td>0.0</td>\n",
       "    </tr>\n",
       "    <tr>\n",
       "      <th>std</th>\n",
       "      <td>1686.859581</td>\n",
       "      <td>4.820514</td>\n",
       "      <td>5.174372</td>\n",
       "      <td>17.204638</td>\n",
       "      <td>1.269847</td>\n",
       "      <td>0.0</td>\n",
       "    </tr>\n",
       "    <tr>\n",
       "      <th>min</th>\n",
       "      <td>0.000000</td>\n",
       "      <td>1.000000</td>\n",
       "      <td>997.000000</td>\n",
       "      <td>6.000000</td>\n",
       "      <td>0.000000</td>\n",
       "      <td>0.0</td>\n",
       "    </tr>\n",
       "    <tr>\n",
       "      <th>25%</th>\n",
       "      <td>0.000000</td>\n",
       "      <td>11.000000</td>\n",
       "      <td>1015.000000</td>\n",
       "      <td>63.000000</td>\n",
       "      <td>0.000000</td>\n",
       "      <td>0.0</td>\n",
       "    </tr>\n",
       "    <tr>\n",
       "      <th>50%</th>\n",
       "      <td>0.000000</td>\n",
       "      <td>14.000000</td>\n",
       "      <td>1019.000000</td>\n",
       "      <td>78.000000</td>\n",
       "      <td>1.000000</td>\n",
       "      <td>0.0</td>\n",
       "    </tr>\n",
       "    <tr>\n",
       "      <th>75%</th>\n",
       "      <td>234.000000</td>\n",
       "      <td>18.000000</td>\n",
       "      <td>1022.000000</td>\n",
       "      <td>90.000000</td>\n",
       "      <td>2.000000</td>\n",
       "      <td>0.0</td>\n",
       "    </tr>\n",
       "    <tr>\n",
       "      <th>max</th>\n",
       "      <td>31083.000000</td>\n",
       "      <td>35.000000</td>\n",
       "      <td>1032.000000</td>\n",
       "      <td>100.000000</td>\n",
       "      <td>10.000000</td>\n",
       "      <td>0.0</td>\n",
       "    </tr>\n",
       "  </tbody>\n",
       "</table>\n",
       "</div>"
      ],
      "text/plain": [
       "       delay_in_seconds  avg_temperature  avg_atm_pressure  avg_humidity  \\\n",
       "count       5000.000000      5000.000000       5000.000000   5000.000000   \n",
       "mean         560.567000        14.583000       1018.145000     74.455000   \n",
       "std         1686.859581         4.820514          5.174372     17.204638   \n",
       "min            0.000000         1.000000        997.000000      6.000000   \n",
       "25%            0.000000        11.000000       1015.000000     63.000000   \n",
       "50%            0.000000        14.000000       1019.000000     78.000000   \n",
       "75%          234.000000        18.000000       1022.000000     90.000000   \n",
       "max        31083.000000        35.000000       1032.000000    100.000000   \n",
       "\n",
       "       avg_wind_speed  avg_precipitation  \n",
       "count     5000.000000             5000.0  \n",
       "mean         1.253500                0.0  \n",
       "std          1.269847                0.0  \n",
       "min          0.000000                0.0  \n",
       "25%          0.000000                0.0  \n",
       "50%          1.000000                0.0  \n",
       "75%          2.000000                0.0  \n",
       "max         10.000000                0.0  "
      ]
     },
     "execution_count": 7,
     "metadata": {},
     "output_type": "execute_result"
    }
   ],
   "source": [
    "dftrain.describe()"
   ]
  },
  {
   "cell_type": "markdown",
   "metadata": {
    "jp-MarkdownHeadingCollapsed": true,
    "tags": []
   },
   "source": [
    "### Missing Values"
   ]
  },
  {
   "cell_type": "code",
   "execution_count": 8,
   "metadata": {},
   "outputs": [
    {
     "data": {
      "text/plain": [
       "city_name             False\n",
       "magnitude_of_delay    False\n",
       "delay_in_seconds      False\n",
       "affected_roads         True\n",
       "record_date           False\n",
       "luminosity            False\n",
       "avg_temperature       False\n",
       "avg_atm_pressure      False\n",
       "avg_humidity          False\n",
       "avg_wind_speed        False\n",
       "avg_precipitation     False\n",
       "avg_rain              False\n",
       "incidents             False\n",
       "dtype: bool"
      ]
     },
     "execution_count": 8,
     "metadata": {},
     "output_type": "execute_result"
    }
   ],
   "source": [
    "dftrain.isna().any()"
   ]
  },
  {
   "cell_type": "code",
   "execution_count": 9,
   "metadata": {},
   "outputs": [
    {
     "data": {
      "text/plain": [
       "city_name              0\n",
       "magnitude_of_delay     0\n",
       "delay_in_seconds       0\n",
       "affected_roads        85\n",
       "record_date            0\n",
       "luminosity             0\n",
       "avg_temperature        0\n",
       "avg_atm_pressure       0\n",
       "avg_humidity           0\n",
       "avg_wind_speed         0\n",
       "avg_precipitation      0\n",
       "avg_rain               0\n",
       "incidents              0\n",
       "dtype: int64"
      ]
     },
     "execution_count": 9,
     "metadata": {},
     "output_type": "execute_result"
    }
   ],
   "source": [
    "dftrain.isna().sum()"
   ]
  },
  {
   "cell_type": "markdown",
   "metadata": {
    "tags": []
   },
   "source": [
    "### Matriz de Correlação"
   ]
  },
  {
   "cell_type": "code",
   "execution_count": 10,
   "metadata": {},
   "outputs": [
    {
     "data": {
      "text/plain": [
       "<AxesSubplot:>"
      ]
     },
     "execution_count": 10,
     "metadata": {},
     "output_type": "execute_result"
    },
    {
     "data": {
      "image/png": "[encoded data removed]",
      "text/plain": [
       "<Figure size 2000x2000 with 2 Axes>"
      ]
     },
     "metadata": {},
     "output_type": "display_data"
    }
   ],
   "source": [
    "corr_matrix = dftrain.corr()\n",
    "f, ax = plt.subplots(figsize=(20,20))\n",
    "sns.heatmap(corr_matrix, vmin=-1, vmax=1, square=True, annot=True)"
   ]
  },
  {
   "cell_type": "markdown",
   "metadata": {
    "tags": []
   },
   "source": [
    "### Pairplot"
   ]
  },
  {
   "cell_type": "raw",
   "metadata": {},
   "source": [
    "sns.pairplot(dftrain)"
   ]
  },
  {
   "cell_type": "markdown",
   "metadata": {
    "jp-MarkdownHeadingCollapsed": true,
    "tags": []
   },
   "source": [
    "### Histogramas"
   ]
  },
  {
   "cell_type": "raw",
   "metadata": {},
   "source": [
    "fig,axs = plt.subplots(11,1,figsize=(10,100))\n",
    "fig.suptitle('Histograms')\n",
    "\n",
    "for i in range(13):\n",
    "    axs[i].hist(dftrain.iloc[:,i])\n",
    "    axs[i].set_title(dftrain.columns[i])"
   ]
  },
  {
   "cell_type": "markdown",
   "metadata": {
    "tags": []
   },
   "source": [
    "## Preparação dos dados"
   ]
  },
  {
   "cell_type": "markdown",
   "metadata": {
    "tags": []
   },
   "source": [
    "### Apagar atributos"
   ]
  },
  {
   "cell_type": "code",
   "execution_count": 11,
   "metadata": {},
   "outputs": [],
   "source": [
    "# Era sempre Guimarães em todos os registos, logo não tem impacto nenhum\n",
    "dftrain = dftrain.drop([\"city_name\"], axis=1)\n",
    "dftest = dftest.drop([\"city_name\"], axis=1)\n",
    "\n",
    "# Era sempre 0 em todos os registos, logo não tem impacto nenhum\n",
    "dftrain = dftrain.drop([\"avg_precipitation\"], axis=1)\n",
    "dftest = dftest.drop([\"avg_precipitation\"], axis=1)\n",
    "\n",
    "# Era sempre 0 em todos os registos, logo não tem impacto nenhum\n",
    "#dftrain = dftrain.drop([\"delay_in_seconds\"], axis=1)\n",
    "#dftest = dftest.drop([\"delay_in_seconds\"], axis=1)"
   ]
  },
  {
   "cell_type": "markdown",
   "metadata": {
    "tags": []
   },
   "source": [
    "### Alteração do tipo dos atributos"
   ]
  },
  {
   "cell_type": "markdown",
   "metadata": {
    "tags": []
   },
   "source": [
    "#### Label Encoding"
   ]
  },
  {
   "cell_type": "code",
   "execution_count": 12,
   "metadata": {},
   "outputs": [],
   "source": [
    "label_encoder = preprocessing.LabelEncoder()\n",
    "\n",
    "#Train\n",
    "dftrain['magnitude_of_delay']= label_encoder.fit_transform(dftrain['magnitude_of_delay'])\n",
    "dftrain['luminosity']= label_encoder.fit_transform(dftrain['luminosity'])\n",
    "dftrain['avg_rain']= label_encoder.fit_transform(dftrain['avg_rain'])\n",
    "dftrain['incidents']= label_encoder.fit_transform(dftrain['incidents'])\n",
    "\n",
    "#Test\n",
    "dftest['magnitude_of_delay']= label_encoder.fit_transform(dftest['magnitude_of_delay'])\n",
    "dftest['luminosity']        = label_encoder.fit_transform(dftest['luminosity'])\n",
    "dftest['avg_rain']          = label_encoder.fit_transform(dftest['avg_rain'])"
   ]
  },
  {
   "cell_type": "markdown",
   "metadata": {
    "tags": []
   },
   "source": [
    "#### Atributo affected_roads"
   ]
  },
  {
   "cell_type": "markdown",
   "metadata": {
    "tags": []
   },
   "source": [
    "##### Quantidade de vezes que estradas aparecem"
   ]
  },
  {
   "cell_type": "code",
   "execution_count": 13,
   "metadata": {},
   "outputs": [],
   "source": [
    "dftrain['affected_roads']  = dftrain['affected_roads'].apply(lambda x: 0 if pd.isnull(x) else len(list(filter(None, x.split(',')))))\n",
    "dftest['affected_roads']   = dftest['affected_roads'].apply(lambda x: 0 if pd.isnull(x) else len(list(filter(None, x.split(',')))))"
   ]
  },
  {
   "cell_type": "markdown",
   "metadata": {
    "jp-MarkdownHeadingCollapsed": true,
    "tags": []
   },
   "source": [
    "##### Quantidade de vezes que cada tipo de estrada aparece"
   ]
  },
  {
   "cell_type": "raw",
   "metadata": {},
   "source": [
    "# Passar de string para lista\n",
    "dftrain['affected_roads']  = dftrain['affected_roads'].apply(lambda x: [] if pd.isnull(x) else list(filter(None, x.split(','))))\n",
    "dftest['affected_roads']   = dftest['affected_roads'].apply(lambda x: [] if pd.isnull(x) else list(filter(None, x.split(','))))\n",
    "\n",
    "# Saber que estradas existem\n",
    "new_atr = []\n",
    "for i in dftrain['affected_roads']:\n",
    "    for j in i:\n",
    "        if j not in new_atr:\n",
    "            new_atr.append(j)\n",
    "\n",
    "# Criação de um atributo por estrada e colocar nele a quantidade de repetições que existe\n",
    "# TRAIN\n",
    "for atr in new_atr:\n",
    "    dftrain[atr]=0\n",
    "\n",
    "i=0\n",
    "for roads in dftrain['affected_roads']:\n",
    "    dict_aux = {atri:roads.count(atri) for atri in roads}\n",
    "    for key in dict_aux.keys():\n",
    "        dftrain.at[i,key] = dict_aux[key]\n",
    "    i=i+1\n",
    "\n",
    "# TEST\n",
    "for atr in new_atr:\n",
    "    dftest[atr]=0\n",
    "\n",
    "i=0\n",
    "for roads in dftest['affected_roads']:\n",
    "    dict_aux = {atri:roads.count(atri) for atri in roads}\n",
    "    for key in dict_aux.keys():\n",
    "        dftest.at[i,key] = dict_aux[key]\n",
    "    i=i+1\n",
    "\n",
    "# Drop do atributo das estradas, já que não é mais necessário\n",
    "dftrain = dftrain.drop([\"affected_roads\"], axis=1)\n",
    "dftest = dftest.drop([\"affected_roads\"], axis=1)"
   ]
  },
  {
   "cell_type": "markdown",
   "metadata": {
    "tags": []
   },
   "source": [
    "#### String to Date"
   ]
  },
  {
   "cell_type": "code",
   "execution_count": 14,
   "metadata": {},
   "outputs": [],
   "source": [
    "# TRAIN\n",
    "dftrain['record_date'] = pd.to_datetime(dftrain['record_date'], format='%Y-%m-%d %H:%M')\n",
    "\n",
    "# Este dataset é apenas num ano, logo será igual para todos os registos\n",
    "dftrain['record_month'] = dftrain['record_date'].dt.month\n",
    "dftrain['record_day'] = dftrain['record_date'].dt.day\n",
    "dftrain['record_hour'] = dftrain['record_date'].dt.hour\n",
    "\n",
    "# Já não precisamos do record_date para nada\n",
    "dftrain = dftrain.drop([\"record_date\"], axis=1)\n",
    "\n",
    "# TEST\n",
    "dftest['record_date'] = pd.to_datetime(dftest['record_date'], format='%Y-%m-%d %H:%M')\n",
    "\n",
    "# Este dataset é apenas num ano, logo será igual para todos os registos\n",
    "dftest['record_month'] = dftest['record_date'].dt.month\n",
    "dftest['record_day'] = dftest['record_date'].dt.day\n",
    "dftest['record_hour'] = dftest['record_date'].dt.hour\n",
    "\n",
    "# Já não precisamos do record_date para nada\n",
    "dftest = dftest.drop([\"record_date\"], axis=1)"
   ]
  },
  {
   "cell_type": "markdown",
   "metadata": {
    "tags": []
   },
   "source": [
    "#### Tipo do atributo dependente"
   ]
  },
  {
   "cell_type": "raw",
   "metadata": {},
   "source": [
    "dftrain['incidents'] = pd.Categorical(dftrain['incidents'])"
   ]
  },
  {
   "cell_type": "markdown",
   "metadata": {
    "tags": []
   },
   "source": [
    "## Modelos"
   ]
  },
  {
   "cell_type": "markdown",
   "metadata": {
    "tags": []
   },
   "source": [
    "### Preparação prévia"
   ]
  },
  {
   "cell_type": "markdown",
   "metadata": {},
   "source": [
    "#### Separação da variável dependente"
   ]
  },
  {
   "cell_type": "code",
   "execution_count": 83,
   "metadata": {},
   "outputs": [],
   "source": [
    "X_train = dftrain.drop(['incidents'], axis=1)\n",
    "Y_train = dftrain['incidents'].to_frame()"
   ]
  },
  {
   "cell_type": "markdown",
   "metadata": {
    "tags": []
   },
   "source": [
    "#### Separação entre dataframe de teste e de treino"
   ]
  },
  {
   "cell_type": "code",
   "execution_count": 95,
   "metadata": {},
   "outputs": [
    {
     "data": {
      "text/plain": [
       "(938, 1)"
      ]
     },
     "execution_count": 95,
     "metadata": {},
     "output_type": "execute_result"
    }
   ],
   "source": [
    "X_train, X_test, Y_train, Y_test = train_test_split(X_train, Y_train, test_size=0.25, random_state=42)"
   ]
  },
  {
   "cell_type": "markdown",
   "metadata": {
    "tags": []
   },
   "source": [
    "### Treino dos modelos"
   ]
  },
  {
   "cell_type": "markdown",
   "metadata": {
    "jp-MarkdownHeadingCollapsed": true,
    "tags": []
   },
   "source": [
    "#### Regressão Logística\n"
   ]
  },
  {
   "cell_type": "code",
   "execution_count": 85,
   "metadata": {},
   "outputs": [
    {
     "name": "stderr",
     "output_type": "stream",
     "text": [
      "c:\\Users\\vasco\\anaconda3\\lib\\site-packages\\sklearn\\utils\\validation.py:993: DataConversionWarning: A column-vector y was passed when a 1d array was expected. Please change the shape of y to (n_samples, ), for example using ravel().\n",
      "  y = column_or_1d(y, warn=True)\n"
     ]
    },
    {
     "data": {
      "text/plain": [
       "LogisticRegression(max_iter=10000)"
      ]
     },
     "execution_count": 85,
     "metadata": {},
     "output_type": "execute_result"
    }
   ],
   "source": [
    "model = LogisticRegression(max_iter=10000)\n",
    "model.fit(X_train, Y_train)"
   ]
  },
  {
   "cell_type": "markdown",
   "metadata": {
    "jp-MarkdownHeadingCollapsed": true,
    "tags": []
   },
   "source": [
    "#### Decision Tree"
   ]
  },
  {
   "cell_type": "markdown",
   "metadata": {
    "jp-MarkdownHeadingCollapsed": true,
    "tags": []
   },
   "source": [
    "##### Descoberta dos melhores parâmetros"
   ]
  },
  {
   "cell_type": "raw",
   "metadata": {},
   "source": [
    "# Modelo default - Full tree\n",
    "model = DecisionTreeClassifier(random_state=2022)\n",
    "model.fit(X_train, Y_train)\n",
    "\n",
    "print(\"depth: \", full_tree.get_depth())\n",
    "print(\"leafs: \", full_tree.get_n_leaves())"
   ]
  },
  {
   "cell_type": "markdown",
   "metadata": {
    "tags": []
   },
   "source": [
    "###### Minimo de samples para fazer um novo ramo"
   ]
  },
  {
   "cell_type": "raw",
   "metadata": {},
   "source": [
    "EPS = np.finfo(np.float64).eps # =2.220446049250313e-16\n",
    "min_samples_grid_search = GridSearchCV(\n",
    "    estimator  = DecisionTreeClassifier(random_state=2022),\n",
    "    scoring    = make_scorer(accuracy_score),\n",
    "    param_grid = ParameterGrid({'min_samples_split':[[min_samples_split] for min_samples_split in np.arange(EPS, 1, 0.025)]})\n",
    "    )\n",
    "min_samples_grid_search.fit(X_train, Y_train)\n",
    "print(min_samples_grid_search.best_estimator_)"
   ]
  },
  {
   "cell_type": "markdown",
   "metadata": {
    "tags": []
   },
   "source": [
    "###### Mínimo de samples para justificar fazer uma nova folha"
   ]
  },
  {
   "cell_type": "raw",
   "metadata": {},
   "source": [
    "min_samples_leaf_grid_search = GridSearchCV(\n",
    "    estimator  = DecisionTreeClassifier(random_state=2022),\n",
    "    scoring    = make_scorer(accuracy_score),\n",
    "    param_grid = ParameterGrid({'min_samples_leaf':[[min_samples_leaf] for min_samples_leaf in np.arange(EPS, 0.5, 0.025)]})\n",
    "    )\n",
    "min_samples_leaf_grid_search.fit(X_train, Y_train)\n",
    "print(min_samples_leaf_grid_search.best_estimator_)"
   ]
  },
  {
   "cell_type": "markdown",
   "metadata": {
    "tags": []
   },
   "source": [
    "###### Maxima profundidade na árvore"
   ]
  },
  {
   "cell_type": "raw",
   "metadata": {},
   "source": [
    "max_depth = 14 #Valor mais alto que a profundidade de uma árvore completa\n",
    "\n",
    "# Maxima profundidade na árvore\n",
    "max_depth_grid_search = GridSearchCV(\n",
    "    estimator  = DecisionTreeClassifier(random_state=2022),\n",
    "    scoring    = make_scorer(accuracy_score),\n",
    "    param_grid = ParameterGrid({'max_depth':[[max_depth] for max_depth in range(1, max_depth + 1)]})\n",
    "    )\n",
    "\n",
    "max_depth_grid_search.fit(X_train, Y_train)\n",
    "print(max_depth_grid_search.best_estimator_)"
   ]
  },
  {
   "cell_type": "markdown",
   "metadata": {
    "tags": []
   },
   "source": [
    "###### Ver dps"
   ]
  },
  {
   "cell_type": "raw",
   "metadata": {},
   "source": [
    "ccp_alphas = model.cost_complexity_pruning_path(X_train, Y_train)[\"ccp_alphas\"]\n",
    "\n",
    "ccp_alphas_grid_search = GridSearchCV(\n",
    "    estimator  = DecisionTreeClassifier(random_state=2022),\n",
    "    scoring    = make_scorer(accuracy_score),\n",
    "    param_grid = ParameterGrid({'ccp_alpha':[[alpha] for alpha in ccp_alphas]}),\n",
    ")\n",
    "#0.0007292929292929296\n",
    "\n",
    "ccp_alphas_grid_search.fit(X_train, Y_train)\n",
    "print(ccp_alphas_grid_search.best_estimator_)"
   ]
  },
  {
   "cell_type": "raw",
   "metadata": {},
   "source": [
    "maxd = 24\n",
    "std_slc = StandardScaler()\n",
    "pca = decomposition.PCA()\n",
    "dec_tree = tree.DecisionTreeClassifier(random_state=2022)\n",
    "pipe = Pipeline(steps=[('std_slc', std_slc), ('pca', pca), ('dec_tree', dec_tree)])\n",
    "n_components = list(range(1,X_train.shape[1]+1,1))\n",
    "max_depth = list(range(1, maxd + 1))\n",
    "\n",
    "parameters = dict(pca__n_components   = n_components,\n",
    "                  dec_tree__max_depth = max_depth,\n",
    "                  #dec_tree__min_samples_leaf = min_samples_leaf\n",
    "                  )\n",
    "clf_GS = GridSearchCV(pipe, parameters)\n",
    "clf_GS.fit(X_train, Y_train)\n",
    "\n",
    "print('Best max_depth:', clf_GS.best_estimator_.get_params()['dec_tree__max_depth'])\n",
    "#print('Best min_samples_leaf:', clf_GS.best_estimator_.get_params()['dec_tree__min_samples_leaf'])\n",
    "print('Best Number Of Components:', clf_GS.best_estimator_.get_params()['pca__n_components'])\n",
    "print(); print(clf_GS.best_estimator_.get_params()['dec_tree'])"
   ]
  },
  {
   "cell_type": "markdown",
   "metadata": {
    "tags": []
   },
   "source": [
    "##### Modelo final"
   ]
  },
  {
   "cell_type": "raw",
   "metadata": {},
   "source": [
    "model = DecisionTreeClassifier(random_state=2022, \n",
    "                               criterion = 'entropy',\n",
    "                               max_depth = 16, \n",
    "                               ccp_alpha = 0.0007292929292929296)\n",
    "model.fit(X_train, Y_train)\n",
    "print(\"depth: \", model.get_depth())\n",
    "print(\"leafs: \", model.get_n_leaves())"
   ]
  },
  {
   "cell_type": "markdown",
   "metadata": {
    "jp-MarkdownHeadingCollapsed": true,
    "tags": []
   },
   "source": [
    "#### SVM"
   ]
  },
  {
   "cell_type": "markdown",
   "metadata": {
    "tags": []
   },
   "source": [
    "##### Descoberta dos melhores parâmetros"
   ]
  },
  {
   "cell_type": "code",
   "execution_count": 86,
   "metadata": {},
   "outputs": [
    {
     "name": "stdout",
     "output_type": "stream",
     "text": [
      "Fitting 5 folds for each of 25 candidates, totalling 125 fits\n"
     ]
    },
    {
     "name": "stderr",
     "output_type": "stream",
     "text": [
      "c:\\Users\\vasco\\anaconda3\\lib\\site-packages\\sklearn\\utils\\validation.py:993: DataConversionWarning: A column-vector y was passed when a 1d array was expected. Please change the shape of y to (n_samples, ), for example using ravel().\n",
      "  y = column_or_1d(y, warn=True)\n"
     ]
    },
    {
     "name": "stdout",
     "output_type": "stream",
     "text": [
      "[CV 1/5] END ........C=0.1, gamma=1, kernel=rbf;, score=0.404 total time=   2.3s\n"
     ]
    },
    {
     "name": "stderr",
     "output_type": "stream",
     "text": [
      "c:\\Users\\vasco\\anaconda3\\lib\\site-packages\\sklearn\\utils\\validation.py:993: DataConversionWarning: A column-vector y was passed when a 1d array was expected. Please change the shape of y to (n_samples, ), for example using ravel().\n",
      "  y = column_or_1d(y, warn=True)\n"
     ]
    },
    {
     "name": "stdout",
     "output_type": "stream",
     "text": [
      "[CV 2/5] END ........C=0.1, gamma=1, kernel=rbf;, score=0.403 total time=   2.3s\n"
     ]
    },
    {
     "name": "stderr",
     "output_type": "stream",
     "text": [
      "c:\\Users\\vasco\\anaconda3\\lib\\site-packages\\sklearn\\utils\\validation.py:993: DataConversionWarning: A column-vector y was passed when a 1d array was expected. Please change the shape of y to (n_samples, ), for example using ravel().\n",
      "  y = column_or_1d(y, warn=True)\n"
     ]
    },
    {
     "name": "stdout",
     "output_type": "stream",
     "text": [
      "[CV 3/5] END ........C=0.1, gamma=1, kernel=rbf;, score=0.403 total time=   2.3s\n"
     ]
    },
    {
     "name": "stderr",
     "output_type": "stream",
     "text": [
      "c:\\Users\\vasco\\anaconda3\\lib\\site-packages\\sklearn\\utils\\validation.py:993: DataConversionWarning: A column-vector y was passed when a 1d array was expected. Please change the shape of y to (n_samples, ), for example using ravel().\n",
      "  y = column_or_1d(y, warn=True)\n"
     ]
    },
    {
     "name": "stdout",
     "output_type": "stream",
     "text": [
      "[CV 4/5] END ........C=0.1, gamma=1, kernel=rbf;, score=0.403 total time=   2.1s\n"
     ]
    },
    {
     "name": "stderr",
     "output_type": "stream",
     "text": [
      "c:\\Users\\vasco\\anaconda3\\lib\\site-packages\\sklearn\\utils\\validation.py:993: DataConversionWarning: A column-vector y was passed when a 1d array was expected. Please change the shape of y to (n_samples, ), for example using ravel().\n",
      "  y = column_or_1d(y, warn=True)\n"
     ]
    },
    {
     "name": "stdout",
     "output_type": "stream",
     "text": [
      "[CV 5/5] END ........C=0.1, gamma=1, kernel=rbf;, score=0.403 total time=   2.1s\n"
     ]
    },
    {
     "name": "stderr",
     "output_type": "stream",
     "text": [
      "c:\\Users\\vasco\\anaconda3\\lib\\site-packages\\sklearn\\utils\\validation.py:993: DataConversionWarning: A column-vector y was passed when a 1d array was expected. Please change the shape of y to (n_samples, ), for example using ravel().\n",
      "  y = column_or_1d(y, warn=True)\n"
     ]
    },
    {
     "name": "stdout",
     "output_type": "stream",
     "text": [
      "[CV 1/5] END ......C=0.1, gamma=0.1, kernel=rbf;, score=0.404 total time=   1.7s\n"
     ]
    },
    {
     "name": "stderr",
     "output_type": "stream",
     "text": [
      "c:\\Users\\vasco\\anaconda3\\lib\\site-packages\\sklearn\\utils\\validation.py:993: DataConversionWarning: A column-vector y was passed when a 1d array was expected. Please change the shape of y to (n_samples, ), for example using ravel().\n",
      "  y = column_or_1d(y, warn=True)\n"
     ]
    },
    {
     "name": "stdout",
     "output_type": "stream",
     "text": [
      "[CV 2/5] END ......C=0.1, gamma=0.1, kernel=rbf;, score=0.403 total time=   1.7s\n"
     ]
    },
    {
     "name": "stderr",
     "output_type": "stream",
     "text": [
      "c:\\Users\\vasco\\anaconda3\\lib\\site-packages\\sklearn\\utils\\validation.py:993: DataConversionWarning: A column-vector y was passed when a 1d array was expected. Please change the shape of y to (n_samples, ), for example using ravel().\n",
      "  y = column_or_1d(y, warn=True)\n"
     ]
    },
    {
     "name": "stdout",
     "output_type": "stream",
     "text": [
      "[CV 3/5] END ......C=0.1, gamma=0.1, kernel=rbf;, score=0.403 total time=   1.7s\n"
     ]
    },
    {
     "name": "stderr",
     "output_type": "stream",
     "text": [
      "c:\\Users\\vasco\\anaconda3\\lib\\site-packages\\sklearn\\utils\\validation.py:993: DataConversionWarning: A column-vector y was passed when a 1d array was expected. Please change the shape of y to (n_samples, ), for example using ravel().\n",
      "  y = column_or_1d(y, warn=True)\n"
     ]
    },
    {
     "name": "stdout",
     "output_type": "stream",
     "text": [
      "[CV 4/5] END ......C=0.1, gamma=0.1, kernel=rbf;, score=0.403 total time=   1.7s\n"
     ]
    },
    {
     "name": "stderr",
     "output_type": "stream",
     "text": [
      "c:\\Users\\vasco\\anaconda3\\lib\\site-packages\\sklearn\\utils\\validation.py:993: DataConversionWarning: A column-vector y was passed when a 1d array was expected. Please change the shape of y to (n_samples, ), for example using ravel().\n",
      "  y = column_or_1d(y, warn=True)\n"
     ]
    },
    {
     "name": "stdout",
     "output_type": "stream",
     "text": [
      "[CV 5/5] END ......C=0.1, gamma=0.1, kernel=rbf;, score=0.403 total time=   1.8s\n"
     ]
    },
    {
     "name": "stderr",
     "output_type": "stream",
     "text": [
      "c:\\Users\\vasco\\anaconda3\\lib\\site-packages\\sklearn\\utils\\validation.py:993: DataConversionWarning: A column-vector y was passed when a 1d array was expected. Please change the shape of y to (n_samples, ), for example using ravel().\n",
      "  y = column_or_1d(y, warn=True)\n"
     ]
    },
    {
     "name": "stdout",
     "output_type": "stream",
     "text": [
      "[CV 1/5] END .....C=0.1, gamma=0.01, kernel=rbf;, score=0.448 total time=   1.4s\n"
     ]
    },
    {
     "name": "stderr",
     "output_type": "stream",
     "text": [
      "c:\\Users\\vasco\\anaconda3\\lib\\site-packages\\sklearn\\utils\\validation.py:993: DataConversionWarning: A column-vector y was passed when a 1d array was expected. Please change the shape of y to (n_samples, ), for example using ravel().\n",
      "  y = column_or_1d(y, warn=True)\n"
     ]
    },
    {
     "name": "stdout",
     "output_type": "stream",
     "text": [
      "[CV 2/5] END .....C=0.1, gamma=0.01, kernel=rbf;, score=0.453 total time=   1.4s\n"
     ]
    },
    {
     "name": "stderr",
     "output_type": "stream",
     "text": [
      "c:\\Users\\vasco\\anaconda3\\lib\\site-packages\\sklearn\\utils\\validation.py:993: DataConversionWarning: A column-vector y was passed when a 1d array was expected. Please change the shape of y to (n_samples, ), for example using ravel().\n",
      "  y = column_or_1d(y, warn=True)\n"
     ]
    },
    {
     "name": "stdout",
     "output_type": "stream",
     "text": [
      "[CV 3/5] END .....C=0.1, gamma=0.01, kernel=rbf;, score=0.444 total time=   1.2s\n"
     ]
    },
    {
     "name": "stderr",
     "output_type": "stream",
     "text": [
      "c:\\Users\\vasco\\anaconda3\\lib\\site-packages\\sklearn\\utils\\validation.py:993: DataConversionWarning: A column-vector y was passed when a 1d array was expected. Please change the shape of y to (n_samples, ), for example using ravel().\n",
      "  y = column_or_1d(y, warn=True)\n"
     ]
    },
    {
     "name": "stdout",
     "output_type": "stream",
     "text": [
      "[CV 4/5] END .....C=0.1, gamma=0.01, kernel=rbf;, score=0.467 total time=   1.2s\n"
     ]
    },
    {
     "name": "stderr",
     "output_type": "stream",
     "text": [
      "c:\\Users\\vasco\\anaconda3\\lib\\site-packages\\sklearn\\utils\\validation.py:993: DataConversionWarning: A column-vector y was passed when a 1d array was expected. Please change the shape of y to (n_samples, ), for example using ravel().\n",
      "  y = column_or_1d(y, warn=True)\n"
     ]
    },
    {
     "name": "stdout",
     "output_type": "stream",
     "text": [
      "[CV 5/5] END .....C=0.1, gamma=0.01, kernel=rbf;, score=0.452 total time=   1.1s\n"
     ]
    },
    {
     "name": "stderr",
     "output_type": "stream",
     "text": [
      "c:\\Users\\vasco\\anaconda3\\lib\\site-packages\\sklearn\\utils\\validation.py:993: DataConversionWarning: A column-vector y was passed when a 1d array was expected. Please change the shape of y to (n_samples, ), for example using ravel().\n",
      "  y = column_or_1d(y, warn=True)\n"
     ]
    },
    {
     "name": "stdout",
     "output_type": "stream",
     "text": [
      "[CV 1/5] END ....C=0.1, gamma=0.001, kernel=rbf;, score=0.564 total time=   0.9s\n"
     ]
    },
    {
     "name": "stderr",
     "output_type": "stream",
     "text": [
      "c:\\Users\\vasco\\anaconda3\\lib\\site-packages\\sklearn\\utils\\validation.py:993: DataConversionWarning: A column-vector y was passed when a 1d array was expected. Please change the shape of y to (n_samples, ), for example using ravel().\n",
      "  y = column_or_1d(y, warn=True)\n"
     ]
    },
    {
     "name": "stdout",
     "output_type": "stream",
     "text": [
      "[CV 2/5] END ....C=0.1, gamma=0.001, kernel=rbf;, score=0.561 total time=   0.9s\n"
     ]
    },
    {
     "name": "stderr",
     "output_type": "stream",
     "text": [
      "c:\\Users\\vasco\\anaconda3\\lib\\site-packages\\sklearn\\utils\\validation.py:993: DataConversionWarning: A column-vector y was passed when a 1d array was expected. Please change the shape of y to (n_samples, ), for example using ravel().\n",
      "  y = column_or_1d(y, warn=True)\n"
     ]
    },
    {
     "name": "stdout",
     "output_type": "stream",
     "text": [
      "[CV 3/5] END ....C=0.1, gamma=0.001, kernel=rbf;, score=0.572 total time=   0.9s\n"
     ]
    },
    {
     "name": "stderr",
     "output_type": "stream",
     "text": [
      "c:\\Users\\vasco\\anaconda3\\lib\\site-packages\\sklearn\\utils\\validation.py:993: DataConversionWarning: A column-vector y was passed when a 1d array was expected. Please change the shape of y to (n_samples, ), for example using ravel().\n",
      "  y = column_or_1d(y, warn=True)\n"
     ]
    },
    {
     "name": "stdout",
     "output_type": "stream",
     "text": [
      "[CV 4/5] END ....C=0.1, gamma=0.001, kernel=rbf;, score=0.573 total time=   0.9s\n"
     ]
    },
    {
     "name": "stderr",
     "output_type": "stream",
     "text": [
      "c:\\Users\\vasco\\anaconda3\\lib\\site-packages\\sklearn\\utils\\validation.py:993: DataConversionWarning: A column-vector y was passed when a 1d array was expected. Please change the shape of y to (n_samples, ), for example using ravel().\n",
      "  y = column_or_1d(y, warn=True)\n"
     ]
    },
    {
     "name": "stdout",
     "output_type": "stream",
     "text": [
      "[CV 5/5] END ....C=0.1, gamma=0.001, kernel=rbf;, score=0.557 total time=   0.9s\n"
     ]
    },
    {
     "name": "stderr",
     "output_type": "stream",
     "text": [
      "c:\\Users\\vasco\\anaconda3\\lib\\site-packages\\sklearn\\utils\\validation.py:993: DataConversionWarning: A column-vector y was passed when a 1d array was expected. Please change the shape of y to (n_samples, ), for example using ravel().\n",
      "  y = column_or_1d(y, warn=True)\n"
     ]
    },
    {
     "name": "stdout",
     "output_type": "stream",
     "text": [
      "[CV 1/5] END ...C=0.1, gamma=0.0001, kernel=rbf;, score=0.581 total time=   0.8s\n"
     ]
    },
    {
     "name": "stderr",
     "output_type": "stream",
     "text": [
      "c:\\Users\\vasco\\anaconda3\\lib\\site-packages\\sklearn\\utils\\validation.py:993: DataConversionWarning: A column-vector y was passed when a 1d array was expected. Please change the shape of y to (n_samples, ), for example using ravel().\n",
      "  y = column_or_1d(y, warn=True)\n"
     ]
    },
    {
     "name": "stdout",
     "output_type": "stream",
     "text": [
      "[CV 2/5] END ...C=0.1, gamma=0.0001, kernel=rbf;, score=0.576 total time=   0.8s\n"
     ]
    },
    {
     "name": "stderr",
     "output_type": "stream",
     "text": [
      "c:\\Users\\vasco\\anaconda3\\lib\\site-packages\\sklearn\\utils\\validation.py:993: DataConversionWarning: A column-vector y was passed when a 1d array was expected. Please change the shape of y to (n_samples, ), for example using ravel().\n",
      "  y = column_or_1d(y, warn=True)\n"
     ]
    },
    {
     "name": "stdout",
     "output_type": "stream",
     "text": [
      "[CV 3/5] END ...C=0.1, gamma=0.0001, kernel=rbf;, score=0.581 total time=   0.8s\n"
     ]
    },
    {
     "name": "stderr",
     "output_type": "stream",
     "text": [
      "c:\\Users\\vasco\\anaconda3\\lib\\site-packages\\sklearn\\utils\\validation.py:993: DataConversionWarning: A column-vector y was passed when a 1d array was expected. Please change the shape of y to (n_samples, ), for example using ravel().\n",
      "  y = column_or_1d(y, warn=True)\n"
     ]
    },
    {
     "name": "stdout",
     "output_type": "stream",
     "text": [
      "[CV 4/5] END ...C=0.1, gamma=0.0001, kernel=rbf;, score=0.589 total time=   0.8s\n"
     ]
    },
    {
     "name": "stderr",
     "output_type": "stream",
     "text": [
      "c:\\Users\\vasco\\anaconda3\\lib\\site-packages\\sklearn\\utils\\validation.py:993: DataConversionWarning: A column-vector y was passed when a 1d array was expected. Please change the shape of y to (n_samples, ), for example using ravel().\n",
      "  y = column_or_1d(y, warn=True)\n"
     ]
    },
    {
     "name": "stdout",
     "output_type": "stream",
     "text": [
      "[CV 5/5] END ...C=0.1, gamma=0.0001, kernel=rbf;, score=0.571 total time=   0.8s\n"
     ]
    },
    {
     "name": "stderr",
     "output_type": "stream",
     "text": [
      "c:\\Users\\vasco\\anaconda3\\lib\\site-packages\\sklearn\\utils\\validation.py:993: DataConversionWarning: A column-vector y was passed when a 1d array was expected. Please change the shape of y to (n_samples, ), for example using ravel().\n",
      "  y = column_or_1d(y, warn=True)\n"
     ]
    },
    {
     "name": "stdout",
     "output_type": "stream",
     "text": [
      "[CV 1/5] END ..........C=1, gamma=1, kernel=rbf;, score=0.407 total time=   2.1s\n"
     ]
    },
    {
     "name": "stderr",
     "output_type": "stream",
     "text": [
      "c:\\Users\\vasco\\anaconda3\\lib\\site-packages\\sklearn\\utils\\validation.py:993: DataConversionWarning: A column-vector y was passed when a 1d array was expected. Please change the shape of y to (n_samples, ), for example using ravel().\n",
      "  y = column_or_1d(y, warn=True)\n"
     ]
    },
    {
     "name": "stdout",
     "output_type": "stream",
     "text": [
      "[CV 2/5] END ..........C=1, gamma=1, kernel=rbf;, score=0.403 total time=   2.3s\n"
     ]
    },
    {
     "name": "stderr",
     "output_type": "stream",
     "text": [
      "c:\\Users\\vasco\\anaconda3\\lib\\site-packages\\sklearn\\utils\\validation.py:993: DataConversionWarning: A column-vector y was passed when a 1d array was expected. Please change the shape of y to (n_samples, ), for example using ravel().\n",
      "  y = column_or_1d(y, warn=True)\n"
     ]
    },
    {
     "name": "stdout",
     "output_type": "stream",
     "text": [
      "[CV 3/5] END ..........C=1, gamma=1, kernel=rbf;, score=0.404 total time=   2.1s\n"
     ]
    },
    {
     "name": "stderr",
     "output_type": "stream",
     "text": [
      "c:\\Users\\vasco\\anaconda3\\lib\\site-packages\\sklearn\\utils\\validation.py:993: DataConversionWarning: A column-vector y was passed when a 1d array was expected. Please change the shape of y to (n_samples, ), for example using ravel().\n",
      "  y = column_or_1d(y, warn=True)\n"
     ]
    },
    {
     "name": "stdout",
     "output_type": "stream",
     "text": [
      "[CV 4/5] END ..........C=1, gamma=1, kernel=rbf;, score=0.404 total time=   2.4s\n"
     ]
    },
    {
     "name": "stderr",
     "output_type": "stream",
     "text": [
      "c:\\Users\\vasco\\anaconda3\\lib\\site-packages\\sklearn\\utils\\validation.py:993: DataConversionWarning: A column-vector y was passed when a 1d array was expected. Please change the shape of y to (n_samples, ), for example using ravel().\n",
      "  y = column_or_1d(y, warn=True)\n"
     ]
    },
    {
     "name": "stdout",
     "output_type": "stream",
     "text": [
      "[CV 5/5] END ..........C=1, gamma=1, kernel=rbf;, score=0.405 total time=   2.4s\n"
     ]
    },
    {
     "name": "stderr",
     "output_type": "stream",
     "text": [
      "c:\\Users\\vasco\\anaconda3\\lib\\site-packages\\sklearn\\utils\\validation.py:993: DataConversionWarning: A column-vector y was passed when a 1d array was expected. Please change the shape of y to (n_samples, ), for example using ravel().\n",
      "  y = column_or_1d(y, warn=True)\n"
     ]
    },
    {
     "name": "stdout",
     "output_type": "stream",
     "text": [
      "[CV 1/5] END ........C=1, gamma=0.1, kernel=rbf;, score=0.527 total time=   1.9s\n"
     ]
    },
    {
     "name": "stderr",
     "output_type": "stream",
     "text": [
      "c:\\Users\\vasco\\anaconda3\\lib\\site-packages\\sklearn\\utils\\validation.py:993: DataConversionWarning: A column-vector y was passed when a 1d array was expected. Please change the shape of y to (n_samples, ), for example using ravel().\n",
      "  y = column_or_1d(y, warn=True)\n"
     ]
    },
    {
     "name": "stdout",
     "output_type": "stream",
     "text": [
      "[CV 2/5] END ........C=1, gamma=0.1, kernel=rbf;, score=0.553 total time=   1.7s\n"
     ]
    },
    {
     "name": "stderr",
     "output_type": "stream",
     "text": [
      "c:\\Users\\vasco\\anaconda3\\lib\\site-packages\\sklearn\\utils\\validation.py:993: DataConversionWarning: A column-vector y was passed when a 1d array was expected. Please change the shape of y to (n_samples, ), for example using ravel().\n",
      "  y = column_or_1d(y, warn=True)\n"
     ]
    },
    {
     "name": "stdout",
     "output_type": "stream",
     "text": [
      "[CV 3/5] END ........C=1, gamma=0.1, kernel=rbf;, score=0.521 total time=   1.8s\n"
     ]
    },
    {
     "name": "stderr",
     "output_type": "stream",
     "text": [
      "c:\\Users\\vasco\\anaconda3\\lib\\site-packages\\sklearn\\utils\\validation.py:993: DataConversionWarning: A column-vector y was passed when a 1d array was expected. Please change the shape of y to (n_samples, ), for example using ravel().\n",
      "  y = column_or_1d(y, warn=True)\n"
     ]
    },
    {
     "name": "stdout",
     "output_type": "stream",
     "text": [
      "[CV 4/5] END ........C=1, gamma=0.1, kernel=rbf;, score=0.556 total time=   1.8s\n"
     ]
    },
    {
     "name": "stderr",
     "output_type": "stream",
     "text": [
      "c:\\Users\\vasco\\anaconda3\\lib\\site-packages\\sklearn\\utils\\validation.py:993: DataConversionWarning: A column-vector y was passed when a 1d array was expected. Please change the shape of y to (n_samples, ), for example using ravel().\n",
      "  y = column_or_1d(y, warn=True)\n"
     ]
    },
    {
     "name": "stdout",
     "output_type": "stream",
     "text": [
      "[CV 5/5] END ........C=1, gamma=0.1, kernel=rbf;, score=0.545 total time=   1.9s\n"
     ]
    },
    {
     "name": "stderr",
     "output_type": "stream",
     "text": [
      "c:\\Users\\vasco\\anaconda3\\lib\\site-packages\\sklearn\\utils\\validation.py:993: DataConversionWarning: A column-vector y was passed when a 1d array was expected. Please change the shape of y to (n_samples, ), for example using ravel().\n",
      "  y = column_or_1d(y, warn=True)\n"
     ]
    },
    {
     "name": "stdout",
     "output_type": "stream",
     "text": [
      "[CV 1/5] END .......C=1, gamma=0.01, kernel=rbf;, score=0.724 total time=   1.3s\n"
     ]
    },
    {
     "name": "stderr",
     "output_type": "stream",
     "text": [
      "c:\\Users\\vasco\\anaconda3\\lib\\site-packages\\sklearn\\utils\\validation.py:993: DataConversionWarning: A column-vector y was passed when a 1d array was expected. Please change the shape of y to (n_samples, ), for example using ravel().\n",
      "  y = column_or_1d(y, warn=True)\n"
     ]
    },
    {
     "name": "stdout",
     "output_type": "stream",
     "text": [
      "[CV 2/5] END .......C=1, gamma=0.01, kernel=rbf;, score=0.739 total time=   1.3s\n"
     ]
    },
    {
     "name": "stderr",
     "output_type": "stream",
     "text": [
      "c:\\Users\\vasco\\anaconda3\\lib\\site-packages\\sklearn\\utils\\validation.py:993: DataConversionWarning: A column-vector y was passed when a 1d array was expected. Please change the shape of y to (n_samples, ), for example using ravel().\n",
      "  y = column_or_1d(y, warn=True)\n"
     ]
    },
    {
     "name": "stdout",
     "output_type": "stream",
     "text": [
      "[CV 3/5] END .......C=1, gamma=0.01, kernel=rbf;, score=0.737 total time=   1.2s\n"
     ]
    },
    {
     "name": "stderr",
     "output_type": "stream",
     "text": [
      "c:\\Users\\vasco\\anaconda3\\lib\\site-packages\\sklearn\\utils\\validation.py:993: DataConversionWarning: A column-vector y was passed when a 1d array was expected. Please change the shape of y to (n_samples, ), for example using ravel().\n",
      "  y = column_or_1d(y, warn=True)\n"
     ]
    },
    {
     "name": "stdout",
     "output_type": "stream",
     "text": [
      "[CV 4/5] END .......C=1, gamma=0.01, kernel=rbf;, score=0.749 total time=   1.3s\n"
     ]
    },
    {
     "name": "stderr",
     "output_type": "stream",
     "text": [
      "c:\\Users\\vasco\\anaconda3\\lib\\site-packages\\sklearn\\utils\\validation.py:993: DataConversionWarning: A column-vector y was passed when a 1d array was expected. Please change the shape of y to (n_samples, ), for example using ravel().\n",
      "  y = column_or_1d(y, warn=True)\n"
     ]
    },
    {
     "name": "stdout",
     "output_type": "stream",
     "text": [
      "[CV 5/5] END .......C=1, gamma=0.01, kernel=rbf;, score=0.757 total time=   1.1s\n"
     ]
    },
    {
     "name": "stderr",
     "output_type": "stream",
     "text": [
      "c:\\Users\\vasco\\anaconda3\\lib\\site-packages\\sklearn\\utils\\validation.py:993: DataConversionWarning: A column-vector y was passed when a 1d array was expected. Please change the shape of y to (n_samples, ), for example using ravel().\n",
      "  y = column_or_1d(y, warn=True)\n"
     ]
    },
    {
     "name": "stdout",
     "output_type": "stream",
     "text": [
      "[CV 1/5] END ......C=1, gamma=0.001, kernel=rbf;, score=0.727 total time=   0.9s\n"
     ]
    },
    {
     "name": "stderr",
     "output_type": "stream",
     "text": [
      "c:\\Users\\vasco\\anaconda3\\lib\\site-packages\\sklearn\\utils\\validation.py:993: DataConversionWarning: A column-vector y was passed when a 1d array was expected. Please change the shape of y to (n_samples, ), for example using ravel().\n",
      "  y = column_or_1d(y, warn=True)\n"
     ]
    },
    {
     "name": "stdout",
     "output_type": "stream",
     "text": [
      "[CV 2/5] END ......C=1, gamma=0.001, kernel=rbf;, score=0.717 total time=   0.9s\n"
     ]
    },
    {
     "name": "stderr",
     "output_type": "stream",
     "text": [
      "c:\\Users\\vasco\\anaconda3\\lib\\site-packages\\sklearn\\utils\\validation.py:993: DataConversionWarning: A column-vector y was passed when a 1d array was expected. Please change the shape of y to (n_samples, ), for example using ravel().\n",
      "  y = column_or_1d(y, warn=True)\n"
     ]
    },
    {
     "name": "stdout",
     "output_type": "stream",
     "text": [
      "[CV 3/5] END ......C=1, gamma=0.001, kernel=rbf;, score=0.725 total time=   0.8s\n"
     ]
    },
    {
     "name": "stderr",
     "output_type": "stream",
     "text": [
      "c:\\Users\\vasco\\anaconda3\\lib\\site-packages\\sklearn\\utils\\validation.py:993: DataConversionWarning: A column-vector y was passed when a 1d array was expected. Please change the shape of y to (n_samples, ), for example using ravel().\n",
      "  y = column_or_1d(y, warn=True)\n"
     ]
    },
    {
     "name": "stdout",
     "output_type": "stream",
     "text": [
      "[CV 4/5] END ......C=1, gamma=0.001, kernel=rbf;, score=0.748 total time=   0.9s\n"
     ]
    },
    {
     "name": "stderr",
     "output_type": "stream",
     "text": [
      "c:\\Users\\vasco\\anaconda3\\lib\\site-packages\\sklearn\\utils\\validation.py:993: DataConversionWarning: A column-vector y was passed when a 1d array was expected. Please change the shape of y to (n_samples, ), for example using ravel().\n",
      "  y = column_or_1d(y, warn=True)\n"
     ]
    },
    {
     "name": "stdout",
     "output_type": "stream",
     "text": [
      "[CV 5/5] END ......C=1, gamma=0.001, kernel=rbf;, score=0.723 total time=   0.9s\n"
     ]
    },
    {
     "name": "stderr",
     "output_type": "stream",
     "text": [
      "c:\\Users\\vasco\\anaconda3\\lib\\site-packages\\sklearn\\utils\\validation.py:993: DataConversionWarning: A column-vector y was passed when a 1d array was expected. Please change the shape of y to (n_samples, ), for example using ravel().\n",
      "  y = column_or_1d(y, warn=True)\n"
     ]
    },
    {
     "name": "stdout",
     "output_type": "stream",
     "text": [
      "[CV 1/5] END .....C=1, gamma=0.0001, kernel=rbf;, score=0.607 total time=   0.8s\n"
     ]
    },
    {
     "name": "stderr",
     "output_type": "stream",
     "text": [
      "c:\\Users\\vasco\\anaconda3\\lib\\site-packages\\sklearn\\utils\\validation.py:993: DataConversionWarning: A column-vector y was passed when a 1d array was expected. Please change the shape of y to (n_samples, ), for example using ravel().\n",
      "  y = column_or_1d(y, warn=True)\n"
     ]
    },
    {
     "name": "stdout",
     "output_type": "stream",
     "text": [
      "[CV 2/5] END .....C=1, gamma=0.0001, kernel=rbf;, score=0.589 total time=   0.8s\n"
     ]
    },
    {
     "name": "stderr",
     "output_type": "stream",
     "text": [
      "c:\\Users\\vasco\\anaconda3\\lib\\site-packages\\sklearn\\utils\\validation.py:993: DataConversionWarning: A column-vector y was passed when a 1d array was expected. Please change the shape of y to (n_samples, ), for example using ravel().\n",
      "  y = column_or_1d(y, warn=True)\n"
     ]
    },
    {
     "name": "stdout",
     "output_type": "stream",
     "text": [
      "[CV 3/5] END .....C=1, gamma=0.0001, kernel=rbf;, score=0.611 total time=   0.9s\n"
     ]
    },
    {
     "name": "stderr",
     "output_type": "stream",
     "text": [
      "c:\\Users\\vasco\\anaconda3\\lib\\site-packages\\sklearn\\utils\\validation.py:993: DataConversionWarning: A column-vector y was passed when a 1d array was expected. Please change the shape of y to (n_samples, ), for example using ravel().\n",
      "  y = column_or_1d(y, warn=True)\n"
     ]
    },
    {
     "name": "stdout",
     "output_type": "stream",
     "text": [
      "[CV 4/5] END .....C=1, gamma=0.0001, kernel=rbf;, score=0.597 total time=   0.8s\n"
     ]
    },
    {
     "name": "stderr",
     "output_type": "stream",
     "text": [
      "c:\\Users\\vasco\\anaconda3\\lib\\site-packages\\sklearn\\utils\\validation.py:993: DataConversionWarning: A column-vector y was passed when a 1d array was expected. Please change the shape of y to (n_samples, ), for example using ravel().\n",
      "  y = column_or_1d(y, warn=True)\n"
     ]
    },
    {
     "name": "stdout",
     "output_type": "stream",
     "text": [
      "[CV 5/5] END .....C=1, gamma=0.0001, kernel=rbf;, score=0.581 total time=   0.7s\n"
     ]
    },
    {
     "name": "stderr",
     "output_type": "stream",
     "text": [
      "c:\\Users\\vasco\\anaconda3\\lib\\site-packages\\sklearn\\utils\\validation.py:993: DataConversionWarning: A column-vector y was passed when a 1d array was expected. Please change the shape of y to (n_samples, ), for example using ravel().\n",
      "  y = column_or_1d(y, warn=True)\n"
     ]
    },
    {
     "name": "stdout",
     "output_type": "stream",
     "text": [
      "[CV 1/5] END .........C=10, gamma=1, kernel=rbf;, score=0.417 total time=   2.4s\n"
     ]
    },
    {
     "name": "stderr",
     "output_type": "stream",
     "text": [
      "c:\\Users\\vasco\\anaconda3\\lib\\site-packages\\sklearn\\utils\\validation.py:993: DataConversionWarning: A column-vector y was passed when a 1d array was expected. Please change the shape of y to (n_samples, ), for example using ravel().\n",
      "  y = column_or_1d(y, warn=True)\n"
     ]
    },
    {
     "name": "stdout",
     "output_type": "stream",
     "text": [
      "[CV 2/5] END .........C=10, gamma=1, kernel=rbf;, score=0.421 total time=   2.4s\n"
     ]
    },
    {
     "name": "stderr",
     "output_type": "stream",
     "text": [
      "c:\\Users\\vasco\\anaconda3\\lib\\site-packages\\sklearn\\utils\\validation.py:993: DataConversionWarning: A column-vector y was passed when a 1d array was expected. Please change the shape of y to (n_samples, ), for example using ravel().\n",
      "  y = column_or_1d(y, warn=True)\n"
     ]
    },
    {
     "name": "stdout",
     "output_type": "stream",
     "text": [
      "[CV 3/5] END .........C=10, gamma=1, kernel=rbf;, score=0.412 total time=   2.4s\n"
     ]
    },
    {
     "name": "stderr",
     "output_type": "stream",
     "text": [
      "c:\\Users\\vasco\\anaconda3\\lib\\site-packages\\sklearn\\utils\\validation.py:993: DataConversionWarning: A column-vector y was passed when a 1d array was expected. Please change the shape of y to (n_samples, ), for example using ravel().\n",
      "  y = column_or_1d(y, warn=True)\n"
     ]
    },
    {
     "name": "stdout",
     "output_type": "stream",
     "text": [
      "[CV 4/5] END .........C=10, gamma=1, kernel=rbf;, score=0.412 total time=   2.4s\n"
     ]
    },
    {
     "name": "stderr",
     "output_type": "stream",
     "text": [
      "c:\\Users\\vasco\\anaconda3\\lib\\site-packages\\sklearn\\utils\\validation.py:993: DataConversionWarning: A column-vector y was passed when a 1d array was expected. Please change the shape of y to (n_samples, ), for example using ravel().\n",
      "  y = column_or_1d(y, warn=True)\n"
     ]
    },
    {
     "name": "stdout",
     "output_type": "stream",
     "text": [
      "[CV 5/5] END .........C=10, gamma=1, kernel=rbf;, score=0.412 total time=   3.0s\n"
     ]
    },
    {
     "name": "stderr",
     "output_type": "stream",
     "text": [
      "c:\\Users\\vasco\\anaconda3\\lib\\site-packages\\sklearn\\utils\\validation.py:993: DataConversionWarning: A column-vector y was passed when a 1d array was expected. Please change the shape of y to (n_samples, ), for example using ravel().\n",
      "  y = column_or_1d(y, warn=True)\n"
     ]
    },
    {
     "name": "stdout",
     "output_type": "stream",
     "text": [
      "[CV 1/5] END .......C=10, gamma=0.1, kernel=rbf;, score=0.548 total time=   2.5s\n"
     ]
    },
    {
     "name": "stderr",
     "output_type": "stream",
     "text": [
      "c:\\Users\\vasco\\anaconda3\\lib\\site-packages\\sklearn\\utils\\validation.py:993: DataConversionWarning: A column-vector y was passed when a 1d array was expected. Please change the shape of y to (n_samples, ), for example using ravel().\n",
      "  y = column_or_1d(y, warn=True)\n"
     ]
    },
    {
     "name": "stdout",
     "output_type": "stream",
     "text": [
      "[CV 2/5] END .......C=10, gamma=0.1, kernel=rbf;, score=0.567 total time=   2.4s\n"
     ]
    },
    {
     "name": "stderr",
     "output_type": "stream",
     "text": [
      "c:\\Users\\vasco\\anaconda3\\lib\\site-packages\\sklearn\\utils\\validation.py:993: DataConversionWarning: A column-vector y was passed when a 1d array was expected. Please change the shape of y to (n_samples, ), for example using ravel().\n",
      "  y = column_or_1d(y, warn=True)\n"
     ]
    },
    {
     "name": "stdout",
     "output_type": "stream",
     "text": [
      "[CV 3/5] END .......C=10, gamma=0.1, kernel=rbf;, score=0.551 total time=   2.2s\n"
     ]
    },
    {
     "name": "stderr",
     "output_type": "stream",
     "text": [
      "c:\\Users\\vasco\\anaconda3\\lib\\site-packages\\sklearn\\utils\\validation.py:993: DataConversionWarning: A column-vector y was passed when a 1d array was expected. Please change the shape of y to (n_samples, ), for example using ravel().\n",
      "  y = column_or_1d(y, warn=True)\n"
     ]
    },
    {
     "name": "stdout",
     "output_type": "stream",
     "text": [
      "[CV 4/5] END .......C=10, gamma=0.1, kernel=rbf;, score=0.571 total time=   3.3s\n"
     ]
    },
    {
     "name": "stderr",
     "output_type": "stream",
     "text": [
      "c:\\Users\\vasco\\anaconda3\\lib\\site-packages\\sklearn\\utils\\validation.py:993: DataConversionWarning: A column-vector y was passed when a 1d array was expected. Please change the shape of y to (n_samples, ), for example using ravel().\n",
      "  y = column_or_1d(y, warn=True)\n"
     ]
    },
    {
     "name": "stdout",
     "output_type": "stream",
     "text": [
      "[CV 5/5] END .......C=10, gamma=0.1, kernel=rbf;, score=0.569 total time=   3.3s\n"
     ]
    },
    {
     "name": "stderr",
     "output_type": "stream",
     "text": [
      "c:\\Users\\vasco\\anaconda3\\lib\\site-packages\\sklearn\\utils\\validation.py:993: DataConversionWarning: A column-vector y was passed when a 1d array was expected. Please change the shape of y to (n_samples, ), for example using ravel().\n",
      "  y = column_or_1d(y, warn=True)\n"
     ]
    },
    {
     "name": "stdout",
     "output_type": "stream",
     "text": [
      "[CV 1/5] END ......C=10, gamma=0.01, kernel=rbf;, score=0.759 total time=   2.1s\n"
     ]
    },
    {
     "name": "stderr",
     "output_type": "stream",
     "text": [
      "c:\\Users\\vasco\\anaconda3\\lib\\site-packages\\sklearn\\utils\\validation.py:993: DataConversionWarning: A column-vector y was passed when a 1d array was expected. Please change the shape of y to (n_samples, ), for example using ravel().\n",
      "  y = column_or_1d(y, warn=True)\n"
     ]
    },
    {
     "name": "stdout",
     "output_type": "stream",
     "text": [
      "[CV 2/5] END ......C=10, gamma=0.01, kernel=rbf;, score=0.785 total time=   2.4s\n"
     ]
    },
    {
     "name": "stderr",
     "output_type": "stream",
     "text": [
      "c:\\Users\\vasco\\anaconda3\\lib\\site-packages\\sklearn\\utils\\validation.py:993: DataConversionWarning: A column-vector y was passed when a 1d array was expected. Please change the shape of y to (n_samples, ), for example using ravel().\n",
      "  y = column_or_1d(y, warn=True)\n"
     ]
    },
    {
     "name": "stdout",
     "output_type": "stream",
     "text": [
      "[CV 3/5] END ......C=10, gamma=0.01, kernel=rbf;, score=0.772 total time=   1.6s\n"
     ]
    },
    {
     "name": "stderr",
     "output_type": "stream",
     "text": [
      "c:\\Users\\vasco\\anaconda3\\lib\\site-packages\\sklearn\\utils\\validation.py:993: DataConversionWarning: A column-vector y was passed when a 1d array was expected. Please change the shape of y to (n_samples, ), for example using ravel().\n",
      "  y = column_or_1d(y, warn=True)\n"
     ]
    },
    {
     "name": "stdout",
     "output_type": "stream",
     "text": [
      "[CV 4/5] END ......C=10, gamma=0.01, kernel=rbf;, score=0.792 total time=   1.6s\n"
     ]
    },
    {
     "name": "stderr",
     "output_type": "stream",
     "text": [
      "c:\\Users\\vasco\\anaconda3\\lib\\site-packages\\sklearn\\utils\\validation.py:993: DataConversionWarning: A column-vector y was passed when a 1d array was expected. Please change the shape of y to (n_samples, ), for example using ravel().\n",
      "  y = column_or_1d(y, warn=True)\n"
     ]
    },
    {
     "name": "stdout",
     "output_type": "stream",
     "text": [
      "[CV 5/5] END ......C=10, gamma=0.01, kernel=rbf;, score=0.799 total time=   1.3s\n"
     ]
    },
    {
     "name": "stderr",
     "output_type": "stream",
     "text": [
      "c:\\Users\\vasco\\anaconda3\\lib\\site-packages\\sklearn\\utils\\validation.py:993: DataConversionWarning: A column-vector y was passed when a 1d array was expected. Please change the shape of y to (n_samples, ), for example using ravel().\n",
      "  y = column_or_1d(y, warn=True)\n"
     ]
    },
    {
     "name": "stdout",
     "output_type": "stream",
     "text": [
      "[CV 1/5] END .....C=10, gamma=0.001, kernel=rbf;, score=0.772 total time=   0.8s\n"
     ]
    },
    {
     "name": "stderr",
     "output_type": "stream",
     "text": [
      "c:\\Users\\vasco\\anaconda3\\lib\\site-packages\\sklearn\\utils\\validation.py:993: DataConversionWarning: A column-vector y was passed when a 1d array was expected. Please change the shape of y to (n_samples, ), for example using ravel().\n",
      "  y = column_or_1d(y, warn=True)\n"
     ]
    },
    {
     "name": "stdout",
     "output_type": "stream",
     "text": [
      "[CV 2/5] END .....C=10, gamma=0.001, kernel=rbf;, score=0.771 total time=   0.9s\n"
     ]
    },
    {
     "name": "stderr",
     "output_type": "stream",
     "text": [
      "c:\\Users\\vasco\\anaconda3\\lib\\site-packages\\sklearn\\utils\\validation.py:993: DataConversionWarning: A column-vector y was passed when a 1d array was expected. Please change the shape of y to (n_samples, ), for example using ravel().\n",
      "  y = column_or_1d(y, warn=True)\n"
     ]
    },
    {
     "name": "stdout",
     "output_type": "stream",
     "text": [
      "[CV 3/5] END .....C=10, gamma=0.001, kernel=rbf;, score=0.755 total time=   0.9s\n"
     ]
    },
    {
     "name": "stderr",
     "output_type": "stream",
     "text": [
      "c:\\Users\\vasco\\anaconda3\\lib\\site-packages\\sklearn\\utils\\validation.py:993: DataConversionWarning: A column-vector y was passed when a 1d array was expected. Please change the shape of y to (n_samples, ), for example using ravel().\n",
      "  y = column_or_1d(y, warn=True)\n"
     ]
    },
    {
     "name": "stdout",
     "output_type": "stream",
     "text": [
      "[CV 4/5] END .....C=10, gamma=0.001, kernel=rbf;, score=0.801 total time=   0.9s\n"
     ]
    },
    {
     "name": "stderr",
     "output_type": "stream",
     "text": [
      "c:\\Users\\vasco\\anaconda3\\lib\\site-packages\\sklearn\\utils\\validation.py:993: DataConversionWarning: A column-vector y was passed when a 1d array was expected. Please change the shape of y to (n_samples, ), for example using ravel().\n",
      "  y = column_or_1d(y, warn=True)\n"
     ]
    },
    {
     "name": "stdout",
     "output_type": "stream",
     "text": [
      "[CV 5/5] END .....C=10, gamma=0.001, kernel=rbf;, score=0.795 total time=   1.0s\n"
     ]
    },
    {
     "name": "stderr",
     "output_type": "stream",
     "text": [
      "c:\\Users\\vasco\\anaconda3\\lib\\site-packages\\sklearn\\utils\\validation.py:993: DataConversionWarning: A column-vector y was passed when a 1d array was expected. Please change the shape of y to (n_samples, ), for example using ravel().\n",
      "  y = column_or_1d(y, warn=True)\n"
     ]
    },
    {
     "name": "stdout",
     "output_type": "stream",
     "text": [
      "[CV 1/5] END ....C=10, gamma=0.0001, kernel=rbf;, score=0.753 total time=   0.9s\n"
     ]
    },
    {
     "name": "stderr",
     "output_type": "stream",
     "text": [
      "c:\\Users\\vasco\\anaconda3\\lib\\site-packages\\sklearn\\utils\\validation.py:993: DataConversionWarning: A column-vector y was passed when a 1d array was expected. Please change the shape of y to (n_samples, ), for example using ravel().\n",
      "  y = column_or_1d(y, warn=True)\n"
     ]
    },
    {
     "name": "stdout",
     "output_type": "stream",
     "text": [
      "[CV 2/5] END ....C=10, gamma=0.0001, kernel=rbf;, score=0.740 total time=   0.7s\n"
     ]
    },
    {
     "name": "stderr",
     "output_type": "stream",
     "text": [
      "c:\\Users\\vasco\\anaconda3\\lib\\site-packages\\sklearn\\utils\\validation.py:993: DataConversionWarning: A column-vector y was passed when a 1d array was expected. Please change the shape of y to (n_samples, ), for example using ravel().\n",
      "  y = column_or_1d(y, warn=True)\n"
     ]
    },
    {
     "name": "stdout",
     "output_type": "stream",
     "text": [
      "[CV 3/5] END ....C=10, gamma=0.0001, kernel=rbf;, score=0.741 total time=   0.7s\n"
     ]
    },
    {
     "name": "stderr",
     "output_type": "stream",
     "text": [
      "c:\\Users\\vasco\\anaconda3\\lib\\site-packages\\sklearn\\utils\\validation.py:993: DataConversionWarning: A column-vector y was passed when a 1d array was expected. Please change the shape of y to (n_samples, ), for example using ravel().\n",
      "  y = column_or_1d(y, warn=True)\n"
     ]
    },
    {
     "name": "stdout",
     "output_type": "stream",
     "text": [
      "[CV 4/5] END ....C=10, gamma=0.0001, kernel=rbf;, score=0.759 total time=   0.7s\n"
     ]
    },
    {
     "name": "stderr",
     "output_type": "stream",
     "text": [
      "c:\\Users\\vasco\\anaconda3\\lib\\site-packages\\sklearn\\utils\\validation.py:993: DataConversionWarning: A column-vector y was passed when a 1d array was expected. Please change the shape of y to (n_samples, ), for example using ravel().\n",
      "  y = column_or_1d(y, warn=True)\n"
     ]
    },
    {
     "name": "stdout",
     "output_type": "stream",
     "text": [
      "[CV 5/5] END ....C=10, gamma=0.0001, kernel=rbf;, score=0.724 total time=   0.7s\n"
     ]
    },
    {
     "name": "stderr",
     "output_type": "stream",
     "text": [
      "c:\\Users\\vasco\\anaconda3\\lib\\site-packages\\sklearn\\utils\\validation.py:993: DataConversionWarning: A column-vector y was passed when a 1d array was expected. Please change the shape of y to (n_samples, ), for example using ravel().\n",
      "  y = column_or_1d(y, warn=True)\n"
     ]
    },
    {
     "name": "stdout",
     "output_type": "stream",
     "text": [
      "[CV 1/5] END ........C=100, gamma=1, kernel=rbf;, score=0.417 total time=   2.4s\n"
     ]
    },
    {
     "name": "stderr",
     "output_type": "stream",
     "text": [
      "c:\\Users\\vasco\\anaconda3\\lib\\site-packages\\sklearn\\utils\\validation.py:993: DataConversionWarning: A column-vector y was passed when a 1d array was expected. Please change the shape of y to (n_samples, ), for example using ravel().\n",
      "  y = column_or_1d(y, warn=True)\n"
     ]
    },
    {
     "name": "stdout",
     "output_type": "stream",
     "text": [
      "[CV 2/5] END ........C=100, gamma=1, kernel=rbf;, score=0.421 total time=   2.4s\n"
     ]
    },
    {
     "name": "stderr",
     "output_type": "stream",
     "text": [
      "c:\\Users\\vasco\\anaconda3\\lib\\site-packages\\sklearn\\utils\\validation.py:993: DataConversionWarning: A column-vector y was passed when a 1d array was expected. Please change the shape of y to (n_samples, ), for example using ravel().\n",
      "  y = column_or_1d(y, warn=True)\n"
     ]
    },
    {
     "name": "stdout",
     "output_type": "stream",
     "text": [
      "[CV 3/5] END ........C=100, gamma=1, kernel=rbf;, score=0.412 total time=   2.4s\n"
     ]
    },
    {
     "name": "stderr",
     "output_type": "stream",
     "text": [
      "c:\\Users\\vasco\\anaconda3\\lib\\site-packages\\sklearn\\utils\\validation.py:993: DataConversionWarning: A column-vector y was passed when a 1d array was expected. Please change the shape of y to (n_samples, ), for example using ravel().\n",
      "  y = column_or_1d(y, warn=True)\n"
     ]
    },
    {
     "name": "stdout",
     "output_type": "stream",
     "text": [
      "[CV 4/5] END ........C=100, gamma=1, kernel=rbf;, score=0.412 total time=   2.4s\n"
     ]
    },
    {
     "name": "stderr",
     "output_type": "stream",
     "text": [
      "c:\\Users\\vasco\\anaconda3\\lib\\site-packages\\sklearn\\utils\\validation.py:993: DataConversionWarning: A column-vector y was passed when a 1d array was expected. Please change the shape of y to (n_samples, ), for example using ravel().\n",
      "  y = column_or_1d(y, warn=True)\n"
     ]
    },
    {
     "name": "stdout",
     "output_type": "stream",
     "text": [
      "[CV 5/5] END ........C=100, gamma=1, kernel=rbf;, score=0.412 total time=   2.5s\n"
     ]
    },
    {
     "name": "stderr",
     "output_type": "stream",
     "text": [
      "c:\\Users\\vasco\\anaconda3\\lib\\site-packages\\sklearn\\utils\\validation.py:993: DataConversionWarning: A column-vector y was passed when a 1d array was expected. Please change the shape of y to (n_samples, ), for example using ravel().\n",
      "  y = column_or_1d(y, warn=True)\n"
     ]
    },
    {
     "name": "stdout",
     "output_type": "stream",
     "text": [
      "[CV 1/5] END ......C=100, gamma=0.1, kernel=rbf;, score=0.548 total time=   2.0s\n"
     ]
    },
    {
     "name": "stderr",
     "output_type": "stream",
     "text": [
      "c:\\Users\\vasco\\anaconda3\\lib\\site-packages\\sklearn\\utils\\validation.py:993: DataConversionWarning: A column-vector y was passed when a 1d array was expected. Please change the shape of y to (n_samples, ), for example using ravel().\n",
      "  y = column_or_1d(y, warn=True)\n"
     ]
    },
    {
     "name": "stdout",
     "output_type": "stream",
     "text": [
      "[CV 2/5] END ......C=100, gamma=0.1, kernel=rbf;, score=0.567 total time=   2.0s\n"
     ]
    },
    {
     "name": "stderr",
     "output_type": "stream",
     "text": [
      "c:\\Users\\vasco\\anaconda3\\lib\\site-packages\\sklearn\\utils\\validation.py:993: DataConversionWarning: A column-vector y was passed when a 1d array was expected. Please change the shape of y to (n_samples, ), for example using ravel().\n",
      "  y = column_or_1d(y, warn=True)\n"
     ]
    },
    {
     "name": "stdout",
     "output_type": "stream",
     "text": [
      "[CV 3/5] END ......C=100, gamma=0.1, kernel=rbf;, score=0.551 total time=   2.0s\n"
     ]
    },
    {
     "name": "stderr",
     "output_type": "stream",
     "text": [
      "c:\\Users\\vasco\\anaconda3\\lib\\site-packages\\sklearn\\utils\\validation.py:993: DataConversionWarning: A column-vector y was passed when a 1d array was expected. Please change the shape of y to (n_samples, ), for example using ravel().\n",
      "  y = column_or_1d(y, warn=True)\n"
     ]
    },
    {
     "name": "stdout",
     "output_type": "stream",
     "text": [
      "[CV 4/5] END ......C=100, gamma=0.1, kernel=rbf;, score=0.571 total time=   2.0s\n"
     ]
    },
    {
     "name": "stderr",
     "output_type": "stream",
     "text": [
      "c:\\Users\\vasco\\anaconda3\\lib\\site-packages\\sklearn\\utils\\validation.py:993: DataConversionWarning: A column-vector y was passed when a 1d array was expected. Please change the shape of y to (n_samples, ), for example using ravel().\n",
      "  y = column_or_1d(y, warn=True)\n"
     ]
    },
    {
     "name": "stdout",
     "output_type": "stream",
     "text": [
      "[CV 5/5] END ......C=100, gamma=0.1, kernel=rbf;, score=0.569 total time=   2.0s\n"
     ]
    },
    {
     "name": "stderr",
     "output_type": "stream",
     "text": [
      "c:\\Users\\vasco\\anaconda3\\lib\\site-packages\\sklearn\\utils\\validation.py:993: DataConversionWarning: A column-vector y was passed when a 1d array was expected. Please change the shape of y to (n_samples, ), for example using ravel().\n",
      "  y = column_or_1d(y, warn=True)\n"
     ]
    },
    {
     "name": "stdout",
     "output_type": "stream",
     "text": [
      "[CV 1/5] END .....C=100, gamma=0.01, kernel=rbf;, score=0.761 total time=   1.2s\n"
     ]
    },
    {
     "name": "stderr",
     "output_type": "stream",
     "text": [
      "c:\\Users\\vasco\\anaconda3\\lib\\site-packages\\sklearn\\utils\\validation.py:993: DataConversionWarning: A column-vector y was passed when a 1d array was expected. Please change the shape of y to (n_samples, ), for example using ravel().\n",
      "  y = column_or_1d(y, warn=True)\n"
     ]
    },
    {
     "name": "stdout",
     "output_type": "stream",
     "text": [
      "[CV 2/5] END .....C=100, gamma=0.01, kernel=rbf;, score=0.784 total time=   1.2s\n"
     ]
    },
    {
     "name": "stderr",
     "output_type": "stream",
     "text": [
      "c:\\Users\\vasco\\anaconda3\\lib\\site-packages\\sklearn\\utils\\validation.py:993: DataConversionWarning: A column-vector y was passed when a 1d array was expected. Please change the shape of y to (n_samples, ), for example using ravel().\n",
      "  y = column_or_1d(y, warn=True)\n"
     ]
    },
    {
     "name": "stdout",
     "output_type": "stream",
     "text": [
      "[CV 3/5] END .....C=100, gamma=0.01, kernel=rbf;, score=0.777 total time=   1.2s\n"
     ]
    },
    {
     "name": "stderr",
     "output_type": "stream",
     "text": [
      "c:\\Users\\vasco\\anaconda3\\lib\\site-packages\\sklearn\\utils\\validation.py:993: DataConversionWarning: A column-vector y was passed when a 1d array was expected. Please change the shape of y to (n_samples, ), for example using ravel().\n",
      "  y = column_or_1d(y, warn=True)\n"
     ]
    },
    {
     "name": "stdout",
     "output_type": "stream",
     "text": [
      "[CV 4/5] END .....C=100, gamma=0.01, kernel=rbf;, score=0.792 total time=   1.2s\n"
     ]
    },
    {
     "name": "stderr",
     "output_type": "stream",
     "text": [
      "c:\\Users\\vasco\\anaconda3\\lib\\site-packages\\sklearn\\utils\\validation.py:993: DataConversionWarning: A column-vector y was passed when a 1d array was expected. Please change the shape of y to (n_samples, ), for example using ravel().\n",
      "  y = column_or_1d(y, warn=True)\n"
     ]
    },
    {
     "name": "stdout",
     "output_type": "stream",
     "text": [
      "[CV 5/5] END .....C=100, gamma=0.01, kernel=rbf;, score=0.800 total time=   1.2s\n"
     ]
    },
    {
     "name": "stderr",
     "output_type": "stream",
     "text": [
      "c:\\Users\\vasco\\anaconda3\\lib\\site-packages\\sklearn\\utils\\validation.py:993: DataConversionWarning: A column-vector y was passed when a 1d array was expected. Please change the shape of y to (n_samples, ), for example using ravel().\n",
      "  y = column_or_1d(y, warn=True)\n"
     ]
    },
    {
     "name": "stdout",
     "output_type": "stream",
     "text": [
      "[CV 1/5] END ....C=100, gamma=0.001, kernel=rbf;, score=0.804 total time=   0.9s\n"
     ]
    },
    {
     "name": "stderr",
     "output_type": "stream",
     "text": [
      "c:\\Users\\vasco\\anaconda3\\lib\\site-packages\\sklearn\\utils\\validation.py:993: DataConversionWarning: A column-vector y was passed when a 1d array was expected. Please change the shape of y to (n_samples, ), for example using ravel().\n",
      "  y = column_or_1d(y, warn=True)\n"
     ]
    },
    {
     "name": "stdout",
     "output_type": "stream",
     "text": [
      "[CV 2/5] END ....C=100, gamma=0.001, kernel=rbf;, score=0.821 total time=   1.0s\n"
     ]
    },
    {
     "name": "stderr",
     "output_type": "stream",
     "text": [
      "c:\\Users\\vasco\\anaconda3\\lib\\site-packages\\sklearn\\utils\\validation.py:993: DataConversionWarning: A column-vector y was passed when a 1d array was expected. Please change the shape of y to (n_samples, ), for example using ravel().\n",
      "  y = column_or_1d(y, warn=True)\n"
     ]
    },
    {
     "name": "stdout",
     "output_type": "stream",
     "text": [
      "[CV 3/5] END ....C=100, gamma=0.001, kernel=rbf;, score=0.780 total time=   0.9s\n"
     ]
    },
    {
     "name": "stderr",
     "output_type": "stream",
     "text": [
      "c:\\Users\\vasco\\anaconda3\\lib\\site-packages\\sklearn\\utils\\validation.py:993: DataConversionWarning: A column-vector y was passed when a 1d array was expected. Please change the shape of y to (n_samples, ), for example using ravel().\n",
      "  y = column_or_1d(y, warn=True)\n"
     ]
    },
    {
     "name": "stdout",
     "output_type": "stream",
     "text": [
      "[CV 4/5] END ....C=100, gamma=0.001, kernel=rbf;, score=0.816 total time=   0.9s\n"
     ]
    },
    {
     "name": "stderr",
     "output_type": "stream",
     "text": [
      "c:\\Users\\vasco\\anaconda3\\lib\\site-packages\\sklearn\\utils\\validation.py:993: DataConversionWarning: A column-vector y was passed when a 1d array was expected. Please change the shape of y to (n_samples, ), for example using ravel().\n",
      "  y = column_or_1d(y, warn=True)\n"
     ]
    },
    {
     "name": "stdout",
     "output_type": "stream",
     "text": [
      "[CV 5/5] END ....C=100, gamma=0.001, kernel=rbf;, score=0.823 total time=   0.8s\n"
     ]
    },
    {
     "name": "stderr",
     "output_type": "stream",
     "text": [
      "c:\\Users\\vasco\\anaconda3\\lib\\site-packages\\sklearn\\utils\\validation.py:993: DataConversionWarning: A column-vector y was passed when a 1d array was expected. Please change the shape of y to (n_samples, ), for example using ravel().\n",
      "  y = column_or_1d(y, warn=True)\n"
     ]
    },
    {
     "name": "stdout",
     "output_type": "stream",
     "text": [
      "[CV 1/5] END ...C=100, gamma=0.0001, kernel=rbf;, score=0.805 total time=   0.7s\n"
     ]
    },
    {
     "name": "stderr",
     "output_type": "stream",
     "text": [
      "c:\\Users\\vasco\\anaconda3\\lib\\site-packages\\sklearn\\utils\\validation.py:993: DataConversionWarning: A column-vector y was passed when a 1d array was expected. Please change the shape of y to (n_samples, ), for example using ravel().\n",
      "  y = column_or_1d(y, warn=True)\n"
     ]
    },
    {
     "name": "stdout",
     "output_type": "stream",
     "text": [
      "[CV 2/5] END ...C=100, gamma=0.0001, kernel=rbf;, score=0.775 total time=   0.7s\n"
     ]
    },
    {
     "name": "stderr",
     "output_type": "stream",
     "text": [
      "c:\\Users\\vasco\\anaconda3\\lib\\site-packages\\sklearn\\utils\\validation.py:993: DataConversionWarning: A column-vector y was passed when a 1d array was expected. Please change the shape of y to (n_samples, ), for example using ravel().\n",
      "  y = column_or_1d(y, warn=True)\n"
     ]
    },
    {
     "name": "stdout",
     "output_type": "stream",
     "text": [
      "[CV 3/5] END ...C=100, gamma=0.0001, kernel=rbf;, score=0.764 total time=   0.7s\n"
     ]
    },
    {
     "name": "stderr",
     "output_type": "stream",
     "text": [
      "c:\\Users\\vasco\\anaconda3\\lib\\site-packages\\sklearn\\utils\\validation.py:993: DataConversionWarning: A column-vector y was passed when a 1d array was expected. Please change the shape of y to (n_samples, ), for example using ravel().\n",
      "  y = column_or_1d(y, warn=True)\n"
     ]
    },
    {
     "name": "stdout",
     "output_type": "stream",
     "text": [
      "[CV 4/5] END ...C=100, gamma=0.0001, kernel=rbf;, score=0.796 total time=   0.7s\n"
     ]
    },
    {
     "name": "stderr",
     "output_type": "stream",
     "text": [
      "c:\\Users\\vasco\\anaconda3\\lib\\site-packages\\sklearn\\utils\\validation.py:993: DataConversionWarning: A column-vector y was passed when a 1d array was expected. Please change the shape of y to (n_samples, ), for example using ravel().\n",
      "  y = column_or_1d(y, warn=True)\n"
     ]
    },
    {
     "name": "stdout",
     "output_type": "stream",
     "text": [
      "[CV 5/5] END ...C=100, gamma=0.0001, kernel=rbf;, score=0.789 total time=   0.7s\n"
     ]
    },
    {
     "name": "stderr",
     "output_type": "stream",
     "text": [
      "c:\\Users\\vasco\\anaconda3\\lib\\site-packages\\sklearn\\utils\\validation.py:993: DataConversionWarning: A column-vector y was passed when a 1d array was expected. Please change the shape of y to (n_samples, ), for example using ravel().\n",
      "  y = column_or_1d(y, warn=True)\n"
     ]
    },
    {
     "name": "stdout",
     "output_type": "stream",
     "text": [
      "[CV 1/5] END .......C=1000, gamma=1, kernel=rbf;, score=0.417 total time=   2.3s\n"
     ]
    },
    {
     "name": "stderr",
     "output_type": "stream",
     "text": [
      "c:\\Users\\vasco\\anaconda3\\lib\\site-packages\\sklearn\\utils\\validation.py:993: DataConversionWarning: A column-vector y was passed when a 1d array was expected. Please change the shape of y to (n_samples, ), for example using ravel().\n",
      "  y = column_or_1d(y, warn=True)\n"
     ]
    },
    {
     "name": "stdout",
     "output_type": "stream",
     "text": [
      "[CV 2/5] END .......C=1000, gamma=1, kernel=rbf;, score=0.421 total time=   2.2s\n"
     ]
    },
    {
     "name": "stderr",
     "output_type": "stream",
     "text": [
      "c:\\Users\\vasco\\anaconda3\\lib\\site-packages\\sklearn\\utils\\validation.py:993: DataConversionWarning: A column-vector y was passed when a 1d array was expected. Please change the shape of y to (n_samples, ), for example using ravel().\n",
      "  y = column_or_1d(y, warn=True)\n"
     ]
    },
    {
     "name": "stdout",
     "output_type": "stream",
     "text": [
      "[CV 3/5] END .......C=1000, gamma=1, kernel=rbf;, score=0.412 total time=   2.2s\n"
     ]
    },
    {
     "name": "stderr",
     "output_type": "stream",
     "text": [
      "c:\\Users\\vasco\\anaconda3\\lib\\site-packages\\sklearn\\utils\\validation.py:993: DataConversionWarning: A column-vector y was passed when a 1d array was expected. Please change the shape of y to (n_samples, ), for example using ravel().\n",
      "  y = column_or_1d(y, warn=True)\n"
     ]
    },
    {
     "name": "stdout",
     "output_type": "stream",
     "text": [
      "[CV 4/5] END .......C=1000, gamma=1, kernel=rbf;, score=0.412 total time=   2.2s\n"
     ]
    },
    {
     "name": "stderr",
     "output_type": "stream",
     "text": [
      "c:\\Users\\vasco\\anaconda3\\lib\\site-packages\\sklearn\\utils\\validation.py:993: DataConversionWarning: A column-vector y was passed when a 1d array was expected. Please change the shape of y to (n_samples, ), for example using ravel().\n",
      "  y = column_or_1d(y, warn=True)\n"
     ]
    },
    {
     "name": "stdout",
     "output_type": "stream",
     "text": [
      "[CV 5/5] END .......C=1000, gamma=1, kernel=rbf;, score=0.412 total time=   2.1s\n"
     ]
    },
    {
     "name": "stderr",
     "output_type": "stream",
     "text": [
      "c:\\Users\\vasco\\anaconda3\\lib\\site-packages\\sklearn\\utils\\validation.py:993: DataConversionWarning: A column-vector y was passed when a 1d array was expected. Please change the shape of y to (n_samples, ), for example using ravel().\n",
      "  y = column_or_1d(y, warn=True)\n"
     ]
    },
    {
     "name": "stdout",
     "output_type": "stream",
     "text": [
      "[CV 1/5] END .....C=1000, gamma=0.1, kernel=rbf;, score=0.548 total time=   1.8s\n"
     ]
    },
    {
     "name": "stderr",
     "output_type": "stream",
     "text": [
      "c:\\Users\\vasco\\anaconda3\\lib\\site-packages\\sklearn\\utils\\validation.py:993: DataConversionWarning: A column-vector y was passed when a 1d array was expected. Please change the shape of y to (n_samples, ), for example using ravel().\n",
      "  y = column_or_1d(y, warn=True)\n"
     ]
    },
    {
     "name": "stdout",
     "output_type": "stream",
     "text": [
      "[CV 2/5] END .....C=1000, gamma=0.1, kernel=rbf;, score=0.567 total time=   1.8s\n"
     ]
    },
    {
     "name": "stderr",
     "output_type": "stream",
     "text": [
      "c:\\Users\\vasco\\anaconda3\\lib\\site-packages\\sklearn\\utils\\validation.py:993: DataConversionWarning: A column-vector y was passed when a 1d array was expected. Please change the shape of y to (n_samples, ), for example using ravel().\n",
      "  y = column_or_1d(y, warn=True)\n"
     ]
    },
    {
     "name": "stdout",
     "output_type": "stream",
     "text": [
      "[CV 3/5] END .....C=1000, gamma=0.1, kernel=rbf;, score=0.551 total time=   1.8s\n"
     ]
    },
    {
     "name": "stderr",
     "output_type": "stream",
     "text": [
      "c:\\Users\\vasco\\anaconda3\\lib\\site-packages\\sklearn\\utils\\validation.py:993: DataConversionWarning: A column-vector y was passed when a 1d array was expected. Please change the shape of y to (n_samples, ), for example using ravel().\n",
      "  y = column_or_1d(y, warn=True)\n"
     ]
    },
    {
     "name": "stdout",
     "output_type": "stream",
     "text": [
      "[CV 4/5] END .....C=1000, gamma=0.1, kernel=rbf;, score=0.571 total time=   1.9s\n"
     ]
    },
    {
     "name": "stderr",
     "output_type": "stream",
     "text": [
      "c:\\Users\\vasco\\anaconda3\\lib\\site-packages\\sklearn\\utils\\validation.py:993: DataConversionWarning: A column-vector y was passed when a 1d array was expected. Please change the shape of y to (n_samples, ), for example using ravel().\n",
      "  y = column_or_1d(y, warn=True)\n"
     ]
    },
    {
     "name": "stdout",
     "output_type": "stream",
     "text": [
      "[CV 5/5] END .....C=1000, gamma=0.1, kernel=rbf;, score=0.569 total time=   1.8s\n"
     ]
    },
    {
     "name": "stderr",
     "output_type": "stream",
     "text": [
      "c:\\Users\\vasco\\anaconda3\\lib\\site-packages\\sklearn\\utils\\validation.py:993: DataConversionWarning: A column-vector y was passed when a 1d array was expected. Please change the shape of y to (n_samples, ), for example using ravel().\n",
      "  y = column_or_1d(y, warn=True)\n"
     ]
    },
    {
     "name": "stdout",
     "output_type": "stream",
     "text": [
      "[CV 1/5] END ....C=1000, gamma=0.01, kernel=rbf;, score=0.760 total time=   1.1s\n"
     ]
    },
    {
     "name": "stderr",
     "output_type": "stream",
     "text": [
      "c:\\Users\\vasco\\anaconda3\\lib\\site-packages\\sklearn\\utils\\validation.py:993: DataConversionWarning: A column-vector y was passed when a 1d array was expected. Please change the shape of y to (n_samples, ), for example using ravel().\n",
      "  y = column_or_1d(y, warn=True)\n"
     ]
    },
    {
     "name": "stdout",
     "output_type": "stream",
     "text": [
      "[CV 2/5] END ....C=1000, gamma=0.01, kernel=rbf;, score=0.784 total time=   1.2s\n"
     ]
    },
    {
     "name": "stderr",
     "output_type": "stream",
     "text": [
      "c:\\Users\\vasco\\anaconda3\\lib\\site-packages\\sklearn\\utils\\validation.py:993: DataConversionWarning: A column-vector y was passed when a 1d array was expected. Please change the shape of y to (n_samples, ), for example using ravel().\n",
      "  y = column_or_1d(y, warn=True)\n"
     ]
    },
    {
     "name": "stdout",
     "output_type": "stream",
     "text": [
      "[CV 3/5] END ....C=1000, gamma=0.01, kernel=rbf;, score=0.775 total time=   1.2s\n"
     ]
    },
    {
     "name": "stderr",
     "output_type": "stream",
     "text": [
      "c:\\Users\\vasco\\anaconda3\\lib\\site-packages\\sklearn\\utils\\validation.py:993: DataConversionWarning: A column-vector y was passed when a 1d array was expected. Please change the shape of y to (n_samples, ), for example using ravel().\n",
      "  y = column_or_1d(y, warn=True)\n"
     ]
    },
    {
     "name": "stdout",
     "output_type": "stream",
     "text": [
      "[CV 4/5] END ....C=1000, gamma=0.01, kernel=rbf;, score=0.792 total time=   1.2s\n"
     ]
    },
    {
     "name": "stderr",
     "output_type": "stream",
     "text": [
      "c:\\Users\\vasco\\anaconda3\\lib\\site-packages\\sklearn\\utils\\validation.py:993: DataConversionWarning: A column-vector y was passed when a 1d array was expected. Please change the shape of y to (n_samples, ), for example using ravel().\n",
      "  y = column_or_1d(y, warn=True)\n"
     ]
    },
    {
     "name": "stdout",
     "output_type": "stream",
     "text": [
      "[CV 5/5] END ....C=1000, gamma=0.01, kernel=rbf;, score=0.800 total time=   1.3s\n"
     ]
    },
    {
     "name": "stderr",
     "output_type": "stream",
     "text": [
      "c:\\Users\\vasco\\anaconda3\\lib\\site-packages\\sklearn\\utils\\validation.py:993: DataConversionWarning: A column-vector y was passed when a 1d array was expected. Please change the shape of y to (n_samples, ), for example using ravel().\n",
      "  y = column_or_1d(y, warn=True)\n"
     ]
    },
    {
     "name": "stdout",
     "output_type": "stream",
     "text": [
      "[CV 1/5] END ...C=1000, gamma=0.001, kernel=rbf;, score=0.815 total time=   1.0s\n"
     ]
    },
    {
     "name": "stderr",
     "output_type": "stream",
     "text": [
      "c:\\Users\\vasco\\anaconda3\\lib\\site-packages\\sklearn\\utils\\validation.py:993: DataConversionWarning: A column-vector y was passed when a 1d array was expected. Please change the shape of y to (n_samples, ), for example using ravel().\n",
      "  y = column_or_1d(y, warn=True)\n"
     ]
    },
    {
     "name": "stdout",
     "output_type": "stream",
     "text": [
      "[CV 2/5] END ...C=1000, gamma=0.001, kernel=rbf;, score=0.825 total time=   1.4s\n"
     ]
    },
    {
     "name": "stderr",
     "output_type": "stream",
     "text": [
      "c:\\Users\\vasco\\anaconda3\\lib\\site-packages\\sklearn\\utils\\validation.py:993: DataConversionWarning: A column-vector y was passed when a 1d array was expected. Please change the shape of y to (n_samples, ), for example using ravel().\n",
      "  y = column_or_1d(y, warn=True)\n"
     ]
    },
    {
     "name": "stdout",
     "output_type": "stream",
     "text": [
      "[CV 3/5] END ...C=1000, gamma=0.001, kernel=rbf;, score=0.804 total time=   1.0s\n"
     ]
    },
    {
     "name": "stderr",
     "output_type": "stream",
     "text": [
      "c:\\Users\\vasco\\anaconda3\\lib\\site-packages\\sklearn\\utils\\validation.py:993: DataConversionWarning: A column-vector y was passed when a 1d array was expected. Please change the shape of y to (n_samples, ), for example using ravel().\n",
      "  y = column_or_1d(y, warn=True)\n"
     ]
    },
    {
     "name": "stdout",
     "output_type": "stream",
     "text": [
      "[CV 4/5] END ...C=1000, gamma=0.001, kernel=rbf;, score=0.828 total time=   1.1s\n"
     ]
    },
    {
     "name": "stderr",
     "output_type": "stream",
     "text": [
      "c:\\Users\\vasco\\anaconda3\\lib\\site-packages\\sklearn\\utils\\validation.py:993: DataConversionWarning: A column-vector y was passed when a 1d array was expected. Please change the shape of y to (n_samples, ), for example using ravel().\n",
      "  y = column_or_1d(y, warn=True)\n"
     ]
    },
    {
     "name": "stdout",
     "output_type": "stream",
     "text": [
      "[CV 5/5] END ...C=1000, gamma=0.001, kernel=rbf;, score=0.837 total time=   1.0s\n"
     ]
    },
    {
     "name": "stderr",
     "output_type": "stream",
     "text": [
      "c:\\Users\\vasco\\anaconda3\\lib\\site-packages\\sklearn\\utils\\validation.py:993: DataConversionWarning: A column-vector y was passed when a 1d array was expected. Please change the shape of y to (n_samples, ), for example using ravel().\n",
      "  y = column_or_1d(y, warn=True)\n"
     ]
    },
    {
     "name": "stdout",
     "output_type": "stream",
     "text": [
      "[CV 1/5] END ..C=1000, gamma=0.0001, kernel=rbf;, score=0.807 total time=   1.1s\n"
     ]
    },
    {
     "name": "stderr",
     "output_type": "stream",
     "text": [
      "c:\\Users\\vasco\\anaconda3\\lib\\site-packages\\sklearn\\utils\\validation.py:993: DataConversionWarning: A column-vector y was passed when a 1d array was expected. Please change the shape of y to (n_samples, ), for example using ravel().\n",
      "  y = column_or_1d(y, warn=True)\n"
     ]
    },
    {
     "name": "stdout",
     "output_type": "stream",
     "text": [
      "[CV 2/5] END ..C=1000, gamma=0.0001, kernel=rbf;, score=0.831 total time=   1.1s\n"
     ]
    },
    {
     "name": "stderr",
     "output_type": "stream",
     "text": [
      "c:\\Users\\vasco\\anaconda3\\lib\\site-packages\\sklearn\\utils\\validation.py:993: DataConversionWarning: A column-vector y was passed when a 1d array was expected. Please change the shape of y to (n_samples, ), for example using ravel().\n",
      "  y = column_or_1d(y, warn=True)\n"
     ]
    },
    {
     "name": "stdout",
     "output_type": "stream",
     "text": [
      "[CV 3/5] END ..C=1000, gamma=0.0001, kernel=rbf;, score=0.780 total time=   1.1s\n"
     ]
    },
    {
     "name": "stderr",
     "output_type": "stream",
     "text": [
      "c:\\Users\\vasco\\anaconda3\\lib\\site-packages\\sklearn\\utils\\validation.py:993: DataConversionWarning: A column-vector y was passed when a 1d array was expected. Please change the shape of y to (n_samples, ), for example using ravel().\n",
      "  y = column_or_1d(y, warn=True)\n"
     ]
    },
    {
     "name": "stdout",
     "output_type": "stream",
     "text": [
      "[CV 4/5] END ..C=1000, gamma=0.0001, kernel=rbf;, score=0.817 total time=   1.5s\n"
     ]
    },
    {
     "name": "stderr",
     "output_type": "stream",
     "text": [
      "c:\\Users\\vasco\\anaconda3\\lib\\site-packages\\sklearn\\utils\\validation.py:993: DataConversionWarning: A column-vector y was passed when a 1d array was expected. Please change the shape of y to (n_samples, ), for example using ravel().\n",
      "  y = column_or_1d(y, warn=True)\n"
     ]
    },
    {
     "name": "stdout",
     "output_type": "stream",
     "text": [
      "[CV 5/5] END ..C=1000, gamma=0.0001, kernel=rbf;, score=0.817 total time=   1.8s\n"
     ]
    },
    {
     "name": "stderr",
     "output_type": "stream",
     "text": [
      "c:\\Users\\vasco\\anaconda3\\lib\\site-packages\\sklearn\\utils\\validation.py:993: DataConversionWarning: A column-vector y was passed when a 1d array was expected. Please change the shape of y to (n_samples, ), for example using ravel().\n",
      "  y = column_or_1d(y, warn=True)\n"
     ]
    },
    {
     "data": {
      "text/plain": [
       "SVC(C=1000, gamma=0.001)"
      ]
     },
     "execution_count": 86,
     "metadata": {},
     "output_type": "execute_result"
    }
   ],
   "source": [
    "param_grid = {'C': [0.1, 1, 10, 100, 1000], 'gamma' : [1, 0.1, 0.01, 0.001, 0.0001], 'kernel': ['rbf']}\n",
    "grid = GridSearchCV(SVC(), param_grid, refit=True, verbose=3)\n",
    "grid.fit(X_train, Y_train)\n",
    "grid.best_params_\n",
    "grid.best_estimator_"
   ]
  },
  {
   "cell_type": "code",
   "execution_count": 87,
   "metadata": {},
   "outputs": [
    {
     "name": "stderr",
     "output_type": "stream",
     "text": [
      "c:\\Users\\vasco\\anaconda3\\lib\\site-packages\\sklearn\\utils\\deprecation.py:87: FutureWarning: Function plot_confusion_matrix is deprecated; Function `plot_confusion_matrix` is deprecated in 1.0 and will be removed in 1.2. Use one of the class methods: ConfusionMatrixDisplay.from_predictions or ConfusionMatrixDisplay.from_estimator.\n",
      "  warnings.warn(msg, category=FutureWarning)\n"
     ]
    },
    {
     "data": {
      "text/plain": [
       "<sklearn.metrics._plot.confusion_matrix.ConfusionMatrixDisplay at 0x1ef884c6640>"
      ]
     },
     "execution_count": 87,
     "metadata": {},
     "output_type": "execute_result"
    },
    {
     "data": {
      "image/png": "[encoded data removed]",
      "text/plain": [
       "<Figure size 640x480 with 2 Axes>"
      ]
     },
     "metadata": {},
     "output_type": "display_data"
    }
   ],
   "source": [
    "plot_confusion_matrix(grid, X_test, Y_test, cmap=plt.cm.Blues, normalize='true')"
   ]
  },
  {
   "cell_type": "code",
   "execution_count": 88,
   "metadata": {},
   "outputs": [
    {
     "name": "stdout",
     "output_type": "stream",
     "text": [
      "              precision    recall  f1-score   support\n",
      "\n",
      "           0       0.77      0.76      0.77       265\n",
      "           1       0.69      0.71      0.70       189\n",
      "           2       0.74      0.69      0.71       144\n",
      "           3       0.97      0.97      0.97       517\n",
      "           4       0.68      0.72      0.70       135\n",
      "\n",
      "    accuracy                           0.83      1250\n",
      "   macro avg       0.77      0.77      0.77      1250\n",
      "weighted avg       0.83      0.83      0.83      1250\n",
      "\n"
     ]
    }
   ],
   "source": [
    "grid_predictions = grid.predict(X_test)\n",
    "print(classification_report(Y_test, grid_predictions))"
   ]
  },
  {
   "attachments": {},
   "cell_type": "markdown",
   "metadata": {
    "jp-MarkdownHeadingCollapsed": true,
    "tags": []
   },
   "source": [
    "#### MLP"
   ]
  },
  {
   "cell_type": "code",
   "execution_count": 40,
   "metadata": {},
   "outputs": [],
   "source": [
    "X_train = dftrain.drop(['incidents'], axis=1)\n",
    "Y_train = dftrain[['incidents']]"
   ]
  },
  {
   "cell_type": "code",
   "execution_count": 41,
   "metadata": {},
   "outputs": [
    {
     "name": "stdout",
     "output_type": "stream",
     "text": [
      "   magnitude_of_delay  delay_in_seconds  affected_roads  luminosity  \\\n",
      "0                 1.0          0.000000        0.000000         0.0   \n",
      "1                 1.0          0.012386        0.021739         0.0   \n",
      "2                 1.0          0.002220        0.000000         0.5   \n",
      "3                 0.0          0.073899        0.239130         0.5   \n",
      "4                 1.0          0.000000        0.108696         0.5   \n",
      "\n",
      "   avg_temperature  avg_atm_pressure  avg_humidity  avg_wind_speed  avg_rain  \\\n",
      "0         0.323529          0.457143      0.680851             0.1       0.0   \n",
      "1         0.323529          0.285714      0.904255             0.1       0.0   \n",
      "2         0.382353          0.800000      0.617021             0.0       0.0   \n",
      "3         0.411765          0.885714      0.734043             0.1       0.0   \n",
      "4         0.764706          0.657143      0.489362             0.1       0.0   \n",
      "\n",
      "   record_month  record_day  record_hour  \n",
      "0      0.181818    0.466667     1.000000  \n",
      "1      1.000000    0.800000     0.782609  \n",
      "2      0.181818    0.366667     0.652174  \n",
      "3      0.727273    0.933333     0.391304  \n",
      "4      0.454545    0.400000     0.478261  \n",
      "   incidents\n",
      "0       0.75\n",
      "1       0.75\n",
      "2       0.25\n",
      "3       1.00\n",
      "4       0.00\n"
     ]
    }
   ],
   "source": [
    "scaler_X = MinMaxScaler(feature_range=(0 , 1)).fit(X_train)\n",
    "scaler_Y = MinMaxScaler(feature_range=(0 , 1)).fit(Y_train)\n",
    "\n",
    "X_scaled = pd.DataFrame(scaler_X.transform(X_train[X_train.columns]), columns=X_train.columns)\n",
    "print(X_scaled.head())\n",
    "Y_scaled = pd.DataFrame(scaler_Y.transform(Y_train[Y_train.columns]), columns=Y_train.columns)\n",
    "print(Y_scaled.head())"
   ]
  },
  {
   "cell_type": "code",
   "execution_count": 42,
   "metadata": {},
   "outputs": [],
   "source": [
    "X_train, X_test, Y_train, Y_test = train_test_split(X_scaled, Y_scaled, test_size=0.2, random_state=2022)"
   ]
  },
  {
   "cell_type": "code",
   "execution_count": 98,
   "metadata": {},
   "outputs": [
    {
     "data": {
      "text/plain": [
       "(938, 1)"
      ]
     },
     "execution_count": 98,
     "metadata": {},
     "output_type": "execute_result"
    }
   ],
   "source": [
    "X_train.shape\n",
    "Y_test.shape"
   ]
  },
  {
   "cell_type": "code",
   "execution_count": 56,
   "metadata": {},
   "outputs": [
    {
     "name": "stdout",
     "output_type": "stream",
     "text": [
      "Model: \"sequential_46\"\n",
      "_________________________________________________________________\n",
      " Layer (type)                Output Shape              Param #   \n",
      "=================================================================\n",
      " dense_138 (Dense)           (None, 16)                208       \n",
      "                                                                 \n",
      " dense_139 (Dense)           (None, 6)                 102       \n",
      "                                                                 \n",
      " dense_140 (Dense)           (None, 1)                 7         \n",
      "                                                                 \n",
      "=================================================================\n",
      "Total params: 317\n",
      "Trainable params: 317\n",
      "Non-trainable params: 0\n",
      "_________________________________________________________________\n"
     ]
    }
   ],
   "source": [
    "def build_model(activation='relu', learning_rate=0.01):\n",
    "\tmodel = Sequential()\n",
    "\tmodel.add(Dense(16, input_dim=12, activation=activation))\n",
    "\tmodel.add(Dense(6, activation=activation))\n",
    "\tmodel.add(Dense(1, activation='relu'))\n",
    "\n",
    "\tmodel.compile(loss='mae', optimizer=tf.optimizers.Adam(learning_rate), metrics=['mae','mse'])\n",
    "\n",
    "\treturn model\n",
    "\n",
    "model = build_model()\n",
    "model.summary()"
   ]
  },
  {
   "cell_type": "code",
   "execution_count": 57,
   "metadata": {},
   "outputs": [
    {
     "name": "stderr",
     "output_type": "stream",
     "text": [
      "C:\\Users\\vasco\\AppData\\Local\\Temp\\ipykernel_3432\\4038877854.py:8: DeprecationWarning: KerasRegressor is deprecated, use Sci-Keras (https://github.com/adriangb/scikeras) instead. See https://www.adriangb.com/scikeras/stable/migration.html for help migrating.\n",
      "  model = KerasRegressor(build_fn=build_model, epochs=20, batch_size=32)\n"
     ]
    },
    {
     "name": "stdout",
     "output_type": "stream",
     "text": [
      "Fitting 5 folds for each of 4 candidates, totalling 20 fits\n",
      "Epoch 1/20\n",
      "80/80 [==============================] - 2s 11ms/step - loss: 0.5168 - mae: 0.5168 - mse: 0.3838 - val_loss: 0.5289 - val_mae: 0.5289 - val_mse: 0.4033\n",
      "Epoch 2/20\n",
      "80/80 [==============================] - 0s 6ms/step - loss: 0.5168 - mae: 0.5168 - mse: 0.3838 - val_loss: 0.5289 - val_mae: 0.5289 - val_mse: 0.4033\n",
      "Epoch 3/20\n",
      "80/80 [==============================] - 0s 6ms/step - loss: 0.5168 - mae: 0.5168 - mse: 0.3838 - val_loss: 0.5289 - val_mae: 0.5289 - val_mse: 0.4033\n",
      "Epoch 4/20\n",
      "80/80 [==============================] - 0s 6ms/step - loss: 0.5168 - mae: 0.5168 - mse: 0.3838 - val_loss: 0.5289 - val_mae: 0.5289 - val_mse: 0.4033\n",
      "Epoch 5/20\n",
      "80/80 [==============================] - 0s 6ms/step - loss: 0.5168 - mae: 0.5168 - mse: 0.3838 - val_loss: 0.5289 - val_mae: 0.5289 - val_mse: 0.4033\n",
      "Epoch 6/20\n",
      "80/80 [==============================] - 0s 6ms/step - loss: 0.5168 - mae: 0.5168 - mse: 0.3838 - val_loss: 0.5289 - val_mae: 0.5289 - val_mse: 0.4033\n",
      "Epoch 7/20\n",
      "80/80 [==============================] - 0s 6ms/step - loss: 0.5168 - mae: 0.5168 - mse: 0.3838 - val_loss: 0.5289 - val_mae: 0.5289 - val_mse: 0.4033\n",
      "Epoch 8/20\n",
      "80/80 [==============================] - 0s 6ms/step - loss: 0.5168 - mae: 0.5168 - mse: 0.3838 - val_loss: 0.5289 - val_mae: 0.5289 - val_mse: 0.4033\n",
      "Epoch 9/20\n",
      "80/80 [==============================] - 0s 6ms/step - loss: 0.5168 - mae: 0.5168 - mse: 0.3838 - val_loss: 0.5289 - val_mae: 0.5289 - val_mse: 0.4033\n",
      "Epoch 10/20\n",
      "80/80 [==============================] - 0s 6ms/step - loss: 0.5168 - mae: 0.5168 - mse: 0.3838 - val_loss: 0.5289 - val_mae: 0.5289 - val_mse: 0.4033\n",
      "Epoch 11/20\n",
      "80/80 [==============================] - 0s 6ms/step - loss: 0.5168 - mae: 0.5168 - mse: 0.3838 - val_loss: 0.5289 - val_mae: 0.5289 - val_mse: 0.4033\n",
      "Epoch 12/20\n",
      "80/80 [==============================] - 1s 7ms/step - loss: 0.5168 - mae: 0.5168 - mse: 0.3838 - val_loss: 0.5289 - val_mae: 0.5289 - val_mse: 0.4033\n",
      "Epoch 13/20\n",
      "80/80 [==============================] - 0s 6ms/step - loss: 0.5168 - mae: 0.5168 - mse: 0.3838 - val_loss: 0.5289 - val_mae: 0.5289 - val_mse: 0.4033\n",
      "Epoch 14/20\n",
      "80/80 [==============================] - 0s 6ms/step - loss: 0.5168 - mae: 0.5168 - mse: 0.3838 - val_loss: 0.5289 - val_mae: 0.5289 - val_mse: 0.4033\n",
      "Epoch 15/20\n",
      "80/80 [==============================] - 0s 6ms/step - loss: 0.5168 - mae: 0.5168 - mse: 0.3838 - val_loss: 0.5289 - val_mae: 0.5289 - val_mse: 0.4033\n",
      "Epoch 16/20\n",
      "80/80 [==============================] - 0s 6ms/step - loss: 0.5168 - mae: 0.5168 - mse: 0.3838 - val_loss: 0.5289 - val_mae: 0.5289 - val_mse: 0.4033\n",
      "Epoch 17/20\n",
      "80/80 [==============================] - 0s 6ms/step - loss: 0.5168 - mae: 0.5168 - mse: 0.3838 - val_loss: 0.5289 - val_mae: 0.5289 - val_mse: 0.4033\n",
      "Epoch 18/20\n",
      "80/80 [==============================] - 0s 6ms/step - loss: 0.5168 - mae: 0.5168 - mse: 0.3838 - val_loss: 0.5289 - val_mae: 0.5289 - val_mse: 0.4033\n",
      "Epoch 19/20\n",
      "80/80 [==============================] - 1s 6ms/step - loss: 0.5168 - mae: 0.5168 - mse: 0.3838 - val_loss: 0.5289 - val_mae: 0.5289 - val_mse: 0.4033\n",
      "Epoch 20/20\n",
      "80/80 [==============================] - 0s 6ms/step - loss: 0.5168 - mae: 0.5168 - mse: 0.3838 - val_loss: 0.5289 - val_mae: 0.5289 - val_mse: 0.4033\n",
      "25/25 [==============================] - 0s 4ms/step\n",
      "Epoch 1/20\n",
      "80/80 [==============================] - 2s 12ms/step - loss: 0.3181 - mae: 0.3181 - mse: 0.1649 - val_loss: 0.3021 - val_mae: 0.3021 - val_mse: 0.1499\n",
      "Epoch 2/20\n",
      "80/80 [==============================] - 1s 10ms/step - loss: 0.2709 - mae: 0.2709 - mse: 0.1123 - val_loss: 0.2779 - val_mae: 0.2779 - val_mse: 0.1132\n",
      "Epoch 3/20\n",
      "80/80 [==============================] - 0s 6ms/step - loss: 0.2625 - mae: 0.2625 - mse: 0.1074 - val_loss: 0.2756 - val_mae: 0.2756 - val_mse: 0.1222\n",
      "Epoch 4/20\n",
      "80/80 [==============================] - 1s 7ms/step - loss: 0.2600 - mae: 0.2600 - mse: 0.1072 - val_loss: 0.2673 - val_mae: 0.2673 - val_mse: 0.1115\n",
      "Epoch 5/20\n",
      "80/80 [==============================] - 1s 7ms/step - loss: 0.2576 - mae: 0.2576 - mse: 0.1050 - val_loss: 0.2659 - val_mae: 0.2659 - val_mse: 0.1078\n",
      "Epoch 6/20\n",
      "80/80 [==============================] - 0s 6ms/step - loss: 0.2491 - mae: 0.2491 - mse: 0.1019 - val_loss: 0.2463 - val_mae: 0.2463 - val_mse: 0.1018\n",
      "Epoch 7/20\n",
      "80/80 [==============================] - 1s 6ms/step - loss: 0.2420 - mae: 0.2420 - mse: 0.0978 - val_loss: 0.2374 - val_mae: 0.2374 - val_mse: 0.0947\n",
      "Epoch 8/20\n",
      "80/80 [==============================] - 1s 6ms/step - loss: 0.2328 - mae: 0.2328 - mse: 0.0967 - val_loss: 0.2207 - val_mae: 0.2207 - val_mse: 0.0941\n",
      "Epoch 9/20\n",
      "80/80 [==============================] - 0s 6ms/step - loss: 0.2234 - mae: 0.2234 - mse: 0.0949 - val_loss: 0.2200 - val_mae: 0.2200 - val_mse: 0.0972\n",
      "Epoch 10/20\n",
      "80/80 [==============================] - 1s 6ms/step - loss: 0.2237 - mae: 0.2237 - mse: 0.1021 - val_loss: 0.2059 - val_mae: 0.2059 - val_mse: 0.0957\n",
      "Epoch 11/20\n",
      "80/80 [==============================] - 0s 6ms/step - loss: 0.2126 - mae: 0.2126 - mse: 0.0941 - val_loss: 0.2056 - val_mae: 0.2056 - val_mse: 0.0821\n",
      "Epoch 12/20\n",
      "80/80 [==============================] - 0s 6ms/step - loss: 0.2051 - mae: 0.2051 - mse: 0.0899 - val_loss: 0.2065 - val_mae: 0.2065 - val_mse: 0.0999\n",
      "Epoch 13/20\n",
      "80/80 [==============================] - 0s 6ms/step - loss: 0.2047 - mae: 0.2047 - mse: 0.0936 - val_loss: 0.1955 - val_mae: 0.1955 - val_mse: 0.0844\n",
      "Epoch 14/20\n",
      "80/80 [==============================] - 0s 6ms/step - loss: 0.1934 - mae: 0.1934 - mse: 0.0856 - val_loss: 0.1944 - val_mae: 0.1944 - val_mse: 0.0917\n",
      "Epoch 15/20\n",
      "80/80 [==============================] - 0s 6ms/step - loss: 0.1951 - mae: 0.1951 - mse: 0.0906 - val_loss: 0.1990 - val_mae: 0.1990 - val_mse: 0.0837\n",
      "Epoch 16/20\n",
      "80/80 [==============================] - 0s 6ms/step - loss: 0.1913 - mae: 0.1913 - mse: 0.0870 - val_loss: 0.1839 - val_mae: 0.1839 - val_mse: 0.0891\n",
      "Epoch 17/20\n",
      "80/80 [==============================] - 0s 6ms/step - loss: 0.1912 - mae: 0.1912 - mse: 0.0899 - val_loss: 0.2029 - val_mae: 0.2029 - val_mse: 0.0980\n",
      "Epoch 18/20\n",
      "80/80 [==============================] - 0s 6ms/step - loss: 0.1871 - mae: 0.1871 - mse: 0.0902 - val_loss: 0.1796 - val_mae: 0.1796 - val_mse: 0.0824\n",
      "Epoch 19/20\n",
      "80/80 [==============================] - 0s 6ms/step - loss: 0.1881 - mae: 0.1881 - mse: 0.0895 - val_loss: 0.1888 - val_mae: 0.1888 - val_mse: 0.0957\n",
      "Epoch 20/20\n",
      "80/80 [==============================] - 0s 6ms/step - loss: 0.1820 - mae: 0.1820 - mse: 0.0874 - val_loss: 0.1829 - val_mae: 0.1829 - val_mse: 0.0951\n",
      "25/25 [==============================] - 0s 3ms/step\n",
      "Epoch 1/20\n",
      "80/80 [==============================] - 2s 9ms/step - loss: 0.2879 - mae: 0.2879 - mse: 0.1245 - val_loss: 0.2893 - val_mae: 0.2893 - val_mse: 0.1352\n",
      "Epoch 2/20\n",
      "80/80 [==============================] - 0s 6ms/step - loss: 0.2730 - mae: 0.2730 - mse: 0.1178 - val_loss: 0.2890 - val_mae: 0.2890 - val_mse: 0.1188\n",
      "Epoch 3/20\n",
      "80/80 [==============================] - 0s 6ms/step - loss: 0.2662 - mae: 0.2662 - mse: 0.1125 - val_loss: 0.2781 - val_mae: 0.2781 - val_mse: 0.1238\n",
      "Epoch 4/20\n",
      "80/80 [==============================] - 0s 6ms/step - loss: 0.2657 - mae: 0.2657 - mse: 0.1103 - val_loss: 0.2797 - val_mae: 0.2797 - val_mse: 0.1239\n",
      "Epoch 5/20\n",
      "80/80 [==============================] - 0s 6ms/step - loss: 0.2574 - mae: 0.2574 - mse: 0.1074 - val_loss: 0.2665 - val_mae: 0.2665 - val_mse: 0.1154\n",
      "Epoch 6/20\n",
      "80/80 [==============================] - 1s 7ms/step - loss: 0.2541 - mae: 0.2541 - mse: 0.1041 - val_loss: 0.2731 - val_mae: 0.2731 - val_mse: 0.1149\n",
      "Epoch 7/20\n",
      "80/80 [==============================] - 1s 10ms/step - loss: 0.2473 - mae: 0.2473 - mse: 0.1028 - val_loss: 0.2560 - val_mae: 0.2560 - val_mse: 0.1116\n",
      "Epoch 8/20\n",
      "80/80 [==============================] - 1s 10ms/step - loss: 0.2519 - mae: 0.2519 - mse: 0.1039 - val_loss: 0.2670 - val_mae: 0.2670 - val_mse: 0.1331\n",
      "Epoch 9/20\n",
      "80/80 [==============================] - 1s 8ms/step - loss: 0.2447 - mae: 0.2447 - mse: 0.1011 - val_loss: 0.2645 - val_mae: 0.2645 - val_mse: 0.1261\n",
      "Epoch 10/20\n",
      "80/80 [==============================] - 1s 9ms/step - loss: 0.2416 - mae: 0.2416 - mse: 0.0992 - val_loss: 0.2536 - val_mae: 0.2536 - val_mse: 0.1179\n",
      "Epoch 11/20\n",
      "80/80 [==============================] - 0s 5ms/step - loss: 0.2384 - mae: 0.2384 - mse: 0.0962 - val_loss: 0.2440 - val_mae: 0.2440 - val_mse: 0.1124\n",
      "Epoch 12/20\n",
      "80/80 [==============================] - 0s 6ms/step - loss: 0.2350 - mae: 0.2350 - mse: 0.0980 - val_loss: 0.2412 - val_mae: 0.2412 - val_mse: 0.1066\n",
      "Epoch 13/20\n",
      "80/80 [==============================] - 1s 7ms/step - loss: 0.2269 - mae: 0.2269 - mse: 0.0933 - val_loss: 0.2219 - val_mae: 0.2219 - val_mse: 0.0928\n",
      "Epoch 14/20\n",
      "80/80 [==============================] - 1s 8ms/step - loss: 0.2177 - mae: 0.2177 - mse: 0.0918 - val_loss: 0.2234 - val_mae: 0.2234 - val_mse: 0.1042\n",
      "Epoch 15/20\n",
      "80/80 [==============================] - 1s 6ms/step - loss: 0.2123 - mae: 0.2123 - mse: 0.0931 - val_loss: 0.2126 - val_mae: 0.2126 - val_mse: 0.0956\n",
      "Epoch 16/20\n",
      "80/80 [==============================] - 0s 6ms/step - loss: 0.2065 - mae: 0.2065 - mse: 0.0904 - val_loss: 0.2032 - val_mae: 0.2032 - val_mse: 0.0957\n",
      "Epoch 17/20\n",
      "80/80 [==============================] - 0s 6ms/step - loss: 0.2053 - mae: 0.2053 - mse: 0.0896 - val_loss: 0.1984 - val_mae: 0.1984 - val_mse: 0.0852\n",
      "Epoch 18/20\n",
      "80/80 [==============================] - 1s 6ms/step - loss: 0.1974 - mae: 0.1974 - mse: 0.0872 - val_loss: 0.2075 - val_mae: 0.2075 - val_mse: 0.0880\n",
      "Epoch 19/20\n",
      "80/80 [==============================] - 0s 6ms/step - loss: 0.1960 - mae: 0.1960 - mse: 0.0912 - val_loss: 0.2057 - val_mae: 0.2057 - val_mse: 0.1093\n",
      "Epoch 20/20\n",
      "80/80 [==============================] - 0s 6ms/step - loss: 0.1966 - mae: 0.1966 - mse: 0.0943 - val_loss: 0.1758 - val_mae: 0.1758 - val_mse: 0.0831\n",
      "25/25 [==============================] - 0s 3ms/step\n",
      "Epoch 1/20\n",
      "80/80 [==============================] - 2s 10ms/step - loss: 0.5095 - mae: 0.5095 - mse: 0.3749 - val_loss: 0.5113 - val_mae: 0.5113 - val_mse: 0.3862\n",
      "Epoch 2/20\n",
      "80/80 [==============================] - 1s 7ms/step - loss: 0.5095 - mae: 0.5095 - mse: 0.3749 - val_loss: 0.5113 - val_mae: 0.5113 - val_mse: 0.3862\n",
      "Epoch 3/20\n",
      "80/80 [==============================] - 1s 7ms/step - loss: 0.5095 - mae: 0.5095 - mse: 0.3749 - val_loss: 0.5113 - val_mae: 0.5113 - val_mse: 0.3862\n",
      "Epoch 4/20\n",
      "80/80 [==============================] - 0s 6ms/step - loss: 0.5095 - mae: 0.5095 - mse: 0.3749 - val_loss: 0.5113 - val_mae: 0.5113 - val_mse: 0.3862\n",
      "Epoch 5/20\n",
      "80/80 [==============================] - 0s 6ms/step - loss: 0.5095 - mae: 0.5095 - mse: 0.3749 - val_loss: 0.5113 - val_mae: 0.5113 - val_mse: 0.3862\n",
      "Epoch 6/20\n",
      "80/80 [==============================] - 0s 6ms/step - loss: 0.5095 - mae: 0.5095 - mse: 0.3749 - val_loss: 0.5113 - val_mae: 0.5113 - val_mse: 0.3862\n",
      "Epoch 7/20\n",
      "80/80 [==============================] - 0s 6ms/step - loss: 0.5095 - mae: 0.5095 - mse: 0.3749 - val_loss: 0.5113 - val_mae: 0.5113 - val_mse: 0.3862\n",
      "Epoch 8/20\n",
      "80/80 [==============================] - 0s 6ms/step - loss: 0.5095 - mae: 0.5095 - mse: 0.3749 - val_loss: 0.5113 - val_mae: 0.5113 - val_mse: 0.3862\n",
      "Epoch 9/20\n",
      "80/80 [==============================] - 0s 6ms/step - loss: 0.5095 - mae: 0.5095 - mse: 0.3749 - val_loss: 0.5113 - val_mae: 0.5113 - val_mse: 0.3862\n",
      "Epoch 10/20\n",
      "80/80 [==============================] - 0s 6ms/step - loss: 0.5095 - mae: 0.5095 - mse: 0.3749 - val_loss: 0.5113 - val_mae: 0.5113 - val_mse: 0.3862\n",
      "Epoch 11/20\n",
      "80/80 [==============================] - 0s 6ms/step - loss: 0.5095 - mae: 0.5095 - mse: 0.3749 - val_loss: 0.5113 - val_mae: 0.5113 - val_mse: 0.3862\n",
      "Epoch 12/20\n",
      "80/80 [==============================] - 0s 6ms/step - loss: 0.5095 - mae: 0.5095 - mse: 0.3749 - val_loss: 0.5113 - val_mae: 0.5113 - val_mse: 0.3862\n",
      "Epoch 13/20\n",
      "80/80 [==============================] - 1s 6ms/step - loss: 0.5095 - mae: 0.5095 - mse: 0.3749 - val_loss: 0.5113 - val_mae: 0.5113 - val_mse: 0.3862\n",
      "Epoch 14/20\n",
      "80/80 [==============================] - 0s 6ms/step - loss: 0.5095 - mae: 0.5095 - mse: 0.3749 - val_loss: 0.5113 - val_mae: 0.5113 - val_mse: 0.3862\n",
      "Epoch 15/20\n",
      "80/80 [==============================] - 0s 6ms/step - loss: 0.5095 - mae: 0.5095 - mse: 0.3749 - val_loss: 0.5113 - val_mae: 0.5113 - val_mse: 0.3862\n",
      "Epoch 16/20\n",
      "80/80 [==============================] - 0s 6ms/step - loss: 0.5095 - mae: 0.5095 - mse: 0.3749 - val_loss: 0.5113 - val_mae: 0.5113 - val_mse: 0.3862\n",
      "Epoch 17/20\n",
      "80/80 [==============================] - 0s 6ms/step - loss: 0.5095 - mae: 0.5095 - mse: 0.3749 - val_loss: 0.5113 - val_mae: 0.5113 - val_mse: 0.3862\n",
      "Epoch 18/20\n",
      "80/80 [==============================] - 1s 6ms/step - loss: 0.5095 - mae: 0.5095 - mse: 0.3749 - val_loss: 0.5113 - val_mae: 0.5113 - val_mse: 0.3862\n",
      "Epoch 19/20\n",
      "80/80 [==============================] - 1s 7ms/step - loss: 0.5095 - mae: 0.5095 - mse: 0.3749 - val_loss: 0.5113 - val_mae: 0.5113 - val_mse: 0.3862\n",
      "Epoch 20/20\n",
      "80/80 [==============================] - 1s 6ms/step - loss: 0.5095 - mae: 0.5095 - mse: 0.3749 - val_loss: 0.5113 - val_mae: 0.5113 - val_mse: 0.3862\n",
      "25/25 [==============================] - 0s 3ms/step\n",
      "Epoch 1/20\n",
      "80/80 [==============================] - 1s 10ms/step - loss: 0.3185 - mae: 0.3185 - mse: 0.1532 - val_loss: 0.2984 - val_mae: 0.2984 - val_mse: 0.1507\n",
      "Epoch 2/20\n",
      "80/80 [==============================] - 0s 6ms/step - loss: 0.2720 - mae: 0.2720 - mse: 0.1163 - val_loss: 0.2878 - val_mae: 0.2878 - val_mse: 0.1121\n",
      "Epoch 3/20\n",
      "80/80 [==============================] - 0s 6ms/step - loss: 0.2701 - mae: 0.2701 - mse: 0.1129 - val_loss: 0.2844 - val_mae: 0.2844 - val_mse: 0.1124\n",
      "Epoch 4/20\n",
      "80/80 [==============================] - 1s 8ms/step - loss: 0.2661 - mae: 0.2661 - mse: 0.1083 - val_loss: 0.2729 - val_mae: 0.2729 - val_mse: 0.1123\n",
      "Epoch 5/20\n",
      "80/80 [==============================] - 0s 6ms/step - loss: 0.2600 - mae: 0.2600 - mse: 0.1078 - val_loss: 0.2714 - val_mae: 0.2714 - val_mse: 0.1070\n",
      "Epoch 6/20\n",
      "80/80 [==============================] - 1s 7ms/step - loss: 0.2588 - mae: 0.2588 - mse: 0.1058 - val_loss: 0.2768 - val_mae: 0.2768 - val_mse: 0.1196\n",
      "Epoch 7/20\n",
      "80/80 [==============================] - 1s 7ms/step - loss: 0.2573 - mae: 0.2573 - mse: 0.1042 - val_loss: 0.2733 - val_mae: 0.2733 - val_mse: 0.1212\n",
      "Epoch 8/20\n",
      "80/80 [==============================] - 1s 7ms/step - loss: 0.2535 - mae: 0.2535 - mse: 0.1021 - val_loss: 0.2659 - val_mae: 0.2659 - val_mse: 0.1179\n",
      "Epoch 9/20\n",
      "80/80 [==============================] - 1s 7ms/step - loss: 0.2520 - mae: 0.2520 - mse: 0.1029 - val_loss: 0.2536 - val_mae: 0.2536 - val_mse: 0.1069\n",
      "Epoch 10/20\n",
      "80/80 [==============================] - 1s 7ms/step - loss: 0.2479 - mae: 0.2479 - mse: 0.0996 - val_loss: 0.2533 - val_mae: 0.2533 - val_mse: 0.1077\n",
      "Epoch 11/20\n",
      "80/80 [==============================] - 1s 7ms/step - loss: 0.2466 - mae: 0.2466 - mse: 0.0983 - val_loss: 0.2471 - val_mae: 0.2471 - val_mse: 0.0945\n",
      "Epoch 12/20\n",
      "80/80 [==============================] - 0s 6ms/step - loss: 0.2419 - mae: 0.2419 - mse: 0.0944 - val_loss: 0.2391 - val_mae: 0.2391 - val_mse: 0.1005\n",
      "Epoch 13/20\n",
      "80/80 [==============================] - 1s 8ms/step - loss: 0.2336 - mae: 0.2336 - mse: 0.0907 - val_loss: 0.2416 - val_mae: 0.2416 - val_mse: 0.0871\n",
      "Epoch 14/20\n",
      "80/80 [==============================] - 1s 6ms/step - loss: 0.2296 - mae: 0.2296 - mse: 0.0881 - val_loss: 0.2310 - val_mae: 0.2310 - val_mse: 0.0900\n",
      "Epoch 15/20\n",
      "80/80 [==============================] - 1s 7ms/step - loss: 0.2223 - mae: 0.2223 - mse: 0.0851 - val_loss: 0.2315 - val_mae: 0.2315 - val_mse: 0.0865\n",
      "Epoch 16/20\n",
      "80/80 [==============================] - 1s 8ms/step - loss: 0.2273 - mae: 0.2273 - mse: 0.0859 - val_loss: 0.2660 - val_mae: 0.2660 - val_mse: 0.1209\n",
      "Epoch 17/20\n",
      "80/80 [==============================] - 1s 7ms/step - loss: 0.2235 - mae: 0.2235 - mse: 0.0879 - val_loss: 0.2211 - val_mae: 0.2211 - val_mse: 0.0821\n",
      "Epoch 18/20\n",
      "80/80 [==============================] - 1s 7ms/step - loss: 0.2142 - mae: 0.2142 - mse: 0.0866 - val_loss: 0.2197 - val_mae: 0.2197 - val_mse: 0.0908\n",
      "Epoch 19/20\n",
      "80/80 [==============================] - 1s 8ms/step - loss: 0.2071 - mae: 0.2071 - mse: 0.0828 - val_loss: 0.2082 - val_mae: 0.2082 - val_mse: 0.0784\n",
      "Epoch 20/20\n",
      "80/80 [==============================] - 0s 6ms/step - loss: 0.2027 - mae: 0.2027 - mse: 0.0821 - val_loss: 0.2032 - val_mae: 0.2032 - val_mse: 0.0853\n",
      "25/25 [==============================] - 0s 3ms/step\n",
      "Epoch 1/20\n",
      "80/80 [==============================] - 1s 10ms/step - loss: 0.4340 - mae: 0.4340 - mse: 0.2872 - val_loss: 0.2993 - val_mae: 0.2993 - val_mse: 0.1425\n",
      "Epoch 2/20\n",
      "80/80 [==============================] - 1s 8ms/step - loss: 0.2825 - mae: 0.2825 - mse: 0.1231 - val_loss: 0.2890 - val_mae: 0.2890 - val_mse: 0.1315\n",
      "Epoch 3/20\n",
      "80/80 [==============================] - 1s 7ms/step - loss: 0.2765 - mae: 0.2765 - mse: 0.1192 - val_loss: 0.2851 - val_mae: 0.2851 - val_mse: 0.1277\n",
      "Epoch 4/20\n",
      "80/80 [==============================] - 1s 7ms/step - loss: 0.2731 - mae: 0.2731 - mse: 0.1184 - val_loss: 0.2826 - val_mae: 0.2826 - val_mse: 0.1270\n",
      "Epoch 5/20\n",
      "80/80 [==============================] - 0s 6ms/step - loss: 0.2702 - mae: 0.2702 - mse: 0.1169 - val_loss: 0.2821 - val_mae: 0.2821 - val_mse: 0.1203\n",
      "Epoch 6/20\n",
      "80/80 [==============================] - 1s 6ms/step - loss: 0.2687 - mae: 0.2687 - mse: 0.1161 - val_loss: 0.2811 - val_mae: 0.2811 - val_mse: 0.1190\n",
      "Epoch 7/20\n",
      "80/80 [==============================] - 1s 6ms/step - loss: 0.2674 - mae: 0.2674 - mse: 0.1150 - val_loss: 0.2783 - val_mae: 0.2783 - val_mse: 0.1197\n",
      "Epoch 8/20\n",
      "80/80 [==============================] - 0s 6ms/step - loss: 0.2659 - mae: 0.2659 - mse: 0.1141 - val_loss: 0.2765 - val_mae: 0.2765 - val_mse: 0.1212\n",
      "Epoch 9/20\n",
      "80/80 [==============================] - 0s 6ms/step - loss: 0.2648 - mae: 0.2648 - mse: 0.1149 - val_loss: 0.2754 - val_mae: 0.2754 - val_mse: 0.1189\n",
      "Epoch 10/20\n",
      "80/80 [==============================] - 0s 6ms/step - loss: 0.2639 - mae: 0.2639 - mse: 0.1142 - val_loss: 0.2740 - val_mae: 0.2740 - val_mse: 0.1176\n",
      "Epoch 11/20\n",
      "80/80 [==============================] - 0s 6ms/step - loss: 0.2628 - mae: 0.2628 - mse: 0.1130 - val_loss: 0.2741 - val_mae: 0.2741 - val_mse: 0.1168\n",
      "Epoch 12/20\n",
      "80/80 [==============================] - 0s 6ms/step - loss: 0.2615 - mae: 0.2615 - mse: 0.1121 - val_loss: 0.2705 - val_mae: 0.2705 - val_mse: 0.1187\n",
      "Epoch 13/20\n",
      "80/80 [==============================] - 0s 6ms/step - loss: 0.2604 - mae: 0.2604 - mse: 0.1124 - val_loss: 0.2690 - val_mae: 0.2690 - val_mse: 0.1169\n",
      "Epoch 14/20\n",
      "80/80 [==============================] - 0s 6ms/step - loss: 0.2599 - mae: 0.2599 - mse: 0.1125 - val_loss: 0.2715 - val_mae: 0.2715 - val_mse: 0.1141\n",
      "Epoch 15/20\n",
      "80/80 [==============================] - 0s 6ms/step - loss: 0.2592 - mae: 0.2592 - mse: 0.1112 - val_loss: 0.2671 - val_mae: 0.2671 - val_mse: 0.1161\n",
      "Epoch 16/20\n",
      "80/80 [==============================] - 0s 6ms/step - loss: 0.2581 - mae: 0.2581 - mse: 0.1107 - val_loss: 0.2671 - val_mae: 0.2671 - val_mse: 0.1205\n",
      "Epoch 17/20\n",
      "80/80 [==============================] - 1s 7ms/step - loss: 0.2568 - mae: 0.2568 - mse: 0.1108 - val_loss: 0.2649 - val_mae: 0.2649 - val_mse: 0.1147\n",
      "Epoch 18/20\n",
      "80/80 [==============================] - 1s 9ms/step - loss: 0.2558 - mae: 0.2558 - mse: 0.1092 - val_loss: 0.2644 - val_mae: 0.2644 - val_mse: 0.1179\n",
      "Epoch 19/20\n",
      "80/80 [==============================] - 1s 9ms/step - loss: 0.2551 - mae: 0.2551 - mse: 0.1085 - val_loss: 0.2631 - val_mae: 0.2631 - val_mse: 0.1159\n",
      "Epoch 20/20\n",
      "80/80 [==============================] - 1s 9ms/step - loss: 0.2546 - mae: 0.2546 - mse: 0.1086 - val_loss: 0.2634 - val_mae: 0.2634 - val_mse: 0.1125\n",
      "25/25 [==============================] - 0s 3ms/step\n",
      "Epoch 1/20\n",
      "80/80 [==============================] - 2s 13ms/step - loss: 0.2975 - mae: 0.2975 - mse: 0.1334 - val_loss: 0.2982 - val_mae: 0.2982 - val_mse: 0.1382\n",
      "Epoch 2/20\n",
      "80/80 [==============================] - 1s 7ms/step - loss: 0.2750 - mae: 0.2750 - mse: 0.1246 - val_loss: 0.2913 - val_mae: 0.2913 - val_mse: 0.1236\n",
      "Epoch 3/20\n",
      "80/80 [==============================] - 1s 7ms/step - loss: 0.2685 - mae: 0.2685 - mse: 0.1193 - val_loss: 0.2860 - val_mae: 0.2860 - val_mse: 0.1284\n",
      "Epoch 4/20\n",
      "80/80 [==============================] - 1s 9ms/step - loss: 0.2649 - mae: 0.2649 - mse: 0.1162 - val_loss: 0.2832 - val_mae: 0.2832 - val_mse: 0.1229\n",
      "Epoch 5/20\n",
      "80/80 [==============================] - 1s 7ms/step - loss: 0.2625 - mae: 0.2625 - mse: 0.1139 - val_loss: 0.2807 - val_mae: 0.2807 - val_mse: 0.1262\n",
      "Epoch 6/20\n",
      "80/80 [==============================] - 1s 7ms/step - loss: 0.2600 - mae: 0.2600 - mse: 0.1109 - val_loss: 0.2785 - val_mae: 0.2785 - val_mse: 0.1232\n",
      "Epoch 7/20\n",
      "80/80 [==============================] - 1s 7ms/step - loss: 0.2579 - mae: 0.2579 - mse: 0.1103 - val_loss: 0.2772 - val_mae: 0.2772 - val_mse: 0.1258\n",
      "Epoch 8/20\n",
      "80/80 [==============================] - 1s 7ms/step - loss: 0.2560 - mae: 0.2560 - mse: 0.1082 - val_loss: 0.2739 - val_mae: 0.2739 - val_mse: 0.1185\n",
      "Epoch 9/20\n",
      "80/80 [==============================] - 1s 8ms/step - loss: 0.2541 - mae: 0.2541 - mse: 0.1070 - val_loss: 0.2730 - val_mae: 0.2730 - val_mse: 0.1221\n",
      "Epoch 10/20\n",
      "80/80 [==============================] - 1s 7ms/step - loss: 0.2531 - mae: 0.2531 - mse: 0.1066 - val_loss: 0.2729 - val_mae: 0.2729 - val_mse: 0.1226\n",
      "Epoch 11/20\n",
      "80/80 [==============================] - 1s 7ms/step - loss: 0.2525 - mae: 0.2525 - mse: 0.1054 - val_loss: 0.2704 - val_mae: 0.2704 - val_mse: 0.1177\n",
      "Epoch 12/20\n",
      "80/80 [==============================] - 1s 7ms/step - loss: 0.2512 - mae: 0.2512 - mse: 0.1050 - val_loss: 0.2692 - val_mae: 0.2692 - val_mse: 0.1157\n",
      "Epoch 13/20\n",
      "80/80 [==============================] - 1s 16ms/step - loss: 0.2507 - mae: 0.2507 - mse: 0.1037 - val_loss: 0.2690 - val_mae: 0.2690 - val_mse: 0.1151\n",
      "Epoch 14/20\n",
      "80/80 [==============================] - 3s 33ms/step - loss: 0.2492 - mae: 0.2492 - mse: 0.1033 - val_loss: 0.2683 - val_mae: 0.2683 - val_mse: 0.1107\n",
      "Epoch 15/20\n",
      "80/80 [==============================] - 1s 12ms/step - loss: 0.2486 - mae: 0.2486 - mse: 0.1028 - val_loss: 0.2658 - val_mae: 0.2658 - val_mse: 0.1150\n",
      "Epoch 16/20\n",
      "80/80 [==============================] - 1s 12ms/step - loss: 0.2477 - mae: 0.2477 - mse: 0.1029 - val_loss: 0.2655 - val_mae: 0.2655 - val_mse: 0.1162\n",
      "Epoch 17/20\n",
      "80/80 [==============================] - 1s 8ms/step - loss: 0.2468 - mae: 0.2468 - mse: 0.1022 - val_loss: 0.2651 - val_mae: 0.2651 - val_mse: 0.1147\n",
      "Epoch 18/20\n",
      "80/80 [==============================] - 0s 6ms/step - loss: 0.2463 - mae: 0.2463 - mse: 0.1025 - val_loss: 0.2641 - val_mae: 0.2641 - val_mse: 0.1106\n",
      "Epoch 19/20\n",
      "80/80 [==============================] - 1s 7ms/step - loss: 0.2445 - mae: 0.2445 - mse: 0.1012 - val_loss: 0.2624 - val_mae: 0.2624 - val_mse: 0.1140\n",
      "Epoch 20/20\n",
      "80/80 [==============================] - 1s 8ms/step - loss: 0.2443 - mae: 0.2443 - mse: 0.1003 - val_loss: 0.2622 - val_mae: 0.2622 - val_mse: 0.1140\n",
      "25/25 [==============================] - 0s 2ms/step\n",
      "Epoch 1/20\n",
      "80/80 [==============================] - 2s 11ms/step - loss: 0.3063 - mae: 0.3063 - mse: 0.1389 - val_loss: 0.3082 - val_mae: 0.3082 - val_mse: 0.1318\n",
      "Epoch 2/20\n",
      "80/80 [==============================] - 1s 7ms/step - loss: 0.2829 - mae: 0.2829 - mse: 0.1200 - val_loss: 0.2988 - val_mae: 0.2988 - val_mse: 0.1287\n",
      "Epoch 3/20\n",
      "80/80 [==============================] - 1s 7ms/step - loss: 0.2756 - mae: 0.2756 - mse: 0.1186 - val_loss: 0.2923 - val_mae: 0.2923 - val_mse: 0.1339\n",
      "Epoch 4/20\n",
      "80/80 [==============================] - 1s 7ms/step - loss: 0.2721 - mae: 0.2721 - mse: 0.1183 - val_loss: 0.2908 - val_mae: 0.2908 - val_mse: 0.1246\n",
      "Epoch 5/20\n",
      "80/80 [==============================] - 1s 7ms/step - loss: 0.2699 - mae: 0.2699 - mse: 0.1168 - val_loss: 0.2894 - val_mae: 0.2894 - val_mse: 0.1234\n",
      "Epoch 6/20\n",
      "80/80 [==============================] - 1s 10ms/step - loss: 0.2679 - mae: 0.2679 - mse: 0.1148 - val_loss: 0.2864 - val_mae: 0.2864 - val_mse: 0.1232\n",
      "Epoch 7/20\n",
      "80/80 [==============================] - 1s 11ms/step - loss: 0.2675 - mae: 0.2675 - mse: 0.1143 - val_loss: 0.2840 - val_mae: 0.2840 - val_mse: 0.1253\n",
      "Epoch 8/20\n",
      "80/80 [==============================] - 1s 9ms/step - loss: 0.2650 - mae: 0.2650 - mse: 0.1127 - val_loss: 0.2852 - val_mae: 0.2852 - val_mse: 0.1323\n",
      "Epoch 9/20\n",
      "80/80 [==============================] - 1s 10ms/step - loss: 0.2638 - mae: 0.2638 - mse: 0.1122 - val_loss: 0.2807 - val_mae: 0.2807 - val_mse: 0.1214\n",
      "Epoch 10/20\n",
      "80/80 [==============================] - 1s 6ms/step - loss: 0.2612 - mae: 0.2612 - mse: 0.1098 - val_loss: 0.2787 - val_mae: 0.2787 - val_mse: 0.1196\n",
      "Epoch 11/20\n",
      "80/80 [==============================] - 0s 6ms/step - loss: 0.2609 - mae: 0.2609 - mse: 0.1100 - val_loss: 0.2782 - val_mae: 0.2782 - val_mse: 0.1178\n",
      "Epoch 12/20\n",
      "80/80 [==============================] - 0s 6ms/step - loss: 0.2593 - mae: 0.2593 - mse: 0.1084 - val_loss: 0.2766 - val_mae: 0.2766 - val_mse: 0.1242\n",
      "Epoch 13/20\n",
      "80/80 [==============================] - 1s 8ms/step - loss: 0.2576 - mae: 0.2576 - mse: 0.1081 - val_loss: 0.2764 - val_mae: 0.2764 - val_mse: 0.1249\n",
      "Epoch 14/20\n",
      "80/80 [==============================] - 1s 7ms/step - loss: 0.2572 - mae: 0.2572 - mse: 0.1077 - val_loss: 0.2734 - val_mae: 0.2734 - val_mse: 0.1192\n",
      "Epoch 15/20\n",
      "80/80 [==============================] - 1s 8ms/step - loss: 0.2545 - mae: 0.2545 - mse: 0.1060 - val_loss: 0.2720 - val_mae: 0.2720 - val_mse: 0.1189\n",
      "Epoch 16/20\n",
      "80/80 [==============================] - 1s 8ms/step - loss: 0.2549 - mae: 0.2549 - mse: 0.1062 - val_loss: 0.2696 - val_mae: 0.2696 - val_mse: 0.1169\n",
      "Epoch 17/20\n",
      "80/80 [==============================] - 1s 7ms/step - loss: 0.2527 - mae: 0.2527 - mse: 0.1046 - val_loss: 0.2685 - val_mae: 0.2685 - val_mse: 0.1175\n",
      "Epoch 18/20\n",
      "80/80 [==============================] - 1s 7ms/step - loss: 0.2511 - mae: 0.2511 - mse: 0.1045 - val_loss: 0.2685 - val_mae: 0.2685 - val_mse: 0.1193\n",
      "Epoch 19/20\n",
      "80/80 [==============================] - 1s 8ms/step - loss: 0.2506 - mae: 0.2506 - mse: 0.1039 - val_loss: 0.2679 - val_mae: 0.2679 - val_mse: 0.1185\n",
      "Epoch 20/20\n",
      "80/80 [==============================] - 1s 7ms/step - loss: 0.2490 - mae: 0.2490 - mse: 0.1021 - val_loss: 0.2665 - val_mae: 0.2665 - val_mse: 0.1148\n",
      "25/25 [==============================] - 0s 4ms/step\n",
      "Epoch 1/20\n",
      "80/80 [==============================] - 2s 10ms/step - loss: 0.2942 - mae: 0.2942 - mse: 0.1257 - val_loss: 0.3030 - val_mae: 0.3030 - val_mse: 0.1309\n",
      "Epoch 2/20\n",
      "80/80 [==============================] - 0s 5ms/step - loss: 0.2826 - mae: 0.2826 - mse: 0.1184 - val_loss: 0.2978 - val_mae: 0.2978 - val_mse: 0.1305\n",
      "Epoch 3/20\n",
      "80/80 [==============================] - 0s 5ms/step - loss: 0.2777 - mae: 0.2777 - mse: 0.1162 - val_loss: 0.2943 - val_mae: 0.2943 - val_mse: 0.1276\n",
      "Epoch 4/20\n",
      "80/80 [==============================] - 1s 8ms/step - loss: 0.2736 - mae: 0.2736 - mse: 0.1164 - val_loss: 0.2894 - val_mae: 0.2894 - val_mse: 0.1275\n",
      "Epoch 5/20\n",
      "80/80 [==============================] - 1s 7ms/step - loss: 0.2714 - mae: 0.2714 - mse: 0.1151 - val_loss: 0.2874 - val_mae: 0.2874 - val_mse: 0.1234\n",
      "Epoch 6/20\n",
      "80/80 [==============================] - 1s 8ms/step - loss: 0.2683 - mae: 0.2683 - mse: 0.1148 - val_loss: 0.2838 - val_mae: 0.2838 - val_mse: 0.1251\n",
      "Epoch 7/20\n",
      "80/80 [==============================] - 1s 8ms/step - loss: 0.2657 - mae: 0.2657 - mse: 0.1130 - val_loss: 0.2814 - val_mae: 0.2814 - val_mse: 0.1253\n",
      "Epoch 8/20\n",
      "80/80 [==============================] - 1s 6ms/step - loss: 0.2636 - mae: 0.2636 - mse: 0.1109 - val_loss: 0.2785 - val_mae: 0.2785 - val_mse: 0.1214\n",
      "Epoch 9/20\n",
      "80/80 [==============================] - 1s 8ms/step - loss: 0.2620 - mae: 0.2620 - mse: 0.1100 - val_loss: 0.2786 - val_mae: 0.2786 - val_mse: 0.1264\n",
      "Epoch 10/20\n",
      "80/80 [==============================] - 1s 11ms/step - loss: 0.2615 - mae: 0.2615 - mse: 0.1089 - val_loss: 0.2754 - val_mae: 0.2754 - val_mse: 0.1172\n",
      "Epoch 11/20\n",
      "80/80 [==============================] - 1s 8ms/step - loss: 0.2588 - mae: 0.2588 - mse: 0.1078 - val_loss: 0.2743 - val_mae: 0.2743 - val_mse: 0.1172\n",
      "Epoch 12/20\n",
      "80/80 [==============================] - 1s 8ms/step - loss: 0.2573 - mae: 0.2573 - mse: 0.1066 - val_loss: 0.2731 - val_mae: 0.2731 - val_mse: 0.1203\n",
      "Epoch 13/20\n",
      "80/80 [==============================] - 1s 10ms/step - loss: 0.2564 - mae: 0.2564 - mse: 0.1061 - val_loss: 0.2716 - val_mae: 0.2716 - val_mse: 0.1200\n",
      "Epoch 14/20\n",
      "80/80 [==============================] - 1s 8ms/step - loss: 0.2553 - mae: 0.2553 - mse: 0.1052 - val_loss: 0.2705 - val_mae: 0.2705 - val_mse: 0.1182\n",
      "Epoch 15/20\n",
      "80/80 [==============================] - 1s 9ms/step - loss: 0.2545 - mae: 0.2545 - mse: 0.1051 - val_loss: 0.2703 - val_mae: 0.2703 - val_mse: 0.1169\n",
      "Epoch 16/20\n",
      "80/80 [==============================] - 1s 7ms/step - loss: 0.2531 - mae: 0.2531 - mse: 0.1042 - val_loss: 0.2688 - val_mae: 0.2688 - val_mse: 0.1170\n",
      "Epoch 17/20\n",
      "80/80 [==============================] - 1s 7ms/step - loss: 0.2520 - mae: 0.2520 - mse: 0.1044 - val_loss: 0.2701 - val_mae: 0.2701 - val_mse: 0.1118\n",
      "Epoch 18/20\n",
      "80/80 [==============================] - 1s 9ms/step - loss: 0.2522 - mae: 0.2522 - mse: 0.1042 - val_loss: 0.2675 - val_mae: 0.2675 - val_mse: 0.1167\n",
      "Epoch 19/20\n",
      "80/80 [==============================] - 1s 8ms/step - loss: 0.2507 - mae: 0.2507 - mse: 0.1028 - val_loss: 0.2669 - val_mae: 0.2669 - val_mse: 0.1154\n",
      "Epoch 20/20\n",
      "80/80 [==============================] - 1s 8ms/step - loss: 0.2502 - mae: 0.2502 - mse: 0.1029 - val_loss: 0.2670 - val_mae: 0.2670 - val_mse: 0.1138\n",
      "25/25 [==============================] - 0s 4ms/step\n",
      "Epoch 1/20\n",
      "80/80 [==============================] - 2s 11ms/step - loss: 0.3305 - mae: 0.3305 - mse: 0.1608 - val_loss: 0.2982 - val_mae: 0.2982 - val_mse: 0.1300\n",
      "Epoch 2/20\n",
      "80/80 [==============================] - 1s 10ms/step - loss: 0.2845 - mae: 0.2845 - mse: 0.1235 - val_loss: 0.2939 - val_mae: 0.2939 - val_mse: 0.1255\n",
      "Epoch 3/20\n",
      "80/80 [==============================] - 1s 10ms/step - loss: 0.2786 - mae: 0.2786 - mse: 0.1206 - val_loss: 0.2911 - val_mae: 0.2911 - val_mse: 0.1301\n",
      "Epoch 4/20\n",
      "80/80 [==============================] - 1s 8ms/step - loss: 0.2755 - mae: 0.2755 - mse: 0.1204 - val_loss: 0.2891 - val_mae: 0.2891 - val_mse: 0.1274\n",
      "Epoch 5/20\n",
      "80/80 [==============================] - 1s 7ms/step - loss: 0.2734 - mae: 0.2734 - mse: 0.1199 - val_loss: 0.2872 - val_mae: 0.2872 - val_mse: 0.1286\n",
      "Epoch 6/20\n",
      "80/80 [==============================] - 1s 7ms/step - loss: 0.2696 - mae: 0.2696 - mse: 0.1178 - val_loss: 0.2815 - val_mae: 0.2815 - val_mse: 0.1218\n",
      "Epoch 7/20\n",
      "80/80 [==============================] - 1s 8ms/step - loss: 0.2675 - mae: 0.2675 - mse: 0.1158 - val_loss: 0.2803 - val_mae: 0.2803 - val_mse: 0.1243\n",
      "Epoch 8/20\n",
      "80/80 [==============================] - 1s 9ms/step - loss: 0.2657 - mae: 0.2657 - mse: 0.1143 - val_loss: 0.2788 - val_mae: 0.2788 - val_mse: 0.1219\n",
      "Epoch 9/20\n",
      "80/80 [==============================] - 1s 7ms/step - loss: 0.2643 - mae: 0.2643 - mse: 0.1136 - val_loss: 0.2804 - val_mae: 0.2804 - val_mse: 0.1289\n",
      "Epoch 10/20\n",
      "80/80 [==============================] - 1s 8ms/step - loss: 0.2625 - mae: 0.2625 - mse: 0.1131 - val_loss: 0.2756 - val_mae: 0.2756 - val_mse: 0.1207\n",
      "Epoch 11/20\n",
      "80/80 [==============================] - 1s 9ms/step - loss: 0.2611 - mae: 0.2611 - mse: 0.1119 - val_loss: 0.2740 - val_mae: 0.2740 - val_mse: 0.1184\n",
      "Epoch 12/20\n",
      "80/80 [==============================] - 1s 9ms/step - loss: 0.2600 - mae: 0.2600 - mse: 0.1113 - val_loss: 0.2732 - val_mae: 0.2732 - val_mse: 0.1173\n",
      "Epoch 13/20\n",
      "80/80 [==============================] - 1s 8ms/step - loss: 0.2586 - mae: 0.2586 - mse: 0.1097 - val_loss: 0.2722 - val_mae: 0.2722 - val_mse: 0.1163\n",
      "Epoch 14/20\n",
      "80/80 [==============================] - 1s 9ms/step - loss: 0.2572 - mae: 0.2572 - mse: 0.1096 - val_loss: 0.2731 - val_mae: 0.2731 - val_mse: 0.1216\n",
      "Epoch 15/20\n",
      "80/80 [==============================] - 1s 7ms/step - loss: 0.2564 - mae: 0.2564 - mse: 0.1090 - val_loss: 0.2712 - val_mae: 0.2712 - val_mse: 0.1163\n",
      "Epoch 16/20\n",
      "80/80 [==============================] - 1s 7ms/step - loss: 0.2550 - mae: 0.2550 - mse: 0.1075 - val_loss: 0.2699 - val_mae: 0.2699 - val_mse: 0.1146\n",
      "Epoch 17/20\n",
      "80/80 [==============================] - 0s 6ms/step - loss: 0.2544 - mae: 0.2544 - mse: 0.1077 - val_loss: 0.2679 - val_mae: 0.2679 - val_mse: 0.1163\n",
      "Epoch 18/20\n",
      "80/80 [==============================] - 0s 6ms/step - loss: 0.2531 - mae: 0.2531 - mse: 0.1071 - val_loss: 0.2678 - val_mae: 0.2678 - val_mse: 0.1167\n",
      "Epoch 19/20\n",
      "80/80 [==============================] - 1s 7ms/step - loss: 0.2523 - mae: 0.2523 - mse: 0.1069 - val_loss: 0.2666 - val_mae: 0.2666 - val_mse: 0.1134\n",
      "Epoch 20/20\n",
      "80/80 [==============================] - 1s 6ms/step - loss: 0.2514 - mae: 0.2514 - mse: 0.1062 - val_loss: 0.2669 - val_mae: 0.2669 - val_mse: 0.1185\n",
      "25/25 [==============================] - 0s 3ms/step\n",
      "Epoch 1/20\n",
      "80/80 [==============================] - 2s 11ms/step - loss: 0.5168 - mae: 0.5168 - mse: 0.3838 - val_loss: 0.5289 - val_mae: 0.5289 - val_mse: 0.4033\n",
      "Epoch 2/20\n",
      "80/80 [==============================] - 1s 6ms/step - loss: 0.5168 - mae: 0.5168 - mse: 0.3838 - val_loss: 0.5289 - val_mae: 0.5289 - val_mse: 0.4033\n",
      "Epoch 3/20\n",
      "80/80 [==============================] - 1s 7ms/step - loss: 0.5168 - mae: 0.5168 - mse: 0.3838 - val_loss: 0.5289 - val_mae: 0.5289 - val_mse: 0.4033\n",
      "Epoch 4/20\n",
      "80/80 [==============================] - 0s 6ms/step - loss: 0.5168 - mae: 0.5168 - mse: 0.3838 - val_loss: 0.5289 - val_mae: 0.5289 - val_mse: 0.4033\n",
      "Epoch 5/20\n",
      "80/80 [==============================] - 0s 6ms/step - loss: 0.5168 - mae: 0.5168 - mse: 0.3838 - val_loss: 0.5289 - val_mae: 0.5289 - val_mse: 0.4033\n",
      "Epoch 6/20\n",
      "80/80 [==============================] - 1s 7ms/step - loss: 0.5168 - mae: 0.5168 - mse: 0.3838 - val_loss: 0.5289 - val_mae: 0.5289 - val_mse: 0.4033\n",
      "Epoch 7/20\n",
      "80/80 [==============================] - 1s 6ms/step - loss: 0.5168 - mae: 0.5168 - mse: 0.3838 - val_loss: 0.5289 - val_mae: 0.5289 - val_mse: 0.4033\n",
      "Epoch 8/20\n",
      "80/80 [==============================] - 1s 8ms/step - loss: 0.5168 - mae: 0.5168 - mse: 0.3838 - val_loss: 0.5289 - val_mae: 0.5289 - val_mse: 0.4033\n",
      "Epoch 9/20\n",
      "80/80 [==============================] - 0s 6ms/step - loss: 0.5168 - mae: 0.5168 - mse: 0.3838 - val_loss: 0.5289 - val_mae: 0.5289 - val_mse: 0.4033\n",
      "Epoch 10/20\n",
      "80/80 [==============================] - 0s 6ms/step - loss: 0.5168 - mae: 0.5168 - mse: 0.3838 - val_loss: 0.5289 - val_mae: 0.5289 - val_mse: 0.4033\n",
      "Epoch 11/20\n",
      "80/80 [==============================] - 0s 6ms/step - loss: 0.5168 - mae: 0.5168 - mse: 0.3838 - val_loss: 0.5289 - val_mae: 0.5289 - val_mse: 0.4033\n",
      "Epoch 12/20\n",
      "80/80 [==============================] - 0s 6ms/step - loss: 0.5168 - mae: 0.5168 - mse: 0.3838 - val_loss: 0.5289 - val_mae: 0.5289 - val_mse: 0.4033\n",
      "Epoch 13/20\n",
      "80/80 [==============================] - 1s 6ms/step - loss: 0.5168 - mae: 0.5168 - mse: 0.3838 - val_loss: 0.5289 - val_mae: 0.5289 - val_mse: 0.4033\n",
      "Epoch 14/20\n",
      "80/80 [==============================] - 1s 7ms/step - loss: 0.5168 - mae: 0.5168 - mse: 0.3838 - val_loss: 0.5289 - val_mae: 0.5289 - val_mse: 0.4033\n",
      "Epoch 15/20\n",
      "80/80 [==============================] - 1s 7ms/step - loss: 0.5168 - mae: 0.5168 - mse: 0.3838 - val_loss: 0.5289 - val_mae: 0.5289 - val_mse: 0.4033\n",
      "Epoch 16/20\n",
      "80/80 [==============================] - 1s 7ms/step - loss: 0.5168 - mae: 0.5168 - mse: 0.3838 - val_loss: 0.5289 - val_mae: 0.5289 - val_mse: 0.4033\n",
      "Epoch 17/20\n",
      "80/80 [==============================] - 1s 9ms/step - loss: 0.5168 - mae: 0.5168 - mse: 0.3838 - val_loss: 0.5289 - val_mae: 0.5289 - val_mse: 0.4033\n",
      "Epoch 18/20\n",
      "80/80 [==============================] - 1s 7ms/step - loss: 0.5168 - mae: 0.5168 - mse: 0.3838 - val_loss: 0.5289 - val_mae: 0.5289 - val_mse: 0.4033\n",
      "Epoch 19/20\n",
      "80/80 [==============================] - 1s 8ms/step - loss: 0.5168 - mae: 0.5168 - mse: 0.3838 - val_loss: 0.5289 - val_mae: 0.5289 - val_mse: 0.4033\n",
      "Epoch 20/20\n",
      "80/80 [==============================] - 1s 7ms/step - loss: 0.5168 - mae: 0.5168 - mse: 0.3838 - val_loss: 0.5289 - val_mae: 0.5289 - val_mse: 0.4033\n",
      "25/25 [==============================] - 0s 3ms/step\n",
      "Epoch 1/20\n",
      "80/80 [==============================] - 2s 14ms/step - loss: 0.5200 - mae: 0.5200 - mse: 0.3865 - val_loss: 0.5117 - val_mae: 0.5117 - val_mse: 0.3871\n",
      "Epoch 2/20\n",
      "80/80 [==============================] - 1s 9ms/step - loss: 0.5200 - mae: 0.5200 - mse: 0.3865 - val_loss: 0.5117 - val_mae: 0.5117 - val_mse: 0.3871\n",
      "Epoch 3/20\n",
      "80/80 [==============================] - 1s 8ms/step - loss: 0.5200 - mae: 0.5200 - mse: 0.3865 - val_loss: 0.5117 - val_mae: 0.5117 - val_mse: 0.3871\n",
      "Epoch 4/20\n",
      "80/80 [==============================] - 1s 7ms/step - loss: 0.5200 - mae: 0.5200 - mse: 0.3865 - val_loss: 0.5117 - val_mae: 0.5117 - val_mse: 0.3871\n",
      "Epoch 5/20\n",
      "80/80 [==============================] - 1s 7ms/step - loss: 0.5200 - mae: 0.5200 - mse: 0.3865 - val_loss: 0.5117 - val_mae: 0.5117 - val_mse: 0.3871\n",
      "Epoch 6/20\n",
      "80/80 [==============================] - 1s 7ms/step - loss: 0.5200 - mae: 0.5200 - mse: 0.3865 - val_loss: 0.5117 - val_mae: 0.5117 - val_mse: 0.3871\n",
      "Epoch 7/20\n",
      "80/80 [==============================] - 1s 7ms/step - loss: 0.5200 - mae: 0.5200 - mse: 0.3865 - val_loss: 0.5117 - val_mae: 0.5117 - val_mse: 0.3871\n",
      "Epoch 8/20\n",
      "80/80 [==============================] - 1s 9ms/step - loss: 0.5200 - mae: 0.5200 - mse: 0.3865 - val_loss: 0.5117 - val_mae: 0.5117 - val_mse: 0.3871\n",
      "Epoch 9/20\n",
      "80/80 [==============================] - 1s 8ms/step - loss: 0.5200 - mae: 0.5200 - mse: 0.3865 - val_loss: 0.5117 - val_mae: 0.5117 - val_mse: 0.3871\n",
      "Epoch 10/20\n",
      "80/80 [==============================] - 1s 11ms/step - loss: 0.5200 - mae: 0.5200 - mse: 0.3865 - val_loss: 0.5117 - val_mae: 0.5117 - val_mse: 0.3871\n",
      "Epoch 11/20\n",
      "80/80 [==============================] - 1s 10ms/step - loss: 0.5200 - mae: 0.5200 - mse: 0.3865 - val_loss: 0.5117 - val_mae: 0.5117 - val_mse: 0.3871\n",
      "Epoch 12/20\n",
      "80/80 [==============================] - 1s 11ms/step - loss: 0.5200 - mae: 0.5200 - mse: 0.3865 - val_loss: 0.5117 - val_mae: 0.5117 - val_mse: 0.3871\n",
      "Epoch 13/20\n",
      "80/80 [==============================] - 1s 11ms/step - loss: 0.5200 - mae: 0.5200 - mse: 0.3865 - val_loss: 0.5117 - val_mae: 0.5117 - val_mse: 0.3871\n",
      "Epoch 14/20\n",
      "80/80 [==============================] - 1s 8ms/step - loss: 0.5200 - mae: 0.5200 - mse: 0.3865 - val_loss: 0.5117 - val_mae: 0.5117 - val_mse: 0.3871\n",
      "Epoch 15/20\n",
      "80/80 [==============================] - 1s 10ms/step - loss: 0.5200 - mae: 0.5200 - mse: 0.3865 - val_loss: 0.5117 - val_mae: 0.5117 - val_mse: 0.3871\n",
      "Epoch 16/20\n",
      "80/80 [==============================] - 1s 6ms/step - loss: 0.5200 - mae: 0.5200 - mse: 0.3865 - val_loss: 0.5117 - val_mae: 0.5117 - val_mse: 0.3871\n",
      "Epoch 17/20\n",
      "80/80 [==============================] - 1s 9ms/step - loss: 0.5200 - mae: 0.5200 - mse: 0.3865 - val_loss: 0.5117 - val_mae: 0.5117 - val_mse: 0.3871\n",
      "Epoch 18/20\n",
      "80/80 [==============================] - 1s 9ms/step - loss: 0.5200 - mae: 0.5200 - mse: 0.3865 - val_loss: 0.5117 - val_mae: 0.5117 - val_mse: 0.3871\n",
      "Epoch 19/20\n",
      "80/80 [==============================] - 1s 8ms/step - loss: 0.5200 - mae: 0.5200 - mse: 0.3865 - val_loss: 0.5117 - val_mae: 0.5117 - val_mse: 0.3871\n",
      "Epoch 20/20\n",
      "80/80 [==============================] - 1s 8ms/step - loss: 0.5200 - mae: 0.5200 - mse: 0.3865 - val_loss: 0.5117 - val_mae: 0.5117 - val_mse: 0.3871\n",
      "25/25 [==============================] - 0s 3ms/step\n",
      "Epoch 1/20\n",
      "80/80 [==============================] - 2s 14ms/step - loss: 0.2931 - mae: 0.2931 - mse: 0.1333 - val_loss: 0.2900 - val_mae: 0.2900 - val_mse: 0.1358\n",
      "Epoch 2/20\n",
      "80/80 [==============================] - 0s 6ms/step - loss: 0.2765 - mae: 0.2765 - mse: 0.1219 - val_loss: 0.2880 - val_mae: 0.2880 - val_mse: 0.1288\n",
      "Epoch 3/20\n",
      "80/80 [==============================] - 0s 6ms/step - loss: 0.2709 - mae: 0.2709 - mse: 0.1195 - val_loss: 0.2881 - val_mae: 0.2881 - val_mse: 0.1222\n",
      "Epoch 4/20\n",
      "80/80 [==============================] - 0s 6ms/step - loss: 0.2760 - mae: 0.2760 - mse: 0.1206 - val_loss: 0.2848 - val_mae: 0.2848 - val_mse: 0.1337\n",
      "Epoch 5/20\n",
      "80/80 [==============================] - 1s 7ms/step - loss: 0.2722 - mae: 0.2722 - mse: 0.1193 - val_loss: 0.2829 - val_mae: 0.2829 - val_mse: 0.1311\n",
      "Epoch 6/20\n",
      "80/80 [==============================] - 1s 8ms/step - loss: 0.2692 - mae: 0.2692 - mse: 0.1189 - val_loss: 0.2829 - val_mae: 0.2829 - val_mse: 0.1296\n",
      "Epoch 7/20\n",
      "80/80 [==============================] - 1s 11ms/step - loss: 0.2683 - mae: 0.2683 - mse: 0.1192 - val_loss: 0.2858 - val_mae: 0.2858 - val_mse: 0.1202\n",
      "Epoch 8/20\n",
      "80/80 [==============================] - 1s 7ms/step - loss: 0.2691 - mae: 0.2691 - mse: 0.1179 - val_loss: 0.2860 - val_mae: 0.2860 - val_mse: 0.1200\n",
      "Epoch 9/20\n",
      "80/80 [==============================] - 1s 8ms/step - loss: 0.2686 - mae: 0.2686 - mse: 0.1165 - val_loss: 0.2805 - val_mae: 0.2805 - val_mse: 0.1277\n",
      "Epoch 10/20\n",
      "80/80 [==============================] - 1s 8ms/step - loss: 0.2683 - mae: 0.2683 - mse: 0.1155 - val_loss: 0.2812 - val_mae: 0.2812 - val_mse: 0.1294\n",
      "Epoch 11/20\n",
      "80/80 [==============================] - 1s 6ms/step - loss: 0.2691 - mae: 0.2691 - mse: 0.1154 - val_loss: 0.2796 - val_mae: 0.2796 - val_mse: 0.1252\n",
      "Epoch 12/20\n",
      "80/80 [==============================] - 1s 9ms/step - loss: 0.2668 - mae: 0.2668 - mse: 0.1155 - val_loss: 0.2843 - val_mae: 0.2843 - val_mse: 0.1167\n",
      "Epoch 13/20\n",
      "80/80 [==============================] - 1s 7ms/step - loss: 0.2661 - mae: 0.2661 - mse: 0.1144 - val_loss: 0.2855 - val_mae: 0.2855 - val_mse: 0.1371\n",
      "Epoch 14/20\n",
      "80/80 [==============================] - 0s 6ms/step - loss: 0.2652 - mae: 0.2652 - mse: 0.1141 - val_loss: 0.2763 - val_mae: 0.2763 - val_mse: 0.1211\n",
      "Epoch 15/20\n",
      "80/80 [==============================] - 0s 6ms/step - loss: 0.2626 - mae: 0.2626 - mse: 0.1145 - val_loss: 0.2776 - val_mae: 0.2776 - val_mse: 0.1168\n",
      "Epoch 16/20\n",
      "80/80 [==============================] - 1s 7ms/step - loss: 0.2635 - mae: 0.2635 - mse: 0.1134 - val_loss: 0.2860 - val_mae: 0.2860 - val_mse: 0.1382\n",
      "Epoch 17/20\n",
      "80/80 [==============================] - 1s 10ms/step - loss: 0.2633 - mae: 0.2633 - mse: 0.1126 - val_loss: 0.2745 - val_mae: 0.2745 - val_mse: 0.1180\n",
      "Epoch 18/20\n",
      "80/80 [==============================] - 1s 7ms/step - loss: 0.2620 - mae: 0.2620 - mse: 0.1131 - val_loss: 0.2738 - val_mae: 0.2738 - val_mse: 0.1163\n",
      "Epoch 19/20\n",
      "80/80 [==============================] - 1s 7ms/step - loss: 0.2597 - mae: 0.2597 - mse: 0.1120 - val_loss: 0.2784 - val_mae: 0.2784 - val_mse: 0.1305\n",
      "Epoch 20/20\n",
      "80/80 [==============================] - 1s 7ms/step - loss: 0.2656 - mae: 0.2656 - mse: 0.1123 - val_loss: 0.2704 - val_mae: 0.2704 - val_mse: 0.1197\n",
      "25/25 [==============================] - 0s 3ms/step\n",
      "Epoch 1/20\n",
      "80/80 [==============================] - 2s 11ms/step - loss: 0.2958 - mae: 0.2958 - mse: 0.1387 - val_loss: 0.3020 - val_mae: 0.3020 - val_mse: 0.1367\n",
      "Epoch 2/20\n",
      "80/80 [==============================] - 1s 10ms/step - loss: 0.2859 - mae: 0.2859 - mse: 0.1245 - val_loss: 0.2941 - val_mae: 0.2941 - val_mse: 0.1370\n",
      "Epoch 3/20\n",
      "80/80 [==============================] - 1s 10ms/step - loss: 0.2766 - mae: 0.2766 - mse: 0.1199 - val_loss: 0.2936 - val_mae: 0.2936 - val_mse: 0.1249\n",
      "Epoch 4/20\n",
      "80/80 [==============================] - 1s 9ms/step - loss: 0.2767 - mae: 0.2767 - mse: 0.1198 - val_loss: 0.2892 - val_mae: 0.2892 - val_mse: 0.1283\n",
      "Epoch 5/20\n",
      "80/80 [==============================] - 1s 11ms/step - loss: 0.2737 - mae: 0.2737 - mse: 0.1184 - val_loss: 0.2874 - val_mae: 0.2874 - val_mse: 0.1283\n",
      "Epoch 6/20\n",
      "80/80 [==============================] - 1s 9ms/step - loss: 0.2711 - mae: 0.2711 - mse: 0.1174 - val_loss: 0.2872 - val_mae: 0.2872 - val_mse: 0.1243\n",
      "Epoch 7/20\n",
      "80/80 [==============================] - 1s 9ms/step - loss: 0.2741 - mae: 0.2741 - mse: 0.1179 - val_loss: 0.2978 - val_mae: 0.2978 - val_mse: 0.1173\n",
      "Epoch 8/20\n",
      "80/80 [==============================] - 1s 8ms/step - loss: 0.2714 - mae: 0.2714 - mse: 0.1158 - val_loss: 0.2841 - val_mae: 0.2841 - val_mse: 0.1245\n",
      "Epoch 9/20\n",
      "80/80 [==============================] - 1s 8ms/step - loss: 0.2714 - mae: 0.2714 - mse: 0.1179 - val_loss: 0.2934 - val_mae: 0.2934 - val_mse: 0.1166\n",
      "Epoch 10/20\n",
      "80/80 [==============================] - 1s 7ms/step - loss: 0.2693 - mae: 0.2693 - mse: 0.1152 - val_loss: 0.2848 - val_mae: 0.2848 - val_mse: 0.1354\n",
      "Epoch 11/20\n",
      "80/80 [==============================] - 1s 6ms/step - loss: 0.2675 - mae: 0.2675 - mse: 0.1143 - val_loss: 0.2859 - val_mae: 0.2859 - val_mse: 0.1164\n",
      "Epoch 12/20\n",
      "80/80 [==============================] - 1s 6ms/step - loss: 0.2658 - mae: 0.2658 - mse: 0.1135 - val_loss: 0.2810 - val_mae: 0.2810 - val_mse: 0.1327\n",
      "Epoch 13/20\n",
      "80/80 [==============================] - 1s 8ms/step - loss: 0.2706 - mae: 0.2706 - mse: 0.1142 - val_loss: 0.2795 - val_mae: 0.2795 - val_mse: 0.1302\n",
      "Epoch 14/20\n",
      "80/80 [==============================] - 0s 6ms/step - loss: 0.2635 - mae: 0.2635 - mse: 0.1109 - val_loss: 0.2766 - val_mae: 0.2766 - val_mse: 0.1276\n",
      "Epoch 15/20\n",
      "80/80 [==============================] - 1s 7ms/step - loss: 0.2631 - mae: 0.2631 - mse: 0.1114 - val_loss: 0.2760 - val_mae: 0.2760 - val_mse: 0.1277\n",
      "Epoch 16/20\n",
      "80/80 [==============================] - 1s 6ms/step - loss: 0.2650 - mae: 0.2650 - mse: 0.1108 - val_loss: 0.2760 - val_mae: 0.2760 - val_mse: 0.1288\n",
      "Epoch 17/20\n",
      "80/80 [==============================] - 1s 9ms/step - loss: 0.2590 - mae: 0.2590 - mse: 0.1076 - val_loss: 0.2715 - val_mae: 0.2715 - val_mse: 0.1127\n",
      "Epoch 18/20\n",
      "80/80 [==============================] - 1s 8ms/step - loss: 0.2589 - mae: 0.2589 - mse: 0.1076 - val_loss: 0.2685 - val_mae: 0.2685 - val_mse: 0.1141\n",
      "Epoch 19/20\n",
      "80/80 [==============================] - 1s 7ms/step - loss: 0.2612 - mae: 0.2612 - mse: 0.1065 - val_loss: 0.2675 - val_mae: 0.2675 - val_mse: 0.1138\n",
      "Epoch 20/20\n",
      "80/80 [==============================] - 1s 7ms/step - loss: 0.2595 - mae: 0.2595 - mse: 0.1064 - val_loss: 0.2676 - val_mae: 0.2676 - val_mse: 0.1205\n",
      "25/25 [==============================] - 0s 5ms/step\n",
      "Epoch 1/20\n",
      "80/80 [==============================] - 2s 10ms/step - loss: 0.5223 - mae: 0.5223 - mse: 0.3907 - val_loss: 0.5211 - val_mae: 0.5211 - val_mse: 0.3969\n",
      "Epoch 2/20\n",
      "80/80 [==============================] - 1s 6ms/step - loss: 0.5223 - mae: 0.5223 - mse: 0.3907 - val_loss: 0.5211 - val_mae: 0.5211 - val_mse: 0.3969\n",
      "Epoch 3/20\n",
      "80/80 [==============================] - 1s 6ms/step - loss: 0.5223 - mae: 0.5223 - mse: 0.3907 - val_loss: 0.5211 - val_mae: 0.5211 - val_mse: 0.3969\n",
      "Epoch 4/20\n",
      "80/80 [==============================] - 1s 8ms/step - loss: 0.5223 - mae: 0.5223 - mse: 0.3907 - val_loss: 0.5211 - val_mae: 0.5211 - val_mse: 0.3969\n",
      "Epoch 5/20\n",
      "80/80 [==============================] - 1s 6ms/step - loss: 0.5223 - mae: 0.5223 - mse: 0.3907 - val_loss: 0.5211 - val_mae: 0.5211 - val_mse: 0.3969\n",
      "Epoch 6/20\n",
      "80/80 [==============================] - 1s 7ms/step - loss: 0.5223 - mae: 0.5223 - mse: 0.3907 - val_loss: 0.5211 - val_mae: 0.5211 - val_mse: 0.3969\n",
      "Epoch 7/20\n",
      "80/80 [==============================] - 1s 9ms/step - loss: 0.5223 - mae: 0.5223 - mse: 0.3907 - val_loss: 0.5211 - val_mae: 0.5211 - val_mse: 0.3969\n",
      "Epoch 8/20\n",
      "80/80 [==============================] - 1s 8ms/step - loss: 0.5223 - mae: 0.5223 - mse: 0.3907 - val_loss: 0.5211 - val_mae: 0.5211 - val_mse: 0.3969\n",
      "Epoch 9/20\n",
      "80/80 [==============================] - 1s 8ms/step - loss: 0.5223 - mae: 0.5223 - mse: 0.3907 - val_loss: 0.5211 - val_mae: 0.5211 - val_mse: 0.3969\n",
      "Epoch 10/20\n",
      "80/80 [==============================] - 0s 6ms/step - loss: 0.5223 - mae: 0.5223 - mse: 0.3907 - val_loss: 0.5211 - val_mae: 0.5211 - val_mse: 0.3969\n",
      "Epoch 11/20\n",
      "80/80 [==============================] - 1s 6ms/step - loss: 0.5223 - mae: 0.5223 - mse: 0.3907 - val_loss: 0.5211 - val_mae: 0.5211 - val_mse: 0.3969\n",
      "Epoch 12/20\n",
      "80/80 [==============================] - 1s 8ms/step - loss: 0.5223 - mae: 0.5223 - mse: 0.3907 - val_loss: 0.5211 - val_mae: 0.5211 - val_mse: 0.3969\n",
      "Epoch 13/20\n",
      "80/80 [==============================] - 1s 7ms/step - loss: 0.5223 - mae: 0.5223 - mse: 0.3907 - val_loss: 0.5211 - val_mae: 0.5211 - val_mse: 0.3969\n",
      "Epoch 14/20\n",
      "80/80 [==============================] - 1s 9ms/step - loss: 0.5223 - mae: 0.5223 - mse: 0.3907 - val_loss: 0.5211 - val_mae: 0.5211 - val_mse: 0.3969\n",
      "Epoch 15/20\n",
      "80/80 [==============================] - 1s 7ms/step - loss: 0.5223 - mae: 0.5223 - mse: 0.3907 - val_loss: 0.5211 - val_mae: 0.5211 - val_mse: 0.3969\n",
      "Epoch 16/20\n",
      "80/80 [==============================] - 1s 7ms/step - loss: 0.5223 - mae: 0.5223 - mse: 0.3907 - val_loss: 0.5211 - val_mae: 0.5211 - val_mse: 0.3969\n",
      "Epoch 17/20\n",
      "80/80 [==============================] - 1s 6ms/step - loss: 0.5223 - mae: 0.5223 - mse: 0.3907 - val_loss: 0.5211 - val_mae: 0.5211 - val_mse: 0.3969\n",
      "Epoch 18/20\n",
      "80/80 [==============================] - 0s 6ms/step - loss: 0.5223 - mae: 0.5223 - mse: 0.3907 - val_loss: 0.5211 - val_mae: 0.5211 - val_mse: 0.3969\n",
      "Epoch 19/20\n",
      "80/80 [==============================] - 1s 9ms/step - loss: 0.5223 - mae: 0.5223 - mse: 0.3907 - val_loss: 0.5211 - val_mae: 0.5211 - val_mse: 0.3969\n",
      "Epoch 20/20\n",
      "80/80 [==============================] - 1s 8ms/step - loss: 0.5223 - mae: 0.5223 - mse: 0.3907 - val_loss: 0.5211 - val_mae: 0.5211 - val_mse: 0.3969\n",
      "25/25 [==============================] - 0s 3ms/step\n",
      "Epoch 1/20\n",
      "80/80 [==============================] - 2s 13ms/step - loss: 0.3159 - mae: 0.3159 - mse: 0.1663 - val_loss: 0.2975 - val_mae: 0.2975 - val_mse: 0.1467\n",
      "Epoch 2/20\n",
      "80/80 [==============================] - 1s 13ms/step - loss: 0.2952 - mae: 0.2952 - mse: 0.1550 - val_loss: 0.2937 - val_mae: 0.2937 - val_mse: 0.1561\n",
      "Epoch 3/20\n",
      "80/80 [==============================] - 1s 7ms/step - loss: 0.2942 - mae: 0.2942 - mse: 0.1510 - val_loss: 0.2917 - val_mae: 0.2917 - val_mse: 0.1607\n",
      "Epoch 4/20\n",
      "80/80 [==============================] - 0s 6ms/step - loss: 0.2928 - mae: 0.2928 - mse: 0.1533 - val_loss: 0.2923 - val_mae: 0.2923 - val_mse: 0.1528\n",
      "Epoch 5/20\n",
      "80/80 [==============================] - 1s 7ms/step - loss: 0.2916 - mae: 0.2916 - mse: 0.1530 - val_loss: 0.2917 - val_mae: 0.2917 - val_mse: 0.1503\n",
      "Epoch 6/20\n",
      "80/80 [==============================] - 0s 6ms/step - loss: 0.2905 - mae: 0.2905 - mse: 0.1488 - val_loss: 0.2917 - val_mae: 0.2917 - val_mse: 0.1455\n",
      "Epoch 7/20\n",
      "80/80 [==============================] - 1s 11ms/step - loss: 0.2896 - mae: 0.2896 - mse: 0.1402 - val_loss: 0.2905 - val_mae: 0.2905 - val_mse: 0.1442\n",
      "Epoch 8/20\n",
      "80/80 [==============================] - 1s 15ms/step - loss: 0.2877 - mae: 0.2877 - mse: 0.1412 - val_loss: 0.2894 - val_mae: 0.2894 - val_mse: 0.1425\n",
      "Epoch 9/20\n",
      "80/80 [==============================] - 2s 24ms/step - loss: 0.2860 - mae: 0.2860 - mse: 0.1380 - val_loss: 0.2910 - val_mae: 0.2910 - val_mse: 0.1330\n",
      "Epoch 10/20\n",
      "80/80 [==============================] - 1s 13ms/step - loss: 0.2846 - mae: 0.2846 - mse: 0.1345 - val_loss: 0.2885 - val_mae: 0.2885 - val_mse: 0.1345\n",
      "Epoch 11/20\n",
      "80/80 [==============================] - 1s 15ms/step - loss: 0.2815 - mae: 0.2815 - mse: 0.1302 - val_loss: 0.2863 - val_mae: 0.2863 - val_mse: 0.1383\n",
      "Epoch 12/20\n",
      "80/80 [==============================] - 1s 11ms/step - loss: 0.2796 - mae: 0.2796 - mse: 0.1288 - val_loss: 0.2860 - val_mae: 0.2860 - val_mse: 0.1321\n",
      "Epoch 13/20\n",
      "80/80 [==============================] - 1s 9ms/step - loss: 0.2791 - mae: 0.2791 - mse: 0.1249 - val_loss: 0.2859 - val_mae: 0.2859 - val_mse: 0.1293\n",
      "Epoch 14/20\n",
      "80/80 [==============================] - 1s 10ms/step - loss: 0.2767 - mae: 0.2767 - mse: 0.1236 - val_loss: 0.2865 - val_mae: 0.2865 - val_mse: 0.1396\n",
      "Epoch 15/20\n",
      "80/80 [==============================] - 1s 11ms/step - loss: 0.2763 - mae: 0.2763 - mse: 0.1224 - val_loss: 0.2857 - val_mae: 0.2857 - val_mse: 0.1276\n",
      "Epoch 16/20\n",
      "80/80 [==============================] - 1s 7ms/step - loss: 0.2743 - mae: 0.2743 - mse: 0.1221 - val_loss: 0.2860 - val_mae: 0.2860 - val_mse: 0.1266\n",
      "Epoch 17/20\n",
      "80/80 [==============================] - 1s 7ms/step - loss: 0.2739 - mae: 0.2739 - mse: 0.1206 - val_loss: 0.2851 - val_mae: 0.2851 - val_mse: 0.1343\n",
      "Epoch 18/20\n",
      "80/80 [==============================] - 1s 14ms/step - loss: 0.2731 - mae: 0.2731 - mse: 0.1207 - val_loss: 0.2851 - val_mae: 0.2851 - val_mse: 0.1276\n",
      "Epoch 19/20\n",
      "80/80 [==============================] - 1s 8ms/step - loss: 0.2729 - mae: 0.2729 - mse: 0.1207 - val_loss: 0.2845 - val_mae: 0.2845 - val_mse: 0.1307\n",
      "Epoch 20/20\n",
      "80/80 [==============================] - 1s 7ms/step - loss: 0.2722 - mae: 0.2722 - mse: 0.1202 - val_loss: 0.2844 - val_mae: 0.2844 - val_mse: 0.1304\n",
      "25/25 [==============================] - 0s 4ms/step\n",
      "Epoch 1/20\n",
      "80/80 [==============================] - 2s 11ms/step - loss: 0.3151 - mae: 0.3151 - mse: 0.1331 - val_loss: 0.3087 - val_mae: 0.3087 - val_mse: 0.1421\n",
      "Epoch 2/20\n",
      "80/80 [==============================] - 1s 8ms/step - loss: 0.2893 - mae: 0.2893 - mse: 0.1500 - val_loss: 0.3029 - val_mae: 0.3029 - val_mse: 0.1766\n",
      "Epoch 3/20\n",
      "80/80 [==============================] - 1s 6ms/step - loss: 0.2877 - mae: 0.2877 - mse: 0.1539 - val_loss: 0.3011 - val_mae: 0.3011 - val_mse: 0.1684\n",
      "Epoch 4/20\n",
      "80/80 [==============================] - 0s 6ms/step - loss: 0.2868 - mae: 0.2868 - mse: 0.1534 - val_loss: 0.3004 - val_mae: 0.3004 - val_mse: 0.1677\n",
      "Epoch 5/20\n",
      "80/80 [==============================] - 1s 8ms/step - loss: 0.2857 - mae: 0.2857 - mse: 0.1508 - val_loss: 0.3003 - val_mae: 0.3003 - val_mse: 0.1613\n",
      "Epoch 6/20\n",
      "80/80 [==============================] - 1s 6ms/step - loss: 0.2846 - mae: 0.2846 - mse: 0.1494 - val_loss: 0.2993 - val_mae: 0.2993 - val_mse: 0.1617\n",
      "Epoch 7/20\n",
      "80/80 [==============================] - 1s 7ms/step - loss: 0.2841 - mae: 0.2841 - mse: 0.1458 - val_loss: 0.2988 - val_mae: 0.2988 - val_mse: 0.1565\n",
      "Epoch 8/20\n",
      "80/80 [==============================] - 1s 9ms/step - loss: 0.2828 - mae: 0.2828 - mse: 0.1421 - val_loss: 0.2982 - val_mae: 0.2982 - val_mse: 0.1521\n",
      "Epoch 9/20\n",
      "80/80 [==============================] - 1s 7ms/step - loss: 0.2812 - mae: 0.2812 - mse: 0.1382 - val_loss: 0.3000 - val_mae: 0.3000 - val_mse: 0.1374\n",
      "Epoch 10/20\n",
      "80/80 [==============================] - 1s 8ms/step - loss: 0.2799 - mae: 0.2799 - mse: 0.1341 - val_loss: 0.2966 - val_mae: 0.2966 - val_mse: 0.1478\n",
      "Epoch 11/20\n",
      "80/80 [==============================] - 1s 9ms/step - loss: 0.2783 - mae: 0.2783 - mse: 0.1315 - val_loss: 0.2956 - val_mae: 0.2956 - val_mse: 0.1422\n",
      "Epoch 12/20\n",
      "80/80 [==============================] - 1s 6ms/step - loss: 0.2769 - mae: 0.2769 - mse: 0.1278 - val_loss: 0.2948 - val_mae: 0.2948 - val_mse: 0.1374\n",
      "Epoch 13/20\n",
      "80/80 [==============================] - 1s 9ms/step - loss: 0.2748 - mae: 0.2748 - mse: 0.1257 - val_loss: 0.2944 - val_mae: 0.2944 - val_mse: 0.1339\n",
      "Epoch 14/20\n",
      "80/80 [==============================] - 1s 8ms/step - loss: 0.2738 - mae: 0.2738 - mse: 0.1232 - val_loss: 0.2945 - val_mae: 0.2945 - val_mse: 0.1400\n",
      "Epoch 15/20\n",
      "80/80 [==============================] - 1s 18ms/step - loss: 0.2724 - mae: 0.2724 - mse: 0.1215 - val_loss: 0.2932 - val_mae: 0.2932 - val_mse: 0.1333\n",
      "Epoch 16/20\n",
      "80/80 [==============================] - 1s 7ms/step - loss: 0.2723 - mae: 0.2723 - mse: 0.1224 - val_loss: 0.2928 - val_mae: 0.2928 - val_mse: 0.1345\n",
      "Epoch 17/20\n",
      "80/80 [==============================] - 1s 7ms/step - loss: 0.2711 - mae: 0.2711 - mse: 0.1210 - val_loss: 0.2924 - val_mae: 0.2924 - val_mse: 0.1312\n",
      "Epoch 18/20\n",
      "80/80 [==============================] - 1s 8ms/step - loss: 0.2710 - mae: 0.2710 - mse: 0.1205 - val_loss: 0.2931 - val_mae: 0.2931 - val_mse: 0.1279\n",
      "Epoch 19/20\n",
      "80/80 [==============================] - 1s 7ms/step - loss: 0.2697 - mae: 0.2697 - mse: 0.1202 - val_loss: 0.2916 - val_mae: 0.2916 - val_mse: 0.1323\n",
      "Epoch 20/20\n",
      "80/80 [==============================] - 1s 8ms/step - loss: 0.2691 - mae: 0.2691 - mse: 0.1200 - val_loss: 0.2912 - val_mae: 0.2912 - val_mse: 0.1320\n",
      "25/25 [==============================] - 0s 8ms/step\n",
      "Epoch 1/20\n",
      "80/80 [==============================] - 2s 13ms/step - loss: 0.5173 - mae: 0.5173 - mse: 0.3844 - val_loss: 0.5242 - val_mae: 0.5242 - val_mse: 0.3961\n",
      "Epoch 2/20\n",
      "80/80 [==============================] - 1s 9ms/step - loss: 0.5173 - mae: 0.5173 - mse: 0.3844 - val_loss: 0.5242 - val_mae: 0.5242 - val_mse: 0.3961\n",
      "Epoch 3/20\n",
      "80/80 [==============================] - 1s 7ms/step - loss: 0.5173 - mae: 0.5173 - mse: 0.3844 - val_loss: 0.5242 - val_mae: 0.5242 - val_mse: 0.3961\n",
      "Epoch 4/20\n",
      "80/80 [==============================] - 1s 7ms/step - loss: 0.5173 - mae: 0.5173 - mse: 0.3844 - val_loss: 0.5242 - val_mae: 0.5242 - val_mse: 0.3961\n",
      "Epoch 5/20\n",
      "80/80 [==============================] - 1s 7ms/step - loss: 0.5173 - mae: 0.5173 - mse: 0.3844 - val_loss: 0.5242 - val_mae: 0.5242 - val_mse: 0.3961\n",
      "Epoch 6/20\n",
      "80/80 [==============================] - 1s 7ms/step - loss: 0.5173 - mae: 0.5173 - mse: 0.3844 - val_loss: 0.5242 - val_mae: 0.5242 - val_mse: 0.3961\n",
      "Epoch 7/20\n",
      "80/80 [==============================] - 1s 7ms/step - loss: 0.5173 - mae: 0.5173 - mse: 0.3844 - val_loss: 0.5242 - val_mae: 0.5242 - val_mse: 0.3961\n",
      "Epoch 8/20\n",
      "80/80 [==============================] - 1s 8ms/step - loss: 0.5173 - mae: 0.5173 - mse: 0.3844 - val_loss: 0.5242 - val_mae: 0.5242 - val_mse: 0.3961\n",
      "Epoch 9/20\n",
      "80/80 [==============================] - 1s 10ms/step - loss: 0.5173 - mae: 0.5173 - mse: 0.3844 - val_loss: 0.5242 - val_mae: 0.5242 - val_mse: 0.3961\n",
      "Epoch 10/20\n",
      "80/80 [==============================] - 1s 11ms/step - loss: 0.5173 - mae: 0.5173 - mse: 0.3844 - val_loss: 0.5242 - val_mae: 0.5242 - val_mse: 0.3961\n",
      "Epoch 11/20\n",
      "80/80 [==============================] - 1s 7ms/step - loss: 0.5173 - mae: 0.5173 - mse: 0.3844 - val_loss: 0.5242 - val_mae: 0.5242 - val_mse: 0.3961\n",
      "Epoch 12/20\n",
      "80/80 [==============================] - 1s 7ms/step - loss: 0.5173 - mae: 0.5173 - mse: 0.3844 - val_loss: 0.5242 - val_mae: 0.5242 - val_mse: 0.3961\n",
      "Epoch 13/20\n",
      "80/80 [==============================] - 1s 8ms/step - loss: 0.5173 - mae: 0.5173 - mse: 0.3844 - val_loss: 0.5242 - val_mae: 0.5242 - val_mse: 0.3961\n",
      "Epoch 14/20\n",
      "80/80 [==============================] - 1s 7ms/step - loss: 0.5173 - mae: 0.5173 - mse: 0.3844 - val_loss: 0.5242 - val_mae: 0.5242 - val_mse: 0.3961\n",
      "Epoch 15/20\n",
      "80/80 [==============================] - 0s 6ms/step - loss: 0.5173 - mae: 0.5173 - mse: 0.3844 - val_loss: 0.5242 - val_mae: 0.5242 - val_mse: 0.3961\n",
      "Epoch 16/20\n",
      "80/80 [==============================] - 1s 8ms/step - loss: 0.5173 - mae: 0.5173 - mse: 0.3844 - val_loss: 0.5242 - val_mae: 0.5242 - val_mse: 0.3961\n",
      "Epoch 17/20\n",
      "80/80 [==============================] - 1s 7ms/step - loss: 0.5173 - mae: 0.5173 - mse: 0.3844 - val_loss: 0.5242 - val_mae: 0.5242 - val_mse: 0.3961\n",
      "Epoch 18/20\n",
      "80/80 [==============================] - 1s 8ms/step - loss: 0.5173 - mae: 0.5173 - mse: 0.3844 - val_loss: 0.5242 - val_mae: 0.5242 - val_mse: 0.3961\n",
      "Epoch 19/20\n",
      "80/80 [==============================] - 1s 7ms/step - loss: 0.5173 - mae: 0.5173 - mse: 0.3844 - val_loss: 0.5242 - val_mae: 0.5242 - val_mse: 0.3961\n",
      "Epoch 20/20\n",
      "80/80 [==============================] - 1s 7ms/step - loss: 0.5173 - mae: 0.5173 - mse: 0.3844 - val_loss: 0.5242 - val_mae: 0.5242 - val_mse: 0.3961\n",
      "25/25 [==============================] - 1s 3ms/step\n",
      "Epoch 1/20\n",
      "80/80 [==============================] - 2s 11ms/step - loss: 0.5095 - mae: 0.5095 - mse: 0.3749 - val_loss: 0.5113 - val_mae: 0.5113 - val_mse: 0.3862\n",
      "Epoch 2/20\n",
      "80/80 [==============================] - 1s 6ms/step - loss: 0.5095 - mae: 0.5095 - mse: 0.3749 - val_loss: 0.5113 - val_mae: 0.5113 - val_mse: 0.3862\n",
      "Epoch 3/20\n",
      "80/80 [==============================] - 1s 7ms/step - loss: 0.5095 - mae: 0.5095 - mse: 0.3749 - val_loss: 0.5113 - val_mae: 0.5113 - val_mse: 0.3862\n",
      "Epoch 4/20\n",
      "80/80 [==============================] - 1s 7ms/step - loss: 0.5095 - mae: 0.5095 - mse: 0.3749 - val_loss: 0.5113 - val_mae: 0.5113 - val_mse: 0.3862\n",
      "Epoch 5/20\n",
      "80/80 [==============================] - 1s 7ms/step - loss: 0.5095 - mae: 0.5095 - mse: 0.3749 - val_loss: 0.5113 - val_mae: 0.5113 - val_mse: 0.3862\n",
      "Epoch 6/20\n",
      "80/80 [==============================] - 1s 11ms/step - loss: 0.5095 - mae: 0.5095 - mse: 0.3749 - val_loss: 0.5113 - val_mae: 0.5113 - val_mse: 0.3862\n",
      "Epoch 7/20\n",
      "80/80 [==============================] - 1s 8ms/step - loss: 0.5095 - mae: 0.5095 - mse: 0.3749 - val_loss: 0.5113 - val_mae: 0.5113 - val_mse: 0.3862\n",
      "Epoch 8/20\n",
      "80/80 [==============================] - 1s 8ms/step - loss: 0.5095 - mae: 0.5095 - mse: 0.3749 - val_loss: 0.5113 - val_mae: 0.5113 - val_mse: 0.3862\n",
      "Epoch 9/20\n",
      "80/80 [==============================] - 1s 15ms/step - loss: 0.5095 - mae: 0.5095 - mse: 0.3749 - val_loss: 0.5113 - val_mae: 0.5113 - val_mse: 0.3862\n",
      "Epoch 10/20\n",
      "80/80 [==============================] - 1s 9ms/step - loss: 0.5095 - mae: 0.5095 - mse: 0.3749 - val_loss: 0.5113 - val_mae: 0.5113 - val_mse: 0.3862\n",
      "Epoch 11/20\n",
      "80/80 [==============================] - 1s 9ms/step - loss: 0.5095 - mae: 0.5095 - mse: 0.3749 - val_loss: 0.5113 - val_mae: 0.5113 - val_mse: 0.3862\n",
      "Epoch 12/20\n",
      "80/80 [==============================] - 1s 8ms/step - loss: 0.5095 - mae: 0.5095 - mse: 0.3749 - val_loss: 0.5113 - val_mae: 0.5113 - val_mse: 0.3862\n",
      "Epoch 13/20\n",
      "80/80 [==============================] - 1s 9ms/step - loss: 0.5095 - mae: 0.5095 - mse: 0.3749 - val_loss: 0.5113 - val_mae: 0.5113 - val_mse: 0.3862\n",
      "Epoch 14/20\n",
      "80/80 [==============================] - 1s 8ms/step - loss: 0.5095 - mae: 0.5095 - mse: 0.3749 - val_loss: 0.5113 - val_mae: 0.5113 - val_mse: 0.3862\n",
      "Epoch 15/20\n",
      "80/80 [==============================] - 1s 11ms/step - loss: 0.5095 - mae: 0.5095 - mse: 0.3749 - val_loss: 0.5113 - val_mae: 0.5113 - val_mse: 0.3862\n",
      "Epoch 16/20\n",
      "80/80 [==============================] - 1s 9ms/step - loss: 0.5095 - mae: 0.5095 - mse: 0.3749 - val_loss: 0.5113 - val_mae: 0.5113 - val_mse: 0.3862\n",
      "Epoch 17/20\n",
      "80/80 [==============================] - 1s 8ms/step - loss: 0.5095 - mae: 0.5095 - mse: 0.3749 - val_loss: 0.5113 - val_mae: 0.5113 - val_mse: 0.3862\n",
      "Epoch 18/20\n",
      "80/80 [==============================] - 1s 8ms/step - loss: 0.5095 - mae: 0.5095 - mse: 0.3749 - val_loss: 0.5113 - val_mae: 0.5113 - val_mse: 0.3862\n",
      "Epoch 19/20\n",
      "80/80 [==============================] - 1s 9ms/step - loss: 0.5095 - mae: 0.5095 - mse: 0.3749 - val_loss: 0.5113 - val_mae: 0.5113 - val_mse: 0.3862\n",
      "Epoch 20/20\n",
      "80/80 [==============================] - 1s 9ms/step - loss: 0.5095 - mae: 0.5095 - mse: 0.3749 - val_loss: 0.5113 - val_mae: 0.5113 - val_mse: 0.3862\n",
      "25/25 [==============================] - 0s 5ms/step\n",
      "Epoch 1/20\n",
      "80/80 [==============================] - 2s 15ms/step - loss: 0.3108 - mae: 0.3108 - mse: 0.1620 - val_loss: 0.3030 - val_mae: 0.3030 - val_mse: 0.1502\n",
      "Epoch 2/20\n",
      "80/80 [==============================] - 1s 6ms/step - loss: 0.2897 - mae: 0.2897 - mse: 0.1505 - val_loss: 0.3011 - val_mae: 0.3011 - val_mse: 0.1544\n",
      "Epoch 3/20\n",
      "80/80 [==============================] - 1s 6ms/step - loss: 0.2886 - mae: 0.2886 - mse: 0.1470 - val_loss: 0.3012 - val_mae: 0.3012 - val_mse: 0.1494\n",
      "Epoch 4/20\n",
      "80/80 [==============================] - 0s 6ms/step - loss: 0.2876 - mae: 0.2876 - mse: 0.1474 - val_loss: 0.2987 - val_mae: 0.2987 - val_mse: 0.1595\n",
      "Epoch 5/20\n",
      "80/80 [==============================] - 0s 6ms/step - loss: 0.2866 - mae: 0.2866 - mse: 0.1451 - val_loss: 0.2979 - val_mae: 0.2979 - val_mse: 0.1554\n",
      "Epoch 6/20\n",
      "80/80 [==============================] - 0s 6ms/step - loss: 0.2855 - mae: 0.2855 - mse: 0.1400 - val_loss: 0.2989 - val_mae: 0.2989 - val_mse: 0.1438\n",
      "Epoch 7/20\n",
      "80/80 [==============================] - 1s 13ms/step - loss: 0.2841 - mae: 0.2841 - mse: 0.1402 - val_loss: 0.2964 - val_mae: 0.2964 - val_mse: 0.1491\n",
      "Epoch 8/20\n",
      "80/80 [==============================] - 1s 12ms/step - loss: 0.2828 - mae: 0.2828 - mse: 0.1353 - val_loss: 0.2957 - val_mae: 0.2957 - val_mse: 0.1474\n",
      "Epoch 9/20\n",
      "80/80 [==============================] - 1s 11ms/step - loss: 0.2813 - mae: 0.2813 - mse: 0.1336 - val_loss: 0.2958 - val_mae: 0.2958 - val_mse: 0.1371\n",
      "Epoch 10/20\n",
      "80/80 [==============================] - 1s 12ms/step - loss: 0.2791 - mae: 0.2791 - mse: 0.1311 - val_loss: 0.2939 - val_mae: 0.2939 - val_mse: 0.1388\n",
      "Epoch 11/20\n",
      "80/80 [==============================] - 1s 8ms/step - loss: 0.2778 - mae: 0.2778 - mse: 0.1282 - val_loss: 0.2931 - val_mae: 0.2931 - val_mse: 0.1393\n",
      "Epoch 12/20\n",
      "80/80 [==============================] - 1s 10ms/step - loss: 0.2764 - mae: 0.2764 - mse: 0.1261 - val_loss: 0.2938 - val_mae: 0.2938 - val_mse: 0.1300\n",
      "Epoch 13/20\n",
      "80/80 [==============================] - 1s 7ms/step - loss: 0.2754 - mae: 0.2754 - mse: 0.1245 - val_loss: 0.2920 - val_mae: 0.2920 - val_mse: 0.1319\n",
      "Epoch 14/20\n",
      "80/80 [==============================] - 1s 7ms/step - loss: 0.2742 - mae: 0.2742 - mse: 0.1230 - val_loss: 0.2915 - val_mae: 0.2915 - val_mse: 0.1353\n",
      "Epoch 15/20\n",
      "80/80 [==============================] - 1s 8ms/step - loss: 0.2733 - mae: 0.2733 - mse: 0.1236 - val_loss: 0.2922 - val_mae: 0.2922 - val_mse: 0.1281\n",
      "Epoch 16/20\n",
      "80/80 [==============================] - 1s 8ms/step - loss: 0.2723 - mae: 0.2723 - mse: 0.1223 - val_loss: 0.2906 - val_mae: 0.2906 - val_mse: 0.1333\n",
      "Epoch 17/20\n",
      "80/80 [==============================] - 1s 8ms/step - loss: 0.2718 - mae: 0.2718 - mse: 0.1224 - val_loss: 0.2902 - val_mae: 0.2902 - val_mse: 0.1312\n",
      "Epoch 18/20\n",
      "80/80 [==============================] - 1s 11ms/step - loss: 0.2721 - mae: 0.2721 - mse: 0.1220 - val_loss: 0.2901 - val_mae: 0.2901 - val_mse: 0.1302\n",
      "Epoch 19/20\n",
      "80/80 [==============================] - 1s 8ms/step - loss: 0.2714 - mae: 0.2714 - mse: 0.1223 - val_loss: 0.2903 - val_mae: 0.2903 - val_mse: 0.1291\n",
      "Epoch 20/20\n",
      "80/80 [==============================] - 1s 7ms/step - loss: 0.2710 - mae: 0.2710 - mse: 0.1222 - val_loss: 0.2896 - val_mae: 0.2896 - val_mse: 0.1307\n",
      "25/25 [==============================] - 0s 4ms/step\n",
      "Epoch 1/20\n",
      "100/100 [==============================] - 2s 12ms/step - loss: 0.4203 - mae: 0.4203 - mse: 0.2693 - val_loss: 0.3044 - val_mae: 0.3044 - val_mse: 0.1496\n",
      "Epoch 2/20\n",
      "100/100 [==============================] - 1s 12ms/step - loss: 0.2873 - mae: 0.2873 - mse: 0.1317 - val_loss: 0.2973 - val_mae: 0.2973 - val_mse: 0.1416\n",
      "Epoch 3/20\n",
      "100/100 [==============================] - 1s 6ms/step - loss: 0.2788 - mae: 0.2788 - mse: 0.1246 - val_loss: 0.2946 - val_mae: 0.2946 - val_mse: 0.1268\n",
      "Epoch 4/20\n",
      "100/100 [==============================] - 1s 5ms/step - loss: 0.2745 - mae: 0.2745 - mse: 0.1203 - val_loss: 0.2881 - val_mae: 0.2881 - val_mse: 0.1287\n",
      "Epoch 5/20\n",
      "100/100 [==============================] - 1s 5ms/step - loss: 0.2707 - mae: 0.2707 - mse: 0.1164 - val_loss: 0.2862 - val_mae: 0.2862 - val_mse: 0.1245\n",
      "Epoch 6/20\n",
      "100/100 [==============================] - 1s 6ms/step - loss: 0.2684 - mae: 0.2684 - mse: 0.1146 - val_loss: 0.2836 - val_mae: 0.2836 - val_mse: 0.1260\n",
      "Epoch 7/20\n",
      "100/100 [==============================] - 1s 5ms/step - loss: 0.2658 - mae: 0.2658 - mse: 0.1139 - val_loss: 0.2816 - val_mae: 0.2816 - val_mse: 0.1251\n",
      "Epoch 8/20\n",
      "100/100 [==============================] - 1s 5ms/step - loss: 0.2643 - mae: 0.2643 - mse: 0.1128 - val_loss: 0.2798 - val_mae: 0.2798 - val_mse: 0.1202\n",
      "Epoch 9/20\n",
      "100/100 [==============================] - 1s 7ms/step - loss: 0.2627 - mae: 0.2627 - mse: 0.1117 - val_loss: 0.2779 - val_mae: 0.2779 - val_mse: 0.1220\n",
      "Epoch 10/20\n",
      "100/100 [==============================] - 1s 6ms/step - loss: 0.2609 - mae: 0.2609 - mse: 0.1112 - val_loss: 0.2764 - val_mae: 0.2764 - val_mse: 0.1214\n",
      "Epoch 11/20\n",
      "100/100 [==============================] - 1s 6ms/step - loss: 0.2598 - mae: 0.2598 - mse: 0.1106 - val_loss: 0.2756 - val_mae: 0.2756 - val_mse: 0.1190\n",
      "Epoch 12/20\n",
      "100/100 [==============================] - 1s 6ms/step - loss: 0.2590 - mae: 0.2590 - mse: 0.1100 - val_loss: 0.2751 - val_mae: 0.2751 - val_mse: 0.1217\n",
      "Epoch 13/20\n",
      "100/100 [==============================] - 1s 7ms/step - loss: 0.2581 - mae: 0.2581 - mse: 0.1093 - val_loss: 0.2740 - val_mae: 0.2740 - val_mse: 0.1225\n",
      "Epoch 14/20\n",
      "100/100 [==============================] - 1s 6ms/step - loss: 0.2568 - mae: 0.2568 - mse: 0.1088 - val_loss: 0.2721 - val_mae: 0.2721 - val_mse: 0.1171\n",
      "Epoch 15/20\n",
      "100/100 [==============================] - 1s 8ms/step - loss: 0.2560 - mae: 0.2560 - mse: 0.1079 - val_loss: 0.2706 - val_mae: 0.2706 - val_mse: 0.1203\n",
      "Epoch 16/20\n",
      "100/100 [==============================] - 1s 8ms/step - loss: 0.2550 - mae: 0.2550 - mse: 0.1071 - val_loss: 0.2700 - val_mae: 0.2700 - val_mse: 0.1203\n",
      "Epoch 17/20\n",
      "100/100 [==============================] - 1s 6ms/step - loss: 0.2535 - mae: 0.2535 - mse: 0.1069 - val_loss: 0.2679 - val_mae: 0.2679 - val_mse: 0.1179\n",
      "Epoch 18/20\n",
      "100/100 [==============================] - 1s 7ms/step - loss: 0.2521 - mae: 0.2521 - mse: 0.1059 - val_loss: 0.2669 - val_mae: 0.2669 - val_mse: 0.1167\n",
      "Epoch 19/20\n",
      "100/100 [==============================] - 1s 8ms/step - loss: 0.2516 - mae: 0.2516 - mse: 0.1060 - val_loss: 0.2657 - val_mae: 0.2657 - val_mse: 0.1165\n",
      "Epoch 20/20\n",
      "100/100 [==============================] - 1s 7ms/step - loss: 0.2511 - mae: 0.2511 - mse: 0.1051 - val_loss: 0.2655 - val_mae: 0.2655 - val_mse: 0.1145\n",
      "Best: -0.259449 using {'activation': 'relu', 'learning_rate': 0.001}\n",
      "-0.326686 (0.166683) with: {'activation': 'relu', 'learning_rate': 0.01}\n",
      "-0.259449 (0.003575) with: {'activation': 'relu', 'learning_rate': 0.001}\n",
      "-0.408071 (0.123333) with: {'activation': 'sigmoid', 'learning_rate': 0.01}\n",
      "-0.377701 (0.125748) with: {'activation': 'sigmoid', 'learning_rate': 0.001}\n"
     ]
    }
   ],
   "source": [
    "TUNING_DICT = {\n",
    "\t'activation':\t\t['relu', 'sigmoid'],\n",
    "\t'learning_rate':\t[0.01, 0.001]\n",
    "}\n",
    "\n",
    "kf = KFold(n_splits=5, shuffle=True, random_state=2022)\n",
    "\n",
    "model = KerasRegressor(build_fn=build_model, epochs=20, batch_size=32)\n",
    "grid_search = GridSearchCV(estimator=model, param_grid=TUNING_DICT, cv=kf, scoring='neg_mean_absolute_error', refit='True', verbose=1)\n",
    "grid_search.fit(X_train, Y_train, validation_split=0.2)\n",
    "\n",
    "print(\"Best: %f using %s\" % (grid_search.best_score_, grid_search.best_params_))\n",
    "\n",
    "means = grid_search.cv_results_['mean_test_score']\n",
    "stds = grid_search.cv_results_['std_test_score']\n",
    "params = grid_search.cv_results_['params']\n",
    "\n",
    "for mean, stdev, param in zip(means, stds, params):\n",
    "\tprint(\"%f (%f) with: %r\" % (mean, stdev, param))"
   ]
  },
  {
   "cell_type": "code",
   "execution_count": 46,
   "metadata": {},
   "outputs": [
    {
     "name": "stdout",
     "output_type": "stream",
     "text": [
      "Collecting livelossplot\n",
      "  Using cached livelossplot-0.5.5-py3-none-any.whl (22 kB)\n",
      "Requirement already satisfied: bokeh in c:\\users\\vasco\\anaconda3\\lib\\site-packages (from livelossplot) (2.4.3)\n",
      "Requirement already satisfied: matplotlib in c:\\users\\vasco\\anaconda3\\lib\\site-packages (from livelossplot) (3.5.2)\n",
      "Requirement already satisfied: PyYAML>=3.10 in c:\\users\\vasco\\anaconda3\\lib\\site-packages (from bokeh->livelossplot) (6.0)\n",
      "Requirement already satisfied: typing-extensions>=3.10.0 in c:\\users\\vasco\\anaconda3\\lib\\site-packages (from bokeh->livelossplot) (4.3.0)\n",
      "Requirement already satisfied: pillow>=7.1.0 in c:\\users\\vasco\\anaconda3\\lib\\site-packages (from bokeh->livelossplot) (9.2.0)\n",
      "Requirement already satisfied: numpy>=1.11.3 in c:\\users\\vasco\\anaconda3\\lib\\site-packages (from bokeh->livelossplot) (1.21.5)\n",
      "Requirement already satisfied: packaging>=16.8 in c:\\users\\vasco\\anaconda3\\lib\\site-packages (from bokeh->livelossplot) (21.3)\n",
      "Requirement already satisfied: tornado>=5.1 in c:\\users\\vasco\\anaconda3\\lib\\site-packages (from bokeh->livelossplot) (6.1)\n",
      "Requirement already satisfied: Jinja2>=2.9 in c:\\users\\vasco\\anaconda3\\lib\\site-packages (from bokeh->livelossplot) (2.11.3)\n",
      "Requirement already satisfied: cycler>=0.10 in c:\\users\\vasco\\anaconda3\\lib\\site-packages (from matplotlib->livelossplot) (0.11.0)\n",
      "Requirement already satisfied: kiwisolver>=1.0.1 in c:\\users\\vasco\\anaconda3\\lib\\site-packages (from matplotlib->livelossplot) (1.4.2)\n",
      "Requirement already satisfied: pyparsing>=2.2.1 in c:\\users\\vasco\\anaconda3\\lib\\site-packages (from matplotlib->livelossplot) (3.0.9)\n",
      "Requirement already satisfied: fonttools>=4.22.0 in c:\\users\\vasco\\anaconda3\\lib\\site-packages (from matplotlib->livelossplot) (4.25.0)\n",
      "Requirement already satisfied: python-dateutil>=2.7 in c:\\users\\vasco\\anaconda3\\lib\\site-packages (from matplotlib->livelossplot) (2.8.2)\n",
      "Requirement already satisfied: MarkupSafe>=0.23 in c:\\users\\vasco\\anaconda3\\lib\\site-packages (from Jinja2>=2.9->bokeh->livelossplot) (2.0.1)\n",
      "Requirement already satisfied: six>=1.5 in c:\\users\\vasco\\anaconda3\\lib\\site-packages (from python-dateutil>=2.7->matplotlib->livelossplot) (1.16.0)\n",
      "Installing collected packages: livelossplot\n",
      "Successfully installed livelossplot-0.5.5\n",
      "Note: you may need to restart the kernel to use updated packages.\n"
     ]
    }
   ],
   "source": [
    "%pip install livelossplot"
   ]
  },
  {
   "cell_type": "code",
   "execution_count": 47,
   "metadata": {},
   "outputs": [],
   "source": [
    "from livelossplot import PlotLossesKerasTF"
   ]
  },
  {
   "cell_type": "code",
   "execution_count": 62,
   "metadata": {},
   "outputs": [
    {
     "data": {
      "image/png": "[encoded data removed]",
      "text/plain": [
       "<Figure size 1200x1200 with 4 Axes>"
      ]
     },
     "metadata": {},
     "output_type": "display_data"
    },
    {
     "name": "stdout",
     "output_type": "stream",
     "text": [
      "Loss\n",
      "\ttraining         \t (min:    0.167, max:    0.358, cur:    0.167)\n",
      "\tvalidation       \t (min:    0.162, max:    0.295, cur:    0.162)\n",
      "mae\n",
      "\ttraining         \t (min:    0.167, max:    0.358, cur:    0.167)\n",
      "\tvalidation       \t (min:    0.162, max:    0.295, cur:    0.162)\n",
      "Mean Squared Error\n",
      "\ttraining         \t (min:    0.073, max:    0.197, cur:    0.073)\n",
      "\tvalidation       \t (min:    0.070, max:    0.142, cur:    0.071)\n",
      "125/125 [==============================] - 1s 11ms/step - loss: 0.1675 - mae: 0.1675 - mse: 0.0735 - val_loss: 0.1621 - val_mae: 0.1621 - val_mse: 0.0706\n"
     ]
    },
    {
     "data": {
      "text/plain": [
       "<keras.callbacks.History at 0x1effca38640>"
      ]
     },
     "execution_count": 62,
     "metadata": {},
     "output_type": "execute_result"
    }
   ],
   "source": [
    "best_mlp_model = grid_search.best_estimator_\n",
    "\n",
    "best_mlp_model.fit(X_train, Y_train, epochs=100, validation_data=(X_test, Y_test), callbacks=[PlotLossesKerasTF()], verbose=1)"
   ]
  },
  {
   "cell_type": "code",
   "execution_count": 63,
   "metadata": {},
   "outputs": [
    {
     "name": "stdout",
     "output_type": "stream",
     "text": [
      "32/32 [==============================] - 0s 3ms/step\n"
     ]
    },
    {
     "data": {
      "text/plain": [
       "array([[0.746319  ],\n",
       "       [0.16407752],\n",
       "       [0.7892898 ],\n",
       "       [0.75605315],\n",
       "       [0.74206674]], dtype=float32)"
      ]
     },
     "execution_count": 63,
     "metadata": {},
     "output_type": "execute_result"
    }
   ],
   "source": [
    "predictions = best_mlp_model.predict(X_test)\n",
    "predictions = predictions.reshape(predictions.shape[0], 1)\n",
    "predictions[:5]"
   ]
  },
  {
   "cell_type": "code",
   "execution_count": 64,
   "metadata": {},
   "outputs": [
    {
     "data": {
      "text/plain": [
       "array([[2.985276 ],\n",
       "       [0.6563101],\n",
       "       [3.157159 ],\n",
       "       [3.0242126],\n",
       "       [2.968267 ]], dtype=float32)"
      ]
     },
     "execution_count": 64,
     "metadata": {},
     "output_type": "execute_result"
    }
   ],
   "source": [
    "predictions_unscaled = scaler_Y.inverse_transform(predictions)\n",
    "predictions_unscaled[:5]"
   ]
  },
  {
   "cell_type": "code",
   "execution_count": 65,
   "metadata": {},
   "outputs": [
    {
     "data": {
      "text/plain": [
       "array([[1.],\n",
       "       [4.],\n",
       "       [3.],\n",
       "       [3.],\n",
       "       [1.]])"
      ]
     },
     "execution_count": 65,
     "metadata": {},
     "output_type": "execute_result"
    }
   ],
   "source": [
    "y_test_unscaled = scaler_Y.inverse_transform(Y_test)\n",
    "y_test_unscaled[:5]"
   ]
  },
  {
   "cell_type": "code",
   "execution_count": 69,
   "metadata": {},
   "outputs": [
    {
     "name": "stdout",
     "output_type": "stream",
     "text": [
      "MAE: 0.648378512442112\n",
      "MSE: 1.129123956621998\n",
      "RMSE: 1.062602445236222\n"
     ]
    }
   ],
   "source": [
    "from sklearn import metrics\n",
    "print('MAE:', metrics.mean_absolute_error(y_test_unscaled, predictions_unscaled))\n",
    "print('MSE:', metrics.mean_squared_error(y_test_unscaled, predictions_unscaled))\n",
    "print('RMSE:', np.sqrt(metrics.mean_squared_error(y_test_unscaled, predictions_unscaled)))"
   ]
  },
  {
   "cell_type": "code",
   "execution_count": 76,
   "metadata": {},
   "outputs": [
    {
     "data": {
      "text/plain": [
       "<matplotlib.collections.PathCollection at 0x1ef8706c790>"
      ]
     },
     "execution_count": 76,
     "metadata": {},
     "output_type": "execute_result"
    },
    {
     "data": {
      "image/png": "[encoded data removed]",
      "text/plain": [
       "<Figure size 640x480 with 1 Axes>"
      ]
     },
     "metadata": {},
     "output_type": "display_data"
    }
   ],
   "source": [
    "plt.scatter(y_test_unscaled, predictions_unscaled)"
   ]
  },
  {
   "cell_type": "code",
   "execution_count": 77,
   "metadata": {},
   "outputs": [
    {
     "data": {
      "image/png": "[encoded data removed]",
      "text/plain": [
       "<Figure size 1400x600 with 1 Axes>"
      ]
     },
     "metadata": {},
     "output_type": "display_data"
    }
   ],
   "source": [
    "def real_predicted_viz(limit):\n",
    "    plt.figure(figsize=(14, 6))\n",
    "    plt.plot(y_test_unscaled[:limit], label='Real', color='red')\n",
    "    plt.plot(predictions_unscaled[:limit], label='Predicted', color='blue')\n",
    "    plt.grid(alpha=0.3)\n",
    "    plt.xlabel('RealIncidents')\n",
    "    plt.ylabel('Incidents')\n",
    "    plt.title('Real vs Predicted')\n",
    "    plt.legend()\n",
    "    plt.show()\n",
    "    \n",
    "real_predicted_viz(200)"
   ]
  },
  {
   "cell_type": "code",
   "execution_count": 96,
   "metadata": {},
   "outputs": [
    {
     "name": "stdout",
     "output_type": "stream",
     "text": [
      "(1206, 12)\n",
      "(1000, 1)\n",
      "(938, 1)\n"
     ]
    },
    {
     "ename": "ValueError",
     "evalue": "Length of values (1000) does not match length of index (1206)",
     "output_type": "error",
     "traceback": [
      "\u001b[1;31m---------------------------------------------------------------------------\u001b[0m",
      "\u001b[1;31mValueError\u001b[0m                                Traceback (most recent call last)",
      "\u001b[1;32m~\\AppData\\Local\\Temp\\ipykernel_3432\\4256888909.py\u001b[0m in \u001b[0;36m<module>\u001b[1;34m\u001b[0m\n\u001b[0;32m      2\u001b[0m \u001b[0mprint\u001b[0m\u001b[1;33m(\u001b[0m\u001b[0mpredictions_unscaled\u001b[0m\u001b[1;33m.\u001b[0m\u001b[0mshape\u001b[0m\u001b[1;33m)\u001b[0m\u001b[1;33m\u001b[0m\u001b[1;33m\u001b[0m\u001b[0m\n\u001b[0;32m      3\u001b[0m \u001b[0mprint\u001b[0m\u001b[1;33m(\u001b[0m\u001b[0mY_test\u001b[0m\u001b[1;33m.\u001b[0m\u001b[0mshape\u001b[0m\u001b[1;33m)\u001b[0m\u001b[1;33m\u001b[0m\u001b[1;33m\u001b[0m\u001b[0m\n\u001b[1;32m----> 4\u001b[1;33m \u001b[0mdftest\u001b[0m\u001b[1;33m[\u001b[0m\u001b[1;34m'incidents_pred'\u001b[0m\u001b[1;33m]\u001b[0m \u001b[1;33m=\u001b[0m \u001b[0mpredictions_unscaled\u001b[0m\u001b[1;33m\u001b[0m\u001b[1;33m\u001b[0m\u001b[0m\n\u001b[0m",
      "\u001b[1;32mc:\\Users\\vasco\\anaconda3\\lib\\site-packages\\pandas\\core\\frame.py\u001b[0m in \u001b[0;36m__setitem__\u001b[1;34m(self, key, value)\u001b[0m\n\u001b[0;32m   3653\u001b[0m         \u001b[1;32melse\u001b[0m\u001b[1;33m:\u001b[0m\u001b[1;33m\u001b[0m\u001b[1;33m\u001b[0m\u001b[0m\n\u001b[0;32m   3654\u001b[0m             \u001b[1;31m# set column\u001b[0m\u001b[1;33m\u001b[0m\u001b[1;33m\u001b[0m\u001b[0m\n\u001b[1;32m-> 3655\u001b[1;33m             \u001b[0mself\u001b[0m\u001b[1;33m.\u001b[0m\u001b[0m_set_item\u001b[0m\u001b[1;33m(\u001b[0m\u001b[0mkey\u001b[0m\u001b[1;33m,\u001b[0m \u001b[0mvalue\u001b[0m\u001b[1;33m)\u001b[0m\u001b[1;33m\u001b[0m\u001b[1;33m\u001b[0m\u001b[0m\n\u001b[0m\u001b[0;32m   3656\u001b[0m \u001b[1;33m\u001b[0m\u001b[0m\n\u001b[0;32m   3657\u001b[0m     \u001b[1;32mdef\u001b[0m \u001b[0m_setitem_slice\u001b[0m\u001b[1;33m(\u001b[0m\u001b[0mself\u001b[0m\u001b[1;33m,\u001b[0m \u001b[0mkey\u001b[0m\u001b[1;33m:\u001b[0m \u001b[0mslice\u001b[0m\u001b[1;33m,\u001b[0m \u001b[0mvalue\u001b[0m\u001b[1;33m)\u001b[0m\u001b[1;33m:\u001b[0m\u001b[1;33m\u001b[0m\u001b[1;33m\u001b[0m\u001b[0m\n",
      "\u001b[1;32mc:\\Users\\vasco\\anaconda3\\lib\\site-packages\\pandas\\core\\frame.py\u001b[0m in \u001b[0;36m_set_item\u001b[1;34m(self, key, value)\u001b[0m\n\u001b[0;32m   3830\u001b[0m         \u001b[0mensure\u001b[0m \u001b[0mhomogeneity\u001b[0m\u001b[1;33m.\u001b[0m\u001b[1;33m\u001b[0m\u001b[1;33m\u001b[0m\u001b[0m\n\u001b[0;32m   3831\u001b[0m         \"\"\"\n\u001b[1;32m-> 3832\u001b[1;33m         \u001b[0mvalue\u001b[0m \u001b[1;33m=\u001b[0m \u001b[0mself\u001b[0m\u001b[1;33m.\u001b[0m\u001b[0m_sanitize_column\u001b[0m\u001b[1;33m(\u001b[0m\u001b[0mvalue\u001b[0m\u001b[1;33m)\u001b[0m\u001b[1;33m\u001b[0m\u001b[1;33m\u001b[0m\u001b[0m\n\u001b[0m\u001b[0;32m   3833\u001b[0m \u001b[1;33m\u001b[0m\u001b[0m\n\u001b[0;32m   3834\u001b[0m         if (\n",
      "\u001b[1;32mc:\\Users\\vasco\\anaconda3\\lib\\site-packages\\pandas\\core\\frame.py\u001b[0m in \u001b[0;36m_sanitize_column\u001b[1;34m(self, value)\u001b[0m\n\u001b[0;32m   4536\u001b[0m \u001b[1;33m\u001b[0m\u001b[0m\n\u001b[0;32m   4537\u001b[0m         \u001b[1;32mif\u001b[0m \u001b[0mis_list_like\u001b[0m\u001b[1;33m(\u001b[0m\u001b[0mvalue\u001b[0m\u001b[1;33m)\u001b[0m\u001b[1;33m:\u001b[0m\u001b[1;33m\u001b[0m\u001b[1;33m\u001b[0m\u001b[0m\n\u001b[1;32m-> 4538\u001b[1;33m             \u001b[0mcom\u001b[0m\u001b[1;33m.\u001b[0m\u001b[0mrequire_length_match\u001b[0m\u001b[1;33m(\u001b[0m\u001b[0mvalue\u001b[0m\u001b[1;33m,\u001b[0m \u001b[0mself\u001b[0m\u001b[1;33m.\u001b[0m\u001b[0mindex\u001b[0m\u001b[1;33m)\u001b[0m\u001b[1;33m\u001b[0m\u001b[1;33m\u001b[0m\u001b[0m\n\u001b[0m\u001b[0;32m   4539\u001b[0m         \u001b[1;32mreturn\u001b[0m \u001b[0msanitize_array\u001b[0m\u001b[1;33m(\u001b[0m\u001b[0mvalue\u001b[0m\u001b[1;33m,\u001b[0m \u001b[0mself\u001b[0m\u001b[1;33m.\u001b[0m\u001b[0mindex\u001b[0m\u001b[1;33m,\u001b[0m \u001b[0mcopy\u001b[0m\u001b[1;33m=\u001b[0m\u001b[1;32mTrue\u001b[0m\u001b[1;33m,\u001b[0m \u001b[0mallow_2d\u001b[0m\u001b[1;33m=\u001b[0m\u001b[1;32mTrue\u001b[0m\u001b[1;33m)\u001b[0m\u001b[1;33m\u001b[0m\u001b[1;33m\u001b[0m\u001b[0m\n\u001b[0;32m   4540\u001b[0m \u001b[1;33m\u001b[0m\u001b[0m\n",
      "\u001b[1;32mc:\\Users\\vasco\\anaconda3\\lib\\site-packages\\pandas\\core\\common.py\u001b[0m in \u001b[0;36mrequire_length_match\u001b[1;34m(data, index)\u001b[0m\n\u001b[0;32m    555\u001b[0m     \"\"\"\n\u001b[0;32m    556\u001b[0m     \u001b[1;32mif\u001b[0m \u001b[0mlen\u001b[0m\u001b[1;33m(\u001b[0m\u001b[0mdata\u001b[0m\u001b[1;33m)\u001b[0m \u001b[1;33m!=\u001b[0m \u001b[0mlen\u001b[0m\u001b[1;33m(\u001b[0m\u001b[0mindex\u001b[0m\u001b[1;33m)\u001b[0m\u001b[1;33m:\u001b[0m\u001b[1;33m\u001b[0m\u001b[1;33m\u001b[0m\u001b[0m\n\u001b[1;32m--> 557\u001b[1;33m         raise ValueError(\n\u001b[0m\u001b[0;32m    558\u001b[0m             \u001b[1;34m\"Length of values \"\u001b[0m\u001b[1;33m\u001b[0m\u001b[1;33m\u001b[0m\u001b[0m\n\u001b[0;32m    559\u001b[0m             \u001b[1;34mf\"({len(data)}) \"\u001b[0m\u001b[1;33m\u001b[0m\u001b[1;33m\u001b[0m\u001b[0m\n",
      "\u001b[1;31mValueError\u001b[0m: Length of values (1000) does not match length of index (1206)"
     ]
    }
   ],
   "source": [
    "print(dftest.shape)\n",
    "print(predictions_unscaled.shape)\n",
    "print(Y_test.shape)\n",
    "dftest['incidents_pred'] = predictions_unscaled\n"
   ]
  },
  {
   "cell_type": "markdown",
   "metadata": {
    "tags": []
   },
   "source": [
    "## Métricas de Qualidade"
   ]
  },
  {
   "cell_type": "markdown",
   "metadata": {
    "tags": []
   },
   "source": [
    "#### Accuracy"
   ]
  },
  {
   "cell_type": "code",
   "execution_count": 61,
   "metadata": {},
   "outputs": [
    {
     "name": "stdout",
     "output_type": "stream",
     "text": [
      " Accuracy: 0.724\n"
     ]
    }
   ],
   "source": [
    "print(\" Accuracy: \" + str( accuracy_score(Y_test, predictions)))"
   ]
  },
  {
   "cell_type": "markdown",
   "metadata": {
    "tags": []
   },
   "source": [
    "#### Médias de métricas por peso"
   ]
  },
  {
   "cell_type": "markdown",
   "metadata": {},
   "source": [
    "* __micro__: Calculate metrics globally by counting the total true positives, false negatives and false positives. \n",
    "* __macro__: Calculate metrics for each label, and find their unweighted mean. This does not take label imbalance into account.\n",
    "* __weighted__: Calculate metrics for each label, and find their average weighted by support (the number of true instances for each label). This alters ‘macro’ to account for label imbalance; it can result in an F-score that is not between precision and recall."
   ]
  },
  {
   "cell_type": "code",
   "execution_count": 62,
   "metadata": {},
   "outputs": [
    {
     "name": "stdout",
     "output_type": "stream",
     "text": [
      "Precision: 0.6998796257421678\n",
      "   Recall: 0.724\n",
      " F1-Score: 0.6976768966381068\n"
     ]
    }
   ],
   "source": [
    "print(\"Precision: \" + str(precision_score(Y_test, predictions, average= 'weighted')))\n",
    "print(\"   Recall: \" + str(recall_score(Y_test, predictions, average= 'weighted')))\n",
    "print(\" F1-Score: \" + str(f1_score(Y_test, predictions, average= 'weighted')))"
   ]
  },
  {
   "cell_type": "markdown",
   "metadata": {
    "tags": []
   },
   "source": [
    "#### Métricas por Label"
   ]
  },
  {
   "cell_type": "raw",
   "metadata": {},
   "source": [
    "from tabulate import tabulate\n",
    "\n",
    "# assign data\n",
    "mydata = [\n",
    "    [\"Precision\"] + list(precision_score(Y_test, predictions, average= None)),\n",
    "    [\"Recall\"] + list(recall_score(Y_test, predictions, average= None)),\n",
    "    [\"F1-Score\"] + list(f1_score(Y_test, predictions, average= None))\n",
    "]\n",
    " \n",
    "# create header\n",
    "head = [\"Metric\"] + list(dftrain['incidents'].cat.categories.values)\n",
    " \n",
    "# display table\n",
    "print(tabulate(mydata, headers=head, tablefmt=\"grid\"))"
   ]
  },
  {
   "cell_type": "markdown",
   "metadata": {
    "tags": []
   },
   "source": [
    "#### Cross Validation"
   ]
  },
  {
   "cell_type": "markdown",
   "metadata": {},
   "source": [
    "Cross validation irá fazer vários segmentos e testá-los. Se houver um desvio padrão mt grande entre eles, isso quer dizer que existe over-fitting"
   ]
  },
  {
   "cell_type": "code",
   "execution_count": 63,
   "metadata": {},
   "outputs": [
    {
     "name": "stderr",
     "output_type": "stream",
     "text": [
      "c:\\ProgramData\\Anaconda3\\envs\\DAA\\lib\\site-packages\\sklearn\\utils\\validation.py:993: DataConversionWarning: A column-vector y was passed when a 1d array was expected. Please change the shape of y to (n_samples, ), for example using ravel().\n",
      "  y = column_or_1d(y, warn=True)\n",
      "c:\\ProgramData\\Anaconda3\\envs\\DAA\\lib\\site-packages\\sklearn\\utils\\validation.py:993: DataConversionWarning: A column-vector y was passed when a 1d array was expected. Please change the shape of y to (n_samples, ), for example using ravel().\n",
      "  y = column_or_1d(y, warn=True)\n",
      "c:\\ProgramData\\Anaconda3\\envs\\DAA\\lib\\site-packages\\sklearn\\utils\\validation.py:993: DataConversionWarning: A column-vector y was passed when a 1d array was expected. Please change the shape of y to (n_samples, ), for example using ravel().\n",
      "  y = column_or_1d(y, warn=True)\n",
      "c:\\ProgramData\\Anaconda3\\envs\\DAA\\lib\\site-packages\\sklearn\\utils\\validation.py:993: DataConversionWarning: A column-vector y was passed when a 1d array was expected. Please change the shape of y to (n_samples, ), for example using ravel().\n",
      "  y = column_or_1d(y, warn=True)\n",
      "c:\\ProgramData\\Anaconda3\\envs\\DAA\\lib\\site-packages\\sklearn\\utils\\validation.py:993: DataConversionWarning: A column-vector y was passed when a 1d array was expected. Please change the shape of y to (n_samples, ), for example using ravel().\n",
      "  y = column_or_1d(y, warn=True)\n",
      "c:\\ProgramData\\Anaconda3\\envs\\DAA\\lib\\site-packages\\sklearn\\utils\\validation.py:993: DataConversionWarning: A column-vector y was passed when a 1d array was expected. Please change the shape of y to (n_samples, ), for example using ravel().\n",
      "  y = column_or_1d(y, warn=True)\n",
      "c:\\ProgramData\\Anaconda3\\envs\\DAA\\lib\\site-packages\\sklearn\\utils\\validation.py:993: DataConversionWarning: A column-vector y was passed when a 1d array was expected. Please change the shape of y to (n_samples, ), for example using ravel().\n",
      "  y = column_or_1d(y, warn=True)\n",
      "c:\\ProgramData\\Anaconda3\\envs\\DAA\\lib\\site-packages\\sklearn\\utils\\validation.py:993: DataConversionWarning: A column-vector y was passed when a 1d array was expected. Please change the shape of y to (n_samples, ), for example using ravel().\n",
      "  y = column_or_1d(y, warn=True)\n",
      "c:\\ProgramData\\Anaconda3\\envs\\DAA\\lib\\site-packages\\sklearn\\utils\\validation.py:993: DataConversionWarning: A column-vector y was passed when a 1d array was expected. Please change the shape of y to (n_samples, ), for example using ravel().\n",
      "  y = column_or_1d(y, warn=True)\n",
      "c:\\ProgramData\\Anaconda3\\envs\\DAA\\lib\\site-packages\\sklearn\\utils\\validation.py:993: DataConversionWarning: A column-vector y was passed when a 1d array was expected. Please change the shape of y to (n_samples, ), for example using ravel().\n",
      "  y = column_or_1d(y, warn=True)\n"
     ]
    },
    {
     "name": "stdout",
     "output_type": "stream",
     "text": [
      "[0.72       0.71733333 0.70933333 0.75466667 0.696      0.728\n",
      " 0.72       0.744      0.73333333 0.71466667]\n",
      "Média: 0.7237333333333333\n",
      "desvio padrão: 0.016141595680449667\n"
     ]
    }
   ],
   "source": [
    "scores = cross_val_score(model, X_train, Y_train, cv=10)\n",
    "print(scores)\n",
    "print(\"Média: \" + str(scores.mean()))\n",
    "print(\"desvio padrão: \" + str(scores.std()))"
   ]
  },
  {
   "cell_type": "markdown",
   "metadata": {
    "jp-MarkdownHeadingCollapsed": true,
    "tags": []
   },
   "source": [
    "#### Confusion Matrix"
   ]
  },
  {
   "cell_type": "code",
   "execution_count": 64,
   "metadata": {},
   "outputs": [
    {
     "name": "stderr",
     "output_type": "stream",
     "text": [
      "c:\\ProgramData\\Anaconda3\\envs\\DAA\\lib\\site-packages\\sklearn\\utils\\deprecation.py:87: FutureWarning: Function plot_confusion_matrix is deprecated; Function `plot_confusion_matrix` is deprecated in 1.0 and will be removed in 1.2. Use one of the class methods: ConfusionMatrixDisplay.from_predictions or ConfusionMatrixDisplay.from_estimator.\n",
      "  warnings.warn(msg, category=FutureWarning)\n"
     ]
    },
    {
     "data": {
      "text/plain": [
       "<sklearn.metrics._plot.confusion_matrix.ConfusionMatrixDisplay at 0x203708fcf48>"
      ]
     },
     "execution_count": 64,
     "metadata": {},
     "output_type": "execute_result"
    },
    {
     "data": {
      "image/png": "[encoded data removed]",
      "text/plain": [
       "<Figure size 640x480 with 2 Axes>"
      ]
     },
     "metadata": {},
     "output_type": "display_data"
    }
   ],
   "source": [
    "plot_confusion_matrix(model, X_test, Y_test)"
   ]
  },
  {
   "cell_type": "markdown",
   "metadata": {
    "jp-MarkdownHeadingCollapsed": true,
    "tags": []
   },
   "source": [
    "#### Classification Report"
   ]
  },
  {
   "cell_type": "code",
   "execution_count": 65,
   "metadata": {},
   "outputs": [
    {
     "data": {
      "text/plain": [
       "'              precision    recall  f1-score   support\\n\\n           0       0.64      0.75      0.69       265\\n           1       0.66      0.41      0.50       189\\n           2       0.42      0.19      0.27       144\\n           3       0.79      0.97      0.87       517\\n           4       0.84      0.76      0.79       135\\n\\n    accuracy                           0.72      1250\\n   macro avg       0.67      0.61      0.62      1250\\nweighted avg       0.70      0.72      0.70      1250\\n'"
      ]
     },
     "execution_count": 65,
     "metadata": {},
     "output_type": "execute_result"
    }
   ],
   "source": [
    "classification_report(Y_test, predictions)"
   ]
  },
  {
   "cell_type": "markdown",
   "metadata": {
    "tags": []
   },
   "source": [
    "## Escrita no Ficheiro"
   ]
  },
  {
   "cell_type": "markdown",
   "metadata": {},
   "source": [
    "Para fazer uma submissão é preciso meter o seguinte código em modo codigo e nao raw. Tambem é preciso ir a secção Separação entre dataframe de teste e de treino e fazer toggle do que é código e o que é raw"
   ]
  },
  {
   "cell_type": "raw",
   "metadata": {},
   "source": [
    "actual_predictions = model.predict(dftest) # Predictions on the test set\n",
    "actual_predictions = pd.DataFrame(actual_predictions, columns=['incidents']) # Convert to dataframe \n",
    "actual_predictions.head(10)"
   ]
  },
  {
   "cell_type": "raw",
   "metadata": {},
   "source": [
    "actual_predictions.reset_index(inplace=True)\n",
    "actual_predictions['index'] = actual_predictions['index'].transform(lambda x: int(x)+1)\n",
    "print(actual_predictions.head(10))\n",
    "actual_predictions.to_csv('submission.csv', sep=',', header=['RowId','Incidents'], index=False, mode='w')"
   ]
  },
  {
   "cell_type": "raw",
   "metadata": {},
   "source": [
    "import csv\n",
    "import os\n",
    "\n",
    "# folder path\n",
    "dir_path = r'./submissions'\n",
    "file_count = 0\n",
    "# Iterate directory\n",
    "for path in os.listdir(dir_path):\n",
    "    # check if current path is a file\n",
    "    if os.path.isfile(os.path.join(dir_path, path)):\n",
    "        file_count += 1\n",
    "\n",
    "with open('submissions/submission' + str(file_count) + '.csv', 'w') as csvfile:\n",
    "    filewriter = csv.writer(csvfile, delimiter=',',\n",
    "                            quotechar='|', quoting=csv.QUOTE_MINIMAL)\n",
    "    filewriter.writerow(['RowId', 'Incidents'])\n",
    "    \n",
    "    i=0\n",
    "    \n",
    "    for incident in actual_predictions:\n",
    "        filewriter.writerow([str(i), incident])\n",
    "        i=i+1"
   ]
  }
 ],
 "metadata": {
  "kernelspec": {
   "display_name": "Python 3",
   "language": "python",
   "name": "python3"
  },
  "language_info": {
   "codemirror_mode": {
    "name": "ipython",
    "version": 3
   },
   "file_extension": ".py",
   "mimetype": "text/x-python",
   "name": "python",
   "nbconvert_exporter": "python",
   "pygments_lexer": "ipython3",
   "version": "3.9.13"
  },
  "vscode": {
   "interpreter": {
    "hash": "783337f819fea5acc09ea1acd9d1467db8ed9d914477ee55454335b84262e76b"
   }
  }
 },
 "nbformat": 4,
 "nbformat_minor": 4
}
