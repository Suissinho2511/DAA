{
 "cells": [
  {
   "cell_type": "markdown",
   "metadata": {},
   "source": [
    "# **Trabalho Prático: Previsão de Incidentes Rodoviários**"
   ]
  },
  {
   "cell_type": "markdown",
   "metadata": {
    "tags": []
   },
   "source": [
    "## Descrição do Problema"
   ]
  },
  {
   "cell_type": "markdown",
   "metadata": {
    "tags": []
   },
   "source": [
    "## Preparação do programa"
   ]
  },
  {
   "cell_type": "markdown",
   "metadata": {
    "tags": []
   },
   "source": [
    "### Bibliotecas e Funções"
   ]
  },
  {
   "cell_type": "code",
   "execution_count": 1,
   "metadata": {},
   "outputs": [],
   "source": [
    "import sklearn as skl\n",
    "import pandas as pd\n",
    "import numpy as np\n",
    "import matplotlib.pyplot as plt\n",
    "import seaborn as sns\n",
    "from sklearn import preprocessing\n",
    "\n",
    "\n",
    "from sklearn.model_selection import train_test_split\n",
    "from sklearn.model_selection import cross_val_score\n",
    "from sklearn.model_selection import GridSearchCV\n",
    "from sklearn.model_selection import ParameterGrid\n",
    "from sklearn.model_selection import KFold\n",
    "from sklearn.model_selection import RandomizedSearchCV\n",
    "\n",
    "from sklearn                import decomposition, datasets\n",
    "from sklearn import tree\n",
    "from sklearn.pipeline import Pipeline\n",
    "from sklearn.preprocessing import StandardScaler\n",
    "\n",
    "#Modelos a usar\n",
    "from sklearn.linear_model import LogisticRegression\n",
    "from sklearn.tree         import DecisionTreeClassifier\n",
    "from sklearn.tree         import DecisionTreeRegressor\n",
    "from sklearn.ensemble     import RandomForestClassifier\n",
    "from sklearn.svm          import SVC\n",
    "\n",
    "\n",
    "#Métricas de qualidade\n",
    "from sklearn.metrics import confusion_matrix\n",
    "from sklearn.metrics import recall_score\n",
    "from sklearn.metrics import accuracy_score\n",
    "from sklearn.metrics import precision_score\n",
    "from sklearn.metrics import roc_auc_score\n",
    "from sklearn.metrics import roc_curve\n",
    "from sklearn.metrics import f1_score\n",
    "from sklearn.metrics import fbeta_score\n",
    "from sklearn.metrics import mean_absolute_error\n",
    "from sklearn.metrics import mean_squared_error\n",
    "from sklearn.metrics import classification_report\n",
    "from sklearn.metrics import plot_confusion_matrix\n",
    "from sklearn.metrics import make_scorer\n",
    "\n",
    "\n",
    "#Neural networks\n",
    "import tensorflow as tf\n",
    "from sklearn.preprocessing                  import MinMaxScaler\n",
    "from tensorflow.keras.models                import Sequential\n",
    "from tensorflow.keras.layers                import Dense, Dropout,BatchNormalization\n",
    "from tensorflow.keras.wrappers.scikit_learn import KerasRegressor\n",
    "from livelossplot                           import PlotLossesKerasTF"
   ]
  },
  {
   "cell_type": "markdown",
   "metadata": {
    "tags": []
   },
   "source": [
    "### Leitura dos datasets"
   ]
  },
  {
   "cell_type": "code",
   "execution_count": 2,
   "metadata": {},
   "outputs": [],
   "source": [
    "dftrain = pd.read_csv('training_data.csv')\n",
    "dftest = pd.read_csv('test_data.csv')"
   ]
  },
  {
   "cell_type": "markdown",
   "metadata": {
    "jp-MarkdownHeadingCollapsed": true,
    "tags": []
   },
   "source": [
    "## Exploração dos dados"
   ]
  },
  {
   "cell_type": "markdown",
   "metadata": {},
   "source": [
    "Para esta etapa do trabalho, também se utilizou as informações obtidas no website \"kaggle\", tais como:\n",
    "* Tipos dos atributos\n",
    "* Conteúdo dos atributos\n",
    "* Missing values"
   ]
  },
  {
   "cell_type": "markdown",
   "metadata": {
    "tags": []
   },
   "source": [
    "### Visualização dos dados"
   ]
  },
  {
   "cell_type": "code",
   "execution_count": 111,
   "metadata": {},
   "outputs": [
    {
     "data": {
      "text/plain": [
       "(5000, 13)"
      ]
     },
     "execution_count": 111,
     "metadata": {},
     "output_type": "execute_result"
    }
   ],
   "source": [
    "dftrain.shape"
   ]
  },
  {
   "cell_type": "code",
   "execution_count": 112,
   "metadata": {},
   "outputs": [
    {
     "data": {
      "text/html": [
       "<div>\n",
       "<style scoped>\n",
       "    .dataframe tbody tr th:only-of-type {\n",
       "        vertical-align: middle;\n",
       "    }\n",
       "\n",
       "    .dataframe tbody tr th {\n",
       "        vertical-align: top;\n",
       "    }\n",
       "\n",
       "    .dataframe thead th {\n",
       "        text-align: right;\n",
       "    }\n",
       "</style>\n",
       "<table border=\"1\" class=\"dataframe\">\n",
       "  <thead>\n",
       "    <tr style=\"text-align: right;\">\n",
       "      <th></th>\n",
       "      <th>city_name</th>\n",
       "      <th>magnitude_of_delay</th>\n",
       "      <th>delay_in_seconds</th>\n",
       "      <th>affected_roads</th>\n",
       "      <th>record_date</th>\n",
       "      <th>luminosity</th>\n",
       "      <th>avg_temperature</th>\n",
       "      <th>avg_atm_pressure</th>\n",
       "      <th>avg_humidity</th>\n",
       "      <th>avg_wind_speed</th>\n",
       "      <th>avg_precipitation</th>\n",
       "      <th>avg_rain</th>\n",
       "      <th>incidents</th>\n",
       "    </tr>\n",
       "  </thead>\n",
       "  <tbody>\n",
       "    <tr>\n",
       "      <th>0</th>\n",
       "      <td>Guimaraes</td>\n",
       "      <td>UNDEFINED</td>\n",
       "      <td>0</td>\n",
       "      <td>,</td>\n",
       "      <td>2021-03-15 23:00</td>\n",
       "      <td>DARK</td>\n",
       "      <td>12.0</td>\n",
       "      <td>1013.0</td>\n",
       "      <td>70.0</td>\n",
       "      <td>1.0</td>\n",
       "      <td>0.0</td>\n",
       "      <td>Sem Chuva</td>\n",
       "      <td>None</td>\n",
       "    </tr>\n",
       "    <tr>\n",
       "      <th>1</th>\n",
       "      <td>Guimaraes</td>\n",
       "      <td>UNDEFINED</td>\n",
       "      <td>385</td>\n",
       "      <td>N101,</td>\n",
       "      <td>2021-12-25 18:00</td>\n",
       "      <td>DARK</td>\n",
       "      <td>12.0</td>\n",
       "      <td>1007.0</td>\n",
       "      <td>91.0</td>\n",
       "      <td>1.0</td>\n",
       "      <td>0.0</td>\n",
       "      <td>Sem Chuva</td>\n",
       "      <td>None</td>\n",
       "    </tr>\n",
       "    <tr>\n",
       "      <th>2</th>\n",
       "      <td>Guimaraes</td>\n",
       "      <td>UNDEFINED</td>\n",
       "      <td>69</td>\n",
       "      <td>,</td>\n",
       "      <td>2021-03-12 15:00</td>\n",
       "      <td>LIGHT</td>\n",
       "      <td>14.0</td>\n",
       "      <td>1025.0</td>\n",
       "      <td>64.0</td>\n",
       "      <td>0.0</td>\n",
       "      <td>0.0</td>\n",
       "      <td>Sem Chuva</td>\n",
       "      <td>Low</td>\n",
       "    </tr>\n",
       "    <tr>\n",
       "      <th>3</th>\n",
       "      <td>Guimaraes</td>\n",
       "      <td>MAJOR</td>\n",
       "      <td>2297</td>\n",
       "      <td>N101,R206,N105,N101,N101,N101,N101,N101,N101,N...</td>\n",
       "      <td>2021-09-29 09:00</td>\n",
       "      <td>LIGHT</td>\n",
       "      <td>15.0</td>\n",
       "      <td>1028.0</td>\n",
       "      <td>75.0</td>\n",
       "      <td>1.0</td>\n",
       "      <td>0.0</td>\n",
       "      <td>Sem Chuva</td>\n",
       "      <td>Very_High</td>\n",
       "    </tr>\n",
       "    <tr>\n",
       "      <th>4</th>\n",
       "      <td>Guimaraes</td>\n",
       "      <td>UNDEFINED</td>\n",
       "      <td>0</td>\n",
       "      <td>N101,N101,N101,N101,N101,</td>\n",
       "      <td>2021-06-13 11:00</td>\n",
       "      <td>LIGHT</td>\n",
       "      <td>27.0</td>\n",
       "      <td>1020.0</td>\n",
       "      <td>52.0</td>\n",
       "      <td>1.0</td>\n",
       "      <td>0.0</td>\n",
       "      <td>Sem Chuva</td>\n",
       "      <td>High</td>\n",
       "    </tr>\n",
       "  </tbody>\n",
       "</table>\n",
       "</div>"
      ],
      "text/plain": [
       "   city_name magnitude_of_delay  delay_in_seconds  \\\n",
       "0  Guimaraes          UNDEFINED                 0   \n",
       "1  Guimaraes          UNDEFINED               385   \n",
       "2  Guimaraes          UNDEFINED                69   \n",
       "3  Guimaraes              MAJOR              2297   \n",
       "4  Guimaraes          UNDEFINED                 0   \n",
       "\n",
       "                                      affected_roads       record_date  \\\n",
       "0                                                  ,  2021-03-15 23:00   \n",
       "1                                              N101,  2021-12-25 18:00   \n",
       "2                                                  ,  2021-03-12 15:00   \n",
       "3  N101,R206,N105,N101,N101,N101,N101,N101,N101,N...  2021-09-29 09:00   \n",
       "4                          N101,N101,N101,N101,N101,  2021-06-13 11:00   \n",
       "\n",
       "  luminosity  avg_temperature  avg_atm_pressure  avg_humidity  avg_wind_speed  \\\n",
       "0       DARK             12.0            1013.0          70.0             1.0   \n",
       "1       DARK             12.0            1007.0          91.0             1.0   \n",
       "2      LIGHT             14.0            1025.0          64.0             0.0   \n",
       "3      LIGHT             15.0            1028.0          75.0             1.0   \n",
       "4      LIGHT             27.0            1020.0          52.0             1.0   \n",
       "\n",
       "   avg_precipitation   avg_rain  incidents  \n",
       "0                0.0  Sem Chuva       None  \n",
       "1                0.0  Sem Chuva       None  \n",
       "2                0.0  Sem Chuva        Low  \n",
       "3                0.0  Sem Chuva  Very_High  \n",
       "4                0.0  Sem Chuva       High  "
      ]
     },
     "execution_count": 112,
     "metadata": {},
     "output_type": "execute_result"
    }
   ],
   "source": [
    "dftrain.head()"
   ]
  },
  {
   "cell_type": "code",
   "execution_count": 113,
   "metadata": {},
   "outputs": [
    {
     "data": {
      "text/html": [
       "<div>\n",
       "<style scoped>\n",
       "    .dataframe tbody tr th:only-of-type {\n",
       "        vertical-align: middle;\n",
       "    }\n",
       "\n",
       "    .dataframe tbody tr th {\n",
       "        vertical-align: top;\n",
       "    }\n",
       "\n",
       "    .dataframe thead th {\n",
       "        text-align: right;\n",
       "    }\n",
       "</style>\n",
       "<table border=\"1\" class=\"dataframe\">\n",
       "  <thead>\n",
       "    <tr style=\"text-align: right;\">\n",
       "      <th></th>\n",
       "      <th>city_name</th>\n",
       "      <th>magnitude_of_delay</th>\n",
       "      <th>delay_in_seconds</th>\n",
       "      <th>affected_roads</th>\n",
       "      <th>record_date</th>\n",
       "      <th>luminosity</th>\n",
       "      <th>avg_temperature</th>\n",
       "      <th>avg_atm_pressure</th>\n",
       "      <th>avg_humidity</th>\n",
       "      <th>avg_wind_speed</th>\n",
       "      <th>avg_precipitation</th>\n",
       "      <th>avg_rain</th>\n",
       "      <th>incidents</th>\n",
       "    </tr>\n",
       "  </thead>\n",
       "  <tbody>\n",
       "    <tr>\n",
       "      <th>4995</th>\n",
       "      <td>Guimaraes</td>\n",
       "      <td>UNDEFINED</td>\n",
       "      <td>0</td>\n",
       "      <td>N101,N101,N101,N101,N101,</td>\n",
       "      <td>2021-04-13 00:00</td>\n",
       "      <td>DARK</td>\n",
       "      <td>13.0</td>\n",
       "      <td>1021.0</td>\n",
       "      <td>56.0</td>\n",
       "      <td>0.0</td>\n",
       "      <td>0.0</td>\n",
       "      <td>Sem Chuva</td>\n",
       "      <td>High</td>\n",
       "    </tr>\n",
       "    <tr>\n",
       "      <th>4996</th>\n",
       "      <td>Guimaraes</td>\n",
       "      <td>UNDEFINED</td>\n",
       "      <td>0</td>\n",
       "      <td>N101,N101,N101,N101,N101</td>\n",
       "      <td>2021-07-06 14:00</td>\n",
       "      <td>LIGHT</td>\n",
       "      <td>19.0</td>\n",
       "      <td>1017.0</td>\n",
       "      <td>68.0</td>\n",
       "      <td>0.0</td>\n",
       "      <td>0.0</td>\n",
       "      <td>Sem Chuva</td>\n",
       "      <td>None</td>\n",
       "    </tr>\n",
       "    <tr>\n",
       "      <th>4997</th>\n",
       "      <td>Guimaraes</td>\n",
       "      <td>UNDEFINED</td>\n",
       "      <td>0</td>\n",
       "      <td>,</td>\n",
       "      <td>2021-03-18 03:00</td>\n",
       "      <td>DARK</td>\n",
       "      <td>13.0</td>\n",
       "      <td>1023.0</td>\n",
       "      <td>47.0</td>\n",
       "      <td>2.0</td>\n",
       "      <td>0.0</td>\n",
       "      <td>Sem Chuva</td>\n",
       "      <td>None</td>\n",
       "    </tr>\n",
       "    <tr>\n",
       "      <th>4998</th>\n",
       "      <td>Guimaraes</td>\n",
       "      <td>UNDEFINED</td>\n",
       "      <td>0</td>\n",
       "      <td>N101,N101,N101,N101,N101</td>\n",
       "      <td>2021-11-02 06:00</td>\n",
       "      <td>DARK</td>\n",
       "      <td>12.0</td>\n",
       "      <td>1014.0</td>\n",
       "      <td>93.0</td>\n",
       "      <td>2.0</td>\n",
       "      <td>0.0</td>\n",
       "      <td>Sem Chuva</td>\n",
       "      <td>None</td>\n",
       "    </tr>\n",
       "    <tr>\n",
       "      <th>4999</th>\n",
       "      <td>Guimaraes</td>\n",
       "      <td>UNDEFINED</td>\n",
       "      <td>0</td>\n",
       "      <td>N101,N101,N101,N101,N101</td>\n",
       "      <td>2021-12-20 02:00</td>\n",
       "      <td>DARK</td>\n",
       "      <td>12.0</td>\n",
       "      <td>1018.0</td>\n",
       "      <td>77.0</td>\n",
       "      <td>3.0</td>\n",
       "      <td>0.0</td>\n",
       "      <td>Sem Chuva</td>\n",
       "      <td>None</td>\n",
       "    </tr>\n",
       "  </tbody>\n",
       "</table>\n",
       "</div>"
      ],
      "text/plain": [
       "      city_name magnitude_of_delay  delay_in_seconds  \\\n",
       "4995  Guimaraes          UNDEFINED                 0   \n",
       "4996  Guimaraes          UNDEFINED                 0   \n",
       "4997  Guimaraes          UNDEFINED                 0   \n",
       "4998  Guimaraes          UNDEFINED                 0   \n",
       "4999  Guimaraes          UNDEFINED                 0   \n",
       "\n",
       "                 affected_roads       record_date luminosity  avg_temperature  \\\n",
       "4995  N101,N101,N101,N101,N101,  2021-04-13 00:00       DARK             13.0   \n",
       "4996   N101,N101,N101,N101,N101  2021-07-06 14:00      LIGHT             19.0   \n",
       "4997                          ,  2021-03-18 03:00       DARK             13.0   \n",
       "4998   N101,N101,N101,N101,N101  2021-11-02 06:00       DARK             12.0   \n",
       "4999   N101,N101,N101,N101,N101  2021-12-20 02:00       DARK             12.0   \n",
       "\n",
       "      avg_atm_pressure  avg_humidity  avg_wind_speed  avg_precipitation  \\\n",
       "4995            1021.0          56.0             0.0                0.0   \n",
       "4996            1017.0          68.0             0.0                0.0   \n",
       "4997            1023.0          47.0             2.0                0.0   \n",
       "4998            1014.0          93.0             2.0                0.0   \n",
       "4999            1018.0          77.0             3.0                0.0   \n",
       "\n",
       "       avg_rain incidents  \n",
       "4995  Sem Chuva      High  \n",
       "4996  Sem Chuva      None  \n",
       "4997  Sem Chuva      None  \n",
       "4998  Sem Chuva      None  \n",
       "4999  Sem Chuva      None  "
      ]
     },
     "execution_count": 113,
     "metadata": {},
     "output_type": "execute_result"
    }
   ],
   "source": [
    "dftrain.tail()"
   ]
  },
  {
   "cell_type": "markdown",
   "metadata": {
    "tags": []
   },
   "source": [
    "### Informações sobre os diferentes atributos"
   ]
  },
  {
   "cell_type": "code",
   "execution_count": 114,
   "metadata": {},
   "outputs": [
    {
     "name": "stdout",
     "output_type": "stream",
     "text": [
      "<class 'pandas.core.frame.DataFrame'>\n",
      "RangeIndex: 5000 entries, 0 to 4999\n",
      "Data columns (total 13 columns):\n",
      " #   Column              Non-Null Count  Dtype  \n",
      "---  ------              --------------  -----  \n",
      " 0   city_name           5000 non-null   object \n",
      " 1   magnitude_of_delay  5000 non-null   object \n",
      " 2   delay_in_seconds    5000 non-null   int64  \n",
      " 3   affected_roads      4915 non-null   object \n",
      " 4   record_date         5000 non-null   object \n",
      " 5   luminosity          5000 non-null   object \n",
      " 6   avg_temperature     5000 non-null   float64\n",
      " 7   avg_atm_pressure    5000 non-null   float64\n",
      " 8   avg_humidity        5000 non-null   float64\n",
      " 9   avg_wind_speed      5000 non-null   float64\n",
      " 10  avg_precipitation   5000 non-null   float64\n",
      " 11  avg_rain            5000 non-null   object \n",
      " 12  incidents           5000 non-null   object \n",
      "dtypes: float64(5), int64(1), object(7)\n",
      "memory usage: 507.9+ KB\n"
     ]
    }
   ],
   "source": [
    "dftrain.info()"
   ]
  },
  {
   "cell_type": "code",
   "execution_count": 115,
   "metadata": {},
   "outputs": [
    {
     "data": {
      "text/html": [
       "<div>\n",
       "<style scoped>\n",
       "    .dataframe tbody tr th:only-of-type {\n",
       "        vertical-align: middle;\n",
       "    }\n",
       "\n",
       "    .dataframe tbody tr th {\n",
       "        vertical-align: top;\n",
       "    }\n",
       "\n",
       "    .dataframe thead th {\n",
       "        text-align: right;\n",
       "    }\n",
       "</style>\n",
       "<table border=\"1\" class=\"dataframe\">\n",
       "  <thead>\n",
       "    <tr style=\"text-align: right;\">\n",
       "      <th></th>\n",
       "      <th>delay_in_seconds</th>\n",
       "      <th>avg_temperature</th>\n",
       "      <th>avg_atm_pressure</th>\n",
       "      <th>avg_humidity</th>\n",
       "      <th>avg_wind_speed</th>\n",
       "      <th>avg_precipitation</th>\n",
       "    </tr>\n",
       "  </thead>\n",
       "  <tbody>\n",
       "    <tr>\n",
       "      <th>count</th>\n",
       "      <td>5000.000000</td>\n",
       "      <td>5000.000000</td>\n",
       "      <td>5000.000000</td>\n",
       "      <td>5000.000000</td>\n",
       "      <td>5000.000000</td>\n",
       "      <td>5000.0</td>\n",
       "    </tr>\n",
       "    <tr>\n",
       "      <th>mean</th>\n",
       "      <td>560.567000</td>\n",
       "      <td>14.583000</td>\n",
       "      <td>1018.145000</td>\n",
       "      <td>74.455000</td>\n",
       "      <td>1.253500</td>\n",
       "      <td>0.0</td>\n",
       "    </tr>\n",
       "    <tr>\n",
       "      <th>std</th>\n",
       "      <td>1686.859581</td>\n",
       "      <td>4.820514</td>\n",
       "      <td>5.174372</td>\n",
       "      <td>17.204638</td>\n",
       "      <td>1.269847</td>\n",
       "      <td>0.0</td>\n",
       "    </tr>\n",
       "    <tr>\n",
       "      <th>min</th>\n",
       "      <td>0.000000</td>\n",
       "      <td>1.000000</td>\n",
       "      <td>997.000000</td>\n",
       "      <td>6.000000</td>\n",
       "      <td>0.000000</td>\n",
       "      <td>0.0</td>\n",
       "    </tr>\n",
       "    <tr>\n",
       "      <th>25%</th>\n",
       "      <td>0.000000</td>\n",
       "      <td>11.000000</td>\n",
       "      <td>1015.000000</td>\n",
       "      <td>63.000000</td>\n",
       "      <td>0.000000</td>\n",
       "      <td>0.0</td>\n",
       "    </tr>\n",
       "    <tr>\n",
       "      <th>50%</th>\n",
       "      <td>0.000000</td>\n",
       "      <td>14.000000</td>\n",
       "      <td>1019.000000</td>\n",
       "      <td>78.000000</td>\n",
       "      <td>1.000000</td>\n",
       "      <td>0.0</td>\n",
       "    </tr>\n",
       "    <tr>\n",
       "      <th>75%</th>\n",
       "      <td>234.000000</td>\n",
       "      <td>18.000000</td>\n",
       "      <td>1022.000000</td>\n",
       "      <td>90.000000</td>\n",
       "      <td>2.000000</td>\n",
       "      <td>0.0</td>\n",
       "    </tr>\n",
       "    <tr>\n",
       "      <th>max</th>\n",
       "      <td>31083.000000</td>\n",
       "      <td>35.000000</td>\n",
       "      <td>1032.000000</td>\n",
       "      <td>100.000000</td>\n",
       "      <td>10.000000</td>\n",
       "      <td>0.0</td>\n",
       "    </tr>\n",
       "  </tbody>\n",
       "</table>\n",
       "</div>"
      ],
      "text/plain": [
       "       delay_in_seconds  avg_temperature  avg_atm_pressure  avg_humidity  \\\n",
       "count       5000.000000      5000.000000       5000.000000   5000.000000   \n",
       "mean         560.567000        14.583000       1018.145000     74.455000   \n",
       "std         1686.859581         4.820514          5.174372     17.204638   \n",
       "min            0.000000         1.000000        997.000000      6.000000   \n",
       "25%            0.000000        11.000000       1015.000000     63.000000   \n",
       "50%            0.000000        14.000000       1019.000000     78.000000   \n",
       "75%          234.000000        18.000000       1022.000000     90.000000   \n",
       "max        31083.000000        35.000000       1032.000000    100.000000   \n",
       "\n",
       "       avg_wind_speed  avg_precipitation  \n",
       "count     5000.000000             5000.0  \n",
       "mean         1.253500                0.0  \n",
       "std          1.269847                0.0  \n",
       "min          0.000000                0.0  \n",
       "25%          0.000000                0.0  \n",
       "50%          1.000000                0.0  \n",
       "75%          2.000000                0.0  \n",
       "max         10.000000                0.0  "
      ]
     },
     "execution_count": 115,
     "metadata": {},
     "output_type": "execute_result"
    }
   ],
   "source": [
    "dftrain.describe()"
   ]
  },
  {
   "cell_type": "markdown",
   "metadata": {
    "jp-MarkdownHeadingCollapsed": true,
    "tags": []
   },
   "source": [
    "### Missing Values"
   ]
  },
  {
   "cell_type": "code",
   "execution_count": 116,
   "metadata": {},
   "outputs": [
    {
     "data": {
      "text/plain": [
       "city_name             False\n",
       "magnitude_of_delay    False\n",
       "delay_in_seconds      False\n",
       "affected_roads         True\n",
       "record_date           False\n",
       "luminosity            False\n",
       "avg_temperature       False\n",
       "avg_atm_pressure      False\n",
       "avg_humidity          False\n",
       "avg_wind_speed        False\n",
       "avg_precipitation     False\n",
       "avg_rain              False\n",
       "incidents             False\n",
       "dtype: bool"
      ]
     },
     "execution_count": 116,
     "metadata": {},
     "output_type": "execute_result"
    }
   ],
   "source": [
    "dftrain.isna().any()"
   ]
  },
  {
   "cell_type": "code",
   "execution_count": 117,
   "metadata": {},
   "outputs": [
    {
     "data": {
      "text/plain": [
       "city_name              0\n",
       "magnitude_of_delay     0\n",
       "delay_in_seconds       0\n",
       "affected_roads        85\n",
       "record_date            0\n",
       "luminosity             0\n",
       "avg_temperature        0\n",
       "avg_atm_pressure       0\n",
       "avg_humidity           0\n",
       "avg_wind_speed         0\n",
       "avg_precipitation      0\n",
       "avg_rain               0\n",
       "incidents              0\n",
       "dtype: int64"
      ]
     },
     "execution_count": 117,
     "metadata": {},
     "output_type": "execute_result"
    }
   ],
   "source": [
    "dftrain.isna().sum()"
   ]
  },
  {
   "cell_type": "markdown",
   "metadata": {
    "tags": []
   },
   "source": [
    "### Matriz de Correlação"
   ]
  },
  {
   "cell_type": "code",
   "execution_count": 118,
   "metadata": {},
   "outputs": [
    {
     "data": {
      "text/plain": [
       "<AxesSubplot:>"
      ]
     },
     "execution_count": 118,
     "metadata": {},
     "output_type": "execute_result"
    },
    {
     "data": {
      "image/png": "[encoded data removed]",
      "text/plain": [
       "<Figure size 2000x2000 with 2 Axes>"
      ]
     },
     "metadata": {},
     "output_type": "display_data"
    }
   ],
   "source": [
    "corr_matrix = dftrain.corr()\n",
    "f, ax = plt.subplots(figsize=(20,20))\n",
    "sns.heatmap(corr_matrix, vmin=-1, vmax=1, square=True, annot=True)"
   ]
  },
  {
   "cell_type": "markdown",
   "metadata": {
    "tags": []
   },
   "source": [
    "### Pairplot"
   ]
  },
  {
   "cell_type": "raw",
   "metadata": {},
   "source": [
    "sns.pairplot(dftrain)"
   ]
  },
  {
   "cell_type": "markdown",
   "metadata": {
    "jp-MarkdownHeadingCollapsed": true,
    "tags": []
   },
   "source": [
    "### Histogramas"
   ]
  },
  {
   "cell_type": "raw",
   "metadata": {},
   "source": [
    "fig,axs = plt.subplots(11,1,figsize=(10,100))\n",
    "fig.suptitle('Histograms')\n",
    "\n",
    "for i in range(13):\n",
    "    axs[i].hist(dftrain.iloc[:,i])\n",
    "    axs[i].set_title(dftrain.columns[i])"
   ]
  },
  {
   "cell_type": "markdown",
   "metadata": {
    "tags": []
   },
   "source": [
    "## Preparação dos dados"
   ]
  },
  {
   "cell_type": "markdown",
   "metadata": {
    "tags": []
   },
   "source": [
    "### Apagar atributos"
   ]
  },
  {
   "cell_type": "code",
   "execution_count": 3,
   "metadata": {},
   "outputs": [],
   "source": [
    "# Era sempre Guimarães em todos os registos, logo não tem impacto nenhum\n",
    "dftrain = dftrain.drop([\"city_name\"], axis=1)\n",
    "dftest = dftest.drop([\"city_name\"], axis=1)\n",
    "\n",
    "# Era sempre 0 em todos os registos, logo não tem impacto nenhum\n",
    "dftrain = dftrain.drop([\"avg_precipitation\"], axis=1)\n",
    "dftest = dftest.drop([\"avg_precipitation\"], axis=1)\n",
    "\n",
    "# Era sempre 0 em todos os registos, logo não tem impacto nenhum\n",
    "#dftrain = dftrain.drop([\"delay_in_seconds\"], axis=1)\n",
    "#dftest = dftest.drop([\"delay_in_seconds\"], axis=1)"
   ]
  },
  {
   "cell_type": "markdown",
   "metadata": {
    "jp-MarkdownHeadingCollapsed": true,
    "tags": []
   },
   "source": [
    "### Alteração do tipo dos atributos"
   ]
  },
  {
   "cell_type": "markdown",
   "metadata": {
    "tags": []
   },
   "source": [
    "#### Label Encoding"
   ]
  },
  {
   "cell_type": "code",
   "execution_count": 4,
   "metadata": {},
   "outputs": [],
   "source": [
    "label_encoder = preprocessing.LabelEncoder()\n",
    "\n",
    "#Train\n",
    "dftrain['magnitude_of_delay']= label_encoder.fit_transform(dftrain['magnitude_of_delay'])\n",
    "dftrain['luminosity']= label_encoder.fit_transform(dftrain['luminosity'])\n",
    "dftrain['avg_rain']= label_encoder.fit_transform(dftrain['avg_rain'])\n",
    "#dftrain['incidents']= label_encoder.fit_transform(dftrain['incidents'])\n",
    "\n",
    "#Test\n",
    "dftest['magnitude_of_delay']= label_encoder.fit_transform(dftest['magnitude_of_delay'])\n",
    "dftest['luminosity']        = label_encoder.fit_transform(dftest['luminosity'])\n",
    "dftest['avg_rain']          = label_encoder.fit_transform(dftest['avg_rain'])"
   ]
  },
  {
   "cell_type": "markdown",
   "metadata": {
    "tags": []
   },
   "source": [
    "#### Atributo affected_roads"
   ]
  },
  {
   "cell_type": "markdown",
   "metadata": {
    "tags": []
   },
   "source": [
    "##### Quantidade de vezes que estradas aparecem"
   ]
  },
  {
   "cell_type": "code",
   "execution_count": 5,
   "metadata": {},
   "outputs": [],
   "source": [
    "dftrain['affected_roads']  = dftrain['affected_roads'].apply(lambda x: 0 if pd.isnull(x) else len(list(filter(None, x.split(',')))))\n",
    "dftest['affected_roads']   = dftest['affected_roads'].apply(lambda x: 0 if pd.isnull(x) else len(list(filter(None, x.split(',')))))"
   ]
  },
  {
   "cell_type": "markdown",
   "metadata": {
    "jp-MarkdownHeadingCollapsed": true,
    "tags": []
   },
   "source": [
    "##### Quantidade de vezes que cada tipo de estrada aparece"
   ]
  },
  {
   "cell_type": "raw",
   "metadata": {},
   "source": [
    "# Passar de string para lista\n",
    "dftrain['affected_roads']  = dftrain['affected_roads'].apply(lambda x: [] if pd.isnull(x) else list(filter(None, x.split(','))))\n",
    "dftest['affected_roads']   = dftest['affected_roads'].apply(lambda x: [] if pd.isnull(x) else list(filter(None, x.split(','))))\n",
    "\n",
    "# Saber que estradas existem\n",
    "new_atr = []\n",
    "for i in dftrain['affected_roads']:\n",
    "    for j in i:\n",
    "        if j not in new_atr:\n",
    "            new_atr.append(j)\n",
    "\n",
    "# Criação de um atributo por estrada e colocar nele a quantidade de repetições que existe\n",
    "# TRAIN\n",
    "for atr in new_atr:\n",
    "    dftrain[atr]=0\n",
    "\n",
    "i=0\n",
    "for roads in dftrain['affected_roads']:\n",
    "    dict_aux = {atri:roads.count(atri) for atri in roads}\n",
    "    for key in dict_aux.keys():\n",
    "        dftrain.at[i,key] = dict_aux[key]\n",
    "    i=i+1\n",
    "\n",
    "# TEST\n",
    "for atr in new_atr:\n",
    "    dftest[atr]=0\n",
    "\n",
    "i=0\n",
    "for roads in dftest['affected_roads']:\n",
    "    dict_aux = {atri:roads.count(atri) for atri in roads}\n",
    "    for key in dict_aux.keys():\n",
    "        dftest.at[i,key] = dict_aux[key]\n",
    "    i=i+1\n",
    "\n",
    "# Drop do atributo das estradas, já que não é mais necessário\n",
    "dftrain = dftrain.drop([\"affected_roads\"], axis=1)\n",
    "dftest = dftest.drop([\"affected_roads\"], axis=1)"
   ]
  },
  {
   "cell_type": "markdown",
   "metadata": {
    "tags": []
   },
   "source": [
    "#### String to Date"
   ]
  },
  {
   "cell_type": "code",
   "execution_count": 6,
   "metadata": {},
   "outputs": [],
   "source": [
    "# TRAIN\n",
    "dftrain['record_date'] = pd.to_datetime(dftrain['record_date'], format='%Y-%m-%d %H:%M')\n",
    "\n",
    "# Este dataset é apenas num ano, logo será igual para todos os registos\n",
    "dftrain['record_month'] = dftrain['record_date'].dt.month\n",
    "dftrain['record_day'] = dftrain['record_date'].dt.day\n",
    "dftrain['record_hour'] = dftrain['record_date'].dt.hour\n",
    "\n",
    "# Já não precisamos do record_date para nada\n",
    "dftrain = dftrain.drop([\"record_date\"], axis=1)\n",
    "\n",
    "# TEST\n",
    "dftest['record_date'] = pd.to_datetime(dftest['record_date'], format='%Y-%m-%d %H:%M')\n",
    "\n",
    "# Este dataset é apenas num ano, logo será igual para todos os registos\n",
    "dftest['record_month'] = dftest['record_date'].dt.month\n",
    "dftest['record_day'] = dftest['record_date'].dt.day\n",
    "dftest['record_hour'] = dftest['record_date'].dt.hour\n",
    "\n",
    "# Já não precisamos do record_date para nada\n",
    "dftest = dftest.drop([\"record_date\"], axis=1)"
   ]
  },
  {
   "cell_type": "markdown",
   "metadata": {
    "jp-MarkdownHeadingCollapsed": true,
    "tags": []
   },
   "source": [
    "#### Tipo do atributo dependente"
   ]
  },
  {
   "cell_type": "code",
   "execution_count": 7,
   "metadata": {},
   "outputs": [],
   "source": [
    "def incidentsToInt(x):\n",
    "    return {\n",
    "        'None'      : 0,\n",
    "        'Low'       : 1, \n",
    "        'Medium'    : 2, \n",
    "        'High'      : 3, \n",
    "        'Very_High' : 4\n",
    "    }[x]\n",
    "\n",
    "def intToIncidents(x):\n",
    "    return {\n",
    "        0 : 'None',\n",
    "        1 : 'Low',\n",
    "        2 : 'Medium',\n",
    "        3 : 'High',\n",
    "        4 : 'Very_High'\n",
    "    }[x]"
   ]
  },
  {
   "cell_type": "code",
   "execution_count": 8,
   "metadata": {},
   "outputs": [],
   "source": [
    "dftrain['incidents'] = dftrain['incidents'].apply(lambda x:incidentsToInt(x))"
   ]
  },
  {
   "cell_type": "markdown",
   "metadata": {
    "tags": []
   },
   "source": [
    "## Modelos"
   ]
  },
  {
   "cell_type": "markdown",
   "metadata": {
    "tags": []
   },
   "source": [
    "### Preparação prévia"
   ]
  },
  {
   "cell_type": "markdown",
   "metadata": {},
   "source": [
    "#### Separação da variável dependente"
   ]
  },
  {
   "cell_type": "code",
   "execution_count": 9,
   "metadata": {},
   "outputs": [],
   "source": [
    "X_train = dftrain.drop(['incidents'], axis=1)\n",
    "Y_train = dftrain[['incidents']]"
   ]
  },
  {
   "cell_type": "markdown",
   "metadata": {
    "tags": []
   },
   "source": [
    "#### Separação entre dataframe de teste e de treino"
   ]
  },
  {
   "cell_type": "code",
   "execution_count": 10,
   "metadata": {},
   "outputs": [],
   "source": [
    "X_train, X_test, Y_train, Y_test = train_test_split(X_train, Y_train, test_size=0.2, random_state=42)"
   ]
  },
  {
   "cell_type": "markdown",
   "metadata": {
    "tags": []
   },
   "source": [
    "### Treino dos modelos"
   ]
  },
  {
   "attachments": {},
   "cell_type": "markdown",
   "metadata": {
    "jp-MarkdownHeadingCollapsed": true,
    "tags": []
   },
   "source": [
    "#### Regressão Logística"
   ]
  },
  {
   "cell_type": "code",
   "execution_count": 127,
   "metadata": {},
   "outputs": [],
   "source": [
    "param_grid = {'penalty': ['l1', 'l2', 'elasticnet'], 'max_iter': [10000, 100000, 1000000], 'solver': ['newton-cg', 'lbfgs', 'liblinear', 'sag', 'saga'], 'C': [0.001, 0.01, 0.1]}"
   ]
  },
  {
   "cell_type": "code",
   "execution_count": 128,
   "metadata": {},
   "outputs": [
    {
     "name": "stdout",
     "output_type": "stream",
     "text": [
      "dict_keys(['C', 'class_weight', 'dual', 'fit_intercept', 'intercept_scaling', 'l1_ratio', 'max_iter', 'multi_class', 'n_jobs', 'penalty', 'random_state', 'solver', 'tol', 'verbose', 'warm_start'])\n"
     ]
    },
    {
     "ename": "KeyboardInterrupt",
     "evalue": "",
     "output_type": "error",
     "traceback": [
      "\u001b[1;31m---------------------------------------------------------------------------\u001b[0m",
      "\u001b[1;31mKeyboardInterrupt\u001b[0m                         Traceback (most recent call last)",
      "\u001b[1;32m~\\AppData\\Local\\Temp\\ipykernel_17836\\644548767.py\u001b[0m in \u001b[0;36m<module>\u001b[1;34m\u001b[0m\n\u001b[0;32m      3\u001b[0m \u001b[0mprint\u001b[0m\u001b[1;33m(\u001b[0m\u001b[0mreg\u001b[0m\u001b[1;33m.\u001b[0m\u001b[0mget_params\u001b[0m\u001b[1;33m(\u001b[0m\u001b[1;33m)\u001b[0m\u001b[1;33m.\u001b[0m\u001b[0mkeys\u001b[0m\u001b[1;33m(\u001b[0m\u001b[1;33m)\u001b[0m\u001b[1;33m)\u001b[0m\u001b[1;33m\u001b[0m\u001b[1;33m\u001b[0m\u001b[0m\n\u001b[0;32m      4\u001b[0m \u001b[0mgrid\u001b[0m \u001b[1;33m=\u001b[0m \u001b[0mGridSearchCV\u001b[0m\u001b[1;33m(\u001b[0m\u001b[0mreg\u001b[0m\u001b[1;33m,\u001b[0m \u001b[0mparam_grid\u001b[0m\u001b[1;33m,\u001b[0m \u001b[0mcv\u001b[0m\u001b[1;33m=\u001b[0m\u001b[1;36m5\u001b[0m\u001b[1;33m,\u001b[0m \u001b[0mscoring\u001b[0m\u001b[1;33m=\u001b[0m\u001b[1;34m'accuracy'\u001b[0m\u001b[1;33m,\u001b[0m \u001b[0mreturn_train_score\u001b[0m\u001b[1;33m=\u001b[0m\u001b[1;32mTrue\u001b[0m\u001b[1;33m)\u001b[0m\u001b[1;33m\u001b[0m\u001b[1;33m\u001b[0m\u001b[0m\n\u001b[1;32m----> 5\u001b[1;33m \u001b[0mgrid\u001b[0m\u001b[1;33m.\u001b[0m\u001b[0mfit\u001b[0m\u001b[1;33m(\u001b[0m\u001b[0mX_train\u001b[0m\u001b[1;33m,\u001b[0m \u001b[0mY_train\u001b[0m\u001b[1;33m.\u001b[0m\u001b[0mvalues\u001b[0m\u001b[1;33m.\u001b[0m\u001b[0mravel\u001b[0m\u001b[1;33m(\u001b[0m\u001b[1;33m)\u001b[0m\u001b[1;33m)\u001b[0m\u001b[1;33m\u001b[0m\u001b[1;33m\u001b[0m\u001b[0m\n\u001b[0m\u001b[0;32m      6\u001b[0m \u001b[0mpredictions\u001b[0m \u001b[1;33m=\u001b[0m \u001b[0mreg\u001b[0m\u001b[1;33m.\u001b[0m\u001b[0mpredict\u001b[0m\u001b[1;33m(\u001b[0m\u001b[0mX_test\u001b[0m\u001b[1;33m)\u001b[0m\u001b[1;33m\u001b[0m\u001b[1;33m\u001b[0m\u001b[0m\n",
      "\u001b[1;32mc:\\Users\\vasco\\anaconda3\\lib\\site-packages\\sklearn\\model_selection\\_search.py\u001b[0m in \u001b[0;36mfit\u001b[1;34m(self, X, y, groups, **fit_params)\u001b[0m\n\u001b[0;32m    889\u001b[0m                 \u001b[1;32mreturn\u001b[0m \u001b[0mresults\u001b[0m\u001b[1;33m\u001b[0m\u001b[1;33m\u001b[0m\u001b[0m\n\u001b[0;32m    890\u001b[0m \u001b[1;33m\u001b[0m\u001b[0m\n\u001b[1;32m--> 891\u001b[1;33m             \u001b[0mself\u001b[0m\u001b[1;33m.\u001b[0m\u001b[0m_run_search\u001b[0m\u001b[1;33m(\u001b[0m\u001b[0mevaluate_candidates\u001b[0m\u001b[1;33m)\u001b[0m\u001b[1;33m\u001b[0m\u001b[1;33m\u001b[0m\u001b[0m\n\u001b[0m\u001b[0;32m    892\u001b[0m \u001b[1;33m\u001b[0m\u001b[0m\n\u001b[0;32m    893\u001b[0m             \u001b[1;31m# multimetric is determined here because in the case of a callable\u001b[0m\u001b[1;33m\u001b[0m\u001b[1;33m\u001b[0m\u001b[0m\n",
      "\u001b[1;32mc:\\Users\\vasco\\anaconda3\\lib\\site-packages\\sklearn\\model_selection\\_search.py\u001b[0m in \u001b[0;36m_run_search\u001b[1;34m(self, evaluate_candidates)\u001b[0m\n\u001b[0;32m   1390\u001b[0m     \u001b[1;32mdef\u001b[0m \u001b[0m_run_search\u001b[0m\u001b[1;33m(\u001b[0m\u001b[0mself\u001b[0m\u001b[1;33m,\u001b[0m \u001b[0mevaluate_candidates\u001b[0m\u001b[1;33m)\u001b[0m\u001b[1;33m:\u001b[0m\u001b[1;33m\u001b[0m\u001b[1;33m\u001b[0m\u001b[0m\n\u001b[0;32m   1391\u001b[0m         \u001b[1;34m\"\"\"Search all candidates in param_grid\"\"\"\u001b[0m\u001b[1;33m\u001b[0m\u001b[1;33m\u001b[0m\u001b[0m\n\u001b[1;32m-> 1392\u001b[1;33m         \u001b[0mevaluate_candidates\u001b[0m\u001b[1;33m(\u001b[0m\u001b[0mParameterGrid\u001b[0m\u001b[1;33m(\u001b[0m\u001b[0mself\u001b[0m\u001b[1;33m.\u001b[0m\u001b[0mparam_grid\u001b[0m\u001b[1;33m)\u001b[0m\u001b[1;33m)\u001b[0m\u001b[1;33m\u001b[0m\u001b[1;33m\u001b[0m\u001b[0m\n\u001b[0m\u001b[0;32m   1393\u001b[0m \u001b[1;33m\u001b[0m\u001b[0m\n\u001b[0;32m   1394\u001b[0m \u001b[1;33m\u001b[0m\u001b[0m\n",
      "\u001b[1;32mc:\\Users\\vasco\\anaconda3\\lib\\site-packages\\sklearn\\model_selection\\_search.py\u001b[0m in \u001b[0;36mevaluate_candidates\u001b[1;34m(candidate_params, cv, more_results)\u001b[0m\n\u001b[0;32m    836\u001b[0m                     )\n\u001b[0;32m    837\u001b[0m \u001b[1;33m\u001b[0m\u001b[0m\n\u001b[1;32m--> 838\u001b[1;33m                 out = parallel(\n\u001b[0m\u001b[0;32m    839\u001b[0m                     delayed(_fit_and_score)(\n\u001b[0;32m    840\u001b[0m                         \u001b[0mclone\u001b[0m\u001b[1;33m(\u001b[0m\u001b[0mbase_estimator\u001b[0m\u001b[1;33m)\u001b[0m\u001b[1;33m,\u001b[0m\u001b[1;33m\u001b[0m\u001b[1;33m\u001b[0m\u001b[0m\n",
      "\u001b[1;32mc:\\Users\\vasco\\anaconda3\\lib\\site-packages\\joblib\\parallel.py\u001b[0m in \u001b[0;36m__call__\u001b[1;34m(self, iterable)\u001b[0m\n\u001b[0;32m   1044\u001b[0m                 \u001b[0mself\u001b[0m\u001b[1;33m.\u001b[0m\u001b[0m_iterating\u001b[0m \u001b[1;33m=\u001b[0m \u001b[0mself\u001b[0m\u001b[1;33m.\u001b[0m\u001b[0m_original_iterator\u001b[0m \u001b[1;32mis\u001b[0m \u001b[1;32mnot\u001b[0m \u001b[1;32mNone\u001b[0m\u001b[1;33m\u001b[0m\u001b[1;33m\u001b[0m\u001b[0m\n\u001b[0;32m   1045\u001b[0m \u001b[1;33m\u001b[0m\u001b[0m\n\u001b[1;32m-> 1046\u001b[1;33m             \u001b[1;32mwhile\u001b[0m \u001b[0mself\u001b[0m\u001b[1;33m.\u001b[0m\u001b[0mdispatch_one_batch\u001b[0m\u001b[1;33m(\u001b[0m\u001b[0miterator\u001b[0m\u001b[1;33m)\u001b[0m\u001b[1;33m:\u001b[0m\u001b[1;33m\u001b[0m\u001b[1;33m\u001b[0m\u001b[0m\n\u001b[0m\u001b[0;32m   1047\u001b[0m                 \u001b[1;32mpass\u001b[0m\u001b[1;33m\u001b[0m\u001b[1;33m\u001b[0m\u001b[0m\n\u001b[0;32m   1048\u001b[0m \u001b[1;33m\u001b[0m\u001b[0m\n",
      "\u001b[1;32mc:\\Users\\vasco\\anaconda3\\lib\\site-packages\\joblib\\parallel.py\u001b[0m in \u001b[0;36mdispatch_one_batch\u001b[1;34m(self, iterator)\u001b[0m\n\u001b[0;32m    859\u001b[0m                 \u001b[1;32mreturn\u001b[0m \u001b[1;32mFalse\u001b[0m\u001b[1;33m\u001b[0m\u001b[1;33m\u001b[0m\u001b[0m\n\u001b[0;32m    860\u001b[0m             \u001b[1;32melse\u001b[0m\u001b[1;33m:\u001b[0m\u001b[1;33m\u001b[0m\u001b[1;33m\u001b[0m\u001b[0m\n\u001b[1;32m--> 861\u001b[1;33m                 \u001b[0mself\u001b[0m\u001b[1;33m.\u001b[0m\u001b[0m_dispatch\u001b[0m\u001b[1;33m(\u001b[0m\u001b[0mtasks\u001b[0m\u001b[1;33m)\u001b[0m\u001b[1;33m\u001b[0m\u001b[1;33m\u001b[0m\u001b[0m\n\u001b[0m\u001b[0;32m    862\u001b[0m                 \u001b[1;32mreturn\u001b[0m \u001b[1;32mTrue\u001b[0m\u001b[1;33m\u001b[0m\u001b[1;33m\u001b[0m\u001b[0m\n\u001b[0;32m    863\u001b[0m \u001b[1;33m\u001b[0m\u001b[0m\n",
      "\u001b[1;32mc:\\Users\\vasco\\anaconda3\\lib\\site-packages\\joblib\\parallel.py\u001b[0m in \u001b[0;36m_dispatch\u001b[1;34m(self, batch)\u001b[0m\n\u001b[0;32m    777\u001b[0m         \u001b[1;32mwith\u001b[0m \u001b[0mself\u001b[0m\u001b[1;33m.\u001b[0m\u001b[0m_lock\u001b[0m\u001b[1;33m:\u001b[0m\u001b[1;33m\u001b[0m\u001b[1;33m\u001b[0m\u001b[0m\n\u001b[0;32m    778\u001b[0m             \u001b[0mjob_idx\u001b[0m \u001b[1;33m=\u001b[0m \u001b[0mlen\u001b[0m\u001b[1;33m(\u001b[0m\u001b[0mself\u001b[0m\u001b[1;33m.\u001b[0m\u001b[0m_jobs\u001b[0m\u001b[1;33m)\u001b[0m\u001b[1;33m\u001b[0m\u001b[1;33m\u001b[0m\u001b[0m\n\u001b[1;32m--> 779\u001b[1;33m             \u001b[0mjob\u001b[0m \u001b[1;33m=\u001b[0m \u001b[0mself\u001b[0m\u001b[1;33m.\u001b[0m\u001b[0m_backend\u001b[0m\u001b[1;33m.\u001b[0m\u001b[0mapply_async\u001b[0m\u001b[1;33m(\u001b[0m\u001b[0mbatch\u001b[0m\u001b[1;33m,\u001b[0m \u001b[0mcallback\u001b[0m\u001b[1;33m=\u001b[0m\u001b[0mcb\u001b[0m\u001b[1;33m)\u001b[0m\u001b[1;33m\u001b[0m\u001b[1;33m\u001b[0m\u001b[0m\n\u001b[0m\u001b[0;32m    780\u001b[0m             \u001b[1;31m# A job can complete so quickly than its callback is\u001b[0m\u001b[1;33m\u001b[0m\u001b[1;33m\u001b[0m\u001b[0m\n\u001b[0;32m    781\u001b[0m             \u001b[1;31m# called before we get here, causing self._jobs to\u001b[0m\u001b[1;33m\u001b[0m\u001b[1;33m\u001b[0m\u001b[0m\n",
      "\u001b[1;32mc:\\Users\\vasco\\anaconda3\\lib\\site-packages\\joblib\\_parallel_backends.py\u001b[0m in \u001b[0;36mapply_async\u001b[1;34m(self, func, callback)\u001b[0m\n\u001b[0;32m    206\u001b[0m     \u001b[1;32mdef\u001b[0m \u001b[0mapply_async\u001b[0m\u001b[1;33m(\u001b[0m\u001b[0mself\u001b[0m\u001b[1;33m,\u001b[0m \u001b[0mfunc\u001b[0m\u001b[1;33m,\u001b[0m \u001b[0mcallback\u001b[0m\u001b[1;33m=\u001b[0m\u001b[1;32mNone\u001b[0m\u001b[1;33m)\u001b[0m\u001b[1;33m:\u001b[0m\u001b[1;33m\u001b[0m\u001b[1;33m\u001b[0m\u001b[0m\n\u001b[0;32m    207\u001b[0m         \u001b[1;34m\"\"\"Schedule a func to be run\"\"\"\u001b[0m\u001b[1;33m\u001b[0m\u001b[1;33m\u001b[0m\u001b[0m\n\u001b[1;32m--> 208\u001b[1;33m         \u001b[0mresult\u001b[0m \u001b[1;33m=\u001b[0m \u001b[0mImmediateResult\u001b[0m\u001b[1;33m(\u001b[0m\u001b[0mfunc\u001b[0m\u001b[1;33m)\u001b[0m\u001b[1;33m\u001b[0m\u001b[1;33m\u001b[0m\u001b[0m\n\u001b[0m\u001b[0;32m    209\u001b[0m         \u001b[1;32mif\u001b[0m \u001b[0mcallback\u001b[0m\u001b[1;33m:\u001b[0m\u001b[1;33m\u001b[0m\u001b[1;33m\u001b[0m\u001b[0m\n\u001b[0;32m    210\u001b[0m             \u001b[0mcallback\u001b[0m\u001b[1;33m(\u001b[0m\u001b[0mresult\u001b[0m\u001b[1;33m)\u001b[0m\u001b[1;33m\u001b[0m\u001b[1;33m\u001b[0m\u001b[0m\n",
      "\u001b[1;32mc:\\Users\\vasco\\anaconda3\\lib\\site-packages\\joblib\\_parallel_backends.py\u001b[0m in \u001b[0;36m__init__\u001b[1;34m(self, batch)\u001b[0m\n\u001b[0;32m    570\u001b[0m         \u001b[1;31m# Don't delay the application, to avoid keeping the input\u001b[0m\u001b[1;33m\u001b[0m\u001b[1;33m\u001b[0m\u001b[0m\n\u001b[0;32m    571\u001b[0m         \u001b[1;31m# arguments in memory\u001b[0m\u001b[1;33m\u001b[0m\u001b[1;33m\u001b[0m\u001b[0m\n\u001b[1;32m--> 572\u001b[1;33m         \u001b[0mself\u001b[0m\u001b[1;33m.\u001b[0m\u001b[0mresults\u001b[0m \u001b[1;33m=\u001b[0m \u001b[0mbatch\u001b[0m\u001b[1;33m(\u001b[0m\u001b[1;33m)\u001b[0m\u001b[1;33m\u001b[0m\u001b[1;33m\u001b[0m\u001b[0m\n\u001b[0m\u001b[0;32m    573\u001b[0m \u001b[1;33m\u001b[0m\u001b[0m\n\u001b[0;32m    574\u001b[0m     \u001b[1;32mdef\u001b[0m \u001b[0mget\u001b[0m\u001b[1;33m(\u001b[0m\u001b[0mself\u001b[0m\u001b[1;33m)\u001b[0m\u001b[1;33m:\u001b[0m\u001b[1;33m\u001b[0m\u001b[1;33m\u001b[0m\u001b[0m\n",
      "\u001b[1;32mc:\\Users\\vasco\\anaconda3\\lib\\site-packages\\joblib\\parallel.py\u001b[0m in \u001b[0;36m__call__\u001b[1;34m(self)\u001b[0m\n\u001b[0;32m    260\u001b[0m         \u001b[1;31m# change the default number of processes to -1\u001b[0m\u001b[1;33m\u001b[0m\u001b[1;33m\u001b[0m\u001b[0m\n\u001b[0;32m    261\u001b[0m         \u001b[1;32mwith\u001b[0m \u001b[0mparallel_backend\u001b[0m\u001b[1;33m(\u001b[0m\u001b[0mself\u001b[0m\u001b[1;33m.\u001b[0m\u001b[0m_backend\u001b[0m\u001b[1;33m,\u001b[0m \u001b[0mn_jobs\u001b[0m\u001b[1;33m=\u001b[0m\u001b[0mself\u001b[0m\u001b[1;33m.\u001b[0m\u001b[0m_n_jobs\u001b[0m\u001b[1;33m)\u001b[0m\u001b[1;33m:\u001b[0m\u001b[1;33m\u001b[0m\u001b[1;33m\u001b[0m\u001b[0m\n\u001b[1;32m--> 262\u001b[1;33m             return [func(*args, **kwargs)\n\u001b[0m\u001b[0;32m    263\u001b[0m                     for func, args, kwargs in self.items]\n\u001b[0;32m    264\u001b[0m \u001b[1;33m\u001b[0m\u001b[0m\n",
      "\u001b[1;32mc:\\Users\\vasco\\anaconda3\\lib\\site-packages\\joblib\\parallel.py\u001b[0m in \u001b[0;36m<listcomp>\u001b[1;34m(.0)\u001b[0m\n\u001b[0;32m    260\u001b[0m         \u001b[1;31m# change the default number of processes to -1\u001b[0m\u001b[1;33m\u001b[0m\u001b[1;33m\u001b[0m\u001b[0m\n\u001b[0;32m    261\u001b[0m         \u001b[1;32mwith\u001b[0m \u001b[0mparallel_backend\u001b[0m\u001b[1;33m(\u001b[0m\u001b[0mself\u001b[0m\u001b[1;33m.\u001b[0m\u001b[0m_backend\u001b[0m\u001b[1;33m,\u001b[0m \u001b[0mn_jobs\u001b[0m\u001b[1;33m=\u001b[0m\u001b[0mself\u001b[0m\u001b[1;33m.\u001b[0m\u001b[0m_n_jobs\u001b[0m\u001b[1;33m)\u001b[0m\u001b[1;33m:\u001b[0m\u001b[1;33m\u001b[0m\u001b[1;33m\u001b[0m\u001b[0m\n\u001b[1;32m--> 262\u001b[1;33m             return [func(*args, **kwargs)\n\u001b[0m\u001b[0;32m    263\u001b[0m                     for func, args, kwargs in self.items]\n\u001b[0;32m    264\u001b[0m \u001b[1;33m\u001b[0m\u001b[0m\n",
      "\u001b[1;32mc:\\Users\\vasco\\anaconda3\\lib\\site-packages\\sklearn\\utils\\fixes.py\u001b[0m in \u001b[0;36m__call__\u001b[1;34m(self, *args, **kwargs)\u001b[0m\n\u001b[0;32m    214\u001b[0m     \u001b[1;32mdef\u001b[0m \u001b[0m__call__\u001b[0m\u001b[1;33m(\u001b[0m\u001b[0mself\u001b[0m\u001b[1;33m,\u001b[0m \u001b[1;33m*\u001b[0m\u001b[0margs\u001b[0m\u001b[1;33m,\u001b[0m \u001b[1;33m**\u001b[0m\u001b[0mkwargs\u001b[0m\u001b[1;33m)\u001b[0m\u001b[1;33m:\u001b[0m\u001b[1;33m\u001b[0m\u001b[1;33m\u001b[0m\u001b[0m\n\u001b[0;32m    215\u001b[0m         \u001b[1;32mwith\u001b[0m \u001b[0mconfig_context\u001b[0m\u001b[1;33m(\u001b[0m\u001b[1;33m**\u001b[0m\u001b[0mself\u001b[0m\u001b[1;33m.\u001b[0m\u001b[0mconfig\u001b[0m\u001b[1;33m)\u001b[0m\u001b[1;33m:\u001b[0m\u001b[1;33m\u001b[0m\u001b[1;33m\u001b[0m\u001b[0m\n\u001b[1;32m--> 216\u001b[1;33m             \u001b[1;32mreturn\u001b[0m \u001b[0mself\u001b[0m\u001b[1;33m.\u001b[0m\u001b[0mfunction\u001b[0m\u001b[1;33m(\u001b[0m\u001b[1;33m*\u001b[0m\u001b[0margs\u001b[0m\u001b[1;33m,\u001b[0m \u001b[1;33m**\u001b[0m\u001b[0mkwargs\u001b[0m\u001b[1;33m)\u001b[0m\u001b[1;33m\u001b[0m\u001b[1;33m\u001b[0m\u001b[0m\n\u001b[0m\u001b[0;32m    217\u001b[0m \u001b[1;33m\u001b[0m\u001b[0m\n\u001b[0;32m    218\u001b[0m \u001b[1;33m\u001b[0m\u001b[0m\n",
      "\u001b[1;32mc:\\Users\\vasco\\anaconda3\\lib\\site-packages\\sklearn\\model_selection\\_validation.py\u001b[0m in \u001b[0;36m_fit_and_score\u001b[1;34m(estimator, X, y, scorer, train, test, verbose, parameters, fit_params, return_train_score, return_parameters, return_n_test_samples, return_times, return_estimator, split_progress, candidate_progress, error_score)\u001b[0m\n\u001b[0;32m    678\u001b[0m             \u001b[0mestimator\u001b[0m\u001b[1;33m.\u001b[0m\u001b[0mfit\u001b[0m\u001b[1;33m(\u001b[0m\u001b[0mX_train\u001b[0m\u001b[1;33m,\u001b[0m \u001b[1;33m**\u001b[0m\u001b[0mfit_params\u001b[0m\u001b[1;33m)\u001b[0m\u001b[1;33m\u001b[0m\u001b[1;33m\u001b[0m\u001b[0m\n\u001b[0;32m    679\u001b[0m         \u001b[1;32melse\u001b[0m\u001b[1;33m:\u001b[0m\u001b[1;33m\u001b[0m\u001b[1;33m\u001b[0m\u001b[0m\n\u001b[1;32m--> 680\u001b[1;33m             \u001b[0mestimator\u001b[0m\u001b[1;33m.\u001b[0m\u001b[0mfit\u001b[0m\u001b[1;33m(\u001b[0m\u001b[0mX_train\u001b[0m\u001b[1;33m,\u001b[0m \u001b[0my_train\u001b[0m\u001b[1;33m,\u001b[0m \u001b[1;33m**\u001b[0m\u001b[0mfit_params\u001b[0m\u001b[1;33m)\u001b[0m\u001b[1;33m\u001b[0m\u001b[1;33m\u001b[0m\u001b[0m\n\u001b[0m\u001b[0;32m    681\u001b[0m \u001b[1;33m\u001b[0m\u001b[0m\n\u001b[0;32m    682\u001b[0m     \u001b[1;32mexcept\u001b[0m \u001b[0mException\u001b[0m\u001b[1;33m:\u001b[0m\u001b[1;33m\u001b[0m\u001b[1;33m\u001b[0m\u001b[0m\n",
      "\u001b[1;32mc:\\Users\\vasco\\anaconda3\\lib\\site-packages\\sklearn\\linear_model\\_logistic.py\u001b[0m in \u001b[0;36mfit\u001b[1;34m(self, X, y, sample_weight)\u001b[0m\n\u001b[0;32m   1587\u001b[0m         \u001b[1;32melse\u001b[0m\u001b[1;33m:\u001b[0m\u001b[1;33m\u001b[0m\u001b[1;33m\u001b[0m\u001b[0m\n\u001b[0;32m   1588\u001b[0m             \u001b[0mprefer\u001b[0m \u001b[1;33m=\u001b[0m \u001b[1;34m\"processes\"\u001b[0m\u001b[1;33m\u001b[0m\u001b[1;33m\u001b[0m\u001b[0m\n\u001b[1;32m-> 1589\u001b[1;33m         fold_coefs_ = Parallel(\n\u001b[0m\u001b[0;32m   1590\u001b[0m             \u001b[0mn_jobs\u001b[0m\u001b[1;33m=\u001b[0m\u001b[0mself\u001b[0m\u001b[1;33m.\u001b[0m\u001b[0mn_jobs\u001b[0m\u001b[1;33m,\u001b[0m\u001b[1;33m\u001b[0m\u001b[1;33m\u001b[0m\u001b[0m\n\u001b[0;32m   1591\u001b[0m             \u001b[0mverbose\u001b[0m\u001b[1;33m=\u001b[0m\u001b[0mself\u001b[0m\u001b[1;33m.\u001b[0m\u001b[0mverbose\u001b[0m\u001b[1;33m,\u001b[0m\u001b[1;33m\u001b[0m\u001b[1;33m\u001b[0m\u001b[0m\n",
      "\u001b[1;32mc:\\Users\\vasco\\anaconda3\\lib\\site-packages\\joblib\\parallel.py\u001b[0m in \u001b[0;36m__call__\u001b[1;34m(self, iterable)\u001b[0m\n\u001b[0;32m   1041\u001b[0m             \u001b[1;31m# remaining jobs.\u001b[0m\u001b[1;33m\u001b[0m\u001b[1;33m\u001b[0m\u001b[0m\n\u001b[0;32m   1042\u001b[0m             \u001b[0mself\u001b[0m\u001b[1;33m.\u001b[0m\u001b[0m_iterating\u001b[0m \u001b[1;33m=\u001b[0m \u001b[1;32mFalse\u001b[0m\u001b[1;33m\u001b[0m\u001b[1;33m\u001b[0m\u001b[0m\n\u001b[1;32m-> 1043\u001b[1;33m             \u001b[1;32mif\u001b[0m \u001b[0mself\u001b[0m\u001b[1;33m.\u001b[0m\u001b[0mdispatch_one_batch\u001b[0m\u001b[1;33m(\u001b[0m\u001b[0miterator\u001b[0m\u001b[1;33m)\u001b[0m\u001b[1;33m:\u001b[0m\u001b[1;33m\u001b[0m\u001b[1;33m\u001b[0m\u001b[0m\n\u001b[0m\u001b[0;32m   1044\u001b[0m                 \u001b[0mself\u001b[0m\u001b[1;33m.\u001b[0m\u001b[0m_iterating\u001b[0m \u001b[1;33m=\u001b[0m \u001b[0mself\u001b[0m\u001b[1;33m.\u001b[0m\u001b[0m_original_iterator\u001b[0m \u001b[1;32mis\u001b[0m \u001b[1;32mnot\u001b[0m \u001b[1;32mNone\u001b[0m\u001b[1;33m\u001b[0m\u001b[1;33m\u001b[0m\u001b[0m\n\u001b[0;32m   1045\u001b[0m \u001b[1;33m\u001b[0m\u001b[0m\n",
      "\u001b[1;32mc:\\Users\\vasco\\anaconda3\\lib\\site-packages\\joblib\\parallel.py\u001b[0m in \u001b[0;36mdispatch_one_batch\u001b[1;34m(self, iterator)\u001b[0m\n\u001b[0;32m    859\u001b[0m                 \u001b[1;32mreturn\u001b[0m \u001b[1;32mFalse\u001b[0m\u001b[1;33m\u001b[0m\u001b[1;33m\u001b[0m\u001b[0m\n\u001b[0;32m    860\u001b[0m             \u001b[1;32melse\u001b[0m\u001b[1;33m:\u001b[0m\u001b[1;33m\u001b[0m\u001b[1;33m\u001b[0m\u001b[0m\n\u001b[1;32m--> 861\u001b[1;33m                 \u001b[0mself\u001b[0m\u001b[1;33m.\u001b[0m\u001b[0m_dispatch\u001b[0m\u001b[1;33m(\u001b[0m\u001b[0mtasks\u001b[0m\u001b[1;33m)\u001b[0m\u001b[1;33m\u001b[0m\u001b[1;33m\u001b[0m\u001b[0m\n\u001b[0m\u001b[0;32m    862\u001b[0m                 \u001b[1;32mreturn\u001b[0m \u001b[1;32mTrue\u001b[0m\u001b[1;33m\u001b[0m\u001b[1;33m\u001b[0m\u001b[0m\n\u001b[0;32m    863\u001b[0m \u001b[1;33m\u001b[0m\u001b[0m\n",
      "\u001b[1;32mc:\\Users\\vasco\\anaconda3\\lib\\site-packages\\joblib\\parallel.py\u001b[0m in \u001b[0;36m_dispatch\u001b[1;34m(self, batch)\u001b[0m\n\u001b[0;32m    777\u001b[0m         \u001b[1;32mwith\u001b[0m \u001b[0mself\u001b[0m\u001b[1;33m.\u001b[0m\u001b[0m_lock\u001b[0m\u001b[1;33m:\u001b[0m\u001b[1;33m\u001b[0m\u001b[1;33m\u001b[0m\u001b[0m\n\u001b[0;32m    778\u001b[0m             \u001b[0mjob_idx\u001b[0m \u001b[1;33m=\u001b[0m \u001b[0mlen\u001b[0m\u001b[1;33m(\u001b[0m\u001b[0mself\u001b[0m\u001b[1;33m.\u001b[0m\u001b[0m_jobs\u001b[0m\u001b[1;33m)\u001b[0m\u001b[1;33m\u001b[0m\u001b[1;33m\u001b[0m\u001b[0m\n\u001b[1;32m--> 779\u001b[1;33m             \u001b[0mjob\u001b[0m \u001b[1;33m=\u001b[0m \u001b[0mself\u001b[0m\u001b[1;33m.\u001b[0m\u001b[0m_backend\u001b[0m\u001b[1;33m.\u001b[0m\u001b[0mapply_async\u001b[0m\u001b[1;33m(\u001b[0m\u001b[0mbatch\u001b[0m\u001b[1;33m,\u001b[0m \u001b[0mcallback\u001b[0m\u001b[1;33m=\u001b[0m\u001b[0mcb\u001b[0m\u001b[1;33m)\u001b[0m\u001b[1;33m\u001b[0m\u001b[1;33m\u001b[0m\u001b[0m\n\u001b[0m\u001b[0;32m    780\u001b[0m             \u001b[1;31m# A job can complete so quickly than its callback is\u001b[0m\u001b[1;33m\u001b[0m\u001b[1;33m\u001b[0m\u001b[0m\n\u001b[0;32m    781\u001b[0m             \u001b[1;31m# called before we get here, causing self._jobs to\u001b[0m\u001b[1;33m\u001b[0m\u001b[1;33m\u001b[0m\u001b[0m\n",
      "\u001b[1;32mc:\\Users\\vasco\\anaconda3\\lib\\site-packages\\joblib\\_parallel_backends.py\u001b[0m in \u001b[0;36mapply_async\u001b[1;34m(self, func, callback)\u001b[0m\n\u001b[0;32m    206\u001b[0m     \u001b[1;32mdef\u001b[0m \u001b[0mapply_async\u001b[0m\u001b[1;33m(\u001b[0m\u001b[0mself\u001b[0m\u001b[1;33m,\u001b[0m \u001b[0mfunc\u001b[0m\u001b[1;33m,\u001b[0m \u001b[0mcallback\u001b[0m\u001b[1;33m=\u001b[0m\u001b[1;32mNone\u001b[0m\u001b[1;33m)\u001b[0m\u001b[1;33m:\u001b[0m\u001b[1;33m\u001b[0m\u001b[1;33m\u001b[0m\u001b[0m\n\u001b[0;32m    207\u001b[0m         \u001b[1;34m\"\"\"Schedule a func to be run\"\"\"\u001b[0m\u001b[1;33m\u001b[0m\u001b[1;33m\u001b[0m\u001b[0m\n\u001b[1;32m--> 208\u001b[1;33m         \u001b[0mresult\u001b[0m \u001b[1;33m=\u001b[0m \u001b[0mImmediateResult\u001b[0m\u001b[1;33m(\u001b[0m\u001b[0mfunc\u001b[0m\u001b[1;33m)\u001b[0m\u001b[1;33m\u001b[0m\u001b[1;33m\u001b[0m\u001b[0m\n\u001b[0m\u001b[0;32m    209\u001b[0m         \u001b[1;32mif\u001b[0m \u001b[0mcallback\u001b[0m\u001b[1;33m:\u001b[0m\u001b[1;33m\u001b[0m\u001b[1;33m\u001b[0m\u001b[0m\n\u001b[0;32m    210\u001b[0m             \u001b[0mcallback\u001b[0m\u001b[1;33m(\u001b[0m\u001b[0mresult\u001b[0m\u001b[1;33m)\u001b[0m\u001b[1;33m\u001b[0m\u001b[1;33m\u001b[0m\u001b[0m\n",
      "\u001b[1;32mc:\\Users\\vasco\\anaconda3\\lib\\site-packages\\joblib\\_parallel_backends.py\u001b[0m in \u001b[0;36m__init__\u001b[1;34m(self, batch)\u001b[0m\n\u001b[0;32m    570\u001b[0m         \u001b[1;31m# Don't delay the application, to avoid keeping the input\u001b[0m\u001b[1;33m\u001b[0m\u001b[1;33m\u001b[0m\u001b[0m\n\u001b[0;32m    571\u001b[0m         \u001b[1;31m# arguments in memory\u001b[0m\u001b[1;33m\u001b[0m\u001b[1;33m\u001b[0m\u001b[0m\n\u001b[1;32m--> 572\u001b[1;33m         \u001b[0mself\u001b[0m\u001b[1;33m.\u001b[0m\u001b[0mresults\u001b[0m \u001b[1;33m=\u001b[0m \u001b[0mbatch\u001b[0m\u001b[1;33m(\u001b[0m\u001b[1;33m)\u001b[0m\u001b[1;33m\u001b[0m\u001b[1;33m\u001b[0m\u001b[0m\n\u001b[0m\u001b[0;32m    573\u001b[0m \u001b[1;33m\u001b[0m\u001b[0m\n\u001b[0;32m    574\u001b[0m     \u001b[1;32mdef\u001b[0m \u001b[0mget\u001b[0m\u001b[1;33m(\u001b[0m\u001b[0mself\u001b[0m\u001b[1;33m)\u001b[0m\u001b[1;33m:\u001b[0m\u001b[1;33m\u001b[0m\u001b[1;33m\u001b[0m\u001b[0m\n",
      "\u001b[1;32mc:\\Users\\vasco\\anaconda3\\lib\\site-packages\\joblib\\parallel.py\u001b[0m in \u001b[0;36m__call__\u001b[1;34m(self)\u001b[0m\n\u001b[0;32m    260\u001b[0m         \u001b[1;31m# change the default number of processes to -1\u001b[0m\u001b[1;33m\u001b[0m\u001b[1;33m\u001b[0m\u001b[0m\n\u001b[0;32m    261\u001b[0m         \u001b[1;32mwith\u001b[0m \u001b[0mparallel_backend\u001b[0m\u001b[1;33m(\u001b[0m\u001b[0mself\u001b[0m\u001b[1;33m.\u001b[0m\u001b[0m_backend\u001b[0m\u001b[1;33m,\u001b[0m \u001b[0mn_jobs\u001b[0m\u001b[1;33m=\u001b[0m\u001b[0mself\u001b[0m\u001b[1;33m.\u001b[0m\u001b[0m_n_jobs\u001b[0m\u001b[1;33m)\u001b[0m\u001b[1;33m:\u001b[0m\u001b[1;33m\u001b[0m\u001b[1;33m\u001b[0m\u001b[0m\n\u001b[1;32m--> 262\u001b[1;33m             return [func(*args, **kwargs)\n\u001b[0m\u001b[0;32m    263\u001b[0m                     for func, args, kwargs in self.items]\n\u001b[0;32m    264\u001b[0m \u001b[1;33m\u001b[0m\u001b[0m\n",
      "\u001b[1;32mc:\\Users\\vasco\\anaconda3\\lib\\site-packages\\joblib\\parallel.py\u001b[0m in \u001b[0;36m<listcomp>\u001b[1;34m(.0)\u001b[0m\n\u001b[0;32m    260\u001b[0m         \u001b[1;31m# change the default number of processes to -1\u001b[0m\u001b[1;33m\u001b[0m\u001b[1;33m\u001b[0m\u001b[0m\n\u001b[0;32m    261\u001b[0m         \u001b[1;32mwith\u001b[0m \u001b[0mparallel_backend\u001b[0m\u001b[1;33m(\u001b[0m\u001b[0mself\u001b[0m\u001b[1;33m.\u001b[0m\u001b[0m_backend\u001b[0m\u001b[1;33m,\u001b[0m \u001b[0mn_jobs\u001b[0m\u001b[1;33m=\u001b[0m\u001b[0mself\u001b[0m\u001b[1;33m.\u001b[0m\u001b[0m_n_jobs\u001b[0m\u001b[1;33m)\u001b[0m\u001b[1;33m:\u001b[0m\u001b[1;33m\u001b[0m\u001b[1;33m\u001b[0m\u001b[0m\n\u001b[1;32m--> 262\u001b[1;33m             return [func(*args, **kwargs)\n\u001b[0m\u001b[0;32m    263\u001b[0m                     for func, args, kwargs in self.items]\n\u001b[0;32m    264\u001b[0m \u001b[1;33m\u001b[0m\u001b[0m\n",
      "\u001b[1;32mc:\\Users\\vasco\\anaconda3\\lib\\site-packages\\sklearn\\utils\\fixes.py\u001b[0m in \u001b[0;36m__call__\u001b[1;34m(self, *args, **kwargs)\u001b[0m\n\u001b[0;32m    214\u001b[0m     \u001b[1;32mdef\u001b[0m \u001b[0m__call__\u001b[0m\u001b[1;33m(\u001b[0m\u001b[0mself\u001b[0m\u001b[1;33m,\u001b[0m \u001b[1;33m*\u001b[0m\u001b[0margs\u001b[0m\u001b[1;33m,\u001b[0m \u001b[1;33m**\u001b[0m\u001b[0mkwargs\u001b[0m\u001b[1;33m)\u001b[0m\u001b[1;33m:\u001b[0m\u001b[1;33m\u001b[0m\u001b[1;33m\u001b[0m\u001b[0m\n\u001b[0;32m    215\u001b[0m         \u001b[1;32mwith\u001b[0m \u001b[0mconfig_context\u001b[0m\u001b[1;33m(\u001b[0m\u001b[1;33m**\u001b[0m\u001b[0mself\u001b[0m\u001b[1;33m.\u001b[0m\u001b[0mconfig\u001b[0m\u001b[1;33m)\u001b[0m\u001b[1;33m:\u001b[0m\u001b[1;33m\u001b[0m\u001b[1;33m\u001b[0m\u001b[0m\n\u001b[1;32m--> 216\u001b[1;33m             \u001b[1;32mreturn\u001b[0m \u001b[0mself\u001b[0m\u001b[1;33m.\u001b[0m\u001b[0mfunction\u001b[0m\u001b[1;33m(\u001b[0m\u001b[1;33m*\u001b[0m\u001b[0margs\u001b[0m\u001b[1;33m,\u001b[0m \u001b[1;33m**\u001b[0m\u001b[0mkwargs\u001b[0m\u001b[1;33m)\u001b[0m\u001b[1;33m\u001b[0m\u001b[1;33m\u001b[0m\u001b[0m\n\u001b[0m\u001b[0;32m    217\u001b[0m \u001b[1;33m\u001b[0m\u001b[0m\n\u001b[0;32m    218\u001b[0m \u001b[1;33m\u001b[0m\u001b[0m\n",
      "\u001b[1;32mc:\\Users\\vasco\\anaconda3\\lib\\site-packages\\sklearn\\linear_model\\_logistic.py\u001b[0m in \u001b[0;36m_logistic_regression_path\u001b[1;34m(X, y, pos_class, Cs, fit_intercept, max_iter, tol, verbose, solver, coef, class_weight, dual, penalty, intercept_scaling, multi_class, random_state, check_input, max_squared_sum, sample_weight, l1_ratio)\u001b[0m\n\u001b[0;32m    862\u001b[0m                 \u001b[0mbeta\u001b[0m \u001b[1;33m=\u001b[0m \u001b[1;33m(\u001b[0m\u001b[1;36m1.0\u001b[0m \u001b[1;33m/\u001b[0m \u001b[0mC\u001b[0m\u001b[1;33m)\u001b[0m \u001b[1;33m*\u001b[0m \u001b[0ml1_ratio\u001b[0m\u001b[1;33m\u001b[0m\u001b[1;33m\u001b[0m\u001b[0m\n\u001b[0;32m    863\u001b[0m \u001b[1;33m\u001b[0m\u001b[0m\n\u001b[1;32m--> 864\u001b[1;33m             w0, n_iter_i, warm_start_sag = sag_solver(\n\u001b[0m\u001b[0;32m    865\u001b[0m                 \u001b[0mX\u001b[0m\u001b[1;33m,\u001b[0m\u001b[1;33m\u001b[0m\u001b[1;33m\u001b[0m\u001b[0m\n\u001b[0;32m    866\u001b[0m                 \u001b[0mtarget\u001b[0m\u001b[1;33m,\u001b[0m\u001b[1;33m\u001b[0m\u001b[1;33m\u001b[0m\u001b[0m\n",
      "\u001b[1;32mc:\\Users\\vasco\\anaconda3\\lib\\site-packages\\sklearn\\linear_model\\_sag.py\u001b[0m in \u001b[0;36msag_solver\u001b[1;34m(X, y, sample_weight, loss, alpha, beta, max_iter, tol, verbose, random_state, check_input, max_squared_sum, warm_start_mem, is_saga)\u001b[0m\n\u001b[0;32m    325\u001b[0m \u001b[1;33m\u001b[0m\u001b[0m\n\u001b[0;32m    326\u001b[0m     \u001b[0msag\u001b[0m \u001b[1;33m=\u001b[0m \u001b[0msag64\u001b[0m \u001b[1;32mif\u001b[0m \u001b[0mX\u001b[0m\u001b[1;33m.\u001b[0m\u001b[0mdtype\u001b[0m \u001b[1;33m==\u001b[0m \u001b[0mnp\u001b[0m\u001b[1;33m.\u001b[0m\u001b[0mfloat64\u001b[0m \u001b[1;32melse\u001b[0m \u001b[0msag32\u001b[0m\u001b[1;33m\u001b[0m\u001b[1;33m\u001b[0m\u001b[0m\n\u001b[1;32m--> 327\u001b[1;33m     num_seen, n_iter_ = sag(\n\u001b[0m\u001b[0;32m    328\u001b[0m         \u001b[0mdataset\u001b[0m\u001b[1;33m,\u001b[0m\u001b[1;33m\u001b[0m\u001b[1;33m\u001b[0m\u001b[0m\n\u001b[0;32m    329\u001b[0m         \u001b[0mcoef_init\u001b[0m\u001b[1;33m,\u001b[0m\u001b[1;33m\u001b[0m\u001b[1;33m\u001b[0m\u001b[0m\n",
      "\u001b[1;31mKeyboardInterrupt\u001b[0m: "
     ]
    }
   ],
   "source": [
    "reg = LogisticRegression()\n",
    "print(reg.get_params().keys())\n",
    "grid = GridSearchCV(reg, param_grid, cv=5, scoring='accuracy', return_train_score=True)\n",
    "grid.fit(X_train, Y_train.values.ravel())\n",
    "predictions = reg.predict(X_test)"
   ]
  },
  {
   "cell_type": "markdown",
   "metadata": {},
   "source": [
    "##### Modelo final"
   ]
  },
  {
   "cell_type": "code",
   "execution_count": null,
   "metadata": {},
   "outputs": [
    {
     "name": "stdout",
     "output_type": "stream",
     "text": [
      "Fitting 3 folds for each of 15 candidates, totalling 45 fits\n"
     ]
    },
    {
     "name": "stderr",
     "output_type": "stream",
     "text": [
      "c:\\Users\\vasco\\anaconda3\\lib\\site-packages\\sklearn\\utils\\validation.py:993: DataConversionWarning: A column-vector y was passed when a 1d array was expected. Please change the shape of y to (n_samples, ), for example using ravel().\n",
      "  y = column_or_1d(y, warn=True)\n"
     ]
    },
    {
     "ename": "KeyboardInterrupt",
     "evalue": "",
     "output_type": "error",
     "traceback": [
      "\u001b[1;31m---------------------------------------------------------------------------\u001b[0m",
      "\u001b[1;31mKeyboardInterrupt\u001b[0m                         Traceback (most recent call last)",
      "\u001b[1;32m~\\AppData\\Local\\Temp\\ipykernel_17836\\3600842068.py\u001b[0m in \u001b[0;36m<module>\u001b[1;34m\u001b[0m\n\u001b[0;32m      3\u001b[0m \u001b[0mlogreg\u001b[0m\u001b[1;33m=\u001b[0m\u001b[0mLogisticRegression\u001b[0m\u001b[1;33m(\u001b[0m\u001b[1;33m)\u001b[0m\u001b[1;33m\u001b[0m\u001b[1;33m\u001b[0m\u001b[0m\n\u001b[0;32m      4\u001b[0m \u001b[0mgrid\u001b[0m \u001b[1;33m=\u001b[0m \u001b[0mGridSearchCV\u001b[0m\u001b[1;33m(\u001b[0m\u001b[0mestimator\u001b[0m \u001b[1;33m=\u001b[0m \u001b[0mlogreg\u001b[0m\u001b[1;33m,\u001b[0m \u001b[0mparam_grid\u001b[0m \u001b[1;33m=\u001b[0m \u001b[0mparam_grid\u001b[0m\u001b[1;33m,\u001b[0m \u001b[0mcv\u001b[0m \u001b[1;33m=\u001b[0m \u001b[1;36m3\u001b[0m\u001b[1;33m,\u001b[0m \u001b[0mverbose\u001b[0m \u001b[1;33m=\u001b[0m \u001b[1;36m1\u001b[0m\u001b[1;33m)\u001b[0m\u001b[1;33m\u001b[0m\u001b[1;33m\u001b[0m\u001b[0m\n\u001b[1;32m----> 5\u001b[1;33m \u001b[0mgrid\u001b[0m\u001b[1;33m.\u001b[0m\u001b[0mfit\u001b[0m\u001b[1;33m(\u001b[0m\u001b[0mX_train\u001b[0m\u001b[1;33m,\u001b[0m \u001b[0mY_train\u001b[0m\u001b[1;33m)\u001b[0m\u001b[1;33m\u001b[0m\u001b[1;33m\u001b[0m\u001b[0m\n\u001b[0m\u001b[0;32m      6\u001b[0m \u001b[0mprint\u001b[0m\u001b[1;33m(\u001b[0m\u001b[0mgrid\u001b[0m\u001b[1;33m.\u001b[0m\u001b[0mbest_params_\u001b[0m\u001b[1;33m)\u001b[0m\u001b[1;33m\u001b[0m\u001b[1;33m\u001b[0m\u001b[0m\n\u001b[0;32m      7\u001b[0m \u001b[0mprint\u001b[0m\u001b[1;33m(\u001b[0m\u001b[0mgrid\u001b[0m\u001b[1;33m.\u001b[0m\u001b[0mbest_score_\u001b[0m\u001b[1;33m)\u001b[0m\u001b[1;33m\u001b[0m\u001b[1;33m\u001b[0m\u001b[0m\n",
      "\u001b[1;32mc:\\Users\\vasco\\anaconda3\\lib\\site-packages\\sklearn\\model_selection\\_search.py\u001b[0m in \u001b[0;36mfit\u001b[1;34m(self, X, y, groups, **fit_params)\u001b[0m\n\u001b[0;32m    889\u001b[0m                 \u001b[1;32mreturn\u001b[0m \u001b[0mresults\u001b[0m\u001b[1;33m\u001b[0m\u001b[1;33m\u001b[0m\u001b[0m\n\u001b[0;32m    890\u001b[0m \u001b[1;33m\u001b[0m\u001b[0m\n\u001b[1;32m--> 891\u001b[1;33m             \u001b[0mself\u001b[0m\u001b[1;33m.\u001b[0m\u001b[0m_run_search\u001b[0m\u001b[1;33m(\u001b[0m\u001b[0mevaluate_candidates\u001b[0m\u001b[1;33m)\u001b[0m\u001b[1;33m\u001b[0m\u001b[1;33m\u001b[0m\u001b[0m\n\u001b[0m\u001b[0;32m    892\u001b[0m \u001b[1;33m\u001b[0m\u001b[0m\n\u001b[0;32m    893\u001b[0m             \u001b[1;31m# multimetric is determined here because in the case of a callable\u001b[0m\u001b[1;33m\u001b[0m\u001b[1;33m\u001b[0m\u001b[0m\n",
      "\u001b[1;32mc:\\Users\\vasco\\anaconda3\\lib\\site-packages\\sklearn\\model_selection\\_search.py\u001b[0m in \u001b[0;36m_run_search\u001b[1;34m(self, evaluate_candidates)\u001b[0m\n\u001b[0;32m   1390\u001b[0m     \u001b[1;32mdef\u001b[0m \u001b[0m_run_search\u001b[0m\u001b[1;33m(\u001b[0m\u001b[0mself\u001b[0m\u001b[1;33m,\u001b[0m \u001b[0mevaluate_candidates\u001b[0m\u001b[1;33m)\u001b[0m\u001b[1;33m:\u001b[0m\u001b[1;33m\u001b[0m\u001b[1;33m\u001b[0m\u001b[0m\n\u001b[0;32m   1391\u001b[0m         \u001b[1;34m\"\"\"Search all candidates in param_grid\"\"\"\u001b[0m\u001b[1;33m\u001b[0m\u001b[1;33m\u001b[0m\u001b[0m\n\u001b[1;32m-> 1392\u001b[1;33m         \u001b[0mevaluate_candidates\u001b[0m\u001b[1;33m(\u001b[0m\u001b[0mParameterGrid\u001b[0m\u001b[1;33m(\u001b[0m\u001b[0mself\u001b[0m\u001b[1;33m.\u001b[0m\u001b[0mparam_grid\u001b[0m\u001b[1;33m)\u001b[0m\u001b[1;33m)\u001b[0m\u001b[1;33m\u001b[0m\u001b[1;33m\u001b[0m\u001b[0m\n\u001b[0m\u001b[0;32m   1393\u001b[0m \u001b[1;33m\u001b[0m\u001b[0m\n\u001b[0;32m   1394\u001b[0m \u001b[1;33m\u001b[0m\u001b[0m\n",
      "\u001b[1;32mc:\\Users\\vasco\\anaconda3\\lib\\site-packages\\sklearn\\model_selection\\_search.py\u001b[0m in \u001b[0;36mevaluate_candidates\u001b[1;34m(candidate_params, cv, more_results)\u001b[0m\n\u001b[0;32m    836\u001b[0m                     )\n\u001b[0;32m    837\u001b[0m \u001b[1;33m\u001b[0m\u001b[0m\n\u001b[1;32m--> 838\u001b[1;33m                 out = parallel(\n\u001b[0m\u001b[0;32m    839\u001b[0m                     delayed(_fit_and_score)(\n\u001b[0;32m    840\u001b[0m                         \u001b[0mclone\u001b[0m\u001b[1;33m(\u001b[0m\u001b[0mbase_estimator\u001b[0m\u001b[1;33m)\u001b[0m\u001b[1;33m,\u001b[0m\u001b[1;33m\u001b[0m\u001b[1;33m\u001b[0m\u001b[0m\n",
      "\u001b[1;32mc:\\Users\\vasco\\anaconda3\\lib\\site-packages\\joblib\\parallel.py\u001b[0m in \u001b[0;36m__call__\u001b[1;34m(self, iterable)\u001b[0m\n\u001b[0;32m   1041\u001b[0m             \u001b[1;31m# remaining jobs.\u001b[0m\u001b[1;33m\u001b[0m\u001b[1;33m\u001b[0m\u001b[0m\n\u001b[0;32m   1042\u001b[0m             \u001b[0mself\u001b[0m\u001b[1;33m.\u001b[0m\u001b[0m_iterating\u001b[0m \u001b[1;33m=\u001b[0m \u001b[1;32mFalse\u001b[0m\u001b[1;33m\u001b[0m\u001b[1;33m\u001b[0m\u001b[0m\n\u001b[1;32m-> 1043\u001b[1;33m             \u001b[1;32mif\u001b[0m \u001b[0mself\u001b[0m\u001b[1;33m.\u001b[0m\u001b[0mdispatch_one_batch\u001b[0m\u001b[1;33m(\u001b[0m\u001b[0miterator\u001b[0m\u001b[1;33m)\u001b[0m\u001b[1;33m:\u001b[0m\u001b[1;33m\u001b[0m\u001b[1;33m\u001b[0m\u001b[0m\n\u001b[0m\u001b[0;32m   1044\u001b[0m                 \u001b[0mself\u001b[0m\u001b[1;33m.\u001b[0m\u001b[0m_iterating\u001b[0m \u001b[1;33m=\u001b[0m \u001b[0mself\u001b[0m\u001b[1;33m.\u001b[0m\u001b[0m_original_iterator\u001b[0m \u001b[1;32mis\u001b[0m \u001b[1;32mnot\u001b[0m \u001b[1;32mNone\u001b[0m\u001b[1;33m\u001b[0m\u001b[1;33m\u001b[0m\u001b[0m\n\u001b[0;32m   1045\u001b[0m \u001b[1;33m\u001b[0m\u001b[0m\n",
      "\u001b[1;32mc:\\Users\\vasco\\anaconda3\\lib\\site-packages\\joblib\\parallel.py\u001b[0m in \u001b[0;36mdispatch_one_batch\u001b[1;34m(self, iterator)\u001b[0m\n\u001b[0;32m    859\u001b[0m                 \u001b[1;32mreturn\u001b[0m \u001b[1;32mFalse\u001b[0m\u001b[1;33m\u001b[0m\u001b[1;33m\u001b[0m\u001b[0m\n\u001b[0;32m    860\u001b[0m             \u001b[1;32melse\u001b[0m\u001b[1;33m:\u001b[0m\u001b[1;33m\u001b[0m\u001b[1;33m\u001b[0m\u001b[0m\n\u001b[1;32m--> 861\u001b[1;33m                 \u001b[0mself\u001b[0m\u001b[1;33m.\u001b[0m\u001b[0m_dispatch\u001b[0m\u001b[1;33m(\u001b[0m\u001b[0mtasks\u001b[0m\u001b[1;33m)\u001b[0m\u001b[1;33m\u001b[0m\u001b[1;33m\u001b[0m\u001b[0m\n\u001b[0m\u001b[0;32m    862\u001b[0m                 \u001b[1;32mreturn\u001b[0m \u001b[1;32mTrue\u001b[0m\u001b[1;33m\u001b[0m\u001b[1;33m\u001b[0m\u001b[0m\n\u001b[0;32m    863\u001b[0m \u001b[1;33m\u001b[0m\u001b[0m\n",
      "\u001b[1;32mc:\\Users\\vasco\\anaconda3\\lib\\site-packages\\joblib\\parallel.py\u001b[0m in \u001b[0;36m_dispatch\u001b[1;34m(self, batch)\u001b[0m\n\u001b[0;32m    777\u001b[0m         \u001b[1;32mwith\u001b[0m \u001b[0mself\u001b[0m\u001b[1;33m.\u001b[0m\u001b[0m_lock\u001b[0m\u001b[1;33m:\u001b[0m\u001b[1;33m\u001b[0m\u001b[1;33m\u001b[0m\u001b[0m\n\u001b[0;32m    778\u001b[0m             \u001b[0mjob_idx\u001b[0m \u001b[1;33m=\u001b[0m \u001b[0mlen\u001b[0m\u001b[1;33m(\u001b[0m\u001b[0mself\u001b[0m\u001b[1;33m.\u001b[0m\u001b[0m_jobs\u001b[0m\u001b[1;33m)\u001b[0m\u001b[1;33m\u001b[0m\u001b[1;33m\u001b[0m\u001b[0m\n\u001b[1;32m--> 779\u001b[1;33m             \u001b[0mjob\u001b[0m \u001b[1;33m=\u001b[0m \u001b[0mself\u001b[0m\u001b[1;33m.\u001b[0m\u001b[0m_backend\u001b[0m\u001b[1;33m.\u001b[0m\u001b[0mapply_async\u001b[0m\u001b[1;33m(\u001b[0m\u001b[0mbatch\u001b[0m\u001b[1;33m,\u001b[0m \u001b[0mcallback\u001b[0m\u001b[1;33m=\u001b[0m\u001b[0mcb\u001b[0m\u001b[1;33m)\u001b[0m\u001b[1;33m\u001b[0m\u001b[1;33m\u001b[0m\u001b[0m\n\u001b[0m\u001b[0;32m    780\u001b[0m             \u001b[1;31m# A job can complete so quickly than its callback is\u001b[0m\u001b[1;33m\u001b[0m\u001b[1;33m\u001b[0m\u001b[0m\n\u001b[0;32m    781\u001b[0m             \u001b[1;31m# called before we get here, causing self._jobs to\u001b[0m\u001b[1;33m\u001b[0m\u001b[1;33m\u001b[0m\u001b[0m\n",
      "\u001b[1;32mc:\\Users\\vasco\\anaconda3\\lib\\site-packages\\joblib\\_parallel_backends.py\u001b[0m in \u001b[0;36mapply_async\u001b[1;34m(self, func, callback)\u001b[0m\n\u001b[0;32m    206\u001b[0m     \u001b[1;32mdef\u001b[0m \u001b[0mapply_async\u001b[0m\u001b[1;33m(\u001b[0m\u001b[0mself\u001b[0m\u001b[1;33m,\u001b[0m \u001b[0mfunc\u001b[0m\u001b[1;33m,\u001b[0m \u001b[0mcallback\u001b[0m\u001b[1;33m=\u001b[0m\u001b[1;32mNone\u001b[0m\u001b[1;33m)\u001b[0m\u001b[1;33m:\u001b[0m\u001b[1;33m\u001b[0m\u001b[1;33m\u001b[0m\u001b[0m\n\u001b[0;32m    207\u001b[0m         \u001b[1;34m\"\"\"Schedule a func to be run\"\"\"\u001b[0m\u001b[1;33m\u001b[0m\u001b[1;33m\u001b[0m\u001b[0m\n\u001b[1;32m--> 208\u001b[1;33m         \u001b[0mresult\u001b[0m \u001b[1;33m=\u001b[0m \u001b[0mImmediateResult\u001b[0m\u001b[1;33m(\u001b[0m\u001b[0mfunc\u001b[0m\u001b[1;33m)\u001b[0m\u001b[1;33m\u001b[0m\u001b[1;33m\u001b[0m\u001b[0m\n\u001b[0m\u001b[0;32m    209\u001b[0m         \u001b[1;32mif\u001b[0m \u001b[0mcallback\u001b[0m\u001b[1;33m:\u001b[0m\u001b[1;33m\u001b[0m\u001b[1;33m\u001b[0m\u001b[0m\n\u001b[0;32m    210\u001b[0m             \u001b[0mcallback\u001b[0m\u001b[1;33m(\u001b[0m\u001b[0mresult\u001b[0m\u001b[1;33m)\u001b[0m\u001b[1;33m\u001b[0m\u001b[1;33m\u001b[0m\u001b[0m\n",
      "\u001b[1;32mc:\\Users\\vasco\\anaconda3\\lib\\site-packages\\joblib\\_parallel_backends.py\u001b[0m in \u001b[0;36m__init__\u001b[1;34m(self, batch)\u001b[0m\n\u001b[0;32m    570\u001b[0m         \u001b[1;31m# Don't delay the application, to avoid keeping the input\u001b[0m\u001b[1;33m\u001b[0m\u001b[1;33m\u001b[0m\u001b[0m\n\u001b[0;32m    571\u001b[0m         \u001b[1;31m# arguments in memory\u001b[0m\u001b[1;33m\u001b[0m\u001b[1;33m\u001b[0m\u001b[0m\n\u001b[1;32m--> 572\u001b[1;33m         \u001b[0mself\u001b[0m\u001b[1;33m.\u001b[0m\u001b[0mresults\u001b[0m \u001b[1;33m=\u001b[0m \u001b[0mbatch\u001b[0m\u001b[1;33m(\u001b[0m\u001b[1;33m)\u001b[0m\u001b[1;33m\u001b[0m\u001b[1;33m\u001b[0m\u001b[0m\n\u001b[0m\u001b[0;32m    573\u001b[0m \u001b[1;33m\u001b[0m\u001b[0m\n\u001b[0;32m    574\u001b[0m     \u001b[1;32mdef\u001b[0m \u001b[0mget\u001b[0m\u001b[1;33m(\u001b[0m\u001b[0mself\u001b[0m\u001b[1;33m)\u001b[0m\u001b[1;33m:\u001b[0m\u001b[1;33m\u001b[0m\u001b[1;33m\u001b[0m\u001b[0m\n",
      "\u001b[1;32mc:\\Users\\vasco\\anaconda3\\lib\\site-packages\\joblib\\parallel.py\u001b[0m in \u001b[0;36m__call__\u001b[1;34m(self)\u001b[0m\n\u001b[0;32m    260\u001b[0m         \u001b[1;31m# change the default number of processes to -1\u001b[0m\u001b[1;33m\u001b[0m\u001b[1;33m\u001b[0m\u001b[0m\n\u001b[0;32m    261\u001b[0m         \u001b[1;32mwith\u001b[0m \u001b[0mparallel_backend\u001b[0m\u001b[1;33m(\u001b[0m\u001b[0mself\u001b[0m\u001b[1;33m.\u001b[0m\u001b[0m_backend\u001b[0m\u001b[1;33m,\u001b[0m \u001b[0mn_jobs\u001b[0m\u001b[1;33m=\u001b[0m\u001b[0mself\u001b[0m\u001b[1;33m.\u001b[0m\u001b[0m_n_jobs\u001b[0m\u001b[1;33m)\u001b[0m\u001b[1;33m:\u001b[0m\u001b[1;33m\u001b[0m\u001b[1;33m\u001b[0m\u001b[0m\n\u001b[1;32m--> 262\u001b[1;33m             return [func(*args, **kwargs)\n\u001b[0m\u001b[0;32m    263\u001b[0m                     for func, args, kwargs in self.items]\n\u001b[0;32m    264\u001b[0m \u001b[1;33m\u001b[0m\u001b[0m\n",
      "\u001b[1;32mc:\\Users\\vasco\\anaconda3\\lib\\site-packages\\joblib\\parallel.py\u001b[0m in \u001b[0;36m<listcomp>\u001b[1;34m(.0)\u001b[0m\n\u001b[0;32m    260\u001b[0m         \u001b[1;31m# change the default number of processes to -1\u001b[0m\u001b[1;33m\u001b[0m\u001b[1;33m\u001b[0m\u001b[0m\n\u001b[0;32m    261\u001b[0m         \u001b[1;32mwith\u001b[0m \u001b[0mparallel_backend\u001b[0m\u001b[1;33m(\u001b[0m\u001b[0mself\u001b[0m\u001b[1;33m.\u001b[0m\u001b[0m_backend\u001b[0m\u001b[1;33m,\u001b[0m \u001b[0mn_jobs\u001b[0m\u001b[1;33m=\u001b[0m\u001b[0mself\u001b[0m\u001b[1;33m.\u001b[0m\u001b[0m_n_jobs\u001b[0m\u001b[1;33m)\u001b[0m\u001b[1;33m:\u001b[0m\u001b[1;33m\u001b[0m\u001b[1;33m\u001b[0m\u001b[0m\n\u001b[1;32m--> 262\u001b[1;33m             return [func(*args, **kwargs)\n\u001b[0m\u001b[0;32m    263\u001b[0m                     for func, args, kwargs in self.items]\n\u001b[0;32m    264\u001b[0m \u001b[1;33m\u001b[0m\u001b[0m\n",
      "\u001b[1;32mc:\\Users\\vasco\\anaconda3\\lib\\site-packages\\sklearn\\utils\\fixes.py\u001b[0m in \u001b[0;36m__call__\u001b[1;34m(self, *args, **kwargs)\u001b[0m\n\u001b[0;32m    214\u001b[0m     \u001b[1;32mdef\u001b[0m \u001b[0m__call__\u001b[0m\u001b[1;33m(\u001b[0m\u001b[0mself\u001b[0m\u001b[1;33m,\u001b[0m \u001b[1;33m*\u001b[0m\u001b[0margs\u001b[0m\u001b[1;33m,\u001b[0m \u001b[1;33m**\u001b[0m\u001b[0mkwargs\u001b[0m\u001b[1;33m)\u001b[0m\u001b[1;33m:\u001b[0m\u001b[1;33m\u001b[0m\u001b[1;33m\u001b[0m\u001b[0m\n\u001b[0;32m    215\u001b[0m         \u001b[1;32mwith\u001b[0m \u001b[0mconfig_context\u001b[0m\u001b[1;33m(\u001b[0m\u001b[1;33m**\u001b[0m\u001b[0mself\u001b[0m\u001b[1;33m.\u001b[0m\u001b[0mconfig\u001b[0m\u001b[1;33m)\u001b[0m\u001b[1;33m:\u001b[0m\u001b[1;33m\u001b[0m\u001b[1;33m\u001b[0m\u001b[0m\n\u001b[1;32m--> 216\u001b[1;33m             \u001b[1;32mreturn\u001b[0m \u001b[0mself\u001b[0m\u001b[1;33m.\u001b[0m\u001b[0mfunction\u001b[0m\u001b[1;33m(\u001b[0m\u001b[1;33m*\u001b[0m\u001b[0margs\u001b[0m\u001b[1;33m,\u001b[0m \u001b[1;33m**\u001b[0m\u001b[0mkwargs\u001b[0m\u001b[1;33m)\u001b[0m\u001b[1;33m\u001b[0m\u001b[1;33m\u001b[0m\u001b[0m\n\u001b[0m\u001b[0;32m    217\u001b[0m \u001b[1;33m\u001b[0m\u001b[0m\n\u001b[0;32m    218\u001b[0m \u001b[1;33m\u001b[0m\u001b[0m\n",
      "\u001b[1;32mc:\\Users\\vasco\\anaconda3\\lib\\site-packages\\sklearn\\model_selection\\_validation.py\u001b[0m in \u001b[0;36m_fit_and_score\u001b[1;34m(estimator, X, y, scorer, train, test, verbose, parameters, fit_params, return_train_score, return_parameters, return_n_test_samples, return_times, return_estimator, split_progress, candidate_progress, error_score)\u001b[0m\n\u001b[0;32m    678\u001b[0m             \u001b[0mestimator\u001b[0m\u001b[1;33m.\u001b[0m\u001b[0mfit\u001b[0m\u001b[1;33m(\u001b[0m\u001b[0mX_train\u001b[0m\u001b[1;33m,\u001b[0m \u001b[1;33m**\u001b[0m\u001b[0mfit_params\u001b[0m\u001b[1;33m)\u001b[0m\u001b[1;33m\u001b[0m\u001b[1;33m\u001b[0m\u001b[0m\n\u001b[0;32m    679\u001b[0m         \u001b[1;32melse\u001b[0m\u001b[1;33m:\u001b[0m\u001b[1;33m\u001b[0m\u001b[1;33m\u001b[0m\u001b[0m\n\u001b[1;32m--> 680\u001b[1;33m             \u001b[0mestimator\u001b[0m\u001b[1;33m.\u001b[0m\u001b[0mfit\u001b[0m\u001b[1;33m(\u001b[0m\u001b[0mX_train\u001b[0m\u001b[1;33m,\u001b[0m \u001b[0my_train\u001b[0m\u001b[1;33m,\u001b[0m \u001b[1;33m**\u001b[0m\u001b[0mfit_params\u001b[0m\u001b[1;33m)\u001b[0m\u001b[1;33m\u001b[0m\u001b[1;33m\u001b[0m\u001b[0m\n\u001b[0m\u001b[0;32m    681\u001b[0m \u001b[1;33m\u001b[0m\u001b[0m\n\u001b[0;32m    682\u001b[0m     \u001b[1;32mexcept\u001b[0m \u001b[0mException\u001b[0m\u001b[1;33m:\u001b[0m\u001b[1;33m\u001b[0m\u001b[1;33m\u001b[0m\u001b[0m\n",
      "\u001b[1;32mc:\\Users\\vasco\\anaconda3\\lib\\site-packages\\sklearn\\linear_model\\_logistic.py\u001b[0m in \u001b[0;36mfit\u001b[1;34m(self, X, y, sample_weight)\u001b[0m\n\u001b[0;32m   1587\u001b[0m         \u001b[1;32melse\u001b[0m\u001b[1;33m:\u001b[0m\u001b[1;33m\u001b[0m\u001b[1;33m\u001b[0m\u001b[0m\n\u001b[0;32m   1588\u001b[0m             \u001b[0mprefer\u001b[0m \u001b[1;33m=\u001b[0m \u001b[1;34m\"processes\"\u001b[0m\u001b[1;33m\u001b[0m\u001b[1;33m\u001b[0m\u001b[0m\n\u001b[1;32m-> 1589\u001b[1;33m         fold_coefs_ = Parallel(\n\u001b[0m\u001b[0;32m   1590\u001b[0m             \u001b[0mn_jobs\u001b[0m\u001b[1;33m=\u001b[0m\u001b[0mself\u001b[0m\u001b[1;33m.\u001b[0m\u001b[0mn_jobs\u001b[0m\u001b[1;33m,\u001b[0m\u001b[1;33m\u001b[0m\u001b[1;33m\u001b[0m\u001b[0m\n\u001b[0;32m   1591\u001b[0m             \u001b[0mverbose\u001b[0m\u001b[1;33m=\u001b[0m\u001b[0mself\u001b[0m\u001b[1;33m.\u001b[0m\u001b[0mverbose\u001b[0m\u001b[1;33m,\u001b[0m\u001b[1;33m\u001b[0m\u001b[1;33m\u001b[0m\u001b[0m\n",
      "\u001b[1;32mc:\\Users\\vasco\\anaconda3\\lib\\site-packages\\joblib\\parallel.py\u001b[0m in \u001b[0;36m__call__\u001b[1;34m(self, iterable)\u001b[0m\n\u001b[0;32m   1041\u001b[0m             \u001b[1;31m# remaining jobs.\u001b[0m\u001b[1;33m\u001b[0m\u001b[1;33m\u001b[0m\u001b[0m\n\u001b[0;32m   1042\u001b[0m             \u001b[0mself\u001b[0m\u001b[1;33m.\u001b[0m\u001b[0m_iterating\u001b[0m \u001b[1;33m=\u001b[0m \u001b[1;32mFalse\u001b[0m\u001b[1;33m\u001b[0m\u001b[1;33m\u001b[0m\u001b[0m\n\u001b[1;32m-> 1043\u001b[1;33m             \u001b[1;32mif\u001b[0m \u001b[0mself\u001b[0m\u001b[1;33m.\u001b[0m\u001b[0mdispatch_one_batch\u001b[0m\u001b[1;33m(\u001b[0m\u001b[0miterator\u001b[0m\u001b[1;33m)\u001b[0m\u001b[1;33m:\u001b[0m\u001b[1;33m\u001b[0m\u001b[1;33m\u001b[0m\u001b[0m\n\u001b[0m\u001b[0;32m   1044\u001b[0m                 \u001b[0mself\u001b[0m\u001b[1;33m.\u001b[0m\u001b[0m_iterating\u001b[0m \u001b[1;33m=\u001b[0m \u001b[0mself\u001b[0m\u001b[1;33m.\u001b[0m\u001b[0m_original_iterator\u001b[0m \u001b[1;32mis\u001b[0m \u001b[1;32mnot\u001b[0m \u001b[1;32mNone\u001b[0m\u001b[1;33m\u001b[0m\u001b[1;33m\u001b[0m\u001b[0m\n\u001b[0;32m   1045\u001b[0m \u001b[1;33m\u001b[0m\u001b[0m\n",
      "\u001b[1;32mc:\\Users\\vasco\\anaconda3\\lib\\site-packages\\joblib\\parallel.py\u001b[0m in \u001b[0;36mdispatch_one_batch\u001b[1;34m(self, iterator)\u001b[0m\n\u001b[0;32m    859\u001b[0m                 \u001b[1;32mreturn\u001b[0m \u001b[1;32mFalse\u001b[0m\u001b[1;33m\u001b[0m\u001b[1;33m\u001b[0m\u001b[0m\n\u001b[0;32m    860\u001b[0m             \u001b[1;32melse\u001b[0m\u001b[1;33m:\u001b[0m\u001b[1;33m\u001b[0m\u001b[1;33m\u001b[0m\u001b[0m\n\u001b[1;32m--> 861\u001b[1;33m                 \u001b[0mself\u001b[0m\u001b[1;33m.\u001b[0m\u001b[0m_dispatch\u001b[0m\u001b[1;33m(\u001b[0m\u001b[0mtasks\u001b[0m\u001b[1;33m)\u001b[0m\u001b[1;33m\u001b[0m\u001b[1;33m\u001b[0m\u001b[0m\n\u001b[0m\u001b[0;32m    862\u001b[0m                 \u001b[1;32mreturn\u001b[0m \u001b[1;32mTrue\u001b[0m\u001b[1;33m\u001b[0m\u001b[1;33m\u001b[0m\u001b[0m\n\u001b[0;32m    863\u001b[0m \u001b[1;33m\u001b[0m\u001b[0m\n",
      "\u001b[1;32mc:\\Users\\vasco\\anaconda3\\lib\\site-packages\\joblib\\parallel.py\u001b[0m in \u001b[0;36m_dispatch\u001b[1;34m(self, batch)\u001b[0m\n\u001b[0;32m    777\u001b[0m         \u001b[1;32mwith\u001b[0m \u001b[0mself\u001b[0m\u001b[1;33m.\u001b[0m\u001b[0m_lock\u001b[0m\u001b[1;33m:\u001b[0m\u001b[1;33m\u001b[0m\u001b[1;33m\u001b[0m\u001b[0m\n\u001b[0;32m    778\u001b[0m             \u001b[0mjob_idx\u001b[0m \u001b[1;33m=\u001b[0m \u001b[0mlen\u001b[0m\u001b[1;33m(\u001b[0m\u001b[0mself\u001b[0m\u001b[1;33m.\u001b[0m\u001b[0m_jobs\u001b[0m\u001b[1;33m)\u001b[0m\u001b[1;33m\u001b[0m\u001b[1;33m\u001b[0m\u001b[0m\n\u001b[1;32m--> 779\u001b[1;33m             \u001b[0mjob\u001b[0m \u001b[1;33m=\u001b[0m \u001b[0mself\u001b[0m\u001b[1;33m.\u001b[0m\u001b[0m_backend\u001b[0m\u001b[1;33m.\u001b[0m\u001b[0mapply_async\u001b[0m\u001b[1;33m(\u001b[0m\u001b[0mbatch\u001b[0m\u001b[1;33m,\u001b[0m \u001b[0mcallback\u001b[0m\u001b[1;33m=\u001b[0m\u001b[0mcb\u001b[0m\u001b[1;33m)\u001b[0m\u001b[1;33m\u001b[0m\u001b[1;33m\u001b[0m\u001b[0m\n\u001b[0m\u001b[0;32m    780\u001b[0m             \u001b[1;31m# A job can complete so quickly than its callback is\u001b[0m\u001b[1;33m\u001b[0m\u001b[1;33m\u001b[0m\u001b[0m\n\u001b[0;32m    781\u001b[0m             \u001b[1;31m# called before we get here, causing self._jobs to\u001b[0m\u001b[1;33m\u001b[0m\u001b[1;33m\u001b[0m\u001b[0m\n",
      "\u001b[1;32mc:\\Users\\vasco\\anaconda3\\lib\\site-packages\\joblib\\_parallel_backends.py\u001b[0m in \u001b[0;36mapply_async\u001b[1;34m(self, func, callback)\u001b[0m\n\u001b[0;32m    206\u001b[0m     \u001b[1;32mdef\u001b[0m \u001b[0mapply_async\u001b[0m\u001b[1;33m(\u001b[0m\u001b[0mself\u001b[0m\u001b[1;33m,\u001b[0m \u001b[0mfunc\u001b[0m\u001b[1;33m,\u001b[0m \u001b[0mcallback\u001b[0m\u001b[1;33m=\u001b[0m\u001b[1;32mNone\u001b[0m\u001b[1;33m)\u001b[0m\u001b[1;33m:\u001b[0m\u001b[1;33m\u001b[0m\u001b[1;33m\u001b[0m\u001b[0m\n\u001b[0;32m    207\u001b[0m         \u001b[1;34m\"\"\"Schedule a func to be run\"\"\"\u001b[0m\u001b[1;33m\u001b[0m\u001b[1;33m\u001b[0m\u001b[0m\n\u001b[1;32m--> 208\u001b[1;33m         \u001b[0mresult\u001b[0m \u001b[1;33m=\u001b[0m \u001b[0mImmediateResult\u001b[0m\u001b[1;33m(\u001b[0m\u001b[0mfunc\u001b[0m\u001b[1;33m)\u001b[0m\u001b[1;33m\u001b[0m\u001b[1;33m\u001b[0m\u001b[0m\n\u001b[0m\u001b[0;32m    209\u001b[0m         \u001b[1;32mif\u001b[0m \u001b[0mcallback\u001b[0m\u001b[1;33m:\u001b[0m\u001b[1;33m\u001b[0m\u001b[1;33m\u001b[0m\u001b[0m\n\u001b[0;32m    210\u001b[0m             \u001b[0mcallback\u001b[0m\u001b[1;33m(\u001b[0m\u001b[0mresult\u001b[0m\u001b[1;33m)\u001b[0m\u001b[1;33m\u001b[0m\u001b[1;33m\u001b[0m\u001b[0m\n",
      "\u001b[1;32mc:\\Users\\vasco\\anaconda3\\lib\\site-packages\\joblib\\_parallel_backends.py\u001b[0m in \u001b[0;36m__init__\u001b[1;34m(self, batch)\u001b[0m\n\u001b[0;32m    570\u001b[0m         \u001b[1;31m# Don't delay the application, to avoid keeping the input\u001b[0m\u001b[1;33m\u001b[0m\u001b[1;33m\u001b[0m\u001b[0m\n\u001b[0;32m    571\u001b[0m         \u001b[1;31m# arguments in memory\u001b[0m\u001b[1;33m\u001b[0m\u001b[1;33m\u001b[0m\u001b[0m\n\u001b[1;32m--> 572\u001b[1;33m         \u001b[0mself\u001b[0m\u001b[1;33m.\u001b[0m\u001b[0mresults\u001b[0m \u001b[1;33m=\u001b[0m \u001b[0mbatch\u001b[0m\u001b[1;33m(\u001b[0m\u001b[1;33m)\u001b[0m\u001b[1;33m\u001b[0m\u001b[1;33m\u001b[0m\u001b[0m\n\u001b[0m\u001b[0;32m    573\u001b[0m \u001b[1;33m\u001b[0m\u001b[0m\n\u001b[0;32m    574\u001b[0m     \u001b[1;32mdef\u001b[0m \u001b[0mget\u001b[0m\u001b[1;33m(\u001b[0m\u001b[0mself\u001b[0m\u001b[1;33m)\u001b[0m\u001b[1;33m:\u001b[0m\u001b[1;33m\u001b[0m\u001b[1;33m\u001b[0m\u001b[0m\n",
      "\u001b[1;32mc:\\Users\\vasco\\anaconda3\\lib\\site-packages\\joblib\\parallel.py\u001b[0m in \u001b[0;36m__call__\u001b[1;34m(self)\u001b[0m\n\u001b[0;32m    260\u001b[0m         \u001b[1;31m# change the default number of processes to -1\u001b[0m\u001b[1;33m\u001b[0m\u001b[1;33m\u001b[0m\u001b[0m\n\u001b[0;32m    261\u001b[0m         \u001b[1;32mwith\u001b[0m \u001b[0mparallel_backend\u001b[0m\u001b[1;33m(\u001b[0m\u001b[0mself\u001b[0m\u001b[1;33m.\u001b[0m\u001b[0m_backend\u001b[0m\u001b[1;33m,\u001b[0m \u001b[0mn_jobs\u001b[0m\u001b[1;33m=\u001b[0m\u001b[0mself\u001b[0m\u001b[1;33m.\u001b[0m\u001b[0m_n_jobs\u001b[0m\u001b[1;33m)\u001b[0m\u001b[1;33m:\u001b[0m\u001b[1;33m\u001b[0m\u001b[1;33m\u001b[0m\u001b[0m\n\u001b[1;32m--> 262\u001b[1;33m             return [func(*args, **kwargs)\n\u001b[0m\u001b[0;32m    263\u001b[0m                     for func, args, kwargs in self.items]\n\u001b[0;32m    264\u001b[0m \u001b[1;33m\u001b[0m\u001b[0m\n",
      "\u001b[1;32mc:\\Users\\vasco\\anaconda3\\lib\\site-packages\\joblib\\parallel.py\u001b[0m in \u001b[0;36m<listcomp>\u001b[1;34m(.0)\u001b[0m\n\u001b[0;32m    260\u001b[0m         \u001b[1;31m# change the default number of processes to -1\u001b[0m\u001b[1;33m\u001b[0m\u001b[1;33m\u001b[0m\u001b[0m\n\u001b[0;32m    261\u001b[0m         \u001b[1;32mwith\u001b[0m \u001b[0mparallel_backend\u001b[0m\u001b[1;33m(\u001b[0m\u001b[0mself\u001b[0m\u001b[1;33m.\u001b[0m\u001b[0m_backend\u001b[0m\u001b[1;33m,\u001b[0m \u001b[0mn_jobs\u001b[0m\u001b[1;33m=\u001b[0m\u001b[0mself\u001b[0m\u001b[1;33m.\u001b[0m\u001b[0m_n_jobs\u001b[0m\u001b[1;33m)\u001b[0m\u001b[1;33m:\u001b[0m\u001b[1;33m\u001b[0m\u001b[1;33m\u001b[0m\u001b[0m\n\u001b[1;32m--> 262\u001b[1;33m             return [func(*args, **kwargs)\n\u001b[0m\u001b[0;32m    263\u001b[0m                     for func, args, kwargs in self.items]\n\u001b[0;32m    264\u001b[0m \u001b[1;33m\u001b[0m\u001b[0m\n",
      "\u001b[1;32mc:\\Users\\vasco\\anaconda3\\lib\\site-packages\\sklearn\\utils\\fixes.py\u001b[0m in \u001b[0;36m__call__\u001b[1;34m(self, *args, **kwargs)\u001b[0m\n\u001b[0;32m    214\u001b[0m     \u001b[1;32mdef\u001b[0m \u001b[0m__call__\u001b[0m\u001b[1;33m(\u001b[0m\u001b[0mself\u001b[0m\u001b[1;33m,\u001b[0m \u001b[1;33m*\u001b[0m\u001b[0margs\u001b[0m\u001b[1;33m,\u001b[0m \u001b[1;33m**\u001b[0m\u001b[0mkwargs\u001b[0m\u001b[1;33m)\u001b[0m\u001b[1;33m:\u001b[0m\u001b[1;33m\u001b[0m\u001b[1;33m\u001b[0m\u001b[0m\n\u001b[0;32m    215\u001b[0m         \u001b[1;32mwith\u001b[0m \u001b[0mconfig_context\u001b[0m\u001b[1;33m(\u001b[0m\u001b[1;33m**\u001b[0m\u001b[0mself\u001b[0m\u001b[1;33m.\u001b[0m\u001b[0mconfig\u001b[0m\u001b[1;33m)\u001b[0m\u001b[1;33m:\u001b[0m\u001b[1;33m\u001b[0m\u001b[1;33m\u001b[0m\u001b[0m\n\u001b[1;32m--> 216\u001b[1;33m             \u001b[1;32mreturn\u001b[0m \u001b[0mself\u001b[0m\u001b[1;33m.\u001b[0m\u001b[0mfunction\u001b[0m\u001b[1;33m(\u001b[0m\u001b[1;33m*\u001b[0m\u001b[0margs\u001b[0m\u001b[1;33m,\u001b[0m \u001b[1;33m**\u001b[0m\u001b[0mkwargs\u001b[0m\u001b[1;33m)\u001b[0m\u001b[1;33m\u001b[0m\u001b[1;33m\u001b[0m\u001b[0m\n\u001b[0m\u001b[0;32m    217\u001b[0m \u001b[1;33m\u001b[0m\u001b[0m\n\u001b[0;32m    218\u001b[0m \u001b[1;33m\u001b[0m\u001b[0m\n",
      "\u001b[1;32mc:\\Users\\vasco\\anaconda3\\lib\\site-packages\\sklearn\\linear_model\\_logistic.py\u001b[0m in \u001b[0;36m_logistic_regression_path\u001b[1;34m(X, y, pos_class, Cs, fit_intercept, max_iter, tol, verbose, solver, coef, class_weight, dual, penalty, intercept_scaling, multi_class, random_state, check_input, max_squared_sum, sample_weight, l1_ratio)\u001b[0m\n\u001b[0;32m    804\u001b[0m                 \u001b[0mnp\u001b[0m\u001b[1;33m.\u001b[0m\u001b[0msearchsorted\u001b[0m\u001b[1;33m(\u001b[0m\u001b[0mnp\u001b[0m\u001b[1;33m.\u001b[0m\u001b[0marray\u001b[0m\u001b[1;33m(\u001b[0m\u001b[1;33m[\u001b[0m\u001b[1;36m0\u001b[0m\u001b[1;33m,\u001b[0m \u001b[1;36m1\u001b[0m\u001b[1;33m,\u001b[0m \u001b[1;36m2\u001b[0m\u001b[1;33m,\u001b[0m \u001b[1;36m3\u001b[0m\u001b[1;33m]\u001b[0m\u001b[1;33m)\u001b[0m\u001b[1;33m,\u001b[0m \u001b[0mverbose\u001b[0m\u001b[1;33m)\u001b[0m\u001b[1;33m\u001b[0m\u001b[1;33m\u001b[0m\u001b[0m\n\u001b[0;32m    805\u001b[0m             ]\n\u001b[1;32m--> 806\u001b[1;33m             opt_res = optimize.minimize(\n\u001b[0m\u001b[0;32m    807\u001b[0m                 \u001b[0mfunc\u001b[0m\u001b[1;33m,\u001b[0m\u001b[1;33m\u001b[0m\u001b[1;33m\u001b[0m\u001b[0m\n\u001b[0;32m    808\u001b[0m                 \u001b[0mw0\u001b[0m\u001b[1;33m,\u001b[0m\u001b[1;33m\u001b[0m\u001b[1;33m\u001b[0m\u001b[0m\n",
      "\u001b[1;32mc:\\Users\\vasco\\anaconda3\\lib\\site-packages\\scipy\\optimize\\_minimize.py\u001b[0m in \u001b[0;36mminimize\u001b[1;34m(fun, x0, args, method, jac, hess, hessp, bounds, constraints, tol, callback, options)\u001b[0m\n\u001b[0;32m    697\u001b[0m                                  **options)\n\u001b[0;32m    698\u001b[0m     \u001b[1;32melif\u001b[0m \u001b[0mmeth\u001b[0m \u001b[1;33m==\u001b[0m \u001b[1;34m'l-bfgs-b'\u001b[0m\u001b[1;33m:\u001b[0m\u001b[1;33m\u001b[0m\u001b[1;33m\u001b[0m\u001b[0m\n\u001b[1;32m--> 699\u001b[1;33m         res = _minimize_lbfgsb(fun, x0, args, jac, bounds,\n\u001b[0m\u001b[0;32m    700\u001b[0m                                callback=callback, **options)\n\u001b[0;32m    701\u001b[0m     \u001b[1;32melif\u001b[0m \u001b[0mmeth\u001b[0m \u001b[1;33m==\u001b[0m \u001b[1;34m'tnc'\u001b[0m\u001b[1;33m:\u001b[0m\u001b[1;33m\u001b[0m\u001b[1;33m\u001b[0m\u001b[0m\n",
      "\u001b[1;32mc:\\Users\\vasco\\anaconda3\\lib\\site-packages\\scipy\\optimize\\_lbfgsb_py.py\u001b[0m in \u001b[0;36m_minimize_lbfgsb\u001b[1;34m(fun, x0, args, jac, bounds, disp, maxcor, ftol, gtol, eps, maxfun, maxiter, iprint, callback, maxls, finite_diff_rel_step, **unknown_options)\u001b[0m\n\u001b[0;32m    360\u001b[0m             \u001b[1;31m# until the completion of the current minimization iteration.\u001b[0m\u001b[1;33m\u001b[0m\u001b[1;33m\u001b[0m\u001b[0m\n\u001b[0;32m    361\u001b[0m             \u001b[1;31m# Overwrite f and g:\u001b[0m\u001b[1;33m\u001b[0m\u001b[1;33m\u001b[0m\u001b[0m\n\u001b[1;32m--> 362\u001b[1;33m             \u001b[0mf\u001b[0m\u001b[1;33m,\u001b[0m \u001b[0mg\u001b[0m \u001b[1;33m=\u001b[0m \u001b[0mfunc_and_grad\u001b[0m\u001b[1;33m(\u001b[0m\u001b[0mx\u001b[0m\u001b[1;33m)\u001b[0m\u001b[1;33m\u001b[0m\u001b[1;33m\u001b[0m\u001b[0m\n\u001b[0m\u001b[0;32m    363\u001b[0m         \u001b[1;32melif\u001b[0m \u001b[0mtask_str\u001b[0m\u001b[1;33m.\u001b[0m\u001b[0mstartswith\u001b[0m\u001b[1;33m(\u001b[0m\u001b[1;34mb'NEW_X'\u001b[0m\u001b[1;33m)\u001b[0m\u001b[1;33m:\u001b[0m\u001b[1;33m\u001b[0m\u001b[1;33m\u001b[0m\u001b[0m\n\u001b[0;32m    364\u001b[0m             \u001b[1;31m# new iteration\u001b[0m\u001b[1;33m\u001b[0m\u001b[1;33m\u001b[0m\u001b[0m\n",
      "\u001b[1;32mc:\\Users\\vasco\\anaconda3\\lib\\site-packages\\scipy\\optimize\\_differentiable_functions.py\u001b[0m in \u001b[0;36mfun_and_grad\u001b[1;34m(self, x)\u001b[0m\n\u001b[0;32m    283\u001b[0m         \u001b[1;32mif\u001b[0m \u001b[1;32mnot\u001b[0m \u001b[0mnp\u001b[0m\u001b[1;33m.\u001b[0m\u001b[0marray_equal\u001b[0m\u001b[1;33m(\u001b[0m\u001b[0mx\u001b[0m\u001b[1;33m,\u001b[0m \u001b[0mself\u001b[0m\u001b[1;33m.\u001b[0m\u001b[0mx\u001b[0m\u001b[1;33m)\u001b[0m\u001b[1;33m:\u001b[0m\u001b[1;33m\u001b[0m\u001b[1;33m\u001b[0m\u001b[0m\n\u001b[0;32m    284\u001b[0m             \u001b[0mself\u001b[0m\u001b[1;33m.\u001b[0m\u001b[0m_update_x_impl\u001b[0m\u001b[1;33m(\u001b[0m\u001b[0mx\u001b[0m\u001b[1;33m)\u001b[0m\u001b[1;33m\u001b[0m\u001b[1;33m\u001b[0m\u001b[0m\n\u001b[1;32m--> 285\u001b[1;33m         \u001b[0mself\u001b[0m\u001b[1;33m.\u001b[0m\u001b[0m_update_fun\u001b[0m\u001b[1;33m(\u001b[0m\u001b[1;33m)\u001b[0m\u001b[1;33m\u001b[0m\u001b[1;33m\u001b[0m\u001b[0m\n\u001b[0m\u001b[0;32m    286\u001b[0m         \u001b[0mself\u001b[0m\u001b[1;33m.\u001b[0m\u001b[0m_update_grad\u001b[0m\u001b[1;33m(\u001b[0m\u001b[1;33m)\u001b[0m\u001b[1;33m\u001b[0m\u001b[1;33m\u001b[0m\u001b[0m\n\u001b[0;32m    287\u001b[0m         \u001b[1;32mreturn\u001b[0m \u001b[0mself\u001b[0m\u001b[1;33m.\u001b[0m\u001b[0mf\u001b[0m\u001b[1;33m,\u001b[0m \u001b[0mself\u001b[0m\u001b[1;33m.\u001b[0m\u001b[0mg\u001b[0m\u001b[1;33m\u001b[0m\u001b[1;33m\u001b[0m\u001b[0m\n",
      "\u001b[1;32mc:\\Users\\vasco\\anaconda3\\lib\\site-packages\\scipy\\optimize\\_differentiable_functions.py\u001b[0m in \u001b[0;36m_update_fun\u001b[1;34m(self)\u001b[0m\n\u001b[0;32m    249\u001b[0m     \u001b[1;32mdef\u001b[0m \u001b[0m_update_fun\u001b[0m\u001b[1;33m(\u001b[0m\u001b[0mself\u001b[0m\u001b[1;33m)\u001b[0m\u001b[1;33m:\u001b[0m\u001b[1;33m\u001b[0m\u001b[1;33m\u001b[0m\u001b[0m\n\u001b[0;32m    250\u001b[0m         \u001b[1;32mif\u001b[0m \u001b[1;32mnot\u001b[0m \u001b[0mself\u001b[0m\u001b[1;33m.\u001b[0m\u001b[0mf_updated\u001b[0m\u001b[1;33m:\u001b[0m\u001b[1;33m\u001b[0m\u001b[1;33m\u001b[0m\u001b[0m\n\u001b[1;32m--> 251\u001b[1;33m             \u001b[0mself\u001b[0m\u001b[1;33m.\u001b[0m\u001b[0m_update_fun_impl\u001b[0m\u001b[1;33m(\u001b[0m\u001b[1;33m)\u001b[0m\u001b[1;33m\u001b[0m\u001b[1;33m\u001b[0m\u001b[0m\n\u001b[0m\u001b[0;32m    252\u001b[0m             \u001b[0mself\u001b[0m\u001b[1;33m.\u001b[0m\u001b[0mf_updated\u001b[0m \u001b[1;33m=\u001b[0m \u001b[1;32mTrue\u001b[0m\u001b[1;33m\u001b[0m\u001b[1;33m\u001b[0m\u001b[0m\n\u001b[0;32m    253\u001b[0m \u001b[1;33m\u001b[0m\u001b[0m\n",
      "\u001b[1;32mc:\\Users\\vasco\\anaconda3\\lib\\site-packages\\scipy\\optimize\\_differentiable_functions.py\u001b[0m in \u001b[0;36mupdate_fun\u001b[1;34m()\u001b[0m\n\u001b[0;32m    153\u001b[0m \u001b[1;33m\u001b[0m\u001b[0m\n\u001b[0;32m    154\u001b[0m         \u001b[1;32mdef\u001b[0m \u001b[0mupdate_fun\u001b[0m\u001b[1;33m(\u001b[0m\u001b[1;33m)\u001b[0m\u001b[1;33m:\u001b[0m\u001b[1;33m\u001b[0m\u001b[1;33m\u001b[0m\u001b[0m\n\u001b[1;32m--> 155\u001b[1;33m             \u001b[0mself\u001b[0m\u001b[1;33m.\u001b[0m\u001b[0mf\u001b[0m \u001b[1;33m=\u001b[0m \u001b[0mfun_wrapped\u001b[0m\u001b[1;33m(\u001b[0m\u001b[0mself\u001b[0m\u001b[1;33m.\u001b[0m\u001b[0mx\u001b[0m\u001b[1;33m)\u001b[0m\u001b[1;33m\u001b[0m\u001b[1;33m\u001b[0m\u001b[0m\n\u001b[0m\u001b[0;32m    156\u001b[0m \u001b[1;33m\u001b[0m\u001b[0m\n\u001b[0;32m    157\u001b[0m         \u001b[0mself\u001b[0m\u001b[1;33m.\u001b[0m\u001b[0m_update_fun_impl\u001b[0m \u001b[1;33m=\u001b[0m \u001b[0mupdate_fun\u001b[0m\u001b[1;33m\u001b[0m\u001b[1;33m\u001b[0m\u001b[0m\n",
      "\u001b[1;32mc:\\Users\\vasco\\anaconda3\\lib\\site-packages\\scipy\\optimize\\_differentiable_functions.py\u001b[0m in \u001b[0;36mfun_wrapped\u001b[1;34m(x)\u001b[0m\n\u001b[0;32m    135\u001b[0m             \u001b[1;31m# Overwriting results in undefined behaviour because\u001b[0m\u001b[1;33m\u001b[0m\u001b[1;33m\u001b[0m\u001b[0m\n\u001b[0;32m    136\u001b[0m             \u001b[1;31m# fun(self.x) will change self.x, with the two no longer linked.\u001b[0m\u001b[1;33m\u001b[0m\u001b[1;33m\u001b[0m\u001b[0m\n\u001b[1;32m--> 137\u001b[1;33m             \u001b[0mfx\u001b[0m \u001b[1;33m=\u001b[0m \u001b[0mfun\u001b[0m\u001b[1;33m(\u001b[0m\u001b[0mnp\u001b[0m\u001b[1;33m.\u001b[0m\u001b[0mcopy\u001b[0m\u001b[1;33m(\u001b[0m\u001b[0mx\u001b[0m\u001b[1;33m)\u001b[0m\u001b[1;33m,\u001b[0m \u001b[1;33m*\u001b[0m\u001b[0margs\u001b[0m\u001b[1;33m)\u001b[0m\u001b[1;33m\u001b[0m\u001b[1;33m\u001b[0m\u001b[0m\n\u001b[0m\u001b[0;32m    138\u001b[0m             \u001b[1;31m# Make sure the function returns a true scalar\u001b[0m\u001b[1;33m\u001b[0m\u001b[1;33m\u001b[0m\u001b[0m\n\u001b[0;32m    139\u001b[0m             \u001b[1;32mif\u001b[0m \u001b[1;32mnot\u001b[0m \u001b[0mnp\u001b[0m\u001b[1;33m.\u001b[0m\u001b[0misscalar\u001b[0m\u001b[1;33m(\u001b[0m\u001b[0mfx\u001b[0m\u001b[1;33m)\u001b[0m\u001b[1;33m:\u001b[0m\u001b[1;33m\u001b[0m\u001b[1;33m\u001b[0m\u001b[0m\n",
      "\u001b[1;32mc:\\Users\\vasco\\anaconda3\\lib\\site-packages\\scipy\\optimize\\_optimize.py\u001b[0m in \u001b[0;36m__call__\u001b[1;34m(self, x, *args)\u001b[0m\n\u001b[0;32m     74\u001b[0m     \u001b[1;32mdef\u001b[0m \u001b[0m__call__\u001b[0m\u001b[1;33m(\u001b[0m\u001b[0mself\u001b[0m\u001b[1;33m,\u001b[0m \u001b[0mx\u001b[0m\u001b[1;33m,\u001b[0m \u001b[1;33m*\u001b[0m\u001b[0margs\u001b[0m\u001b[1;33m)\u001b[0m\u001b[1;33m:\u001b[0m\u001b[1;33m\u001b[0m\u001b[1;33m\u001b[0m\u001b[0m\n\u001b[0;32m     75\u001b[0m         \u001b[1;34m\"\"\" returns the the function value \"\"\"\u001b[0m\u001b[1;33m\u001b[0m\u001b[1;33m\u001b[0m\u001b[0m\n\u001b[1;32m---> 76\u001b[1;33m         \u001b[0mself\u001b[0m\u001b[1;33m.\u001b[0m\u001b[0m_compute_if_needed\u001b[0m\u001b[1;33m(\u001b[0m\u001b[0mx\u001b[0m\u001b[1;33m,\u001b[0m \u001b[1;33m*\u001b[0m\u001b[0margs\u001b[0m\u001b[1;33m)\u001b[0m\u001b[1;33m\u001b[0m\u001b[1;33m\u001b[0m\u001b[0m\n\u001b[0m\u001b[0;32m     77\u001b[0m         \u001b[1;32mreturn\u001b[0m \u001b[0mself\u001b[0m\u001b[1;33m.\u001b[0m\u001b[0m_value\u001b[0m\u001b[1;33m\u001b[0m\u001b[1;33m\u001b[0m\u001b[0m\n\u001b[0;32m     78\u001b[0m \u001b[1;33m\u001b[0m\u001b[0m\n",
      "\u001b[1;32mc:\\Users\\vasco\\anaconda3\\lib\\site-packages\\scipy\\optimize\\_optimize.py\u001b[0m in \u001b[0;36m_compute_if_needed\u001b[1;34m(self, x, *args)\u001b[0m\n\u001b[0;32m     68\u001b[0m         \u001b[1;32mif\u001b[0m \u001b[1;32mnot\u001b[0m \u001b[0mnp\u001b[0m\u001b[1;33m.\u001b[0m\u001b[0mall\u001b[0m\u001b[1;33m(\u001b[0m\u001b[0mx\u001b[0m \u001b[1;33m==\u001b[0m \u001b[0mself\u001b[0m\u001b[1;33m.\u001b[0m\u001b[0mx\u001b[0m\u001b[1;33m)\u001b[0m \u001b[1;32mor\u001b[0m \u001b[0mself\u001b[0m\u001b[1;33m.\u001b[0m\u001b[0m_value\u001b[0m \u001b[1;32mis\u001b[0m \u001b[1;32mNone\u001b[0m \u001b[1;32mor\u001b[0m \u001b[0mself\u001b[0m\u001b[1;33m.\u001b[0m\u001b[0mjac\u001b[0m \u001b[1;32mis\u001b[0m \u001b[1;32mNone\u001b[0m\u001b[1;33m:\u001b[0m\u001b[1;33m\u001b[0m\u001b[1;33m\u001b[0m\u001b[0m\n\u001b[0;32m     69\u001b[0m             \u001b[0mself\u001b[0m\u001b[1;33m.\u001b[0m\u001b[0mx\u001b[0m \u001b[1;33m=\u001b[0m \u001b[0mnp\u001b[0m\u001b[1;33m.\u001b[0m\u001b[0masarray\u001b[0m\u001b[1;33m(\u001b[0m\u001b[0mx\u001b[0m\u001b[1;33m)\u001b[0m\u001b[1;33m.\u001b[0m\u001b[0mcopy\u001b[0m\u001b[1;33m(\u001b[0m\u001b[1;33m)\u001b[0m\u001b[1;33m\u001b[0m\u001b[1;33m\u001b[0m\u001b[0m\n\u001b[1;32m---> 70\u001b[1;33m             \u001b[0mfg\u001b[0m \u001b[1;33m=\u001b[0m \u001b[0mself\u001b[0m\u001b[1;33m.\u001b[0m\u001b[0mfun\u001b[0m\u001b[1;33m(\u001b[0m\u001b[0mx\u001b[0m\u001b[1;33m,\u001b[0m \u001b[1;33m*\u001b[0m\u001b[0margs\u001b[0m\u001b[1;33m)\u001b[0m\u001b[1;33m\u001b[0m\u001b[1;33m\u001b[0m\u001b[0m\n\u001b[0m\u001b[0;32m     71\u001b[0m             \u001b[0mself\u001b[0m\u001b[1;33m.\u001b[0m\u001b[0mjac\u001b[0m \u001b[1;33m=\u001b[0m \u001b[0mfg\u001b[0m\u001b[1;33m[\u001b[0m\u001b[1;36m1\u001b[0m\u001b[1;33m]\u001b[0m\u001b[1;33m\u001b[0m\u001b[1;33m\u001b[0m\u001b[0m\n\u001b[0;32m     72\u001b[0m             \u001b[0mself\u001b[0m\u001b[1;33m.\u001b[0m\u001b[0m_value\u001b[0m \u001b[1;33m=\u001b[0m \u001b[0mfg\u001b[0m\u001b[1;33m[\u001b[0m\u001b[1;36m0\u001b[0m\u001b[1;33m]\u001b[0m\u001b[1;33m\u001b[0m\u001b[1;33m\u001b[0m\u001b[0m\n",
      "\u001b[1;32mc:\\Users\\vasco\\anaconda3\\lib\\site-packages\\sklearn\\linear_model\\_logistic.py\u001b[0m in \u001b[0;36mfunc\u001b[1;34m(x, *args)\u001b[0m\n\u001b[0;32m    772\u001b[0m \u001b[1;33m\u001b[0m\u001b[0m\n\u001b[0;32m    773\u001b[0m             \u001b[1;32mdef\u001b[0m \u001b[0mfunc\u001b[0m\u001b[1;33m(\u001b[0m\u001b[0mx\u001b[0m\u001b[1;33m,\u001b[0m \u001b[1;33m*\u001b[0m\u001b[0margs\u001b[0m\u001b[1;33m)\u001b[0m\u001b[1;33m:\u001b[0m\u001b[1;33m\u001b[0m\u001b[1;33m\u001b[0m\u001b[0m\n\u001b[1;32m--> 774\u001b[1;33m                 \u001b[1;32mreturn\u001b[0m \u001b[0m_multinomial_loss_grad\u001b[0m\u001b[1;33m(\u001b[0m\u001b[0mx\u001b[0m\u001b[1;33m,\u001b[0m \u001b[1;33m*\u001b[0m\u001b[0margs\u001b[0m\u001b[1;33m)\u001b[0m\u001b[1;33m[\u001b[0m\u001b[1;36m0\u001b[0m\u001b[1;33m:\u001b[0m\u001b[1;36m2\u001b[0m\u001b[1;33m]\u001b[0m\u001b[1;33m\u001b[0m\u001b[1;33m\u001b[0m\u001b[0m\n\u001b[0m\u001b[0;32m    775\u001b[0m \u001b[1;33m\u001b[0m\u001b[0m\n\u001b[0;32m    776\u001b[0m         \u001b[1;32melif\u001b[0m \u001b[0msolver\u001b[0m \u001b[1;33m==\u001b[0m \u001b[1;34m\"newton-cg\"\u001b[0m\u001b[1;33m:\u001b[0m\u001b[1;33m\u001b[0m\u001b[1;33m\u001b[0m\u001b[0m\n",
      "\u001b[1;32mc:\\Users\\vasco\\anaconda3\\lib\\site-packages\\sklearn\\linear_model\\_logistic.py\u001b[0m in \u001b[0;36m_multinomial_loss_grad\u001b[1;34m(w, X, Y, alpha, sample_weight)\u001b[0m\n\u001b[0;32m    346\u001b[0m     \u001b[0mfit_intercept\u001b[0m \u001b[1;33m=\u001b[0m \u001b[0mw\u001b[0m\u001b[1;33m.\u001b[0m\u001b[0msize\u001b[0m \u001b[1;33m==\u001b[0m \u001b[0mn_classes\u001b[0m \u001b[1;33m*\u001b[0m \u001b[1;33m(\u001b[0m\u001b[0mn_features\u001b[0m \u001b[1;33m+\u001b[0m \u001b[1;36m1\u001b[0m\u001b[1;33m)\u001b[0m\u001b[1;33m\u001b[0m\u001b[1;33m\u001b[0m\u001b[0m\n\u001b[0;32m    347\u001b[0m     \u001b[0mgrad\u001b[0m \u001b[1;33m=\u001b[0m \u001b[0mnp\u001b[0m\u001b[1;33m.\u001b[0m\u001b[0mzeros\u001b[0m\u001b[1;33m(\u001b[0m\u001b[1;33m(\u001b[0m\u001b[0mn_classes\u001b[0m\u001b[1;33m,\u001b[0m \u001b[0mn_features\u001b[0m \u001b[1;33m+\u001b[0m \u001b[0mbool\u001b[0m\u001b[1;33m(\u001b[0m\u001b[0mfit_intercept\u001b[0m\u001b[1;33m)\u001b[0m\u001b[1;33m)\u001b[0m\u001b[1;33m,\u001b[0m \u001b[0mdtype\u001b[0m\u001b[1;33m=\u001b[0m\u001b[0mX\u001b[0m\u001b[1;33m.\u001b[0m\u001b[0mdtype\u001b[0m\u001b[1;33m)\u001b[0m\u001b[1;33m\u001b[0m\u001b[1;33m\u001b[0m\u001b[0m\n\u001b[1;32m--> 348\u001b[1;33m     \u001b[0mloss\u001b[0m\u001b[1;33m,\u001b[0m \u001b[0mp\u001b[0m\u001b[1;33m,\u001b[0m \u001b[0mw\u001b[0m \u001b[1;33m=\u001b[0m \u001b[0m_multinomial_loss\u001b[0m\u001b[1;33m(\u001b[0m\u001b[0mw\u001b[0m\u001b[1;33m,\u001b[0m \u001b[0mX\u001b[0m\u001b[1;33m,\u001b[0m \u001b[0mY\u001b[0m\u001b[1;33m,\u001b[0m \u001b[0malpha\u001b[0m\u001b[1;33m,\u001b[0m \u001b[0msample_weight\u001b[0m\u001b[1;33m)\u001b[0m\u001b[1;33m\u001b[0m\u001b[1;33m\u001b[0m\u001b[0m\n\u001b[0m\u001b[0;32m    349\u001b[0m     \u001b[0msample_weight\u001b[0m \u001b[1;33m=\u001b[0m \u001b[0msample_weight\u001b[0m\u001b[1;33m[\u001b[0m\u001b[1;33m:\u001b[0m\u001b[1;33m,\u001b[0m \u001b[0mnp\u001b[0m\u001b[1;33m.\u001b[0m\u001b[0mnewaxis\u001b[0m\u001b[1;33m]\u001b[0m\u001b[1;33m\u001b[0m\u001b[1;33m\u001b[0m\u001b[0m\n\u001b[0;32m    350\u001b[0m     \u001b[0mdiff\u001b[0m \u001b[1;33m=\u001b[0m \u001b[0msample_weight\u001b[0m \u001b[1;33m*\u001b[0m \u001b[1;33m(\u001b[0m\u001b[0mp\u001b[0m \u001b[1;33m-\u001b[0m \u001b[0mY\u001b[0m\u001b[1;33m)\u001b[0m\u001b[1;33m\u001b[0m\u001b[1;33m\u001b[0m\u001b[0m\n",
      "\u001b[1;32mc:\\Users\\vasco\\anaconda3\\lib\\site-packages\\sklearn\\linear_model\\_logistic.py\u001b[0m in \u001b[0;36m_multinomial_loss\u001b[1;34m(w, X, Y, alpha, sample_weight)\u001b[0m\n\u001b[0;32m    297\u001b[0m     \u001b[0mp\u001b[0m \u001b[1;33m=\u001b[0m \u001b[0msafe_sparse_dot\u001b[0m\u001b[1;33m(\u001b[0m\u001b[0mX\u001b[0m\u001b[1;33m,\u001b[0m \u001b[0mw\u001b[0m\u001b[1;33m.\u001b[0m\u001b[0mT\u001b[0m\u001b[1;33m)\u001b[0m\u001b[1;33m\u001b[0m\u001b[1;33m\u001b[0m\u001b[0m\n\u001b[0;32m    298\u001b[0m     \u001b[0mp\u001b[0m \u001b[1;33m+=\u001b[0m \u001b[0mintercept\u001b[0m\u001b[1;33m\u001b[0m\u001b[1;33m\u001b[0m\u001b[0m\n\u001b[1;32m--> 299\u001b[1;33m     \u001b[0mp\u001b[0m \u001b[1;33m-=\u001b[0m \u001b[0mlogsumexp\u001b[0m\u001b[1;33m(\u001b[0m\u001b[0mp\u001b[0m\u001b[1;33m,\u001b[0m \u001b[0maxis\u001b[0m\u001b[1;33m=\u001b[0m\u001b[1;36m1\u001b[0m\u001b[1;33m)\u001b[0m\u001b[1;33m[\u001b[0m\u001b[1;33m:\u001b[0m\u001b[1;33m,\u001b[0m \u001b[0mnp\u001b[0m\u001b[1;33m.\u001b[0m\u001b[0mnewaxis\u001b[0m\u001b[1;33m]\u001b[0m\u001b[1;33m\u001b[0m\u001b[1;33m\u001b[0m\u001b[0m\n\u001b[0m\u001b[0;32m    300\u001b[0m     \u001b[0mloss\u001b[0m \u001b[1;33m=\u001b[0m \u001b[1;33m-\u001b[0m\u001b[1;33m(\u001b[0m\u001b[0msample_weight\u001b[0m \u001b[1;33m*\u001b[0m \u001b[0mY\u001b[0m \u001b[1;33m*\u001b[0m \u001b[0mp\u001b[0m\u001b[1;33m)\u001b[0m\u001b[1;33m.\u001b[0m\u001b[0msum\u001b[0m\u001b[1;33m(\u001b[0m\u001b[1;33m)\u001b[0m\u001b[1;33m\u001b[0m\u001b[1;33m\u001b[0m\u001b[0m\n\u001b[0;32m    301\u001b[0m     \u001b[0mloss\u001b[0m \u001b[1;33m+=\u001b[0m \u001b[1;36m0.5\u001b[0m \u001b[1;33m*\u001b[0m \u001b[0malpha\u001b[0m \u001b[1;33m*\u001b[0m \u001b[0msquared_norm\u001b[0m\u001b[1;33m(\u001b[0m\u001b[0mw\u001b[0m\u001b[1;33m)\u001b[0m\u001b[1;33m\u001b[0m\u001b[1;33m\u001b[0m\u001b[0m\n",
      "\u001b[1;31mKeyboardInterrupt\u001b[0m: "
     ]
    }
   ],
   "source": [
    "param_grid = {'C': [0.1, 1, 10, 100, 1000], 'max_iter': [10000, 100000, 1000000]}\n",
    "\n",
    "logreg=LogisticRegression()\n",
    "grid = GridSearchCV(estimator = logreg, param_grid = param_grid, cv = 3, verbose = 1)\n",
    "grid.fit(X_train, Y_train)\n",
    "print(grid.best_params_)\n",
    "print(grid.best_score_)\n",
    "\n"
   ]
  },
  {
   "cell_type": "markdown",
   "metadata": {
    "jp-MarkdownHeadingCollapsed": true,
    "tags": []
   },
   "source": [
    "#### Decision Tree"
   ]
  },
  {
   "cell_type": "markdown",
   "metadata": {
    "jp-MarkdownHeadingCollapsed": true,
    "tags": []
   },
   "source": [
    "##### Descoberta dos melhores parâmetros"
   ]
  },
  {
   "cell_type": "raw",
   "metadata": {},
   "source": [
    "# Modelo default - Full tree\n",
    "model = DecisionTreeClassifier(random_state=2022)\n",
    "model.fit(X_train, Y_train)\n",
    "\n",
    "print(\"depth: \", full_tree.get_depth())\n",
    "print(\"leafs: \", full_tree.get_n_leaves())\n",
    "\n",
    "ccp_alphas = model.cost_complexity_pruning_path(X_train, Y_train)[\"ccp_alphas\"]\n",
    "\n",
    "ccp_alphas_grid_search = GridSearchCV(\n",
    "    estimator  = DecisionTreeClassifier(random_state=2022),\n",
    "    scoring    = make_scorer(accuracy_score),\n",
    "    param_grid = ParameterGrid({'ccp_alpha':[[alpha] for alpha in ccp_alphas]}),\n",
    ")\n",
    "#0.0007292929292929296\n",
    "\n",
    "ccp_alphas_grid_search.fit(X_train, Y_train)\n",
    "print(ccp_alphas_grid_search.best_estimator_)\n",
    "\n",
    "maxd = 24\n",
    "std_slc = StandardScaler()\n",
    "pca = decomposition.PCA()\n",
    "dec_tree = tree.DecisionTreeClassifier(random_state=2022)\n",
    "pipe = Pipeline(steps=[('std_slc', std_slc), ('pca', pca), ('dec_tree', dec_tree)])\n",
    "n_components = list(range(1,X_train.shape[1]+1,1))\n",
    "max_depth = list(range(1, maxd + 1))\n",
    "\n",
    "parameters = dict(pca__n_components   = n_components,\n",
    "                  dec_tree__max_depth = max_depth,\n",
    "                  #dec_tree__min_samples_leaf = min_samples_leaf\n",
    "                  )\n",
    "clf_GS = GridSearchCV(pipe, parameters)\n",
    "clf_GS.fit(X_train, Y_train)\n",
    "\n",
    "print('Best max_depth:', clf_GS.best_estimator_.get_params()['dec_tree__max_depth'])\n",
    "#print('Best min_samples_leaf:', clf_GS.best_estimator_.get_params()['dec_tree__min_samples_leaf'])\n",
    "print('Best Number Of Components:', clf_GS.best_estimator_.get_params()['pca__n_components'])\n",
    "print(); print(clf_GS.best_estimator_.get_params()['dec_tree'])"
   ]
  },
  {
   "cell_type": "markdown",
   "metadata": {
    "tags": []
   },
   "source": [
    "##### Modelo final"
   ]
  },
  {
   "cell_type": "raw",
   "metadata": {},
   "source": [
    "model = DecisionTreeClassifier(random_state=2022, \n",
    "                               criterion = 'entropy',\n",
    "                               max_depth = 16, \n",
    "                               ccp_alpha = 0.0007292929292929296)\n",
    "model.fit(X_train, Y_train)\n",
    "print(\"depth: \", model.get_depth())\n",
    "print(\"leafs: \", model.get_n_leaves())"
   ]
  },
  {
   "cell_type": "markdown",
   "metadata": {},
   "source": [
    "##### Descoberta dos melhores parâmetros"
   ]
  },
  {
   "cell_type": "code",
   "execution_count": null,
   "metadata": {},
   "outputs": [],
   "source": []
  },
  {
   "cell_type": "markdown",
   "metadata": {},
   "source": [
    "##### Modelo final"
   ]
  },
  {
   "cell_type": "code",
   "execution_count": null,
   "metadata": {},
   "outputs": [],
   "source": []
  },
  {
   "cell_type": "markdown",
   "metadata": {
    "tags": []
   },
   "source": [
    "#### SVM"
   ]
  },
  {
   "cell_type": "markdown",
   "metadata": {
    "tags": []
   },
   "source": [
    "##### Descoberta dos melhores parâmetros"
   ]
  },
  {
   "cell_type": "code",
   "execution_count": null,
   "metadata": {},
   "outputs": [],
   "source": [
    "param_grid = {'C': [1000, 1500], 'gamma' : [1, 0.1, 0.01, 0.001, 0.005], 'kernel': ['rbf']}\n",
    "grid = GridSearchCV(SVC(), param_grid, refit=True, verbose=1)\n",
    "grid.fit(X_train, Y_train.values.ravel())\n",
    "print(grid.best_params_)\n",
    "print(grid.best_estimator_)"
   ]
  },
  {
   "cell_type": "markdown",
   "metadata": {
    "tags": []
   },
   "source": [
    "##### Modelo Final"
   ]
  },
  {
   "cell_type": "code",
   "execution_count": null,
   "metadata": {},
   "outputs": [],
   "source": [
    "model = SVC(C = 1000, gamma = 0.001)\n",
    "model.fit(X_train, Y_train.values.ravel())"
   ]
  },
  {
   "cell_type": "markdown",
   "metadata": {
    "jp-MarkdownHeadingCollapsed": true,
    "tags": []
   },
   "source": [
    "#### MLP"
   ]
  },
  {
   "cell_type": "markdown",
   "metadata": {},
   "source": [
    "##### Descoberta dos parametros"
   ]
  },
  {
   "cell_type": "markdown",
   "metadata": {
    "tags": []
   },
   "source": [
    "###### Scaling"
   ]
  },
  {
   "cell_type": "code",
   "execution_count": null,
   "metadata": {},
   "outputs": [],
   "source": [
    "scaler_X = MinMaxScaler(feature_range=(0 , 1)).fit(X_train)\n",
    "scaler_Y = MinMaxScaler(feature_range=(0 , 1)).fit(Y_train)\n",
    "\n",
    "X_scaled = pd.DataFrame(scaler_X.transform(X_train[X_train.columns]), columns=X_train.columns)\n",
    "Y_scaled = pd.DataFrame(scaler_Y.transform(Y_train[Y_train.columns]), columns=Y_train.columns)\n",
    "\n",
    "X_test_scaled = pd.DataFrame(scaler_X.transform(X_test[X_test.columns]), columns=X_test.columns)\n",
    "Y_test_scaled = pd.DataFrame(scaler_Y.transform(Y_test[Y_test.columns]), columns=Y_test.columns)"
   ]
  },
  {
   "cell_type": "markdown",
   "metadata": {
    "tags": []
   },
   "source": [
    "###### Construção de uma rede neuronal"
   ]
  },
  {
   "cell_type": "code",
   "execution_count": null,
   "metadata": {},
   "outputs": [
    {
     "name": "stdout",
     "output_type": "stream",
     "text": [
      "Model: \"sequential_2\"\n",
      "_________________________________________________________________\n",
      " Layer (type)                Output Shape              Param #   \n",
      "=================================================================\n",
      " dense_6 (Dense)             (None, 12)                156       \n",
      "                                                                 \n",
      " dense_7 (Dense)             (None, 8)                 104       \n",
      "                                                                 \n",
      " dense_8 (Dense)             (None, 4)                 36        \n",
      "                                                                 \n",
      " dense_9 (Dense)             (None, 1)                 5         \n",
      "                                                                 \n",
      "=================================================================\n",
      "Total params: 301\n",
      "Trainable params: 301\n",
      "Non-trainable params: 0\n",
      "_________________________________________________________________\n"
     ]
    }
   ],
   "source": [
    "def build_model(activation='relu', learning_rate=0.01):\n",
    "\tmodel = Sequential()\n",
    "\tmodel.add(Dense(12, input_dim=12, activation=activation))\n",
    "\tmodel.add(Dense(8, activation=activation))\n",
    "\tmodel.add(Dense(4, activation=activation))\n",
    "\tmodel.add(Dense(1, activation='relu'))\n",
    "\n",
    "\tmodel.compile(loss='mae', optimizer=tf.optimizers.Adam(learning_rate), metrics=['mae','mse'])\n",
    "\n",
    "\treturn model\n",
    "\n",
    "model = build_model()\n",
    "model.summary()"
   ]
  },
  {
   "cell_type": "markdown",
   "metadata": {
    "tags": []
   },
   "source": [
    "###### Gridsearch"
   ]
  },
  {
   "cell_type": "code",
   "execution_count": null,
   "metadata": {},
   "outputs": [
    {
     "name": "stderr",
     "output_type": "stream",
     "text": [
      "C:\\Users\\vasco\\AppData\\Local\\Temp\\ipykernel_17836\\3475281941.py:8: DeprecationWarning: KerasRegressor is deprecated, use Sci-Keras (https://github.com/adriangb/scikeras) instead. See https://www.adriangb.com/scikeras/stable/migration.html for help migrating.\n",
      "  grid_model = KerasRegressor(build_fn=build_model, epochs=20, batch_size=32)\n"
     ]
    },
    {
     "name": "stdout",
     "output_type": "stream",
     "text": [
      "Epoch 1/20\n",
      "100/100 [==============================] - 2s 13ms/step - loss: 0.3307 - mae: 0.3307 - mse: 0.1587 - val_loss: 0.3095 - val_mae: 0.3095 - val_mse: 0.1367\n",
      "Epoch 2/20\n",
      "100/100 [==============================] - 1s 7ms/step - loss: 0.2833 - mae: 0.2833 - mse: 0.1088 - val_loss: 0.2654 - val_mae: 0.2654 - val_mse: 0.0977\n",
      "Epoch 3/20\n",
      "100/100 [==============================] - 1s 6ms/step - loss: 0.2402 - mae: 0.2402 - mse: 0.0880 - val_loss: 0.2346 - val_mae: 0.2346 - val_mse: 0.0915\n",
      "Epoch 4/20\n",
      "100/100 [==============================] - 1s 5ms/step - loss: 0.2162 - mae: 0.2162 - mse: 0.0787 - val_loss: 0.2165 - val_mae: 0.2165 - val_mse: 0.0764\n",
      "Epoch 5/20\n",
      "100/100 [==============================] - 1s 6ms/step - loss: 0.1993 - mae: 0.1993 - mse: 0.0686 - val_loss: 0.1987 - val_mae: 0.1987 - val_mse: 0.0681\n",
      "Epoch 6/20\n",
      "100/100 [==============================] - 1s 8ms/step - loss: 0.1829 - mae: 0.1829 - mse: 0.0612 - val_loss: 0.1859 - val_mae: 0.1859 - val_mse: 0.0585\n",
      "Epoch 7/20\n",
      "100/100 [==============================] - 1s 6ms/step - loss: 0.1665 - mae: 0.1665 - mse: 0.0522 - val_loss: 0.1671 - val_mae: 0.1671 - val_mse: 0.0522\n",
      "Epoch 8/20\n",
      "100/100 [==============================] - 1s 5ms/step - loss: 0.1545 - mae: 0.1545 - mse: 0.0479 - val_loss: 0.1565 - val_mae: 0.1565 - val_mse: 0.0488\n",
      "Epoch 9/20\n",
      "100/100 [==============================] - 1s 5ms/step - loss: 0.1459 - mae: 0.1459 - mse: 0.0446 - val_loss: 0.1533 - val_mae: 0.1533 - val_mse: 0.0470\n",
      "Epoch 10/20\n",
      "100/100 [==============================] - 1s 6ms/step - loss: 0.1405 - mae: 0.1405 - mse: 0.0431 - val_loss: 0.1506 - val_mae: 0.1506 - val_mse: 0.0479\n",
      "Epoch 11/20\n",
      "100/100 [==============================] - 1s 6ms/step - loss: 0.1367 - mae: 0.1367 - mse: 0.0415 - val_loss: 0.1463 - val_mae: 0.1463 - val_mse: 0.0449\n",
      "Epoch 12/20\n",
      "100/100 [==============================] - 1s 6ms/step - loss: 0.1339 - mae: 0.1339 - mse: 0.0405 - val_loss: 0.1447 - val_mae: 0.1447 - val_mse: 0.0442\n",
      "Epoch 13/20\n",
      "100/100 [==============================] - 1s 6ms/step - loss: 0.1316 - mae: 0.1316 - mse: 0.0395 - val_loss: 0.1409 - val_mae: 0.1409 - val_mse: 0.0431\n",
      "Epoch 14/20\n",
      "100/100 [==============================] - 1s 6ms/step - loss: 0.1294 - mae: 0.1294 - mse: 0.0390 - val_loss: 0.1396 - val_mae: 0.1396 - val_mse: 0.0415\n",
      "Epoch 15/20\n",
      "100/100 [==============================] - 1s 7ms/step - loss: 0.1276 - mae: 0.1276 - mse: 0.0377 - val_loss: 0.1356 - val_mae: 0.1356 - val_mse: 0.0421\n",
      "Epoch 16/20\n",
      "100/100 [==============================] - 1s 7ms/step - loss: 0.1250 - mae: 0.1250 - mse: 0.0369 - val_loss: 0.1335 - val_mae: 0.1335 - val_mse: 0.0402\n",
      "Epoch 17/20\n",
      "100/100 [==============================] - 1s 7ms/step - loss: 0.1232 - mae: 0.1232 - mse: 0.0368 - val_loss: 0.1318 - val_mae: 0.1318 - val_mse: 0.0398\n",
      "Epoch 18/20\n",
      "100/100 [==============================] - 1s 8ms/step - loss: 0.1226 - mae: 0.1226 - mse: 0.0359 - val_loss: 0.1350 - val_mae: 0.1350 - val_mse: 0.0424\n",
      "Epoch 19/20\n",
      "100/100 [==============================] - 1s 6ms/step - loss: 0.1203 - mae: 0.1203 - mse: 0.0352 - val_loss: 0.1313 - val_mae: 0.1313 - val_mse: 0.0407\n",
      "Epoch 20/20\n",
      "100/100 [==============================] - 1s 6ms/step - loss: 0.1194 - mae: 0.1194 - mse: 0.0346 - val_loss: 0.1263 - val_mae: 0.1263 - val_mse: 0.0370\n",
      "32/32 [==============================] - 0s 3ms/step\n",
      "Epoch 1/20\n",
      "100/100 [==============================] - 2s 10ms/step - loss: 0.3654 - mae: 0.3654 - mse: 0.2450 - val_loss: 0.3488 - val_mae: 0.3488 - val_mse: 0.1999\n",
      "Epoch 2/20\n",
      "100/100 [==============================] - 1s 7ms/step - loss: 0.3300 - mae: 0.3300 - mse: 0.1594 - val_loss: 0.3131 - val_mae: 0.3131 - val_mse: 0.1415\n",
      "Epoch 3/20\n",
      "100/100 [==============================] - 1s 7ms/step - loss: 0.3057 - mae: 0.3057 - mse: 0.1318 - val_loss: 0.2815 - val_mae: 0.2815 - val_mse: 0.1168\n",
      "Epoch 4/20\n",
      "100/100 [==============================] - 1s 7ms/step - loss: 0.2561 - mae: 0.2561 - mse: 0.1116 - val_loss: 0.2433 - val_mae: 0.2433 - val_mse: 0.1104\n",
      "Epoch 5/20\n",
      "100/100 [==============================] - 1s 6ms/step - loss: 0.2323 - mae: 0.2323 - mse: 0.1025 - val_loss: 0.2270 - val_mae: 0.2270 - val_mse: 0.0895\n",
      "Epoch 6/20\n",
      "100/100 [==============================] - 1s 5ms/step - loss: 0.2220 - mae: 0.2220 - mse: 0.0923 - val_loss: 0.2167 - val_mae: 0.2167 - val_mse: 0.0837\n",
      "Epoch 7/20\n",
      "100/100 [==============================] - 1s 5ms/step - loss: 0.2101 - mae: 0.2101 - mse: 0.0796 - val_loss: 0.2029 - val_mae: 0.2029 - val_mse: 0.0718\n",
      "Epoch 8/20\n",
      "100/100 [==============================] - 1s 6ms/step - loss: 0.1973 - mae: 0.1973 - mse: 0.0687 - val_loss: 0.1915 - val_mae: 0.1915 - val_mse: 0.0645\n",
      "Epoch 9/20\n",
      "100/100 [==============================] - 1s 5ms/step - loss: 0.1859 - mae: 0.1859 - mse: 0.0617 - val_loss: 0.1773 - val_mae: 0.1773 - val_mse: 0.0546\n",
      "Epoch 10/20\n",
      "100/100 [==============================] - 1s 6ms/step - loss: 0.1749 - mae: 0.1749 - mse: 0.0552 - val_loss: 0.1673 - val_mae: 0.1673 - val_mse: 0.0486\n",
      "Epoch 11/20\n",
      "100/100 [==============================] - 1s 6ms/step - loss: 0.1656 - mae: 0.1656 - mse: 0.0498 - val_loss: 0.1647 - val_mae: 0.1647 - val_mse: 0.0471\n",
      "Epoch 12/20\n",
      "100/100 [==============================] - 1s 5ms/step - loss: 0.1549 - mae: 0.1549 - mse: 0.0444 - val_loss: 0.1482 - val_mae: 0.1482 - val_mse: 0.0417\n",
      "Epoch 13/20\n",
      "100/100 [==============================] - 1s 6ms/step - loss: 0.1463 - mae: 0.1463 - mse: 0.0413 - val_loss: 0.1420 - val_mae: 0.1420 - val_mse: 0.0386\n",
      "Epoch 14/20\n",
      "100/100 [==============================] - 1s 5ms/step - loss: 0.1385 - mae: 0.1385 - mse: 0.0380 - val_loss: 0.1381 - val_mae: 0.1381 - val_mse: 0.0379\n",
      "Epoch 15/20\n",
      "100/100 [==============================] - 1s 7ms/step - loss: 0.1326 - mae: 0.1326 - mse: 0.0362 - val_loss: 0.1344 - val_mae: 0.1344 - val_mse: 0.0375\n",
      "Epoch 16/20\n",
      "100/100 [==============================] - 1s 6ms/step - loss: 0.1305 - mae: 0.1305 - mse: 0.0359 - val_loss: 0.1320 - val_mae: 0.1320 - val_mse: 0.0369\n",
      "Epoch 17/20\n",
      "100/100 [==============================] - 1s 6ms/step - loss: 0.1267 - mae: 0.1267 - mse: 0.0350 - val_loss: 0.1321 - val_mae: 0.1321 - val_mse: 0.0404\n",
      "Epoch 18/20\n",
      "100/100 [==============================] - 1s 7ms/step - loss: 0.1235 - mae: 0.1235 - mse: 0.0349 - val_loss: 0.1388 - val_mae: 0.1388 - val_mse: 0.0397\n",
      "Epoch 19/20\n",
      "100/100 [==============================] - 1s 6ms/step - loss: 0.1214 - mae: 0.1214 - mse: 0.0334 - val_loss: 0.1280 - val_mae: 0.1280 - val_mse: 0.0372\n",
      "Epoch 20/20\n",
      "100/100 [==============================] - 1s 6ms/step - loss: 0.1196 - mae: 0.1196 - mse: 0.0335 - val_loss: 0.1292 - val_mae: 0.1292 - val_mse: 0.0412\n",
      "32/32 [==============================] - 0s 4ms/step\n",
      "Epoch 1/20\n",
      "100/100 [==============================] - 2s 11ms/step - loss: 0.3039 - mae: 0.3039 - mse: 0.1387 - val_loss: 0.2699 - val_mae: 0.2699 - val_mse: 0.1145\n",
      "Epoch 2/20\n",
      "100/100 [==============================] - 1s 7ms/step - loss: 0.2448 - mae: 0.2448 - mse: 0.0963 - val_loss: 0.2481 - val_mae: 0.2481 - val_mse: 0.0991\n",
      "Epoch 3/20\n",
      "100/100 [==============================] - 1s 9ms/step - loss: 0.2279 - mae: 0.2279 - mse: 0.0852 - val_loss: 0.2317 - val_mae: 0.2317 - val_mse: 0.0847\n",
      "Epoch 4/20\n",
      "100/100 [==============================] - 1s 7ms/step - loss: 0.2165 - mae: 0.2165 - mse: 0.0787 - val_loss: 0.2193 - val_mae: 0.2193 - val_mse: 0.0804\n",
      "Epoch 5/20\n",
      "100/100 [==============================] - 1s 13ms/step - loss: 0.2054 - mae: 0.2054 - mse: 0.0729 - val_loss: 0.2109 - val_mae: 0.2109 - val_mse: 0.0753\n",
      "Epoch 6/20\n",
      "100/100 [==============================] - 1s 14ms/step - loss: 0.1987 - mae: 0.1987 - mse: 0.0693 - val_loss: 0.2052 - val_mae: 0.2052 - val_mse: 0.0721\n",
      "Epoch 7/20\n",
      "100/100 [==============================] - 2s 18ms/step - loss: 0.1910 - mae: 0.1910 - mse: 0.0653 - val_loss: 0.1989 - val_mae: 0.1989 - val_mse: 0.0706\n",
      "Epoch 8/20\n",
      "100/100 [==============================] - 1s 8ms/step - loss: 0.1832 - mae: 0.1832 - mse: 0.0610 - val_loss: 0.1897 - val_mae: 0.1897 - val_mse: 0.0664\n",
      "Epoch 9/20\n",
      "100/100 [==============================] - 1s 11ms/step - loss: 0.1756 - mae: 0.1756 - mse: 0.0580 - val_loss: 0.1866 - val_mae: 0.1866 - val_mse: 0.0627\n",
      "Epoch 10/20\n",
      "100/100 [==============================] - 1s 9ms/step - loss: 0.1690 - mae: 0.1690 - mse: 0.0540 - val_loss: 0.1815 - val_mae: 0.1815 - val_mse: 0.0578\n",
      "Epoch 11/20\n",
      "100/100 [==============================] - 1s 7ms/step - loss: 0.1614 - mae: 0.1614 - mse: 0.0505 - val_loss: 0.1708 - val_mae: 0.1708 - val_mse: 0.0554\n",
      "Epoch 12/20\n",
      "100/100 [==============================] - 1s 7ms/step - loss: 0.1537 - mae: 0.1537 - mse: 0.0470 - val_loss: 0.1651 - val_mae: 0.1651 - val_mse: 0.0523\n",
      "Epoch 13/20\n",
      "100/100 [==============================] - 1s 7ms/step - loss: 0.1482 - mae: 0.1482 - mse: 0.0449 - val_loss: 0.1587 - val_mae: 0.1587 - val_mse: 0.0511\n",
      "Epoch 14/20\n",
      "100/100 [==============================] - 1s 6ms/step - loss: 0.1425 - mae: 0.1425 - mse: 0.0421 - val_loss: 0.1566 - val_mae: 0.1566 - val_mse: 0.0500\n",
      "Epoch 15/20\n",
      "100/100 [==============================] - 1s 6ms/step - loss: 0.1375 - mae: 0.1375 - mse: 0.0401 - val_loss: 0.1526 - val_mae: 0.1526 - val_mse: 0.0483\n",
      "Epoch 16/20\n",
      "100/100 [==============================] - 1s 7ms/step - loss: 0.1331 - mae: 0.1331 - mse: 0.0381 - val_loss: 0.1462 - val_mae: 0.1462 - val_mse: 0.0446\n",
      "Epoch 17/20\n",
      "100/100 [==============================] - 1s 8ms/step - loss: 0.1296 - mae: 0.1296 - mse: 0.0373 - val_loss: 0.1423 - val_mae: 0.1423 - val_mse: 0.0435\n",
      "Epoch 18/20\n",
      "100/100 [==============================] - 1s 7ms/step - loss: 0.1268 - mae: 0.1268 - mse: 0.0365 - val_loss: 0.1434 - val_mae: 0.1434 - val_mse: 0.0444\n",
      "Epoch 19/20\n",
      "100/100 [==============================] - 1s 7ms/step - loss: 0.1263 - mae: 0.1263 - mse: 0.0366 - val_loss: 0.1399 - val_mae: 0.1399 - val_mse: 0.0441\n",
      "Epoch 20/20\n",
      "100/100 [==============================] - 1s 6ms/step - loss: 0.1220 - mae: 0.1220 - mse: 0.0355 - val_loss: 0.1356 - val_mae: 0.1356 - val_mse: 0.0422\n",
      "32/32 [==============================] - 0s 3ms/step\n",
      "Epoch 1/20\n",
      "100/100 [==============================] - 2s 11ms/step - loss: 0.3319 - mae: 0.3319 - mse: 0.1682 - val_loss: 0.2876 - val_mae: 0.2876 - val_mse: 0.1304\n",
      "Epoch 2/20\n",
      "100/100 [==============================] - 1s 7ms/step - loss: 0.2583 - mae: 0.2583 - mse: 0.1134 - val_loss: 0.2591 - val_mae: 0.2591 - val_mse: 0.1170\n",
      "Epoch 3/20\n",
      "100/100 [==============================] - 1s 12ms/step - loss: 0.2399 - mae: 0.2399 - mse: 0.1033 - val_loss: 0.2420 - val_mae: 0.2420 - val_mse: 0.1017\n",
      "Epoch 4/20\n",
      "100/100 [==============================] - 1s 6ms/step - loss: 0.2224 - mae: 0.2224 - mse: 0.0871 - val_loss: 0.2226 - val_mae: 0.2226 - val_mse: 0.0807\n",
      "Epoch 5/20\n",
      "100/100 [==============================] - 1s 6ms/step - loss: 0.2024 - mae: 0.2024 - mse: 0.0710 - val_loss: 0.1983 - val_mae: 0.1983 - val_mse: 0.0638\n",
      "Epoch 6/20\n",
      "100/100 [==============================] - 1s 6ms/step - loss: 0.1831 - mae: 0.1831 - mse: 0.0590 - val_loss: 0.1821 - val_mae: 0.1821 - val_mse: 0.0588\n",
      "Epoch 7/20\n",
      "100/100 [==============================] - 1s 7ms/step - loss: 0.1673 - mae: 0.1673 - mse: 0.0512 - val_loss: 0.1645 - val_mae: 0.1645 - val_mse: 0.0499\n",
      "Epoch 8/20\n",
      "100/100 [==============================] - 1s 7ms/step - loss: 0.1528 - mae: 0.1528 - mse: 0.0438 - val_loss: 0.1611 - val_mae: 0.1611 - val_mse: 0.0510\n",
      "Epoch 9/20\n",
      "100/100 [==============================] - 1s 7ms/step - loss: 0.1445 - mae: 0.1445 - mse: 0.0419 - val_loss: 0.1459 - val_mae: 0.1459 - val_mse: 0.0435\n",
      "Epoch 10/20\n",
      "100/100 [==============================] - 1s 6ms/step - loss: 0.1378 - mae: 0.1378 - mse: 0.0402 - val_loss: 0.1406 - val_mae: 0.1406 - val_mse: 0.0414\n",
      "Epoch 11/20\n",
      "100/100 [==============================] - 1s 7ms/step - loss: 0.1351 - mae: 0.1351 - mse: 0.0402 - val_loss: 0.1362 - val_mae: 0.1362 - val_mse: 0.0414\n",
      "Epoch 12/20\n",
      "100/100 [==============================] - 1s 6ms/step - loss: 0.1295 - mae: 0.1295 - mse: 0.0383 - val_loss: 0.1343 - val_mae: 0.1343 - val_mse: 0.0411\n",
      "Epoch 13/20\n",
      "100/100 [==============================] - 1s 5ms/step - loss: 0.1262 - mae: 0.1262 - mse: 0.0376 - val_loss: 0.1352 - val_mae: 0.1352 - val_mse: 0.0422\n",
      "Epoch 14/20\n",
      "100/100 [==============================] - 1s 6ms/step - loss: 0.1265 - mae: 0.1265 - mse: 0.0374 - val_loss: 0.1314 - val_mae: 0.1314 - val_mse: 0.0409\n",
      "Epoch 15/20\n",
      "100/100 [==============================] - 1s 6ms/step - loss: 0.1223 - mae: 0.1223 - mse: 0.0363 - val_loss: 0.1351 - val_mae: 0.1351 - val_mse: 0.0432\n",
      "Epoch 16/20\n",
      "100/100 [==============================] - 1s 9ms/step - loss: 0.1231 - mae: 0.1231 - mse: 0.0372 - val_loss: 0.1304 - val_mae: 0.1304 - val_mse: 0.0415\n",
      "Epoch 17/20\n",
      "100/100 [==============================] - 1s 7ms/step - loss: 0.1216 - mae: 0.1216 - mse: 0.0364 - val_loss: 0.1275 - val_mae: 0.1275 - val_mse: 0.0399\n",
      "Epoch 18/20\n",
      "100/100 [==============================] - 1s 7ms/step - loss: 0.1203 - mae: 0.1203 - mse: 0.0357 - val_loss: 0.1295 - val_mae: 0.1295 - val_mse: 0.0410\n",
      "Epoch 19/20\n",
      "100/100 [==============================] - 1s 7ms/step - loss: 0.1184 - mae: 0.1184 - mse: 0.0358 - val_loss: 0.1348 - val_mae: 0.1348 - val_mse: 0.0452\n",
      "Epoch 20/20\n",
      "100/100 [==============================] - 1s 8ms/step - loss: 0.1185 - mae: 0.1185 - mse: 0.0357 - val_loss: 0.1263 - val_mae: 0.1263 - val_mse: 0.0396\n",
      "32/32 [==============================] - 0s 3ms/step\n",
      "Epoch 1/20\n",
      "100/100 [==============================] - 2s 9ms/step - loss: 0.3726 - mae: 0.3726 - mse: 0.2756 - val_loss: 0.3828 - val_mae: 0.3828 - val_mse: 0.2857\n",
      "Epoch 2/20\n",
      "100/100 [==============================] - 1s 6ms/step - loss: 0.3726 - mae: 0.3726 - mse: 0.2756 - val_loss: 0.3828 - val_mae: 0.3828 - val_mse: 0.2857\n",
      "Epoch 3/20\n",
      "100/100 [==============================] - 1s 7ms/step - loss: 0.3726 - mae: 0.3726 - mse: 0.2756 - val_loss: 0.3828 - val_mae: 0.3828 - val_mse: 0.2857\n",
      "Epoch 4/20\n",
      "100/100 [==============================] - 1s 7ms/step - loss: 0.3726 - mae: 0.3726 - mse: 0.2756 - val_loss: 0.3828 - val_mae: 0.3828 - val_mse: 0.2857\n",
      "Epoch 5/20\n",
      "100/100 [==============================] - 1s 6ms/step - loss: 0.3726 - mae: 0.3726 - mse: 0.2756 - val_loss: 0.3828 - val_mae: 0.3828 - val_mse: 0.2857\n",
      "Epoch 6/20\n",
      "100/100 [==============================] - 1s 9ms/step - loss: 0.3726 - mae: 0.3726 - mse: 0.2756 - val_loss: 0.3828 - val_mae: 0.3828 - val_mse: 0.2857\n",
      "Epoch 7/20\n",
      "100/100 [==============================] - 1s 8ms/step - loss: 0.3726 - mae: 0.3726 - mse: 0.2756 - val_loss: 0.3828 - val_mae: 0.3828 - val_mse: 0.2857\n",
      "Epoch 8/20\n",
      "100/100 [==============================] - 1s 7ms/step - loss: 0.3726 - mae: 0.3726 - mse: 0.2756 - val_loss: 0.3828 - val_mae: 0.3828 - val_mse: 0.2857\n",
      "Epoch 9/20\n",
      "100/100 [==============================] - 1s 9ms/step - loss: 0.3726 - mae: 0.3726 - mse: 0.2756 - val_loss: 0.3828 - val_mae: 0.3828 - val_mse: 0.2857\n",
      "Epoch 10/20\n",
      "100/100 [==============================] - 1s 13ms/step - loss: 0.3726 - mae: 0.3726 - mse: 0.2756 - val_loss: 0.3828 - val_mae: 0.3828 - val_mse: 0.2857\n",
      "Epoch 11/20\n",
      "100/100 [==============================] - 1s 14ms/step - loss: 0.3726 - mae: 0.3726 - mse: 0.2756 - val_loss: 0.3828 - val_mae: 0.3828 - val_mse: 0.2857\n",
      "Epoch 12/20\n",
      "100/100 [==============================] - 1s 10ms/step - loss: 0.3726 - mae: 0.3726 - mse: 0.2756 - val_loss: 0.3828 - val_mae: 0.3828 - val_mse: 0.2857\n",
      "Epoch 13/20\n",
      "100/100 [==============================] - 1s 8ms/step - loss: 0.3726 - mae: 0.3726 - mse: 0.2756 - val_loss: 0.3828 - val_mae: 0.3828 - val_mse: 0.2857\n",
      "Epoch 14/20\n",
      "100/100 [==============================] - 1s 11ms/step - loss: 0.3726 - mae: 0.3726 - mse: 0.2756 - val_loss: 0.3828 - val_mae: 0.3828 - val_mse: 0.2857\n",
      "Epoch 15/20\n",
      "100/100 [==============================] - 1s 11ms/step - loss: 0.3726 - mae: 0.3726 - mse: 0.2756 - val_loss: 0.3828 - val_mae: 0.3828 - val_mse: 0.2857\n",
      "Epoch 16/20\n",
      "100/100 [==============================] - 1s 11ms/step - loss: 0.3726 - mae: 0.3726 - mse: 0.2756 - val_loss: 0.3828 - val_mae: 0.3828 - val_mse: 0.2857\n",
      "Epoch 17/20\n",
      "100/100 [==============================] - 1s 8ms/step - loss: 0.3726 - mae: 0.3726 - mse: 0.2756 - val_loss: 0.3828 - val_mae: 0.3828 - val_mse: 0.2857\n",
      "Epoch 18/20\n",
      "100/100 [==============================] - 1s 9ms/step - loss: 0.3726 - mae: 0.3726 - mse: 0.2756 - val_loss: 0.3828 - val_mae: 0.3828 - val_mse: 0.2857\n",
      "Epoch 19/20\n",
      "100/100 [==============================] - 1s 10ms/step - loss: 0.3726 - mae: 0.3726 - mse: 0.2756 - val_loss: 0.3828 - val_mae: 0.3828 - val_mse: 0.2857\n",
      "Epoch 20/20\n",
      "100/100 [==============================] - 1s 7ms/step - loss: 0.3726 - mae: 0.3726 - mse: 0.2756 - val_loss: 0.3828 - val_mae: 0.3828 - val_mse: 0.2857\n",
      "32/32 [==============================] - 0s 3ms/step\n",
      "Epoch 1/20\n",
      "100/100 [==============================] - 2s 11ms/step - loss: 0.3621 - mae: 0.3621 - mse: 0.2518 - val_loss: 0.3537 - val_mae: 0.3537 - val_mse: 0.2365\n",
      "Epoch 2/20\n",
      "100/100 [==============================] - 1s 6ms/step - loss: 0.3468 - mae: 0.3468 - mse: 0.2197 - val_loss: 0.3360 - val_mae: 0.3360 - val_mse: 0.2039\n",
      "Epoch 3/20\n",
      "100/100 [==============================] - 1s 5ms/step - loss: 0.3352 - mae: 0.3352 - mse: 0.1948 - val_loss: 0.3238 - val_mae: 0.3238 - val_mse: 0.1836\n",
      "Epoch 4/20\n",
      "100/100 [==============================] - 1s 6ms/step - loss: 0.3247 - mae: 0.3247 - mse: 0.1795 - val_loss: 0.3143 - val_mae: 0.3143 - val_mse: 0.1681\n",
      "Epoch 5/20\n",
      "100/100 [==============================] - 1s 7ms/step - loss: 0.3146 - mae: 0.3146 - mse: 0.1620 - val_loss: 0.3057 - val_mae: 0.3057 - val_mse: 0.1569\n",
      "Epoch 6/20\n",
      "100/100 [==============================] - 1s 5ms/step - loss: 0.3051 - mae: 0.3051 - mse: 0.1521 - val_loss: 0.2976 - val_mae: 0.2976 - val_mse: 0.1461\n",
      "Epoch 7/20\n",
      "100/100 [==============================] - 1s 6ms/step - loss: 0.2959 - mae: 0.2959 - mse: 0.1433 - val_loss: 0.2899 - val_mae: 0.2899 - val_mse: 0.1354\n",
      "Epoch 8/20\n",
      "100/100 [==============================] - 1s 5ms/step - loss: 0.2873 - mae: 0.2873 - mse: 0.1339 - val_loss: 0.2820 - val_mae: 0.2820 - val_mse: 0.1271\n",
      "Epoch 9/20\n",
      "100/100 [==============================] - 1s 6ms/step - loss: 0.2791 - mae: 0.2791 - mse: 0.1260 - val_loss: 0.2746 - val_mae: 0.2746 - val_mse: 0.1205\n",
      "Epoch 10/20\n",
      "100/100 [==============================] - 1s 6ms/step - loss: 0.2705 - mae: 0.2705 - mse: 0.1192 - val_loss: 0.2675 - val_mae: 0.2675 - val_mse: 0.1140\n",
      "Epoch 11/20\n",
      "100/100 [==============================] - 1s 5ms/step - loss: 0.2628 - mae: 0.2628 - mse: 0.1117 - val_loss: 0.2610 - val_mae: 0.2610 - val_mse: 0.1091\n",
      "Epoch 12/20\n",
      "100/100 [==============================] - 1s 5ms/step - loss: 0.2557 - mae: 0.2557 - mse: 0.1074 - val_loss: 0.2551 - val_mae: 0.2551 - val_mse: 0.1039\n",
      "Epoch 13/20\n",
      "100/100 [==============================] - 1s 7ms/step - loss: 0.2494 - mae: 0.2494 - mse: 0.1017 - val_loss: 0.2500 - val_mae: 0.2500 - val_mse: 0.1007\n",
      "Epoch 14/20\n",
      "100/100 [==============================] - 1s 6ms/step - loss: 0.2438 - mae: 0.2438 - mse: 0.0993 - val_loss: 0.2448 - val_mae: 0.2448 - val_mse: 0.0956\n",
      "Epoch 15/20\n",
      "100/100 [==============================] - 1s 6ms/step - loss: 0.2389 - mae: 0.2389 - mse: 0.0948 - val_loss: 0.2411 - val_mae: 0.2411 - val_mse: 0.0942\n",
      "Epoch 16/20\n",
      "100/100 [==============================] - 1s 6ms/step - loss: 0.2345 - mae: 0.2345 - mse: 0.0921 - val_loss: 0.2381 - val_mae: 0.2381 - val_mse: 0.0925\n",
      "Epoch 17/20\n",
      "100/100 [==============================] - 1s 6ms/step - loss: 0.2309 - mae: 0.2309 - mse: 0.0899 - val_loss: 0.2359 - val_mae: 0.2359 - val_mse: 0.0915\n",
      "Epoch 18/20\n",
      "100/100 [==============================] - 1s 5ms/step - loss: 0.2278 - mae: 0.2278 - mse: 0.0882 - val_loss: 0.2322 - val_mae: 0.2322 - val_mse: 0.0867\n",
      "Epoch 19/20\n",
      "100/100 [==============================] - 1s 6ms/step - loss: 0.2251 - mae: 0.2251 - mse: 0.0856 - val_loss: 0.2306 - val_mae: 0.2306 - val_mse: 0.0866\n",
      "Epoch 20/20\n",
      "100/100 [==============================] - 1s 8ms/step - loss: 0.2227 - mae: 0.2227 - mse: 0.0842 - val_loss: 0.2278 - val_mae: 0.2278 - val_mse: 0.0838\n",
      "32/32 [==============================] - 0s 2ms/step\n",
      "Epoch 1/20\n",
      "100/100 [==============================] - 2s 13ms/step - loss: 0.3753 - mae: 0.3753 - mse: 0.2805 - val_loss: 0.3794 - val_mae: 0.3794 - val_mse: 0.2812\n",
      "Epoch 2/20\n",
      "100/100 [==============================] - 1s 8ms/step - loss: 0.3753 - mae: 0.3753 - mse: 0.2805 - val_loss: 0.3794 - val_mae: 0.3794 - val_mse: 0.2812\n",
      "Epoch 3/20\n",
      "100/100 [==============================] - 1s 7ms/step - loss: 0.3753 - mae: 0.3753 - mse: 0.2805 - val_loss: 0.3794 - val_mae: 0.3794 - val_mse: 0.2812\n",
      "Epoch 4/20\n",
      "100/100 [==============================] - 1s 7ms/step - loss: 0.3753 - mae: 0.3753 - mse: 0.2805 - val_loss: 0.3794 - val_mae: 0.3794 - val_mse: 0.2812\n",
      "Epoch 5/20\n",
      "100/100 [==============================] - 1s 7ms/step - loss: 0.3753 - mae: 0.3753 - mse: 0.2805 - val_loss: 0.3794 - val_mae: 0.3794 - val_mse: 0.2812\n",
      "Epoch 6/20\n",
      "100/100 [==============================] - 1s 6ms/step - loss: 0.3753 - mae: 0.3753 - mse: 0.2805 - val_loss: 0.3794 - val_mae: 0.3794 - val_mse: 0.2812\n",
      "Epoch 7/20\n",
      "100/100 [==============================] - 1s 7ms/step - loss: 0.3753 - mae: 0.3753 - mse: 0.2805 - val_loss: 0.3794 - val_mae: 0.3794 - val_mse: 0.2812\n",
      "Epoch 8/20\n",
      "100/100 [==============================] - 1s 6ms/step - loss: 0.3753 - mae: 0.3753 - mse: 0.2805 - val_loss: 0.3794 - val_mae: 0.3794 - val_mse: 0.2812\n",
      "Epoch 9/20\n",
      "100/100 [==============================] - 1s 7ms/step - loss: 0.3753 - mae: 0.3753 - mse: 0.2805 - val_loss: 0.3794 - val_mae: 0.3794 - val_mse: 0.2812\n",
      "Epoch 10/20\n",
      "100/100 [==============================] - 1s 7ms/step - loss: 0.3753 - mae: 0.3753 - mse: 0.2805 - val_loss: 0.3794 - val_mae: 0.3794 - val_mse: 0.2812\n",
      "Epoch 11/20\n",
      "100/100 [==============================] - 1s 7ms/step - loss: 0.3753 - mae: 0.3753 - mse: 0.2805 - val_loss: 0.3794 - val_mae: 0.3794 - val_mse: 0.2812\n",
      "Epoch 12/20\n",
      "100/100 [==============================] - 1s 8ms/step - loss: 0.3753 - mae: 0.3753 - mse: 0.2805 - val_loss: 0.3794 - val_mae: 0.3794 - val_mse: 0.2812\n",
      "Epoch 13/20\n",
      "100/100 [==============================] - 1s 7ms/step - loss: 0.3753 - mae: 0.3753 - mse: 0.2805 - val_loss: 0.3794 - val_mae: 0.3794 - val_mse: 0.2812\n",
      "Epoch 14/20\n",
      "100/100 [==============================] - 1s 7ms/step - loss: 0.3753 - mae: 0.3753 - mse: 0.2805 - val_loss: 0.3794 - val_mae: 0.3794 - val_mse: 0.2812\n",
      "Epoch 15/20\n",
      "100/100 [==============================] - 1s 7ms/step - loss: 0.3753 - mae: 0.3753 - mse: 0.2805 - val_loss: 0.3794 - val_mae: 0.3794 - val_mse: 0.2812\n",
      "Epoch 16/20\n",
      "100/100 [==============================] - 1s 9ms/step - loss: 0.3753 - mae: 0.3753 - mse: 0.2805 - val_loss: 0.3794 - val_mae: 0.3794 - val_mse: 0.2812\n",
      "Epoch 17/20\n",
      "100/100 [==============================] - 1s 12ms/step - loss: 0.3753 - mae: 0.3753 - mse: 0.2805 - val_loss: 0.3794 - val_mae: 0.3794 - val_mse: 0.2812\n",
      "Epoch 18/20\n",
      "100/100 [==============================] - 1s 14ms/step - loss: 0.3753 - mae: 0.3753 - mse: 0.2805 - val_loss: 0.3794 - val_mae: 0.3794 - val_mse: 0.2812\n",
      "Epoch 19/20\n",
      "100/100 [==============================] - 1s 15ms/step - loss: 0.3753 - mae: 0.3753 - mse: 0.2805 - val_loss: 0.3794 - val_mae: 0.3794 - val_mse: 0.2812\n",
      "Epoch 20/20\n",
      "100/100 [==============================] - 1s 10ms/step - loss: 0.3753 - mae: 0.3753 - mse: 0.2805 - val_loss: 0.3794 - val_mae: 0.3794 - val_mse: 0.2812\n",
      "32/32 [==============================] - 0s 4ms/step\n",
      "Epoch 1/20\n",
      "100/100 [==============================] - 2s 10ms/step - loss: 0.3671 - mae: 0.3671 - mse: 0.2674 - val_loss: 0.3711 - val_mae: 0.3711 - val_mse: 0.2592\n",
      "Epoch 2/20\n",
      "100/100 [==============================] - 1s 8ms/step - loss: 0.3527 - mae: 0.3527 - mse: 0.2329 - val_loss: 0.3512 - val_mae: 0.3512 - val_mse: 0.2160\n",
      "Epoch 3/20\n",
      "100/100 [==============================] - 1s 9ms/step - loss: 0.3324 - mae: 0.3324 - mse: 0.1914 - val_loss: 0.3255 - val_mae: 0.3255 - val_mse: 0.1750\n",
      "Epoch 4/20\n",
      "100/100 [==============================] - 1s 7ms/step - loss: 0.3092 - mae: 0.3092 - mse: 0.1565 - val_loss: 0.3020 - val_mae: 0.3020 - val_mse: 0.1440\n",
      "Epoch 5/20\n",
      "100/100 [==============================] - 1s 7ms/step - loss: 0.2913 - mae: 0.2913 - mse: 0.1363 - val_loss: 0.2875 - val_mae: 0.2875 - val_mse: 0.1277\n",
      "Epoch 6/20\n",
      "100/100 [==============================] - 1s 7ms/step - loss: 0.2793 - mae: 0.2793 - mse: 0.1214 - val_loss: 0.2771 - val_mae: 0.2771 - val_mse: 0.1190\n",
      "Epoch 7/20\n",
      "100/100 [==============================] - 1s 7ms/step - loss: 0.2712 - mae: 0.2712 - mse: 0.1164 - val_loss: 0.2694 - val_mae: 0.2694 - val_mse: 0.1127\n",
      "Epoch 8/20\n",
      "100/100 [==============================] - 1s 11ms/step - loss: 0.2647 - mae: 0.2647 - mse: 0.1125 - val_loss: 0.2638 - val_mae: 0.2638 - val_mse: 0.1090\n",
      "Epoch 9/20\n",
      "100/100 [==============================] - 1s 7ms/step - loss: 0.2589 - mae: 0.2589 - mse: 0.1084 - val_loss: 0.2584 - val_mae: 0.2584 - val_mse: 0.1049\n",
      "Epoch 10/20\n",
      "100/100 [==============================] - 1s 11ms/step - loss: 0.2537 - mae: 0.2537 - mse: 0.1048 - val_loss: 0.2537 - val_mae: 0.2537 - val_mse: 0.1024\n",
      "Epoch 11/20\n",
      "100/100 [==============================] - 1s 8ms/step - loss: 0.2496 - mae: 0.2496 - mse: 0.1028 - val_loss: 0.2498 - val_mae: 0.2498 - val_mse: 0.1002\n",
      "Epoch 12/20\n",
      "100/100 [==============================] - 1s 8ms/step - loss: 0.2461 - mae: 0.2461 - mse: 0.1015 - val_loss: 0.2465 - val_mae: 0.2465 - val_mse: 0.0984\n",
      "Epoch 13/20\n",
      "100/100 [==============================] - 1s 9ms/step - loss: 0.2434 - mae: 0.2434 - mse: 0.0993 - val_loss: 0.2436 - val_mae: 0.2436 - val_mse: 0.0964\n",
      "Epoch 14/20\n",
      "100/100 [==============================] - 1s 8ms/step - loss: 0.2410 - mae: 0.2410 - mse: 0.0977 - val_loss: 0.2413 - val_mae: 0.2413 - val_mse: 0.0949\n",
      "Epoch 15/20\n",
      "100/100 [==============================] - 1s 8ms/step - loss: 0.2387 - mae: 0.2387 - mse: 0.0952 - val_loss: 0.2396 - val_mae: 0.2396 - val_mse: 0.0943\n",
      "Epoch 16/20\n",
      "100/100 [==============================] - 1s 10ms/step - loss: 0.2367 - mae: 0.2367 - mse: 0.0945 - val_loss: 0.2374 - val_mae: 0.2374 - val_mse: 0.0927\n",
      "Epoch 17/20\n",
      "100/100 [==============================] - 1s 8ms/step - loss: 0.2349 - mae: 0.2349 - mse: 0.0930 - val_loss: 0.2354 - val_mae: 0.2354 - val_mse: 0.0912\n",
      "Epoch 18/20\n",
      "100/100 [==============================] - 1s 7ms/step - loss: 0.2330 - mae: 0.2330 - mse: 0.0911 - val_loss: 0.2346 - val_mae: 0.2346 - val_mse: 0.0910\n",
      "Epoch 19/20\n",
      "100/100 [==============================] - 1s 8ms/step - loss: 0.2316 - mae: 0.2316 - mse: 0.0906 - val_loss: 0.2329 - val_mae: 0.2329 - val_mse: 0.0895\n",
      "Epoch 20/20\n",
      "100/100 [==============================] - 1s 8ms/step - loss: 0.2299 - mae: 0.2299 - mse: 0.0888 - val_loss: 0.2316 - val_mae: 0.2316 - val_mse: 0.0884\n",
      "32/32 [==============================] - 0s 3ms/step\n",
      "Epoch 1/20\n",
      "100/100 [==============================] - 2s 10ms/step - loss: 0.3731 - mae: 0.3731 - mse: 0.2779 - val_loss: 0.3763 - val_mae: 0.3763 - val_mse: 0.2754\n",
      "Epoch 2/20\n",
      "100/100 [==============================] - 1s 7ms/step - loss: 0.3712 - mae: 0.3712 - mse: 0.2725 - val_loss: 0.3739 - val_mae: 0.3739 - val_mse: 0.2691\n",
      "Epoch 3/20\n",
      "100/100 [==============================] - 1s 6ms/step - loss: 0.3687 - mae: 0.3687 - mse: 0.2666 - val_loss: 0.3712 - val_mae: 0.3712 - val_mse: 0.2636\n",
      "Epoch 4/20\n",
      "100/100 [==============================] - 1s 7ms/step - loss: 0.3660 - mae: 0.3660 - mse: 0.2608 - val_loss: 0.3681 - val_mae: 0.3681 - val_mse: 0.2577\n",
      "Epoch 5/20\n",
      "100/100 [==============================] - 1s 7ms/step - loss: 0.3631 - mae: 0.3631 - mse: 0.2548 - val_loss: 0.3651 - val_mae: 0.3651 - val_mse: 0.2521\n",
      "Epoch 6/20\n",
      "100/100 [==============================] - 1s 7ms/step - loss: 0.3603 - mae: 0.3603 - mse: 0.2490 - val_loss: 0.3622 - val_mae: 0.3622 - val_mse: 0.2463\n",
      "Epoch 7/20\n",
      "100/100 [==============================] - 1s 7ms/step - loss: 0.3575 - mae: 0.3575 - mse: 0.2436 - val_loss: 0.3594 - val_mae: 0.3594 - val_mse: 0.2410\n",
      "Epoch 8/20\n",
      "100/100 [==============================] - 1s 8ms/step - loss: 0.3547 - mae: 0.3547 - mse: 0.2383 - val_loss: 0.3564 - val_mae: 0.3564 - val_mse: 0.2352\n",
      "Epoch 9/20\n",
      "100/100 [==============================] - 1s 8ms/step - loss: 0.3519 - mae: 0.3519 - mse: 0.2327 - val_loss: 0.3533 - val_mae: 0.3533 - val_mse: 0.2302\n",
      "Epoch 10/20\n",
      "100/100 [==============================] - 1s 9ms/step - loss: 0.3486 - mae: 0.3486 - mse: 0.2269 - val_loss: 0.3495 - val_mae: 0.3495 - val_mse: 0.2237\n",
      "Epoch 11/20\n",
      "100/100 [==============================] - 1s 7ms/step - loss: 0.3435 - mae: 0.3435 - mse: 0.2178 - val_loss: 0.3424 - val_mae: 0.3424 - val_mse: 0.2121\n",
      "Epoch 12/20\n",
      "100/100 [==============================] - 1s 7ms/step - loss: 0.3337 - mae: 0.3337 - mse: 0.2007 - val_loss: 0.3296 - val_mae: 0.3296 - val_mse: 0.1911\n",
      "Epoch 13/20\n",
      "100/100 [==============================] - 1s 7ms/step - loss: 0.3193 - mae: 0.3193 - mse: 0.1782 - val_loss: 0.3147 - val_mae: 0.3147 - val_mse: 0.1681\n",
      "Epoch 14/20\n",
      "100/100 [==============================] - 1s 6ms/step - loss: 0.3046 - mae: 0.3046 - mse: 0.1544 - val_loss: 0.3010 - val_mae: 0.3010 - val_mse: 0.1490\n",
      "Epoch 15/20\n",
      "100/100 [==============================] - 1s 6ms/step - loss: 0.2915 - mae: 0.2915 - mse: 0.1383 - val_loss: 0.2904 - val_mae: 0.2904 - val_mse: 0.1348\n",
      "Epoch 16/20\n",
      "100/100 [==============================] - 1s 7ms/step - loss: 0.2812 - mae: 0.2812 - mse: 0.1258 - val_loss: 0.2818 - val_mae: 0.2818 - val_mse: 0.1261\n",
      "Epoch 17/20\n",
      "100/100 [==============================] - 1s 6ms/step - loss: 0.2712 - mae: 0.2712 - mse: 0.1175 - val_loss: 0.2724 - val_mae: 0.2724 - val_mse: 0.1172\n",
      "Epoch 18/20\n",
      "100/100 [==============================] - 1s 6ms/step - loss: 0.2607 - mae: 0.2607 - mse: 0.1072 - val_loss: 0.2633 - val_mae: 0.2633 - val_mse: 0.1093\n",
      "Epoch 19/20\n",
      "100/100 [==============================] - 1s 7ms/step - loss: 0.2507 - mae: 0.2507 - mse: 0.1002 - val_loss: 0.2542 - val_mae: 0.2542 - val_mse: 0.1007\n",
      "Epoch 20/20\n",
      "100/100 [==============================] - 1s 8ms/step - loss: 0.2416 - mae: 0.2416 - mse: 0.0928 - val_loss: 0.2478 - val_mae: 0.2478 - val_mse: 0.0986\n",
      "32/32 [==============================] - 0s 4ms/step\n",
      "Epoch 1/20\n",
      "100/100 [==============================] - 2s 11ms/step - loss: 0.3677 - mae: 0.3677 - mse: 0.2617 - val_loss: 0.3728 - val_mae: 0.3728 - val_mse: 0.2599\n",
      "Epoch 2/20\n",
      "100/100 [==============================] - 1s 8ms/step - loss: 0.3605 - mae: 0.3605 - mse: 0.2434 - val_loss: 0.3633 - val_mae: 0.3633 - val_mse: 0.2375\n",
      "Epoch 3/20\n",
      "100/100 [==============================] - 1s 7ms/step - loss: 0.3514 - mae: 0.3514 - mse: 0.2234 - val_loss: 0.3527 - val_mae: 0.3527 - val_mse: 0.2157\n",
      "Epoch 4/20\n",
      "100/100 [==============================] - 1s 6ms/step - loss: 0.3419 - mae: 0.3419 - mse: 0.2027 - val_loss: 0.3418 - val_mae: 0.3418 - val_mse: 0.1946\n",
      "Epoch 5/20\n",
      "100/100 [==============================] - 1s 7ms/step - loss: 0.3327 - mae: 0.3327 - mse: 0.1847 - val_loss: 0.3328 - val_mae: 0.3328 - val_mse: 0.1784\n",
      "Epoch 6/20\n",
      "100/100 [==============================] - 1s 7ms/step - loss: 0.3244 - mae: 0.3244 - mse: 0.1686 - val_loss: 0.3233 - val_mae: 0.3233 - val_mse: 0.1629\n",
      "Epoch 7/20\n",
      "100/100 [==============================] - 1s 8ms/step - loss: 0.3151 - mae: 0.3151 - mse: 0.1539 - val_loss: 0.3146 - val_mae: 0.3146 - val_mse: 0.1501\n",
      "Epoch 8/20\n",
      "100/100 [==============================] - 1s 8ms/step - loss: 0.3063 - mae: 0.3063 - mse: 0.1443 - val_loss: 0.3061 - val_mae: 0.3061 - val_mse: 0.1411\n",
      "Epoch 9/20\n",
      "100/100 [==============================] - 1s 9ms/step - loss: 0.2975 - mae: 0.2975 - mse: 0.1348 - val_loss: 0.2975 - val_mae: 0.2975 - val_mse: 0.1316\n",
      "Epoch 10/20\n",
      "100/100 [==============================] - 1s 7ms/step - loss: 0.2905 - mae: 0.2905 - mse: 0.1290 - val_loss: 0.2913 - val_mae: 0.2913 - val_mse: 0.1261\n",
      "Epoch 11/20\n",
      "100/100 [==============================] - 1s 8ms/step - loss: 0.2848 - mae: 0.2848 - mse: 0.1238 - val_loss: 0.2859 - val_mae: 0.2859 - val_mse: 0.1222\n",
      "Epoch 12/20\n",
      "100/100 [==============================] - 1s 8ms/step - loss: 0.2799 - mae: 0.2799 - mse: 0.1194 - val_loss: 0.2809 - val_mae: 0.2809 - val_mse: 0.1186\n",
      "Epoch 13/20\n",
      "100/100 [==============================] - 1s 7ms/step - loss: 0.2754 - mae: 0.2754 - mse: 0.1165 - val_loss: 0.2763 - val_mae: 0.2763 - val_mse: 0.1153\n",
      "Epoch 14/20\n",
      "100/100 [==============================] - 1s 7ms/step - loss: 0.2710 - mae: 0.2710 - mse: 0.1133 - val_loss: 0.2715 - val_mae: 0.2715 - val_mse: 0.1121\n",
      "Epoch 15/20\n",
      "100/100 [==============================] - 1s 7ms/step - loss: 0.2667 - mae: 0.2667 - mse: 0.1107 - val_loss: 0.2675 - val_mae: 0.2675 - val_mse: 0.1098\n",
      "Epoch 16/20\n",
      "100/100 [==============================] - 1s 7ms/step - loss: 0.2629 - mae: 0.2629 - mse: 0.1089 - val_loss: 0.2643 - val_mae: 0.2643 - val_mse: 0.1084\n",
      "Epoch 17/20\n",
      "100/100 [==============================] - 1s 8ms/step - loss: 0.2597 - mae: 0.2597 - mse: 0.1074 - val_loss: 0.2615 - val_mae: 0.2615 - val_mse: 0.1068\n",
      "Epoch 18/20\n",
      "100/100 [==============================] - 1s 7ms/step - loss: 0.2571 - mae: 0.2571 - mse: 0.1055 - val_loss: 0.2595 - val_mae: 0.2595 - val_mse: 0.1059\n",
      "Epoch 19/20\n",
      "100/100 [==============================] - 1s 7ms/step - loss: 0.2549 - mae: 0.2549 - mse: 0.1047 - val_loss: 0.2576 - val_mae: 0.2576 - val_mse: 0.1049\n",
      "Epoch 20/20\n",
      "100/100 [==============================] - 1s 7ms/step - loss: 0.2529 - mae: 0.2529 - mse: 0.1039 - val_loss: 0.2558 - val_mae: 0.2558 - val_mse: 0.1037\n",
      "32/32 [==============================] - 0s 6ms/step\n",
      "Epoch 1/20\n",
      "100/100 [==============================] - 2s 9ms/step - loss: 0.3767 - mae: 0.3767 - mse: 0.2802 - val_loss: 0.3791 - val_mae: 0.3791 - val_mse: 0.2826\n",
      "Epoch 2/20\n",
      "100/100 [==============================] - 1s 7ms/step - loss: 0.3767 - mae: 0.3767 - mse: 0.2802 - val_loss: 0.3791 - val_mae: 0.3791 - val_mse: 0.2826\n",
      "Epoch 3/20\n",
      "100/100 [==============================] - 1s 9ms/step - loss: 0.3767 - mae: 0.3767 - mse: 0.2802 - val_loss: 0.3791 - val_mae: 0.3791 - val_mse: 0.2826\n",
      "Epoch 4/20\n",
      "100/100 [==============================] - 1s 7ms/step - loss: 0.3767 - mae: 0.3767 - mse: 0.2802 - val_loss: 0.3791 - val_mae: 0.3791 - val_mse: 0.2826\n",
      "Epoch 5/20\n",
      "100/100 [==============================] - 1s 8ms/step - loss: 0.3767 - mae: 0.3767 - mse: 0.2802 - val_loss: 0.3791 - val_mae: 0.3791 - val_mse: 0.2826\n",
      "Epoch 6/20\n",
      "100/100 [==============================] - 1s 8ms/step - loss: 0.3767 - mae: 0.3767 - mse: 0.2802 - val_loss: 0.3791 - val_mae: 0.3791 - val_mse: 0.2826\n",
      "Epoch 7/20\n",
      "100/100 [==============================] - 1s 7ms/step - loss: 0.3767 - mae: 0.3767 - mse: 0.2802 - val_loss: 0.3791 - val_mae: 0.3791 - val_mse: 0.2826\n",
      "Epoch 8/20\n",
      "100/100 [==============================] - 1s 8ms/step - loss: 0.3767 - mae: 0.3767 - mse: 0.2802 - val_loss: 0.3791 - val_mae: 0.3791 - val_mse: 0.2826\n",
      "Epoch 9/20\n",
      "100/100 [==============================] - 1s 7ms/step - loss: 0.3767 - mae: 0.3767 - mse: 0.2802 - val_loss: 0.3791 - val_mae: 0.3791 - val_mse: 0.2826\n",
      "Epoch 10/20\n",
      "100/100 [==============================] - 1s 7ms/step - loss: 0.3767 - mae: 0.3767 - mse: 0.2802 - val_loss: 0.3791 - val_mae: 0.3791 - val_mse: 0.2826\n",
      "Epoch 11/20\n",
      "100/100 [==============================] - 1s 7ms/step - loss: 0.3767 - mae: 0.3767 - mse: 0.2802 - val_loss: 0.3791 - val_mae: 0.3791 - val_mse: 0.2826\n",
      "Epoch 12/20\n",
      "100/100 [==============================] - 1s 6ms/step - loss: 0.3767 - mae: 0.3767 - mse: 0.2802 - val_loss: 0.3791 - val_mae: 0.3791 - val_mse: 0.2826\n",
      "Epoch 13/20\n",
      "100/100 [==============================] - 1s 7ms/step - loss: 0.3767 - mae: 0.3767 - mse: 0.2802 - val_loss: 0.3791 - val_mae: 0.3791 - val_mse: 0.2826\n",
      "Epoch 14/20\n",
      "100/100 [==============================] - 1s 7ms/step - loss: 0.3767 - mae: 0.3767 - mse: 0.2802 - val_loss: 0.3791 - val_mae: 0.3791 - val_mse: 0.2826\n",
      "Epoch 15/20\n",
      "100/100 [==============================] - 1s 7ms/step - loss: 0.3767 - mae: 0.3767 - mse: 0.2802 - val_loss: 0.3791 - val_mae: 0.3791 - val_mse: 0.2826\n",
      "Epoch 16/20\n",
      "100/100 [==============================] - 1s 8ms/step - loss: 0.3767 - mae: 0.3767 - mse: 0.2802 - val_loss: 0.3791 - val_mae: 0.3791 - val_mse: 0.2826\n",
      "Epoch 17/20\n",
      "100/100 [==============================] - 1s 7ms/step - loss: 0.3767 - mae: 0.3767 - mse: 0.2802 - val_loss: 0.3791 - val_mae: 0.3791 - val_mse: 0.2826\n",
      "Epoch 18/20\n",
      "100/100 [==============================] - 1s 7ms/step - loss: 0.3767 - mae: 0.3767 - mse: 0.2802 - val_loss: 0.3791 - val_mae: 0.3791 - val_mse: 0.2826\n",
      "Epoch 19/20\n",
      "100/100 [==============================] - 1s 9ms/step - loss: 0.3767 - mae: 0.3767 - mse: 0.2802 - val_loss: 0.3791 - val_mae: 0.3791 - val_mse: 0.2826\n",
      "Epoch 20/20\n",
      "100/100 [==============================] - 1s 8ms/step - loss: 0.3767 - mae: 0.3767 - mse: 0.2802 - val_loss: 0.3791 - val_mae: 0.3791 - val_mse: 0.2826\n",
      "32/32 [==============================] - 0s 4ms/step\n",
      "Epoch 1/20\n",
      "100/100 [==============================] - 3s 22ms/step - loss: 0.3369 - mae: 0.3369 - mse: 0.1478 - val_loss: 0.3227 - val_mae: 0.3227 - val_mse: 0.1520\n",
      "Epoch 2/20\n",
      "100/100 [==============================] - 1s 11ms/step - loss: 0.3303 - mae: 0.3303 - mse: 0.1532 - val_loss: 0.3216 - val_mae: 0.3216 - val_mse: 0.1516\n",
      "Epoch 3/20\n",
      "100/100 [==============================] - 1s 7ms/step - loss: 0.3288 - mae: 0.3288 - mse: 0.1515 - val_loss: 0.3202 - val_mae: 0.3202 - val_mse: 0.1481\n",
      "Epoch 4/20\n",
      "100/100 [==============================] - 1s 7ms/step - loss: 0.3272 - mae: 0.3272 - mse: 0.1500 - val_loss: 0.3182 - val_mae: 0.3182 - val_mse: 0.1473\n",
      "Epoch 5/20\n",
      "100/100 [==============================] - 1s 7ms/step - loss: 0.3244 - mae: 0.3244 - mse: 0.1464 - val_loss: 0.3163 - val_mae: 0.3163 - val_mse: 0.1472\n",
      "Epoch 6/20\n",
      "100/100 [==============================] - 1s 9ms/step - loss: 0.3205 - mae: 0.3205 - mse: 0.1423 - val_loss: 0.3110 - val_mae: 0.3110 - val_mse: 0.1369\n",
      "Epoch 7/20\n",
      "100/100 [==============================] - 1s 8ms/step - loss: 0.3142 - mae: 0.3142 - mse: 0.1355 - val_loss: 0.3034 - val_mae: 0.3034 - val_mse: 0.1309\n",
      "Epoch 8/20\n",
      "100/100 [==============================] - 1s 7ms/step - loss: 0.3043 - mae: 0.3043 - mse: 0.1244 - val_loss: 0.2910 - val_mae: 0.2910 - val_mse: 0.1181\n",
      "Epoch 9/20\n",
      "100/100 [==============================] - 1s 7ms/step - loss: 0.2864 - mae: 0.2864 - mse: 0.1113 - val_loss: 0.2706 - val_mae: 0.2706 - val_mse: 0.1044\n",
      "Epoch 10/20\n",
      "100/100 [==============================] - 1s 9ms/step - loss: 0.2612 - mae: 0.2612 - mse: 0.0990 - val_loss: 0.2432 - val_mae: 0.2432 - val_mse: 0.0887\n",
      "Epoch 11/20\n",
      "100/100 [==============================] - 1s 7ms/step - loss: 0.2340 - mae: 0.2340 - mse: 0.0868 - val_loss: 0.2245 - val_mae: 0.2245 - val_mse: 0.0868\n",
      "Epoch 12/20\n",
      "100/100 [==============================] - 1s 7ms/step - loss: 0.2224 - mae: 0.2224 - mse: 0.0861 - val_loss: 0.2173 - val_mae: 0.2173 - val_mse: 0.0821\n",
      "Epoch 13/20\n",
      "100/100 [==============================] - 1s 7ms/step - loss: 0.2190 - mae: 0.2190 - mse: 0.0853 - val_loss: 0.2144 - val_mae: 0.2144 - val_mse: 0.0819\n",
      "Epoch 14/20\n",
      "100/100 [==============================] - 1s 7ms/step - loss: 0.2154 - mae: 0.2154 - mse: 0.0826 - val_loss: 0.2106 - val_mae: 0.2106 - val_mse: 0.0781\n",
      "Epoch 15/20\n",
      "100/100 [==============================] - 1s 7ms/step - loss: 0.2122 - mae: 0.2122 - mse: 0.0808 - val_loss: 0.2071 - val_mae: 0.2071 - val_mse: 0.0747\n",
      "Epoch 16/20\n",
      "100/100 [==============================] - 1s 7ms/step - loss: 0.2088 - mae: 0.2088 - mse: 0.0783 - val_loss: 0.2043 - val_mae: 0.2043 - val_mse: 0.0734\n",
      "Epoch 17/20\n",
      "100/100 [==============================] - 1s 7ms/step - loss: 0.2060 - mae: 0.2060 - mse: 0.0759 - val_loss: 0.2013 - val_mae: 0.2013 - val_mse: 0.0713\n",
      "Epoch 18/20\n",
      "100/100 [==============================] - 1s 8ms/step - loss: 0.2038 - mae: 0.2038 - mse: 0.0743 - val_loss: 0.1981 - val_mae: 0.1981 - val_mse: 0.0679\n",
      "Epoch 19/20\n",
      "100/100 [==============================] - 1s 7ms/step - loss: 0.2001 - mae: 0.2001 - mse: 0.0711 - val_loss: 0.1960 - val_mae: 0.1960 - val_mse: 0.0682\n",
      "Epoch 20/20\n",
      "100/100 [==============================] - 1s 7ms/step - loss: 0.1971 - mae: 0.1971 - mse: 0.0704 - val_loss: 0.1923 - val_mae: 0.1923 - val_mse: 0.0630\n",
      "32/32 [==============================] - 1s 14ms/step\n",
      "Epoch 1/20\n",
      "100/100 [==============================] - 2s 10ms/step - loss: 0.3711 - mae: 0.3711 - mse: 0.2754 - val_loss: 0.3834 - val_mae: 0.3834 - val_mse: 0.2840\n",
      "Epoch 2/20\n",
      "100/100 [==============================] - 1s 7ms/step - loss: 0.3711 - mae: 0.3711 - mse: 0.2754 - val_loss: 0.3834 - val_mae: 0.3834 - val_mse: 0.2840\n",
      "Epoch 3/20\n",
      "100/100 [==============================] - 1s 7ms/step - loss: 0.3711 - mae: 0.3711 - mse: 0.2754 - val_loss: 0.3834 - val_mae: 0.3834 - val_mse: 0.2840\n",
      "Epoch 4/20\n",
      "100/100 [==============================] - 1s 7ms/step - loss: 0.3711 - mae: 0.3711 - mse: 0.2754 - val_loss: 0.3834 - val_mae: 0.3834 - val_mse: 0.2840\n",
      "Epoch 5/20\n",
      "100/100 [==============================] - 1s 8ms/step - loss: 0.3711 - mae: 0.3711 - mse: 0.2754 - val_loss: 0.3834 - val_mae: 0.3834 - val_mse: 0.2840\n",
      "Epoch 6/20\n",
      "100/100 [==============================] - 1s 7ms/step - loss: 0.3711 - mae: 0.3711 - mse: 0.2754 - val_loss: 0.3834 - val_mae: 0.3834 - val_mse: 0.2840\n",
      "Epoch 7/20\n",
      "100/100 [==============================] - 1s 7ms/step - loss: 0.3711 - mae: 0.3711 - mse: 0.2754 - val_loss: 0.3834 - val_mae: 0.3834 - val_mse: 0.2840\n",
      "Epoch 8/20\n",
      "100/100 [==============================] - 1s 7ms/step - loss: 0.3711 - mae: 0.3711 - mse: 0.2754 - val_loss: 0.3834 - val_mae: 0.3834 - val_mse: 0.2840\n",
      "Epoch 9/20\n",
      "100/100 [==============================] - 1s 6ms/step - loss: 0.3711 - mae: 0.3711 - mse: 0.2754 - val_loss: 0.3834 - val_mae: 0.3834 - val_mse: 0.2840\n",
      "Epoch 10/20\n",
      "100/100 [==============================] - 1s 7ms/step - loss: 0.3711 - mae: 0.3711 - mse: 0.2754 - val_loss: 0.3834 - val_mae: 0.3834 - val_mse: 0.2840\n",
      "Epoch 11/20\n",
      "100/100 [==============================] - 1s 7ms/step - loss: 0.3711 - mae: 0.3711 - mse: 0.2754 - val_loss: 0.3834 - val_mae: 0.3834 - val_mse: 0.2840\n",
      "Epoch 12/20\n",
      "100/100 [==============================] - 1s 7ms/step - loss: 0.3711 - mae: 0.3711 - mse: 0.2754 - val_loss: 0.3834 - val_mae: 0.3834 - val_mse: 0.2840\n",
      "Epoch 13/20\n",
      "100/100 [==============================] - 1s 12ms/step - loss: 0.3711 - mae: 0.3711 - mse: 0.2754 - val_loss: 0.3834 - val_mae: 0.3834 - val_mse: 0.2840\n",
      "Epoch 14/20\n",
      "100/100 [==============================] - 1s 12ms/step - loss: 0.3711 - mae: 0.3711 - mse: 0.2754 - val_loss: 0.3834 - val_mae: 0.3834 - val_mse: 0.2840\n",
      "Epoch 15/20\n",
      "100/100 [==============================] - 1s 12ms/step - loss: 0.3711 - mae: 0.3711 - mse: 0.2754 - val_loss: 0.3834 - val_mae: 0.3834 - val_mse: 0.2840\n",
      "Epoch 16/20\n",
      "100/100 [==============================] - 1s 13ms/step - loss: 0.3711 - mae: 0.3711 - mse: 0.2754 - val_loss: 0.3834 - val_mae: 0.3834 - val_mse: 0.2840\n",
      "Epoch 17/20\n",
      "100/100 [==============================] - 4s 35ms/step - loss: 0.3711 - mae: 0.3711 - mse: 0.2754 - val_loss: 0.3834 - val_mae: 0.3834 - val_mse: 0.2840\n",
      "Epoch 18/20\n",
      "100/100 [==============================] - 2s 23ms/step - loss: 0.3711 - mae: 0.3711 - mse: 0.2754 - val_loss: 0.3834 - val_mae: 0.3834 - val_mse: 0.2840\n",
      "Epoch 19/20\n",
      "100/100 [==============================] - 1s 15ms/step - loss: 0.3711 - mae: 0.3711 - mse: 0.2754 - val_loss: 0.3834 - val_mae: 0.3834 - val_mse: 0.2840\n",
      "Epoch 20/20\n",
      "100/100 [==============================] - 1s 9ms/step - loss: 0.3711 - mae: 0.3711 - mse: 0.2754 - val_loss: 0.3834 - val_mae: 0.3834 - val_mse: 0.2840\n",
      "32/32 [==============================] - 0s 4ms/step\n",
      "Epoch 1/20\n",
      "100/100 [==============================] - 3s 16ms/step - loss: 0.3510 - mae: 0.3510 - mse: 0.1501 - val_loss: 0.3286 - val_mae: 0.3286 - val_mse: 0.1467\n",
      "Epoch 2/20\n",
      "100/100 [==============================] - 1s 10ms/step - loss: 0.3295 - mae: 0.3295 - mse: 0.1534 - val_loss: 0.3253 - val_mae: 0.3253 - val_mse: 0.1506\n",
      "Epoch 3/20\n",
      "100/100 [==============================] - 1s 9ms/step - loss: 0.3282 - mae: 0.3282 - mse: 0.1521 - val_loss: 0.3241 - val_mae: 0.3241 - val_mse: 0.1483\n",
      "Epoch 4/20\n",
      "100/100 [==============================] - 1s 9ms/step - loss: 0.3263 - mae: 0.3263 - mse: 0.1498 - val_loss: 0.3220 - val_mae: 0.3220 - val_mse: 0.1470\n",
      "Epoch 5/20\n",
      "100/100 [==============================] - 1s 8ms/step - loss: 0.3238 - mae: 0.3238 - mse: 0.1468 - val_loss: 0.3200 - val_mae: 0.3200 - val_mse: 0.1469\n",
      "Epoch 6/20\n",
      "100/100 [==============================] - 1s 11ms/step - loss: 0.3198 - mae: 0.3198 - mse: 0.1422 - val_loss: 0.3155 - val_mae: 0.3155 - val_mse: 0.1408\n",
      "Epoch 7/20\n",
      "100/100 [==============================] - 1s 9ms/step - loss: 0.3135 - mae: 0.3135 - mse: 0.1362 - val_loss: 0.3094 - val_mae: 0.3094 - val_mse: 0.1266\n",
      "Epoch 8/20\n",
      "100/100 [==============================] - 1s 8ms/step - loss: 0.3033 - mae: 0.3033 - mse: 0.1251 - val_loss: 0.2973 - val_mae: 0.2973 - val_mse: 0.1227\n",
      "Epoch 9/20\n",
      "100/100 [==============================] - 1s 9ms/step - loss: 0.2878 - mae: 0.2878 - mse: 0.1125 - val_loss: 0.2830 - val_mae: 0.2830 - val_mse: 0.1173\n",
      "Epoch 10/20\n",
      "100/100 [==============================] - 1s 10ms/step - loss: 0.2678 - mae: 0.2678 - mse: 0.1045 - val_loss: 0.2626 - val_mae: 0.2626 - val_mse: 0.1056\n",
      "Epoch 11/20\n",
      "100/100 [==============================] - 1s 8ms/step - loss: 0.2458 - mae: 0.2458 - mse: 0.0957 - val_loss: 0.2437 - val_mae: 0.2437 - val_mse: 0.0970\n",
      "Epoch 12/20\n",
      "100/100 [==============================] - 1s 9ms/step - loss: 0.2307 - mae: 0.2307 - mse: 0.0913 - val_loss: 0.2355 - val_mae: 0.2355 - val_mse: 0.0963\n",
      "Epoch 13/20\n",
      "100/100 [==============================] - 1s 8ms/step - loss: 0.2249 - mae: 0.2249 - mse: 0.0899 - val_loss: 0.2315 - val_mae: 0.2315 - val_mse: 0.0936\n",
      "Epoch 14/20\n",
      "100/100 [==============================] - 1s 10ms/step - loss: 0.2226 - mae: 0.2226 - mse: 0.0882 - val_loss: 0.2283 - val_mae: 0.2283 - val_mse: 0.0898\n",
      "Epoch 15/20\n",
      "100/100 [==============================] - 1s 10ms/step - loss: 0.2193 - mae: 0.2193 - mse: 0.0866 - val_loss: 0.2276 - val_mae: 0.2276 - val_mse: 0.0945\n",
      "Epoch 16/20\n",
      "100/100 [==============================] - 1s 8ms/step - loss: 0.2173 - mae: 0.2173 - mse: 0.0859 - val_loss: 0.2226 - val_mae: 0.2226 - val_mse: 0.0869\n",
      "Epoch 17/20\n",
      "100/100 [==============================] - 1s 7ms/step - loss: 0.2147 - mae: 0.2147 - mse: 0.0830 - val_loss: 0.2199 - val_mae: 0.2199 - val_mse: 0.0850\n",
      "Epoch 18/20\n",
      "100/100 [==============================] - 1s 7ms/step - loss: 0.2121 - mae: 0.2121 - mse: 0.0813 - val_loss: 0.2173 - val_mae: 0.2173 - val_mse: 0.0833\n",
      "Epoch 19/20\n",
      "100/100 [==============================] - 1s 10ms/step - loss: 0.2096 - mae: 0.2096 - mse: 0.0796 - val_loss: 0.2151 - val_mae: 0.2151 - val_mse: 0.0833\n",
      "Epoch 20/20\n",
      "100/100 [==============================] - 1s 11ms/step - loss: 0.2075 - mae: 0.2075 - mse: 0.0772 - val_loss: 0.2118 - val_mae: 0.2118 - val_mse: 0.0786\n",
      "32/32 [==============================] - 0s 6ms/step\n",
      "Epoch 1/20\n",
      "100/100 [==============================] - 2s 16ms/step - loss: 0.3366 - mae: 0.3366 - mse: 0.1721 - val_loss: 0.3296 - val_mae: 0.3296 - val_mse: 0.1526\n",
      "Epoch 2/20\n",
      "100/100 [==============================] - 1s 8ms/step - loss: 0.3224 - mae: 0.3224 - mse: 0.1478 - val_loss: 0.3263 - val_mae: 0.3263 - val_mse: 0.1515\n",
      "Epoch 3/20\n",
      "100/100 [==============================] - 1s 12ms/step - loss: 0.3193 - mae: 0.3193 - mse: 0.1441 - val_loss: 0.3231 - val_mae: 0.3231 - val_mse: 0.1449\n",
      "Epoch 4/20\n",
      "100/100 [==============================] - 1s 13ms/step - loss: 0.3158 - mae: 0.3158 - mse: 0.1401 - val_loss: 0.3194 - val_mae: 0.3194 - val_mse: 0.1390\n",
      "Epoch 5/20\n",
      "100/100 [==============================] - 1s 10ms/step - loss: 0.3106 - mae: 0.3106 - mse: 0.1352 - val_loss: 0.3152 - val_mae: 0.3152 - val_mse: 0.1299\n",
      "Epoch 6/20\n",
      "100/100 [==============================] - 1s 10ms/step - loss: 0.3050 - mae: 0.3050 - mse: 0.1283 - val_loss: 0.3066 - val_mae: 0.3066 - val_mse: 0.1300\n",
      "Epoch 7/20\n",
      "100/100 [==============================] - 1s 10ms/step - loss: 0.2954 - mae: 0.2954 - mse: 0.1208 - val_loss: 0.2961 - val_mae: 0.2961 - val_mse: 0.1177\n",
      "Epoch 8/20\n",
      "100/100 [==============================] - 1s 11ms/step - loss: 0.2830 - mae: 0.2830 - mse: 0.1106 - val_loss: 0.2818 - val_mae: 0.2818 - val_mse: 0.1106\n",
      "Epoch 9/20\n",
      "100/100 [==============================] - 1s 10ms/step - loss: 0.2660 - mae: 0.2660 - mse: 0.1023 - val_loss: 0.2625 - val_mae: 0.2625 - val_mse: 0.0997\n",
      "Epoch 10/20\n",
      "100/100 [==============================] - 1s 9ms/step - loss: 0.2455 - mae: 0.2455 - mse: 0.0928 - val_loss: 0.2427 - val_mae: 0.2427 - val_mse: 0.0908\n",
      "Epoch 11/20\n",
      "100/100 [==============================] - 1s 10ms/step - loss: 0.2302 - mae: 0.2302 - mse: 0.0862 - val_loss: 0.2301 - val_mae: 0.2301 - val_mse: 0.0857\n",
      "Epoch 12/20\n",
      "100/100 [==============================] - 1s 13ms/step - loss: 0.2214 - mae: 0.2214 - mse: 0.0833 - val_loss: 0.2246 - val_mae: 0.2246 - val_mse: 0.0833\n",
      "Epoch 13/20\n",
      "100/100 [==============================] - 1s 11ms/step - loss: 0.2175 - mae: 0.2175 - mse: 0.0819 - val_loss: 0.2209 - val_mae: 0.2209 - val_mse: 0.0800\n",
      "Epoch 14/20\n",
      "100/100 [==============================] - 1s 12ms/step - loss: 0.2145 - mae: 0.2145 - mse: 0.0792 - val_loss: 0.2186 - val_mae: 0.2186 - val_mse: 0.0766\n",
      "Epoch 15/20\n",
      "100/100 [==============================] - 1s 10ms/step - loss: 0.2112 - mae: 0.2112 - mse: 0.0766 - val_loss: 0.2150 - val_mae: 0.2150 - val_mse: 0.0762\n",
      "Epoch 16/20\n",
      "100/100 [==============================] - 1s 14ms/step - loss: 0.2090 - mae: 0.2090 - mse: 0.0752 - val_loss: 0.2123 - val_mae: 0.2123 - val_mse: 0.0760\n",
      "Epoch 17/20\n",
      "100/100 [==============================] - 1s 11ms/step - loss: 0.2051 - mae: 0.2051 - mse: 0.0727 - val_loss: 0.2099 - val_mae: 0.2099 - val_mse: 0.0710\n",
      "Epoch 18/20\n",
      "100/100 [==============================] - 1s 10ms/step - loss: 0.2027 - mae: 0.2027 - mse: 0.0702 - val_loss: 0.2064 - val_mae: 0.2064 - val_mse: 0.0708\n",
      "Epoch 19/20\n",
      "100/100 [==============================] - 1s 8ms/step - loss: 0.2006 - mae: 0.2006 - mse: 0.0698 - val_loss: 0.2038 - val_mae: 0.2038 - val_mse: 0.0698\n",
      "Epoch 20/20\n",
      "100/100 [==============================] - 1s 8ms/step - loss: 0.1969 - mae: 0.1969 - mse: 0.0666 - val_loss: 0.2010 - val_mae: 0.2010 - val_mse: 0.0675\n",
      "32/32 [==============================] - 0s 3ms/step\n",
      "Epoch 1/20\n",
      "100/100 [==============================] - 2s 13ms/step - loss: 0.3621 - mae: 0.3621 - mse: 0.2270 - val_loss: 0.3585 - val_mae: 0.3585 - val_mse: 0.2142\n",
      "Epoch 2/20\n",
      "100/100 [==============================] - 1s 8ms/step - loss: 0.3521 - mae: 0.3521 - mse: 0.1992 - val_loss: 0.3479 - val_mae: 0.3479 - val_mse: 0.1885\n",
      "Epoch 3/20\n",
      "100/100 [==============================] - 1s 8ms/step - loss: 0.3419 - mae: 0.3419 - mse: 0.1765 - val_loss: 0.3371 - val_mae: 0.3371 - val_mse: 0.1678\n",
      "Epoch 4/20\n",
      "100/100 [==============================] - 1s 9ms/step - loss: 0.3319 - mae: 0.3319 - mse: 0.1589 - val_loss: 0.3298 - val_mae: 0.3298 - val_mse: 0.1554\n",
      "Epoch 5/20\n",
      "100/100 [==============================] - 1s 9ms/step - loss: 0.3295 - mae: 0.3295 - mse: 0.1547 - val_loss: 0.3296 - val_mae: 0.3296 - val_mse: 0.1555\n",
      "Epoch 6/20\n",
      "100/100 [==============================] - 1s 12ms/step - loss: 0.3294 - mae: 0.3294 - mse: 0.1548 - val_loss: 0.3295 - val_mae: 0.3295 - val_mse: 0.1554\n",
      "Epoch 7/20\n",
      "100/100 [==============================] - 1s 9ms/step - loss: 0.3293 - mae: 0.3293 - mse: 0.1545 - val_loss: 0.3293 - val_mae: 0.3293 - val_mse: 0.1556\n",
      "Epoch 8/20\n",
      "100/100 [==============================] - 1s 7ms/step - loss: 0.3291 - mae: 0.3291 - mse: 0.1546 - val_loss: 0.3292 - val_mae: 0.3292 - val_mse: 0.1558\n",
      "Epoch 9/20\n",
      "100/100 [==============================] - 1s 9ms/step - loss: 0.3290 - mae: 0.3290 - mse: 0.1545 - val_loss: 0.3290 - val_mae: 0.3290 - val_mse: 0.1556\n",
      "Epoch 10/20\n",
      "100/100 [==============================] - 1s 9ms/step - loss: 0.3288 - mae: 0.3288 - mse: 0.1543 - val_loss: 0.3289 - val_mae: 0.3289 - val_mse: 0.1558\n",
      "Epoch 11/20\n",
      "100/100 [==============================] - 1s 10ms/step - loss: 0.3287 - mae: 0.3287 - mse: 0.1542 - val_loss: 0.3288 - val_mae: 0.3288 - val_mse: 0.1555\n",
      "Epoch 12/20\n",
      "100/100 [==============================] - 1s 9ms/step - loss: 0.3286 - mae: 0.3286 - mse: 0.1541 - val_loss: 0.3287 - val_mae: 0.3287 - val_mse: 0.1556\n",
      "Epoch 13/20\n",
      "100/100 [==============================] - 1s 9ms/step - loss: 0.3284 - mae: 0.3284 - mse: 0.1541 - val_loss: 0.3285 - val_mae: 0.3285 - val_mse: 0.1554\n",
      "Epoch 14/20\n",
      "100/100 [==============================] - 1s 10ms/step - loss: 0.3283 - mae: 0.3283 - mse: 0.1540 - val_loss: 0.3284 - val_mae: 0.3284 - val_mse: 0.1551\n",
      "Epoch 15/20\n",
      "100/100 [==============================] - 1s 14ms/step - loss: 0.3282 - mae: 0.3282 - mse: 0.1538 - val_loss: 0.3283 - val_mae: 0.3283 - val_mse: 0.1552\n",
      "Epoch 16/20\n",
      "100/100 [==============================] - 2s 17ms/step - loss: 0.3281 - mae: 0.3281 - mse: 0.1538 - val_loss: 0.3282 - val_mae: 0.3282 - val_mse: 0.1546\n",
      "Epoch 17/20\n",
      "100/100 [==============================] - 1s 10ms/step - loss: 0.3279 - mae: 0.3279 - mse: 0.1536 - val_loss: 0.3281 - val_mae: 0.3281 - val_mse: 0.1544\n",
      "Epoch 18/20\n",
      "100/100 [==============================] - 2s 18ms/step - loss: 0.3278 - mae: 0.3278 - mse: 0.1535 - val_loss: 0.3279 - val_mae: 0.3279 - val_mse: 0.1547\n",
      "Epoch 19/20\n",
      "100/100 [==============================] - 1s 13ms/step - loss: 0.3277 - mae: 0.3277 - mse: 0.1534 - val_loss: 0.3278 - val_mae: 0.3278 - val_mse: 0.1545\n",
      "Epoch 20/20\n",
      "100/100 [==============================] - 1s 10ms/step - loss: 0.3275 - mae: 0.3275 - mse: 0.1533 - val_loss: 0.3277 - val_mae: 0.3277 - val_mse: 0.1544\n",
      "32/32 [==============================] - 0s 5ms/step\n",
      "Epoch 1/20\n",
      "100/100 [==============================] - 2s 12ms/step - loss: 0.3336 - mae: 0.3336 - mse: 0.1593 - val_loss: 0.3238 - val_mae: 0.3238 - val_mse: 0.1542\n",
      "Epoch 2/20\n",
      "100/100 [==============================] - 1s 8ms/step - loss: 0.3314 - mae: 0.3314 - mse: 0.1553 - val_loss: 0.3238 - val_mae: 0.3238 - val_mse: 0.1542\n",
      "Epoch 3/20\n",
      "100/100 [==============================] - 1s 13ms/step - loss: 0.3313 - mae: 0.3313 - mse: 0.1553 - val_loss: 0.3237 - val_mae: 0.3237 - val_mse: 0.1544\n",
      "Epoch 4/20\n",
      "100/100 [==============================] - 1s 13ms/step - loss: 0.3312 - mae: 0.3312 - mse: 0.1553 - val_loss: 0.3237 - val_mae: 0.3237 - val_mse: 0.1538\n",
      "Epoch 5/20\n",
      "100/100 [==============================] - 1s 13ms/step - loss: 0.3311 - mae: 0.3311 - mse: 0.1552 - val_loss: 0.3236 - val_mae: 0.3236 - val_mse: 0.1539\n",
      "Epoch 6/20\n",
      "100/100 [==============================] - 1s 9ms/step - loss: 0.3311 - mae: 0.3311 - mse: 0.1551 - val_loss: 0.3235 - val_mae: 0.3235 - val_mse: 0.1539\n",
      "Epoch 7/20\n",
      "100/100 [==============================] - 1s 10ms/step - loss: 0.3310 - mae: 0.3310 - mse: 0.1551 - val_loss: 0.3234 - val_mae: 0.3234 - val_mse: 0.1539\n",
      "Epoch 8/20\n",
      "100/100 [==============================] - 1s 10ms/step - loss: 0.3309 - mae: 0.3309 - mse: 0.1550 - val_loss: 0.3234 - val_mae: 0.3234 - val_mse: 0.1537\n",
      "Epoch 9/20\n",
      "100/100 [==============================] - 1s 11ms/step - loss: 0.3309 - mae: 0.3309 - mse: 0.1550 - val_loss: 0.3233 - val_mae: 0.3233 - val_mse: 0.1538\n",
      "Epoch 10/20\n",
      "100/100 [==============================] - 1s 10ms/step - loss: 0.3308 - mae: 0.3308 - mse: 0.1549 - val_loss: 0.3232 - val_mae: 0.3232 - val_mse: 0.1537\n",
      "Epoch 11/20\n",
      "100/100 [==============================] - 1s 10ms/step - loss: 0.3307 - mae: 0.3307 - mse: 0.1549 - val_loss: 0.3232 - val_mae: 0.3232 - val_mse: 0.1536\n",
      "Epoch 12/20\n",
      "100/100 [==============================] - 1s 13ms/step - loss: 0.3307 - mae: 0.3307 - mse: 0.1548 - val_loss: 0.3231 - val_mae: 0.3231 - val_mse: 0.1537\n",
      "Epoch 13/20\n",
      "100/100 [==============================] - 2s 18ms/step - loss: 0.3306 - mae: 0.3306 - mse: 0.1547 - val_loss: 0.3231 - val_mae: 0.3231 - val_mse: 0.1533\n",
      "Epoch 14/20\n",
      "100/100 [==============================] - 1s 11ms/step - loss: 0.3306 - mae: 0.3306 - mse: 0.1547 - val_loss: 0.3230 - val_mae: 0.3230 - val_mse: 0.1538\n",
      "Epoch 15/20\n",
      "100/100 [==============================] - 1s 13ms/step - loss: 0.3305 - mae: 0.3305 - mse: 0.1546 - val_loss: 0.3229 - val_mae: 0.3229 - val_mse: 0.1534\n",
      "Epoch 16/20\n",
      "100/100 [==============================] - 1s 13ms/step - loss: 0.3304 - mae: 0.3304 - mse: 0.1546 - val_loss: 0.3230 - val_mae: 0.3230 - val_mse: 0.1530\n",
      "Epoch 17/20\n",
      "100/100 [==============================] - 2s 19ms/step - loss: 0.3304 - mae: 0.3304 - mse: 0.1545 - val_loss: 0.3228 - val_mae: 0.3228 - val_mse: 0.1532\n",
      "Epoch 18/20\n",
      "100/100 [==============================] - 1s 11ms/step - loss: 0.3303 - mae: 0.3303 - mse: 0.1544 - val_loss: 0.3227 - val_mae: 0.3227 - val_mse: 0.1534\n",
      "Epoch 19/20\n",
      "100/100 [==============================] - 1s 12ms/step - loss: 0.3302 - mae: 0.3302 - mse: 0.1544 - val_loss: 0.3227 - val_mae: 0.3227 - val_mse: 0.1530\n",
      "Epoch 20/20\n",
      "100/100 [==============================] - 1s 14ms/step - loss: 0.3302 - mae: 0.3302 - mse: 0.1542 - val_loss: 0.3226 - val_mae: 0.3226 - val_mse: 0.1529\n",
      "32/32 [==============================] - 1s 16ms/step\n",
      "Epoch 1/20\n",
      "100/100 [==============================] - 2s 13ms/step - loss: 0.3711 - mae: 0.3711 - mse: 0.2754 - val_loss: 0.3834 - val_mae: 0.3834 - val_mse: 0.2840\n",
      "Epoch 2/20\n",
      "100/100 [==============================] - 1s 11ms/step - loss: 0.3711 - mae: 0.3711 - mse: 0.2754 - val_loss: 0.3834 - val_mae: 0.3834 - val_mse: 0.2840\n",
      "Epoch 3/20\n",
      "100/100 [==============================] - 1s 10ms/step - loss: 0.3711 - mae: 0.3711 - mse: 0.2754 - val_loss: 0.3834 - val_mae: 0.3834 - val_mse: 0.2840\n",
      "Epoch 4/20\n",
      "100/100 [==============================] - 2s 24ms/step - loss: 0.3711 - mae: 0.3711 - mse: 0.2754 - val_loss: 0.3834 - val_mae: 0.3834 - val_mse: 0.2840\n",
      "Epoch 5/20\n",
      "100/100 [==============================] - 1s 10ms/step - loss: 0.3711 - mae: 0.3711 - mse: 0.2754 - val_loss: 0.3834 - val_mae: 0.3834 - val_mse: 0.2840\n",
      "Epoch 6/20\n",
      "100/100 [==============================] - 1s 9ms/step - loss: 0.3711 - mae: 0.3711 - mse: 0.2754 - val_loss: 0.3834 - val_mae: 0.3834 - val_mse: 0.2840\n",
      "Epoch 7/20\n",
      "100/100 [==============================] - 1s 12ms/step - loss: 0.3711 - mae: 0.3711 - mse: 0.2754 - val_loss: 0.3834 - val_mae: 0.3834 - val_mse: 0.2840\n",
      "Epoch 8/20\n",
      "100/100 [==============================] - 1s 11ms/step - loss: 0.3711 - mae: 0.3711 - mse: 0.2754 - val_loss: 0.3834 - val_mae: 0.3834 - val_mse: 0.2840\n",
      "Epoch 9/20\n",
      "100/100 [==============================] - 1s 9ms/step - loss: 0.3711 - mae: 0.3711 - mse: 0.2754 - val_loss: 0.3834 - val_mae: 0.3834 - val_mse: 0.2840\n",
      "Epoch 10/20\n",
      "100/100 [==============================] - 1s 8ms/step - loss: 0.3711 - mae: 0.3711 - mse: 0.2754 - val_loss: 0.3834 - val_mae: 0.3834 - val_mse: 0.2840\n",
      "Epoch 11/20\n",
      "100/100 [==============================] - 1s 10ms/step - loss: 0.3711 - mae: 0.3711 - mse: 0.2754 - val_loss: 0.3834 - val_mae: 0.3834 - val_mse: 0.2840\n",
      "Epoch 12/20\n",
      "100/100 [==============================] - 1s 11ms/step - loss: 0.3711 - mae: 0.3711 - mse: 0.2754 - val_loss: 0.3834 - val_mae: 0.3834 - val_mse: 0.2840\n",
      "Epoch 13/20\n",
      "100/100 [==============================] - 1s 14ms/step - loss: 0.3711 - mae: 0.3711 - mse: 0.2754 - val_loss: 0.3834 - val_mae: 0.3834 - val_mse: 0.2840\n",
      "Epoch 14/20\n",
      "100/100 [==============================] - 1s 10ms/step - loss: 0.3711 - mae: 0.3711 - mse: 0.2754 - val_loss: 0.3834 - val_mae: 0.3834 - val_mse: 0.2840\n",
      "Epoch 15/20\n",
      "100/100 [==============================] - 1s 10ms/step - loss: 0.3711 - mae: 0.3711 - mse: 0.2754 - val_loss: 0.3834 - val_mae: 0.3834 - val_mse: 0.2840\n",
      "Epoch 16/20\n",
      "100/100 [==============================] - 1s 10ms/step - loss: 0.3711 - mae: 0.3711 - mse: 0.2754 - val_loss: 0.3834 - val_mae: 0.3834 - val_mse: 0.2840\n",
      "Epoch 17/20\n",
      "100/100 [==============================] - 1s 9ms/step - loss: 0.3711 - mae: 0.3711 - mse: 0.2754 - val_loss: 0.3834 - val_mae: 0.3834 - val_mse: 0.2840\n",
      "Epoch 18/20\n",
      "100/100 [==============================] - 1s 8ms/step - loss: 0.3711 - mae: 0.3711 - mse: 0.2754 - val_loss: 0.3834 - val_mae: 0.3834 - val_mse: 0.2840\n",
      "Epoch 19/20\n",
      "100/100 [==============================] - 1s 8ms/step - loss: 0.3711 - mae: 0.3711 - mse: 0.2754 - val_loss: 0.3834 - val_mae: 0.3834 - val_mse: 0.2840\n",
      "Epoch 20/20\n",
      "100/100 [==============================] - 1s 7ms/step - loss: 0.3711 - mae: 0.3711 - mse: 0.2754 - val_loss: 0.3834 - val_mae: 0.3834 - val_mse: 0.2840\n",
      "32/32 [==============================] - 0s 3ms/step\n",
      "Epoch 1/20\n",
      "100/100 [==============================] - 2s 13ms/step - loss: 0.3441 - mae: 0.3441 - mse: 0.1838 - val_loss: 0.3361 - val_mae: 0.3361 - val_mse: 0.1688\n",
      "Epoch 2/20\n",
      "100/100 [==============================] - 1s 14ms/step - loss: 0.3327 - mae: 0.3327 - mse: 0.1603 - val_loss: 0.3257 - val_mae: 0.3257 - val_mse: 0.1513\n",
      "Epoch 3/20\n",
      "100/100 [==============================] - 1s 11ms/step - loss: 0.3294 - mae: 0.3294 - mse: 0.1539 - val_loss: 0.3255 - val_mae: 0.3255 - val_mse: 0.1516\n",
      "Epoch 4/20\n",
      "100/100 [==============================] - 1s 14ms/step - loss: 0.3292 - mae: 0.3292 - mse: 0.1537 - val_loss: 0.3254 - val_mae: 0.3254 - val_mse: 0.1521\n",
      "Epoch 5/20\n",
      "100/100 [==============================] - 1s 14ms/step - loss: 0.3291 - mae: 0.3291 - mse: 0.1538 - val_loss: 0.3253 - val_mae: 0.3253 - val_mse: 0.1513\n",
      "Epoch 6/20\n",
      "100/100 [==============================] - 1s 8ms/step - loss: 0.3290 - mae: 0.3290 - mse: 0.1536 - val_loss: 0.3251 - val_mae: 0.3251 - val_mse: 0.1513\n",
      "Epoch 7/20\n",
      "100/100 [==============================] - 1s 8ms/step - loss: 0.3288 - mae: 0.3288 - mse: 0.1533 - val_loss: 0.3251 - val_mae: 0.3251 - val_mse: 0.1506\n",
      "Epoch 8/20\n",
      "100/100 [==============================] - 1s 8ms/step - loss: 0.3287 - mae: 0.3287 - mse: 0.1532 - val_loss: 0.3248 - val_mae: 0.3248 - val_mse: 0.1514\n",
      "Epoch 9/20\n",
      "100/100 [==============================] - 1s 9ms/step - loss: 0.3285 - mae: 0.3285 - mse: 0.1532 - val_loss: 0.3247 - val_mae: 0.3247 - val_mse: 0.1512\n",
      "Epoch 10/20\n",
      "100/100 [==============================] - 1s 12ms/step - loss: 0.3284 - mae: 0.3284 - mse: 0.1530 - val_loss: 0.3246 - val_mae: 0.3246 - val_mse: 0.1509\n",
      "Epoch 11/20\n",
      "100/100 [==============================] - 1s 8ms/step - loss: 0.3282 - mae: 0.3282 - mse: 0.1529 - val_loss: 0.3244 - val_mae: 0.3244 - val_mse: 0.1508\n",
      "Epoch 12/20\n",
      "100/100 [==============================] - 1s 9ms/step - loss: 0.3281 - mae: 0.3281 - mse: 0.1527 - val_loss: 0.3245 - val_mae: 0.3245 - val_mse: 0.1498\n",
      "Epoch 13/20\n",
      "100/100 [==============================] - 1s 9ms/step - loss: 0.3280 - mae: 0.3280 - mse: 0.1523 - val_loss: 0.3242 - val_mae: 0.3242 - val_mse: 0.1506\n",
      "Epoch 14/20\n",
      "100/100 [==============================] - 1s 11ms/step - loss: 0.3278 - mae: 0.3278 - mse: 0.1524 - val_loss: 0.3240 - val_mae: 0.3240 - val_mse: 0.1506\n",
      "Epoch 15/20\n",
      "100/100 [==============================] - 1s 10ms/step - loss: 0.3276 - mae: 0.3276 - mse: 0.1520 - val_loss: 0.3241 - val_mae: 0.3241 - val_mse: 0.1513\n",
      "Epoch 16/20\n",
      "100/100 [==============================] - 1s 8ms/step - loss: 0.3274 - mae: 0.3274 - mse: 0.1521 - val_loss: 0.3237 - val_mae: 0.3237 - val_mse: 0.1502\n",
      "Epoch 17/20\n",
      "100/100 [==============================] - 1s 7ms/step - loss: 0.3273 - mae: 0.3273 - mse: 0.1518 - val_loss: 0.3236 - val_mae: 0.3236 - val_mse: 0.1499\n",
      "Epoch 18/20\n",
      "100/100 [==============================] - 1s 8ms/step - loss: 0.3271 - mae: 0.3271 - mse: 0.1515 - val_loss: 0.3234 - val_mae: 0.3234 - val_mse: 0.1499\n",
      "Epoch 19/20\n",
      "100/100 [==============================] - 1s 9ms/step - loss: 0.3269 - mae: 0.3269 - mse: 0.1515 - val_loss: 0.3232 - val_mae: 0.3232 - val_mse: 0.1496\n",
      "Epoch 20/20\n",
      "100/100 [==============================] - 1s 14ms/step - loss: 0.3267 - mae: 0.3267 - mse: 0.1512 - val_loss: 0.3231 - val_mae: 0.3231 - val_mse: 0.1495\n",
      "32/32 [==============================] - 0s 7ms/step\n",
      "Epoch 1/20\n",
      "100/100 [==============================] - 3s 15ms/step - loss: 0.3321 - mae: 0.3321 - mse: 0.1392 - val_loss: 0.3337 - val_mae: 0.3337 - val_mse: 0.1459\n",
      "Epoch 2/20\n",
      "100/100 [==============================] - 1s 7ms/step - loss: 0.3268 - mae: 0.3268 - mse: 0.1457 - val_loss: 0.3302 - val_mae: 0.3302 - val_mse: 0.1555\n",
      "Epoch 3/20\n",
      "100/100 [==============================] - 1s 6ms/step - loss: 0.3249 - mae: 0.3249 - mse: 0.1505 - val_loss: 0.3300 - val_mae: 0.3300 - val_mse: 0.1557\n",
      "Epoch 4/20\n",
      "100/100 [==============================] - 1s 6ms/step - loss: 0.3246 - mae: 0.3246 - mse: 0.1502 - val_loss: 0.3297 - val_mae: 0.3297 - val_mse: 0.1542\n",
      "Epoch 5/20\n",
      "100/100 [==============================] - 1s 8ms/step - loss: 0.3243 - mae: 0.3243 - mse: 0.1496 - val_loss: 0.3295 - val_mae: 0.3295 - val_mse: 0.1548\n",
      "Epoch 6/20\n",
      "100/100 [==============================] - 1s 9ms/step - loss: 0.3241 - mae: 0.3241 - mse: 0.1496 - val_loss: 0.3292 - val_mae: 0.3292 - val_mse: 0.1542\n",
      "Epoch 7/20\n",
      "100/100 [==============================] - 1s 8ms/step - loss: 0.3238 - mae: 0.3238 - mse: 0.1493 - val_loss: 0.3290 - val_mae: 0.3290 - val_mse: 0.1535\n",
      "Epoch 8/20\n",
      "100/100 [==============================] - 1s 10ms/step - loss: 0.3236 - mae: 0.3236 - mse: 0.1492 - val_loss: 0.3288 - val_mae: 0.3288 - val_mse: 0.1526\n",
      "Epoch 9/20\n",
      "100/100 [==============================] - 1s 7ms/step - loss: 0.3234 - mae: 0.3234 - mse: 0.1486 - val_loss: 0.3285 - val_mae: 0.3285 - val_mse: 0.1535\n",
      "Epoch 10/20\n",
      "100/100 [==============================] - 1s 9ms/step - loss: 0.3230 - mae: 0.3230 - mse: 0.1484 - val_loss: 0.3282 - val_mae: 0.3282 - val_mse: 0.1534\n",
      "Epoch 11/20\n",
      "100/100 [==============================] - 1s 9ms/step - loss: 0.3228 - mae: 0.3228 - mse: 0.1482 - val_loss: 0.3280 - val_mae: 0.3280 - val_mse: 0.1526\n",
      "Epoch 12/20\n",
      "100/100 [==============================] - 1s 10ms/step - loss: 0.3225 - mae: 0.3225 - mse: 0.1479 - val_loss: 0.3277 - val_mae: 0.3277 - val_mse: 0.1526\n",
      "Epoch 13/20\n",
      "100/100 [==============================] - 1s 14ms/step - loss: 0.3222 - mae: 0.3222 - mse: 0.1475 - val_loss: 0.3275 - val_mae: 0.3275 - val_mse: 0.1516\n",
      "Epoch 14/20\n",
      "100/100 [==============================] - 1s 15ms/step - loss: 0.3219 - mae: 0.3219 - mse: 0.1474 - val_loss: 0.3272 - val_mae: 0.3272 - val_mse: 0.1514\n",
      "Epoch 15/20\n",
      "100/100 [==============================] - 2s 17ms/step - loss: 0.3217 - mae: 0.3217 - mse: 0.1469 - val_loss: 0.3269 - val_mae: 0.3269 - val_mse: 0.1514\n",
      "Epoch 16/20\n",
      "100/100 [==============================] - 1s 13ms/step - loss: 0.3214 - mae: 0.3214 - mse: 0.1466 - val_loss: 0.3267 - val_mae: 0.3267 - val_mse: 0.1516\n",
      "Epoch 17/20\n",
      "100/100 [==============================] - 1s 13ms/step - loss: 0.3211 - mae: 0.3211 - mse: 0.1465 - val_loss: 0.3265 - val_mae: 0.3265 - val_mse: 0.1518\n",
      "Epoch 18/20\n",
      "100/100 [==============================] - 2s 17ms/step - loss: 0.3208 - mae: 0.3208 - mse: 0.1461 - val_loss: 0.3261 - val_mae: 0.3261 - val_mse: 0.1510\n",
      "Epoch 19/20\n",
      "100/100 [==============================] - 1s 12ms/step - loss: 0.3205 - mae: 0.3205 - mse: 0.1457 - val_loss: 0.3258 - val_mae: 0.3258 - val_mse: 0.1505\n",
      "Epoch 20/20\n",
      "100/100 [==============================] - 1s 10ms/step - loss: 0.3202 - mae: 0.3202 - mse: 0.1455 - val_loss: 0.3256 - val_mae: 0.3256 - val_mse: 0.1488\n",
      "32/32 [==============================] - 0s 8ms/step\n",
      "Epoch 1/20\n",
      "125/125 [==============================] - 2s 10ms/step - loss: 0.3075 - mae: 0.3075 - mse: 0.1548 - val_loss: 0.2728 - val_mae: 0.2728 - val_mse: 0.1163\n",
      "Epoch 2/20\n",
      "125/125 [==============================] - 2s 13ms/step - loss: 0.2591 - mae: 0.2591 - mse: 0.1071 - val_loss: 0.2374 - val_mae: 0.2374 - val_mse: 0.0921\n",
      "Epoch 3/20\n",
      "125/125 [==============================] - 1s 8ms/step - loss: 0.2314 - mae: 0.2314 - mse: 0.0895 - val_loss: 0.2215 - val_mae: 0.2215 - val_mse: 0.0835\n",
      "Epoch 4/20\n",
      "125/125 [==============================] - 1s 7ms/step - loss: 0.2133 - mae: 0.2133 - mse: 0.0781 - val_loss: 0.1999 - val_mae: 0.1999 - val_mse: 0.0693\n",
      "Epoch 5/20\n",
      "125/125 [==============================] - 1s 7ms/step - loss: 0.1937 - mae: 0.1937 - mse: 0.0667 - val_loss: 0.1803 - val_mae: 0.1803 - val_mse: 0.0567\n",
      "Epoch 6/20\n",
      "125/125 [==============================] - 3s 22ms/step - loss: 0.1734 - mae: 0.1734 - mse: 0.0553 - val_loss: 0.1610 - val_mae: 0.1610 - val_mse: 0.0477\n",
      "Epoch 7/20\n",
      "125/125 [==============================] - 2s 15ms/step - loss: 0.1593 - mae: 0.1593 - mse: 0.0497 - val_loss: 0.1546 - val_mae: 0.1546 - val_mse: 0.0473\n",
      "Epoch 8/20\n",
      "125/125 [==============================] - 4s 31ms/step - loss: 0.1465 - mae: 0.1465 - mse: 0.0451 - val_loss: 0.1440 - val_mae: 0.1440 - val_mse: 0.0438\n",
      "Epoch 9/20\n",
      "125/125 [==============================] - 5s 41ms/step - loss: 0.1379 - mae: 0.1379 - mse: 0.0422 - val_loss: 0.1428 - val_mae: 0.1428 - val_mse: 0.0438\n",
      "Epoch 10/20\n",
      "125/125 [==============================] - 3s 22ms/step - loss: 0.1338 - mae: 0.1338 - mse: 0.0414 - val_loss: 0.1380 - val_mae: 0.1380 - val_mse: 0.0422\n",
      "Epoch 11/20\n",
      "125/125 [==============================] - 2s 18ms/step - loss: 0.1315 - mae: 0.1315 - mse: 0.0408 - val_loss: 0.1375 - val_mae: 0.1375 - val_mse: 0.0431\n",
      "Epoch 12/20\n",
      "125/125 [==============================] - 2s 12ms/step - loss: 0.1288 - mae: 0.1288 - mse: 0.0394 - val_loss: 0.1366 - val_mae: 0.1366 - val_mse: 0.0425\n",
      "Epoch 13/20\n",
      "125/125 [==============================] - 1s 9ms/step - loss: 0.1275 - mae: 0.1275 - mse: 0.0388 - val_loss: 0.1332 - val_mae: 0.1332 - val_mse: 0.0412\n",
      "Epoch 14/20\n",
      "125/125 [==============================] - 1s 9ms/step - loss: 0.1248 - mae: 0.1248 - mse: 0.0379 - val_loss: 0.1322 - val_mae: 0.1322 - val_mse: 0.0415\n",
      "Epoch 15/20\n",
      "125/125 [==============================] - 1s 7ms/step - loss: 0.1233 - mae: 0.1233 - mse: 0.0373 - val_loss: 0.1313 - val_mae: 0.1313 - val_mse: 0.0415\n",
      "Epoch 16/20\n",
      "125/125 [==============================] - 1s 10ms/step - loss: 0.1216 - mae: 0.1216 - mse: 0.0367 - val_loss: 0.1289 - val_mae: 0.1289 - val_mse: 0.0397\n",
      "Epoch 17/20\n",
      "125/125 [==============================] - 1s 9ms/step - loss: 0.1215 - mae: 0.1215 - mse: 0.0373 - val_loss: 0.1285 - val_mae: 0.1285 - val_mse: 0.0407\n",
      "Epoch 18/20\n",
      "125/125 [==============================] - 1s 9ms/step - loss: 0.1199 - mae: 0.1199 - mse: 0.0364 - val_loss: 0.1269 - val_mae: 0.1269 - val_mse: 0.0393\n",
      "Epoch 19/20\n",
      "125/125 [==============================] - 1s 11ms/step - loss: 0.1185 - mae: 0.1185 - mse: 0.0358 - val_loss: 0.1271 - val_mae: 0.1271 - val_mse: 0.0399\n",
      "Epoch 20/20\n",
      "125/125 [==============================] - 1s 11ms/step - loss: 0.1192 - mae: 0.1192 - mse: 0.0364 - val_loss: 0.1334 - val_mae: 0.1334 - val_mse: 0.0417\n",
      "Best: -0.176273 using {'activation': 'relu', 'learning_rate': 0.001}\n",
      "-0.176273 (0.100789) with: {'activation': 'relu', 'learning_rate': 0.001}\n",
      "-0.264804 (0.054895) with: {'activation': 'relu', 'learning_rate': 0.0001}\n",
      "-0.271804 (0.084277) with: {'activation': 'sigmoid', 'learning_rate': 0.001}\n",
      "-0.336458 (0.023070) with: {'activation': 'sigmoid', 'learning_rate': 0.0001}\n"
     ]
    }
   ],
   "source": [
    "TUNING_DICT = {\n",
    "\t'activation':\t\t['relu', 'sigmoid', 'tanh', 'linear'],\n",
    "\t'learning_rate':\t[0.001, 0.0001]\n",
    "}\n",
    "\n",
    "kf = KFold(n_splits=5, shuffle=True, random_state=2022)\n",
    "\n",
    "grid_model = KerasRegressor(build_fn=build_model, epochs=20, batch_size=32)\n",
    "grid_search = GridSearchCV(estimator=grid_model, param_grid=TUNING_DICT, cv=kf, scoring='neg_mean_absolute_error', refit='True')\n",
    "grid_search.fit(X_scaled, Y_scaled, validation_split=0.2)\n",
    "\n",
    "print(\"Best: %f using %s\" % (grid_search.best_score_, grid_search.best_params_))\n",
    "\n",
    "means = grid_search.cv_results_['mean_test_score']\n",
    "stds = grid_search.cv_results_['std_test_score']\n",
    "params = grid_search.cv_results_['params']\n",
    "\n",
    "for mean, stdev, param in zip(means, stds, params):\n",
    "\tprint(\"%f (%f) with: %r\" % (mean, stdev, param))\n",
    "\n",
    "    "
   ]
  },
  {
   "cell_type": "markdown",
   "metadata": {
    "tags": []
   },
   "source": [
    "###### Modelo Final"
   ]
  },
  {
   "cell_type": "code",
   "execution_count": null,
   "metadata": {},
   "outputs": [
    {
     "data": {
      "image/png": "[encoded data removed]",
      "text/plain": [
       "<Figure size 1200x1200 with 4 Axes>"
      ]
     },
     "metadata": {},
     "output_type": "display_data"
    },
    {
     "name": "stdout",
     "output_type": "stream",
     "text": [
      "Loss\n",
      "\ttraining         \t (min:    0.060, max:    0.337, cur:    0.061)\n",
      "\tvalidation       \t (min:    0.060, max:    0.273, cur:    0.062)\n",
      "mae\n",
      "\ttraining         \t (min:    0.060, max:    0.337, cur:    0.061)\n",
      "\tvalidation       \t (min:    0.060, max:    0.273, cur:    0.062)\n",
      "Mean Squared Error\n",
      "\ttraining         \t (min:    0.012, max:    0.202, cur:    0.013)\n",
      "\tvalidation       \t (min:    0.013, max:    0.116, cur:    0.015)\n",
      "157/157 [==============================] - 4s 23ms/step - loss: 0.0606 - mae: 0.0606 - mse: 0.0127 - val_loss: 0.0621 - val_mae: 0.0621 - val_mse: 0.0151\n"
     ]
    },
    {
     "data": {
      "text/plain": [
       "<keras.callbacks.History at 0x1ca1de049a0>"
      ]
     },
     "execution_count": 26,
     "metadata": {},
     "output_type": "execute_result"
    }
   ],
   "source": [
    "model = grid_search.best_estimator_\n",
    "model.fit(X_scaled, Y_scaled, epochs=200, validation_data=(X_test_scaled, Y_test_scaled), callbacks=[PlotLossesKerasTF()], verbose=1)"
   ]
  },
  {
   "cell_type": "markdown",
   "metadata": {
    "tags": []
   },
   "source": [
    "###### Predictions"
   ]
  },
  {
   "cell_type": "code",
   "execution_count": null,
   "metadata": {},
   "outputs": [
    {
     "name": "stdout",
     "output_type": "stream",
     "text": [
      "40/40 [==============================] - 0s 5ms/step\n"
     ]
    },
    {
     "data": {
      "text/plain": [
       "array([[0.74151915],\n",
       "       [0.36276007],\n",
       "       [0.99194175],\n",
       "       [0.4981863 ],\n",
       "       [0.        ]], dtype=float32)"
      ]
     },
     "execution_count": 27,
     "metadata": {},
     "output_type": "execute_result"
    }
   ],
   "source": [
    "predictions_scaled = model.predict(X_test_scaled)\n",
    "predictions_scaled = predictions_scaled.reshape(predictions_scaled.shape[0], 1)\n",
    "predictions_scaled[:5] # Lista de incidentes previstos. devem estar de 0 a 4"
   ]
  },
  {
   "cell_type": "code",
   "execution_count": null,
   "metadata": {},
   "outputs": [
    {
     "name": "stdout",
     "output_type": "stream",
     "text": [
      "[[2.9660766]\n",
      " [1.4510403]\n",
      " [3.967767 ]\n",
      " [1.9927452]\n",
      " [0.       ]]\n",
      "[[3]\n",
      " [1]\n",
      " [4]\n",
      " [2]\n",
      " [0]]\n"
     ]
    }
   ],
   "source": [
    "predictions = scaler_Y.inverse_transform(predictions_scaled)\n",
    "print(predictions[:5]) \n",
    "predictions = predictions.round().astype(int)\n",
    "print(predictions[:5]) # Lista de incidentes de teste. devem estar de 0 a 4"
   ]
  },
  {
   "attachments": {},
   "cell_type": "markdown",
   "metadata": {},
   "source": [
    "### Random Forest"
   ]
  },
  {
   "cell_type": "code",
   "execution_count": 26,
   "metadata": {},
   "outputs": [],
   "source": [
    "# Number of trees in random forest\n",
    "n_estimators = [500]\n",
    "\n",
    "# Number of features to consider at every split\n",
    "max_features = ['log2']\n",
    "\n",
    "#Maximum number of levels in tree\n",
    "max_depth = [10]\n",
    "\n",
    "# Minimum number of samples required to split a node\n",
    "min_samples_split = [10]\n",
    "\n",
    "# Minimum number of samples required at each leaf node\n",
    "min_samples_leaf = [10]\n",
    "\n",
    "# Method of selecting samples for training each tree\n",
    "bootstrap = [False]\n"
   ]
  },
  {
   "cell_type": "code",
   "execution_count": 27,
   "metadata": {},
   "outputs": [
    {
     "name": "stdout",
     "output_type": "stream",
     "text": [
      "{'n_estimators': [500], 'max_features': ['log2'], 'max_depth': [10], 'min_samples_split': [10], 'min_samples_leaf': [10], 'bootstrap': [False]}\n"
     ]
    }
   ],
   "source": [
    "param_grid = {'n_estimators': n_estimators,\n",
    "              'max_features': max_features,\n",
    "              'max_depth': max_depth,\n",
    "              'min_samples_split': min_samples_split,\n",
    "              'min_samples_leaf': min_samples_leaf,\n",
    "              'bootstrap': bootstrap\n",
    "             }\n",
    "\n",
    "print(param_grid)\n"
   ]
  },
  {
   "cell_type": "code",
   "execution_count": 33,
   "metadata": {},
   "outputs": [
    {
     "name": "stdout",
     "output_type": "stream",
     "text": [
      "dict_keys(['bootstrap', 'ccp_alpha', 'class_weight', 'criterion', 'max_depth', 'max_features', 'max_leaf_nodes', 'max_samples', 'min_impurity_decrease', 'min_samples_leaf', 'min_samples_split', 'min_weight_fraction_leaf', 'n_estimators', 'n_jobs', 'oob_score', 'random_state', 'verbose', 'warm_start'])\n",
      "Fitting 5 folds for each of 1 candidates, totalling 5 fits\n"
     ]
    },
    {
     "name": "stderr",
     "output_type": "stream",
     "text": [
      "c:\\Users\\vasco\\anaconda3\\lib\\site-packages\\sklearn\\model_selection\\_search.py:292: UserWarning: The total space of parameters 1 is smaller than n_iter=200. Running 1 iterations. For exhaustive searches, use GridSearchCV.\n",
      "  warnings.warn(\n"
     ]
    }
   ],
   "source": [
    "from sklearn.ensemble import RandomForestClassifier\n",
    "model = RandomForestClassifier()\n",
    "print(model.get_params().keys())\n",
    "model = RandomizedSearchCV(estimator = model, param_distributions = param_grid, cv = 5, verbose=1, n_jobs = -1, n_iter = 200, scoring = 'accuracy')\n",
    "model.fit(X_train, Y_train.values.ravel())\n",
    "predictions = model.predict(X_test)"
   ]
  },
  {
   "cell_type": "code",
   "execution_count": 34,
   "metadata": {},
   "outputs": [
    {
     "name": "stdout",
     "output_type": "stream",
     "text": [
      "{'n_estimators': 500, 'min_samples_split': 10, 'min_samples_leaf': 10, 'max_features': 'log2', 'max_depth': 10, 'bootstrap': False}\n"
     ]
    }
   ],
   "source": [
    "print(model.best_params_)"
   ]
  },
  {
   "attachments": {},
   "cell_type": "markdown",
   "metadata": {},
   "source": [
    "### Naive Bayes"
   ]
  },
  {
   "cell_type": "code",
   "execution_count": null,
   "metadata": {},
   "outputs": [],
   "source": [
    "from sklearn.naive_bayes import GaussianNB\n",
    "params = {'var_smoothing': np.logspace(0,-9, num=100), 'priors': [None]}\n",
    "gnb = GaussianNB()\n",
    "grid = GridSearchCV(gnb, params, cv=5, scoring='accuracy')\n",
    "grid.fit(X_train, Y_train)\n",
    "predictions = grid.predict(X_test)"
   ]
  },
  {
   "attachments": {},
   "cell_type": "markdown",
   "metadata": {},
   "source": [
    "### Boosting\n"
   ]
  },
  {
   "cell_type": "code",
   "execution_count": 11,
   "metadata": {},
   "outputs": [],
   "source": [
    "# Param grid for XGBoost\n",
    "param_grid = {'n_estimators': [1000], 'max_depth': [30], 'learning_rate': [0.7], 'subsample': [0.9], 'n_thread': [12]}"
   ]
  },
  {
   "cell_type": "code",
   "execution_count": 12,
   "metadata": {},
   "outputs": [
    {
     "name": "stderr",
     "output_type": "stream",
     "text": [
      "c:\\Users\\vasco\\anaconda3\\lib\\site-packages\\xgboost\\compat.py:36: FutureWarning: pandas.Int64Index is deprecated and will be removed from pandas in a future version. Use pandas.Index with the appropriate dtype instead.\n",
      "  from pandas import MultiIndex, Int64Index\n",
      "c:\\Users\\vasco\\anaconda3\\lib\\site-packages\\xgboost\\data.py:250: FutureWarning: pandas.Int64Index is deprecated and will be removed from pandas in a future version. Use pandas.Index with the appropriate dtype instead.\n",
      "  elif isinstance(data.columns, (pd.Int64Index, pd.RangeIndex)):\n"
     ]
    },
    {
     "name": "stdout",
     "output_type": "stream",
     "text": [
      "[19:17:54] WARNING: C:\\Windows\\Temp\\abs_557yfx631l\\croots\\recipe\\xgboost-split_1659548953302\\work\\src\\learner.cc:576: \n",
      "Parameters: { \"n_thread\" } might not be used.\n",
      "\n",
      "  This could be a false alarm, with some parameters getting used by language bindings but\n",
      "  then being mistakenly passed down to XGBoost core, or some parameter actually being used\n",
      "  but getting flagged wrongly here. Please open an issue if you find any such cases.\n",
      "\n",
      "\n",
      "[19:17:54] WARNING: C:\\Windows\\Temp\\abs_557yfx631l\\croots\\recipe\\xgboost-split_1659548953302\\work\\src\\learner.cc:1115: Starting in XGBoost 1.3.0, the default evaluation metric used with the objective 'multi:softprob' was changed from 'merror' to 'mlogloss'. Explicitly set eval_metric if you'd like to restore the old behavior.\n"
     ]
    },
    {
     "data": {
      "text/plain": [
       "GridSearchCV(cv=3,\n",
       "             estimator=XGBClassifier(base_score=None, booster=None,\n",
       "                                     colsample_bylevel=None,\n",
       "                                     colsample_bynode=None,\n",
       "                                     colsample_bytree=None,\n",
       "                                     enable_categorical=False, gamma=None,\n",
       "                                     gpu_id=None, importance_type=None,\n",
       "                                     interaction_constraints=None,\n",
       "                                     learning_rate=None, max_delta_step=None,\n",
       "                                     max_depth=None, min_child_weight=None,\n",
       "                                     missing=nan, monotone_constraints=None,\n",
       "                                     n_estimators=100, n_jobs=None,\n",
       "                                     num_parallel_tree=None, predictor=None,\n",
       "                                     random_state=None, reg_alpha=None,\n",
       "                                     reg_lambda=None, scale_pos_weight=None,\n",
       "                                     subsample=None, tree_method=None,\n",
       "                                     use_label_encoder=False,\n",
       "                                     validate_parameters=None, verbosity=None),\n",
       "             n_jobs=-1,\n",
       "             param_grid={'learning_rate': [0.7], 'max_depth': [30],\n",
       "                         'n_estimators': [1000], 'n_thread': [12],\n",
       "                         'subsample': [0.9]},\n",
       "             scoring='accuracy')"
      ]
     },
     "execution_count": 12,
     "metadata": {},
     "output_type": "execute_result"
    }
   ],
   "source": [
    "from xgboost import XGBClassifier\n",
    "import xgboost as xgb\n",
    "\n",
    "model = XGBClassifier(use_label_encoder=False)\n",
    "model = GridSearchCV(model, param_grid, cv=3, scoring='accuracy', verbose=0, n_jobs=-1);\n",
    "model.fit(X_train, Y_train.values.ravel())"
   ]
  },
  {
   "cell_type": "code",
   "execution_count": 13,
   "metadata": {},
   "outputs": [
    {
     "data": {
      "text/plain": [
       "{'learning_rate': 0.7,\n",
       " 'max_depth': 30,\n",
       " 'n_estimators': 1000,\n",
       " 'n_thread': 12,\n",
       " 'subsample': 0.9}"
      ]
     },
     "execution_count": 13,
     "metadata": {},
     "output_type": "execute_result"
    }
   ],
   "source": [
    "model.best_params_"
   ]
  },
  {
   "attachments": {},
   "cell_type": "markdown",
   "metadata": {},
   "source": [
    "#### Random Forest"
   ]
  },
  {
   "cell_type": "markdown",
   "metadata": {
    "tags": []
   },
   "source": [
    "## Métricas de Qualidade"
   ]
  },
  {
   "cell_type": "code",
   "execution_count": 14,
   "metadata": {},
   "outputs": [],
   "source": [
    "predictions = model.predict(X_test)"
   ]
  },
  {
   "cell_type": "markdown",
   "metadata": {
    "tags": []
   },
   "source": [
    "#### Accuracy"
   ]
  },
  {
   "cell_type": "code",
   "execution_count": 35,
   "metadata": {},
   "outputs": [
    {
     "name": "stdout",
     "output_type": "stream",
     "text": [
      " Accuracy: 0.88\n"
     ]
    }
   ],
   "source": [
    "print(\" Accuracy: \" + str( accuracy_score(Y_test, predictions)))"
   ]
  },
  {
   "cell_type": "markdown",
   "metadata": {
    "tags": []
   },
   "source": [
    "#### Médias de métricas por peso"
   ]
  },
  {
   "cell_type": "markdown",
   "metadata": {},
   "source": [
    "* __micro__: Calculate metrics globally by counting the total true positives, false negatives and false positives. \n",
    "* __macro__: Calculate metrics for each label, and find their unweighted mean. This does not take label imbalance into account.\n",
    "* __weighted__: Calculate metrics for each label, and find their average weighted by support (the number of true instances for each label). This alters ‘macro’ to account for label imbalance; it can result in an F-score that is not between precision and recall."
   ]
  },
  {
   "cell_type": "code",
   "execution_count": 16,
   "metadata": {},
   "outputs": [
    {
     "name": "stdout",
     "output_type": "stream",
     "text": [
      "Precision: 0.9210697617450442\n",
      "   Recall: 0.921\n",
      " F1-Score: 0.9206065030732463\n"
     ]
    }
   ],
   "source": [
    "print(\"Precision: \" + str(precision_score(Y_test, predictions, average= 'weighted')))\n",
    "print(\"   Recall: \" + str(recall_score(Y_test, predictions, average= 'weighted')))\n",
    "print(\" F1-Score: \" + str(f1_score(Y_test, predictions, average= 'weighted')))"
   ]
  },
  {
   "cell_type": "markdown",
   "metadata": {
    "jp-MarkdownHeadingCollapsed": true,
    "tags": []
   },
   "source": [
    "#### Cross Validation"
   ]
  },
  {
   "cell_type": "markdown",
   "metadata": {},
   "source": [
    "Cross validation irá fazer vários segmentos e testá-los. Se houver um desvio padrão mt grande entre eles, isso quer dizer que existe over-fitting"
   ]
  },
  {
   "cell_type": "code",
   "execution_count": null,
   "metadata": {},
   "outputs": [],
   "source": [
    "scores = cross_val_score(model, X_train, Y_train, cv=10, verbose=1, scoring='accuracy')\n",
    "print(scores)\n",
    "print(\"Média: \" + str(scores.mean()))\n",
    "print(\"desvio padrão: \" + str(scores.std()))"
   ]
  },
  {
   "cell_type": "markdown",
   "metadata": {},
   "source": [
    "#### Erros"
   ]
  },
  {
   "cell_type": "code",
   "execution_count": 30,
   "metadata": {},
   "outputs": [
    {
     "name": "stdout",
     "output_type": "stream",
     "text": [
      "MAE: 0.149\n",
      "MSE: 0.211\n",
      "RMSE: 0.4593473631142341\n"
     ]
    }
   ],
   "source": [
    "print('MAE:', mean_absolute_error(Y_test, predictions))\n",
    "print('MSE:', mean_squared_error(Y_test, predictions))\n",
    "print('RMSE:', np.sqrt(mean_squared_error(Y_test, predictions)))"
   ]
  },
  {
   "cell_type": "markdown",
   "metadata": {
    "tags": []
   },
   "source": [
    "#### Confusion Matrix"
   ]
  },
  {
   "cell_type": "code",
   "execution_count": 31,
   "metadata": {},
   "outputs": [
    {
     "data": {
      "text/plain": [
       "array([[411,   1,   9,   1,   0],\n",
       "       [ 21, 121,   5,   2,   1],\n",
       "       [  4,  22,  63,  19,   0],\n",
       "       [  1,   7,   8, 188,  17],\n",
       "       [  0,   0,   0,   3,  96]], dtype=int64)"
      ]
     },
     "execution_count": 31,
     "metadata": {},
     "output_type": "execute_result"
    }
   ],
   "source": [
    "confusion_matrix(Y_test, predictions)"
   ]
  },
  {
   "cell_type": "markdown",
   "metadata": {
    "jp-MarkdownHeadingCollapsed": true,
    "tags": []
   },
   "source": [
    "#### Previsões vs Reais"
   ]
  },
  {
   "cell_type": "code",
   "execution_count": null,
   "metadata": {},
   "outputs": [],
   "source": [
    "def real_predicted_viz(limit):\n",
    "    plt.figure(figsize=(14, 6))\n",
    "    plt.plot(Y_test[:limit], label='Real', color='red')\n",
    "    plt.plot(predictions[:limit], label='Predicted', color='blue')\n",
    "    plt.grid(alpha=0.3)\n",
    "    plt.xlabel('RealIncidents')\n",
    "    plt.ylabel('Incidents')\n",
    "    plt.title('Real vs Predicted')\n",
    "    plt.legend()\n",
    "    plt.show()\n",
    "    \n",
    "real_predicted_viz(200)"
   ]
  },
  {
   "cell_type": "markdown",
   "metadata": {
    "tags": []
   },
   "source": [
    "#### Classification Report"
   ]
  },
  {
   "cell_type": "code",
   "execution_count": 19,
   "metadata": {},
   "outputs": [
    {
     "data": {
      "text/plain": [
       "'              precision    recall  f1-score   support\\n\\n           0       0.99      1.00      0.99       422\\n           1       0.86      0.89      0.88       150\\n           2       0.77      0.74      0.75       108\\n           3       0.92      0.87      0.89       221\\n           4       0.87      0.96      0.91        99\\n\\n    accuracy                           0.92      1000\\n   macro avg       0.88      0.89      0.89      1000\\nweighted avg       0.92      0.92      0.92      1000\\n'"
      ]
     },
     "execution_count": 19,
     "metadata": {},
     "output_type": "execute_result"
    }
   ],
   "source": [
    "classification_report(Y_test, predictions)"
   ]
  },
  {
   "cell_type": "markdown",
   "metadata": {
    "tags": []
   },
   "source": [
    "## Escrita no Ficheiro"
   ]
  },
  {
   "cell_type": "markdown",
   "metadata": {},
   "source": [
    "Para fazer uma submissão é preciso meter o seguinte código em modo codigo e nao raw. Tambem é preciso ir a secção Separação entre dataframe de teste e de treino e fazer toggle do que é código e o que é raw"
   ]
  },
  {
   "cell_type": "code",
   "execution_count": 36,
   "metadata": {},
   "outputs": [
    {
     "data": {
      "text/html": [
       "<div>\n",
       "<style scoped>\n",
       "    .dataframe tbody tr th:only-of-type {\n",
       "        vertical-align: middle;\n",
       "    }\n",
       "\n",
       "    .dataframe tbody tr th {\n",
       "        vertical-align: top;\n",
       "    }\n",
       "\n",
       "    .dataframe thead th {\n",
       "        text-align: right;\n",
       "    }\n",
       "</style>\n",
       "<table border=\"1\" class=\"dataframe\">\n",
       "  <thead>\n",
       "    <tr style=\"text-align: right;\">\n",
       "      <th></th>\n",
       "      <th>incidents</th>\n",
       "    </tr>\n",
       "  </thead>\n",
       "  <tbody>\n",
       "    <tr>\n",
       "      <th>0</th>\n",
       "      <td>Very_High</td>\n",
       "    </tr>\n",
       "    <tr>\n",
       "      <th>1</th>\n",
       "      <td>None</td>\n",
       "    </tr>\n",
       "    <tr>\n",
       "      <th>2</th>\n",
       "      <td>None</td>\n",
       "    </tr>\n",
       "    <tr>\n",
       "      <th>3</th>\n",
       "      <td>Low</td>\n",
       "    </tr>\n",
       "    <tr>\n",
       "      <th>4</th>\n",
       "      <td>None</td>\n",
       "    </tr>\n",
       "    <tr>\n",
       "      <th>5</th>\n",
       "      <td>Very_High</td>\n",
       "    </tr>\n",
       "    <tr>\n",
       "      <th>6</th>\n",
       "      <td>Very_High</td>\n",
       "    </tr>\n",
       "    <tr>\n",
       "      <th>7</th>\n",
       "      <td>None</td>\n",
       "    </tr>\n",
       "    <tr>\n",
       "      <th>8</th>\n",
       "      <td>High</td>\n",
       "    </tr>\n",
       "    <tr>\n",
       "      <th>9</th>\n",
       "      <td>Medium</td>\n",
       "    </tr>\n",
       "  </tbody>\n",
       "</table>\n",
       "</div>"
      ],
      "text/plain": [
       "   incidents\n",
       "0  Very_High\n",
       "1       None\n",
       "2       None\n",
       "3        Low\n",
       "4       None\n",
       "5  Very_High\n",
       "6  Very_High\n",
       "7       None\n",
       "8       High\n",
       "9     Medium"
      ]
     },
     "execution_count": 36,
     "metadata": {},
     "output_type": "execute_result"
    }
   ],
   "source": [
    "actual_predictions = model.predict(dftest) # Predictions on the test set\n",
    "actual_predictions = pd.DataFrame(actual_predictions, columns=['incidents']) # Convert to dataframe \n",
    "actual_predictions['incidents'] = actual_predictions['incidents'].apply(lambda x: intToIncidents(x))\n",
    "actual_predictions.head(10)"
   ]
  },
  {
   "cell_type": "code",
   "execution_count": 37,
   "metadata": {},
   "outputs": [
    {
     "name": "stdout",
     "output_type": "stream",
     "text": [
      "   index  incidents\n",
      "0      1  Very_High\n",
      "1      2       None\n",
      "2      3       None\n",
      "3      4        Low\n",
      "4      5       None\n",
      "5      6  Very_High\n",
      "6      7  Very_High\n",
      "7      8       None\n",
      "8      9       High\n",
      "9     10     Medium\n"
     ]
    }
   ],
   "source": [
    "actual_predictions.reset_index(inplace=True)\n",
    "actual_predictions['index'] = actual_predictions['index'].transform(lambda x: int(x)+1)\n",
    "print(actual_predictions.head(10))\n",
    "actual_predictions.to_csv('submission.csv', sep=',', header=['RowId','Incidents'], index=False, mode='w')"
   ]
  },
  {
   "cell_type": "raw",
   "metadata": {},
   "source": [
    "import csv\n",
    "import os\n",
    "\n",
    "# folder path\n",
    "dir_path = r'./submissions'\n",
    "file_count = 0\n",
    "# Iterate directory\n",
    "for path in os.listdir(dir_path):\n",
    "    # check if current path is a file\n",
    "    if os.path.isfile(os.path.join(dir_path, path)):\n",
    "        file_count += 1\n",
    "\n",
    "with open('submissions/submission' + str(file_count) + '.csv', 'w') as csvfile:\n",
    "    filewriter = csv.writer(csvfile, delimiter=',',\n",
    "                            quotechar='|', quoting=csv.QUOTE_MINIMAL)\n",
    "    filewriter.writerow(['RowId', 'Incidents'])\n",
    "    \n",
    "    i=0\n",
    "    \n",
    "    for incident in actual_predictions:\n",
    "        filewriter.writerow([str(i), incident])\n",
    "        i=i+1"
   ]
  }
 ],
 "metadata": {
  "kernelspec": {
   "display_name": "Python 3 (ipykernel)",
   "language": "python",
   "name": "python3"
  },
  "language_info": {
   "codemirror_mode": {
    "name": "ipython",
    "version": 3
   },
   "file_extension": ".py",
   "mimetype": "text/x-python",
   "name": "python",
   "nbconvert_exporter": "python",
   "pygments_lexer": "ipython3",
   "version": "3.9.13 (main, Aug 25 2022, 23:51:50) [MSC v.1916 64 bit (AMD64)]"
  },
  "vscode": {
   "interpreter": {
    "hash": "783337f819fea5acc09ea1acd9d1467db8ed9d914477ee55454335b84262e76b"
   }
  }
 },
 "nbformat": 4,
 "nbformat_minor": 4
}
